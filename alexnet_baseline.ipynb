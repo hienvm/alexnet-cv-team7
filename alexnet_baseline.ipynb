{
 "cells": [
  {
   "cell_type": "code",
   "execution_count": null,
   "metadata": {},
   "outputs": [],
   "source": [
    "# import sys\n",
    "# sys.path.append('/kaggle/input/alexnet/pytorch/baseline/1')\n",
    "import torch\n",
    "import torch.nn as nn\n",
    "from torchvision import datasets\n",
    "from baseline.alexnet_baseline import AlexNetBaseline\n",
    "from baseline.dataset_preparation import indices_split\n",
    "from baseline.data_transforms import preprocess, train_augment\n",
    "from baseline.train import train\n",
    "import matplotlib.pyplot as plt"
   ]
  },
  {
   "cell_type": "code",
   "execution_count": null,
   "metadata": {},
   "outputs": [],
   "source": [
    "device = torch.device(\"cuda\" if torch.cuda.is_available() else \"cpu\")\n",
    "print(device)"
   ]
  },
  {
   "cell_type": "code",
   "execution_count": null,
   "metadata": {},
   "outputs": [],
   "source": [
    "train_dataset = datasets.CIFAR10(\n",
    "    'datasets/cifar10', train=True, download=True, \n",
    "    transform=lambda X: train_augment(preprocess(X)))\n",
    "cv_dataset = datasets.CIFAR10(\n",
    "    'datasets/cifar10', train=True, download=True, \n",
    "    transform=lambda X: preprocess(X))\n",
    "test_dataset = datasets.CIFAR10(\n",
    "    'datasets/cifar10', train=False, download=True, \n",
    "    transform=lambda X: preprocess(X))\n",
    "\n",
    "cv_indices, train_indices = indices_split(len(train_dataset), ratio=0.2)\n",
    "train_dataset = torch.utils.data.Subset(train_dataset, train_indices)\n",
    "cv_dataset = torch.utils.data.Subset(cv_dataset, cv_indices)\n",
    "\n",
    "print(f'Train: {len(train_dataset)}')\n",
    "print(f'Cross Validation: {len(cv_dataset)}')\n",
    "print(f'Test: {len(test_dataset)}')"
   ]
  },
  {
   "cell_type": "code",
   "execution_count": null,
   "metadata": {},
   "outputs": [],
   "source": [
    "model_baseline = AlexNetBaseline(len(test_dataset.classes))\n",
    "if torch.cuda.device_count() > 1:\n",
    "    print(f'Using {torch.cuda.device_count()} GPUs.')\n",
    "    model_baseline = nn.DataParallel(model_baseline)\n",
    "model_baseline.to(device)\n",
    "\n",
    "costs_baseline, cv_error_rates_baseline, learning_rates_baseline = train(\n",
    "    model_baseline,\n",
    "    train_dataset=train_dataset,\n",
    "    cv_dataset=cv_dataset,\n",
    ")"
   ]
  },
  {
   "cell_type": "code",
   "execution_count": null,
   "metadata": {},
   "outputs": [],
   "source": [
    "plt.plot(costs_baseline)"
   ]
  },
  {
   "cell_type": "code",
   "execution_count": null,
   "metadata": {},
   "outputs": [],
   "source": [
    "plt.plot(cv_error_rates_baseline)"
   ]
  },
  {
   "cell_type": "code",
   "execution_count": null,
   "metadata": {},
   "outputs": [],
   "source": [
    "plt.plot(learning_rates_baseline)"
   ]
  }
 ],
 "metadata": {
  "kernelspec": {
   "display_name": "torch",
   "language": "python",
   "name": "python3"
  },
  "language_info": {
   "codemirror_mode": {
    "name": "ipython",
    "version": 3
   },
   "file_extension": ".py",
   "mimetype": "text/x-python",
   "name": "python",
   "nbconvert_exporter": "python",
   "pygments_lexer": "ipython3",
   "version": "3.12.3"
  }
 },
 "nbformat": 4,
 "nbformat_minor": 2
}
