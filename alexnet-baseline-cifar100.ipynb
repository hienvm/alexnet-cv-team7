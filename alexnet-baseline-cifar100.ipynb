{
 "cells": [
  {
   "cell_type": "code",
   "execution_count": null,
   "id": "4e483da6",
   "metadata": {
    "execution": {
     "iopub.execute_input": "2024-11-25T14:33:32.003390Z",
     "iopub.status.busy": "2024-11-25T14:33:32.003067Z",
     "iopub.status.idle": "2024-11-25T14:33:36.545063Z",
     "shell.execute_reply": "2024-11-25T14:33:36.544129Z"
    },
    "papermill": {
     "duration": 4.548076,
     "end_time": "2024-11-25T14:33:36.547155",
     "exception": false,
     "start_time": "2024-11-25T14:33:31.999079",
     "status": "completed"
    },
    "tags": []
   },
   "outputs": [],
   "source": [
    "import sys\n",
    "sys.path.append('/kaggle/input/alexnet/pytorch/baseline/1')\n",
    "import torch\n",
    "import torch.nn as nn\n",
    "from torchvision import datasets\n",
    "from baseline.model import AlexNetBaseline, init_params\n",
    "from baseline.data_transforms import prepreprocess, get_preprocess, get_train_augment\n",
    "from baseline.train import train\n",
    "import matplotlib.pyplot as plt\n",
    "from baseline.eval import top1_k "
   ]
  },
  {
   "cell_type": "code",
   "execution_count": null,
   "id": "7d93f02f",
   "metadata": {
    "execution": {
     "iopub.execute_input": "2024-11-25T14:33:36.554530Z",
     "iopub.status.busy": "2024-11-25T14:33:36.553992Z",
     "iopub.status.idle": "2024-11-25T14:33:36.565148Z",
     "shell.execute_reply": "2024-11-25T14:33:36.564160Z"
    },
    "papermill": {
     "duration": 0.017475,
     "end_time": "2024-11-25T14:33:36.567417",
     "exception": false,
     "start_time": "2024-11-25T14:33:36.549942",
     "status": "completed"
    },
    "tags": []
   },
   "outputs": [],
   "source": [
    "torch.manual_seed(0)\n",
    "device = torch.device(\"cuda\" if torch.cuda.is_available() else \"cpu\")\n",
    "print(device)"
   ]
  },
  {
   "cell_type": "code",
   "execution_count": null,
   "id": "c567d797",
   "metadata": {
    "execution": {
     "iopub.execute_input": "2024-11-25T14:33:36.574074Z",
     "iopub.status.busy": "2024-11-25T14:33:36.573606Z",
     "iopub.status.idle": "2024-11-25T14:34:31.619636Z",
     "shell.execute_reply": "2024-11-25T14:34:31.618420Z"
    },
    "papermill": {
     "duration": 55.051634,
     "end_time": "2024-11-25T14:34:31.621537",
     "exception": false,
     "start_time": "2024-11-25T14:33:36.569903",
     "status": "completed"
    },
    "tags": []
   },
   "outputs": [],
   "source": [
    "train_dataset = datasets.CIFAR100(\n",
    "    'datasets/cifar100', train=True, download=True, transform=prepreprocess)\n",
    "preprocess = get_preprocess(train_dataset)\n",
    "\n",
    "train_dataset = datasets.CIFAR100(\n",
    "    'datasets/cifar100', train=True, transform=preprocess)\n",
    "train_augment = get_train_augment(train_dataset, preprocess)\n",
    "\n",
    "train_dataset = datasets.CIFAR100(\n",
    "    'datasets/cifar100', train=True, transform=train_augment)\n",
    "\n",
    "val_dataset = datasets.CIFAR100(\n",
    "    'datasets/cifar100', train=False, transform=preprocess)\n",
    "val_dataset, test_dataset = torch.utils.data.random_split(val_dataset, [0.5, 0.5])\n",
    "\n",
    "print(f'Number of classes: {len(train_dataset.classes)}')\n",
    "print(f'Train samples: {len(train_dataset)}')\n",
    "print(f'Validation samples: {len(val_dataset)}')\n",
    "print(f'Test samples: {len(test_dataset)}')"
   ]
  },
  {
   "cell_type": "code",
   "execution_count": null,
   "id": "7122311e",
   "metadata": {
    "execution": {
     "iopub.execute_input": "2024-11-25T14:34:31.633412Z",
     "iopub.status.busy": "2024-11-25T14:34:31.633109Z",
     "iopub.status.idle": "2024-11-25T14:34:31.648771Z",
     "shell.execute_reply": "2024-11-25T14:34:31.647953Z"
    },
    "papermill": {
     "duration": 0.024172,
     "end_time": "2024-11-25T14:34:31.650346",
     "exception": false,
     "start_time": "2024-11-25T14:34:31.626174",
     "status": "completed"
    },
    "tags": []
   },
   "outputs": [],
   "source": [
    "model = AlexNetBaseline(len(train_dataset.classes))\n",
    "if torch.cuda.device_count() > 1:\n",
    "    print(f'Using {torch.cuda.device_count()} GPUs.')\n",
    "    model = nn.DataParallel(model)\n",
    "model.to(device)\n",
    "# initialize parameters\n",
    "init_params(model)\n",
    "compiled_model = model\n",
    "# if torch.cuda.is_available():\n",
    "#     compiled_model = torch.compile(model)"
   ]
  },
  {
   "cell_type": "code",
   "execution_count": null,
   "id": "54822008",
   "metadata": {
    "execution": {
     "iopub.execute_input": "2024-11-25T14:34:31.660111Z",
     "iopub.status.busy": "2024-11-25T14:34:31.659624Z",
     "iopub.status.idle": "2024-11-25T16:32:10.312981Z",
     "shell.execute_reply": "2024-11-25T16:32:10.311644Z"
    },
    "papermill": {
     "duration": 7058.675278,
     "end_time": "2024-11-25T16:32:10.329835",
     "exception": false,
     "start_time": "2024-11-25T14:34:31.654557",
     "status": "completed"
    },
    "tags": []
   },
   "outputs": [],
   "source": [
    "costs, val_error_rates, learning_rates = train(\n",
    "    compiled_model,\n",
    "    train_dataset=train_dataset,\n",
    "    cv_dataset=val_dataset,\n",
    "    batch_size=128,\n",
    "    num_epochs=100,\n",
    "    initial_lr=0.01,\n",
    "    num_workers=3,\n",
    "    patience=10\n",
    ")"
   ]
  },
  {
   "cell_type": "code",
   "execution_count": null,
   "id": "939f0933",
   "metadata": {
    "execution": {
     "iopub.execute_input": "2024-11-25T16:32:10.362502Z",
     "iopub.status.busy": "2024-11-25T16:32:10.361524Z",
     "iopub.status.idle": "2024-11-25T16:32:10.926426Z",
     "shell.execute_reply": "2024-11-25T16:32:10.925534Z"
    },
    "papermill": {
     "duration": 0.584007,
     "end_time": "2024-11-25T16:32:10.928809",
     "exception": false,
     "start_time": "2024-11-25T16:32:10.344802",
     "status": "completed"
    },
    "tags": []
   },
   "outputs": [],
   "source": [
    "torch.save(model.state_dict(), 'baseline_cifar100.model.pt')\n",
    "torch.save(preprocess, 'baseline_cifar100.preprocess.pt')\n",
    "torch.save(train_augment, 'baseline_cifar100.train_augment.pt')"
   ]
  },
  {
   "cell_type": "code",
   "execution_count": null,
   "id": "c365b616",
   "metadata": {
    "execution": {
     "iopub.execute_input": "2024-11-25T16:32:10.962794Z",
     "iopub.status.busy": "2024-11-25T16:32:10.961828Z",
     "iopub.status.idle": "2024-11-25T16:33:12.944089Z",
     "shell.execute_reply": "2024-11-25T16:33:12.942844Z"
    },
    "papermill": {
     "duration": 62.015648,
     "end_time": "2024-11-25T16:33:12.960677",
     "exception": false,
     "start_time": "2024-11-25T16:32:10.945029",
     "status": "completed"
    },
    "tags": []
   },
   "outputs": [],
   "source": [
    "test_top1, test_top5 = top1_k(compiled_model, test_dataset, k=5)\n",
    "print(f'Test Top 1: {test_top1}')\n",
    "print(f'Test Top 5: {test_top5}')\n",
    "\n",
    "val_top1, val_top5 = top1_k(compiled_model, val_dataset, k=5)\n",
    "print(f'Val Top 1: {val_top1}')\n",
    "print(f'Val Top 5: {val_top5}')\n",
    "\n",
    "train_eval_dataset = datasets.CIFAR100(\n",
    "    'datasets/cifar100', train=True, transform=preprocess)\n",
    "train_top1, train_top5 = top1_k(compiled_model, train_eval_dataset, k=5)\n",
    "print(f'Train Top 1: {train_top1}')\n",
    "print(f'Train Top 5: {train_top5}')"
   ]
  },
  {
   "cell_type": "code",
   "execution_count": null,
   "id": "555c65c1",
   "metadata": {
    "execution": {
     "iopub.execute_input": "2024-11-25T16:33:12.993711Z",
     "iopub.status.busy": "2024-11-25T16:33:12.993260Z",
     "iopub.status.idle": "2024-11-25T16:33:13.335694Z",
     "shell.execute_reply": "2024-11-25T16:33:13.334551Z"
    },
    "papermill": {
     "duration": 0.361459,
     "end_time": "2024-11-25T16:33:13.337634",
     "exception": false,
     "start_time": "2024-11-25T16:33:12.976175",
     "status": "completed"
    },
    "tags": []
   },
   "outputs": [],
   "source": [
    "plt.plot(costs)\n",
    "plt.xlabel(\"Epoch\")\n",
    "plt.title('Costs')"
   ]
  },
  {
   "cell_type": "code",
   "execution_count": null,
   "id": "0f6d10c3",
   "metadata": {
    "execution": {
     "iopub.execute_input": "2024-11-25T16:33:13.371225Z",
     "iopub.status.busy": "2024-11-25T16:33:13.370833Z",
     "iopub.status.idle": "2024-11-25T16:33:13.859449Z",
     "shell.execute_reply": "2024-11-25T16:33:13.858330Z"
    },
    "papermill": {
     "duration": 0.508052,
     "end_time": "2024-11-25T16:33:13.861635",
     "exception": false,
     "start_time": "2024-11-25T16:33:13.353583",
     "status": "completed"
    },
    "tags": []
   },
   "outputs": [],
   "source": [
    "plt.plot(val_error_rates)\n",
    "plt.xlabel(\"Epoch\")\n",
    "plt.title('Validation Error Rates')"
   ]
  },
  {
   "cell_type": "code",
   "execution_count": null,
   "id": "91bd1aef",
   "metadata": {
    "execution": {
     "iopub.execute_input": "2024-11-25T16:33:13.897396Z",
     "iopub.status.busy": "2024-11-25T16:33:13.896991Z",
     "iopub.status.idle": "2024-11-25T16:33:14.207992Z",
     "shell.execute_reply": "2024-11-25T16:33:14.206849Z"
    },
    "papermill": {
     "duration": 0.331346,
     "end_time": "2024-11-25T16:33:14.210347",
     "exception": false,
     "start_time": "2024-11-25T16:33:13.879001",
     "status": "completed"
    },
    "tags": []
   },
   "outputs": [],
   "source": [
    "import math\n",
    "\n",
    "plt.plot([math.log10(lr) for lr in learning_rates])\n",
    "plt.ylabel(\"Log10(lr)\")\n",
    "plt.xlabel(\"Epoch\")\n",
    "plt.title('Learning Rates')"
   ]
  }
 ],
 "metadata": {
  "kaggle": {
   "accelerator": "none",
   "dataSources": [
    {
     "isSourceIdPinned": true,
     "modelId": 174272,
     "modelInstanceId": 151820,
     "sourceId": 178209,
     "sourceType": "modelInstanceVersion"
    }
   ],
   "dockerImageVersionId": 30786,
   "isGpuEnabled": false,
   "isInternetEnabled": true,
   "language": "python",
   "sourceType": "notebook"
  },
  "kernelspec": {
   "display_name": "torch",
   "language": "python",
   "name": "python3"
  },
  "language_info": {
   "codemirror_mode": {
    "name": "ipython",
    "version": 3
   },
   "file_extension": ".py",
   "mimetype": "text/x-python",
   "name": "python",
   "nbconvert_exporter": "python",
   "pygments_lexer": "ipython3",
   "version": "3.12.3"
  },
  "papermill": {
   "default_parameters": {},
   "duration": 7187.302666,
   "end_time": "2024-11-25T16:33:16.880926",
   "environment_variables": {},
   "exception": null,
   "input_path": "__notebook__.ipynb",
   "output_path": "__notebook__.ipynb",
   "parameters": {},
   "start_time": "2024-11-25T14:33:29.578260",
   "version": "2.6.0"
  }
 },
 "nbformat": 4,
 "nbformat_minor": 5
}
