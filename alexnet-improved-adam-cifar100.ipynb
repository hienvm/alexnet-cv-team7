{
 "cells": [
  {
   "cell_type": "code",
   "execution_count": 1,
   "id": "df785b44",
   "metadata": {
    "_cell_guid": "e01b8400-4527-41b8-bd0a-1cf52577e5b4",
    "_uuid": "60e99f23-fb3c-4292-b48b-9c624c77601b",
    "collapsed": false,
    "execution": {
     "iopub.execute_input": "2024-12-04T10:50:32.717162Z",
     "iopub.status.busy": "2024-12-04T10:50:32.716813Z",
     "iopub.status.idle": "2024-12-04T10:50:36.981196Z",
     "shell.execute_reply": "2024-12-04T10:50:36.980401Z"
    },
    "jupyter": {
     "outputs_hidden": false
    },
    "papermill": {
     "duration": 4.271374,
     "end_time": "2024-12-04T10:50:36.983883",
     "exception": false,
     "start_time": "2024-12-04T10:50:32.712509",
     "status": "completed"
    },
    "tags": []
   },
   "outputs": [],
   "source": [
    "import sys\n",
    "sys.path.append('/kaggle/input/alexnet/pytorch/improved/1')\n",
    "import torch\n",
    "import torch.nn as nn\n",
    "from torchvision import datasets\n",
    "from improved.model import AlexNetImproved, init_params\n",
    "from improved.data_transforms import prepreprocess, get_preprocess, get_train_augment, calc_mean_std\n",
    "from improved.pca import pca\n",
    "from improved.train import train\n",
    "import matplotlib.pyplot as plt\n",
    "from improved.eval import top1_k"
   ]
  },
  {
   "cell_type": "code",
   "execution_count": 2,
   "id": "2493425c",
   "metadata": {
    "execution": {
     "iopub.execute_input": "2024-12-04T10:50:36.995138Z",
     "iopub.status.busy": "2024-12-04T10:50:36.994390Z",
     "iopub.status.idle": "2024-12-04T10:50:37.009289Z",
     "shell.execute_reply": "2024-12-04T10:50:37.008251Z"
    },
    "papermill": {
     "duration": 0.021739,
     "end_time": "2024-12-04T10:50:37.010980",
     "exception": false,
     "start_time": "2024-12-04T10:50:36.989241",
     "status": "completed"
    },
    "tags": []
   },
   "outputs": [
    {
     "name": "stdout",
     "output_type": "stream",
     "text": [
      "cuda\n"
     ]
    }
   ],
   "source": [
    "torch.manual_seed(0)\n",
    "device = torch.device(\"cuda\" if torch.cuda.is_available() else \"cpu\")\n",
    "print(device)"
   ]
  },
  {
   "cell_type": "code",
   "execution_count": 3,
   "id": "2cc202c6",
   "metadata": {
    "execution": {
     "iopub.execute_input": "2024-12-04T10:50:37.021381Z",
     "iopub.status.busy": "2024-12-04T10:50:37.020541Z",
     "iopub.status.idle": "2024-12-04T10:54:06.850573Z",
     "shell.execute_reply": "2024-12-04T10:54:06.849336Z"
    },
    "papermill": {
     "duration": 209.83735,
     "end_time": "2024-12-04T10:54:06.852357",
     "exception": false,
     "start_time": "2024-12-04T10:50:37.015007",
     "status": "completed"
    },
    "tags": []
   },
   "outputs": [
    {
     "name": "stdout",
     "output_type": "stream",
     "text": [
      "Downloading https://www.cs.toronto.edu/~kriz/cifar-100-python.tar.gz to datasets/cifar100/cifar-100-python.tar.gz\n"
     ]
    },
    {
     "name": "stderr",
     "output_type": "stream",
     "text": [
      "100%|██████████| 169001437/169001437 [00:05<00:00, 32515676.37it/s]\n"
     ]
    },
    {
     "name": "stdout",
     "output_type": "stream",
     "text": [
      "Extracting datasets/cifar100/cifar-100-python.tar.gz to datasets/cifar100\n",
      "Mean:\n",
      "[0.5072646737098694, 0.4867367148399353, 0.4411051571369171]\n",
      "Standard Deviation:\n",
      "[0.2621012330055237, 0.2511281669139862, 0.2712865471839905]\n",
      "Covar:\n",
      "tensor([[1.0000, 0.8625, 0.7042],\n",
      "        [0.8625, 0.9998, 0.8843],\n",
      "        [0.7042, 0.8843, 1.0000]], device='cuda:0')\n",
      "Eigen values (sqrt):\n",
      "tensor([[0.2588],\n",
      "        [0.5444],\n",
      "        [1.6237]])\n",
      "Eigen vectors:\n",
      "tensor([[ 0.3872,  0.7312,  0.5616],\n",
      "        [-0.7971, -0.0405,  0.6024],\n",
      "        [ 0.4633, -0.6809,  0.5672]])\n",
      "Number of classes: 100\n",
      "Train samples: 50000\n",
      "Validation samples: 5000\n",
      "Test samples: 5000\n"
     ]
    }
   ],
   "source": [
    "train_dataset = datasets.CIFAR100(\n",
    "    'datasets/cifar100', train=True, download=True, transform=prepreprocess)\n",
    "mean, std = calc_mean_std(train_dataset)\n",
    "print(f'Mean:\\n{mean}')\n",
    "print(f'Standard Deviation:\\n{std}')\n",
    "preprocess = get_preprocess(mean, std)\n",
    "\n",
    "train_dataset = datasets.CIFAR100(\n",
    "    'datasets/cifar100', train=True, transform=preprocess)\n",
    "eigvals, eigvecs = pca(train_dataset)\n",
    "train_augment = get_train_augment(eigvals, eigvecs, mean, std)\n",
    "\n",
    "train_dataset = datasets.CIFAR100(\n",
    "    'datasets/cifar100', train=True, transform=train_augment)\n",
    "\n",
    "val_dataset = datasets.CIFAR100(\n",
    "    'datasets/cifar100', train=False, transform=preprocess)\n",
    "val_dataset, test_dataset = torch.utils.data.random_split(val_dataset, [0.5, 0.5])\n",
    "\n",
    "print(f'Number of classes: {len(train_dataset.classes)}')\n",
    "print(f'Train samples: {len(train_dataset)}')\n",
    "print(f'Validation samples: {len(val_dataset)}')\n",
    "print(f'Test samples: {len(test_dataset)}')"
   ]
  },
  {
   "cell_type": "code",
   "execution_count": 4,
   "id": "afc5f4bd",
   "metadata": {
    "execution": {
     "iopub.execute_input": "2024-12-04T10:54:06.865017Z",
     "iopub.status.busy": "2024-12-04T10:54:06.864223Z",
     "iopub.status.idle": "2024-12-04T10:54:06.884897Z",
     "shell.execute_reply": "2024-12-04T10:54:06.884035Z"
    },
    "papermill": {
     "duration": 0.029342,
     "end_time": "2024-12-04T10:54:06.886634",
     "exception": false,
     "start_time": "2024-12-04T10:54:06.857292",
     "status": "completed"
    },
    "tags": []
   },
   "outputs": [],
   "source": [
    "model = AlexNetImproved(len(train_dataset.classes))\n",
    "if torch.cuda.device_count() > 1:\n",
    "    print(f'Using {torch.cuda.device_count()} GPUs.')\n",
    "    model = nn.DataParallel(model)\n",
    "model.to(device)\n",
    "# initialize parameters\n",
    "init_params(model)\n",
    "compiled_model = model\n",
    "# if torch.cuda.is_available():\n",
    "#     compiled_model = torch.compile(model)"
   ]
  },
  {
   "cell_type": "code",
   "execution_count": 5,
   "id": "f0b39b4a",
   "metadata": {
    "execution": {
     "iopub.execute_input": "2024-12-04T10:54:06.897270Z",
     "iopub.status.busy": "2024-12-04T10:54:06.896818Z",
     "iopub.status.idle": "2024-12-04T13:55:36.733810Z",
     "shell.execute_reply": "2024-12-04T13:55:36.732600Z"
    },
    "papermill": {
     "duration": 10889.852913,
     "end_time": "2024-12-04T13:55:36.744317",
     "exception": false,
     "start_time": "2024-12-04T10:54:06.891404",
     "status": "completed"
    },
    "tags": []
   },
   "outputs": [
    {
     "name": "stdout",
     "output_type": "stream",
     "text": [
      "Epoch 1/100, Cost: 4.397, Val Error: 87.52%, lr: 0.001, Time: 108s\n",
      "Epoch 2/100, Cost: 3.865, Val Error: 83.42%, lr: 0.001, Time: 113s\n",
      "Epoch 3/100, Cost: 3.548, Val Error: 77.78%, lr: 0.001, Time: 109s\n",
      "Epoch 4/100, Cost: 3.295, Val Error: 74.16%, lr: 0.001, Time: 113s\n",
      "Epoch 5/100, Cost: 3.089, Val Error: 67.76%, lr: 0.001, Time: 111s\n",
      "Epoch 6/100, Cost: 2.955, Val Error: 67.76%, lr: 0.001, Time: 111s\n",
      "Epoch 7/100, Cost: 2.838, Val Error: 63.70%, lr: 0.001, Time: 108s\n",
      "Epoch 8/100, Cost: 2.745, Val Error: 65.08%, lr: 0.001, Time: 108s\n",
      "Epoch 9/100, Cost: 2.676, Val Error: 61.96%, lr: 0.001, Time: 108s\n",
      "Epoch 10/100, Cost: 2.609, Val Error: 61.86%, lr: 0.001, Time: 107s\n",
      "Epoch 11/100, Cost: 2.544, Val Error: 63.70%, lr: 0.001, Time: 108s\n",
      "Epoch 12/100, Cost: 2.495, Val Error: 65.92%, lr: 0.001, Time: 113s\n",
      "Epoch 13/100, Cost: 2.455, Val Error: 57.90%, lr: 0.001, Time: 107s\n",
      "Epoch 14/100, Cost: 2.411, Val Error: 56.60%, lr: 0.001, Time: 107s\n",
      "Epoch 15/100, Cost: 2.376, Val Error: 54.44%, lr: 0.001, Time: 108s\n",
      "Epoch 16/100, Cost: 2.332, Val Error: 55.54%, lr: 0.001, Time: 107s\n",
      "Epoch 17/100, Cost: 2.309, Val Error: 56.44%, lr: 0.001, Time: 107s\n",
      "Epoch 18/100, Cost: 2.288, Val Error: 52.46%, lr: 0.001, Time: 109s\n",
      "Epoch 19/100, Cost: 2.260, Val Error: 53.26%, lr: 0.001, Time: 111s\n",
      "Epoch 20/100, Cost: 2.237, Val Error: 52.14%, lr: 0.001, Time: 107s\n",
      "Epoch 21/100, Cost: 2.222, Val Error: 50.78%, lr: 0.001, Time: 106s\n",
      "Epoch 22/100, Cost: 2.199, Val Error: 49.68%, lr: 0.001, Time: 110s\n",
      "Epoch 23/100, Cost: 2.188, Val Error: 51.56%, lr: 0.001, Time: 108s\n",
      "Epoch 24/100, Cost: 2.175, Val Error: 49.62%, lr: 0.001, Time: 108s\n",
      "Epoch 25/100, Cost: 2.146, Val Error: 49.44%, lr: 0.001, Time: 109s\n",
      "Epoch 26/100, Cost: 2.141, Val Error: 52.00%, lr: 0.001, Time: 106s\n",
      "Epoch 27/100, Cost: 2.133, Val Error: 48.18%, lr: 0.001, Time: 108s\n",
      "Epoch 28/100, Cost: 2.113, Val Error: 49.12%, lr: 0.001, Time: 111s\n",
      "Epoch 29/100, Cost: 2.114, Val Error: 48.08%, lr: 0.001, Time: 107s\n",
      "Epoch 30/100, Cost: 2.108, Val Error: 45.82%, lr: 0.001, Time: 110s\n",
      "Epoch 31/100, Cost: 2.086, Val Error: 48.06%, lr: 0.001, Time: 107s\n",
      "Epoch 32/100, Cost: 2.079, Val Error: 47.48%, lr: 0.001, Time: 110s\n",
      "Epoch 33/100, Cost: 2.062, Val Error: 47.28%, lr: 0.001, Time: 110s\n",
      "Epoch 34/100, Cost: 2.059, Val Error: 48.82%, lr: 0.001, Time: 108s\n",
      "Epoch 35/100, Cost: 2.053, Val Error: 51.88%, lr: 0.001, Time: 107s\n",
      "Epoch 36/100, Cost: 2.041, Val Error: 48.52%, lr: 0.001, Time: 113s\n",
      "Epoch 37/100, Cost: 2.041, Val Error: 47.10%, lr: 0.001, Time: 110s\n",
      "Epoch 38/100, Cost: 2.027, Val Error: 46.96%, lr: 0.001, Time: 107s\n",
      "Epoch 39/100, Cost: 2.029, Val Error: 51.06%, lr: 0.001, Time: 110s\n",
      "Epoch 40/100, Cost: 2.017, Val Error: 44.96%, lr: 0.001, Time: 108s\n",
      "Epoch 41/100, Cost: 2.011, Val Error: 47.32%, lr: 0.001, Time: 108s\n",
      "Epoch 42/100, Cost: 2.005, Val Error: 46.44%, lr: 0.001, Time: 108s\n",
      "Epoch 43/100, Cost: 1.996, Val Error: 46.36%, lr: 0.001, Time: 108s\n",
      "Epoch 44/100, Cost: 1.996, Val Error: 45.64%, lr: 0.001, Time: 118s\n",
      "Epoch 45/100, Cost: 1.987, Val Error: 49.28%, lr: 0.001, Time: 116s\n",
      "Epoch 46/100, Cost: 1.999, Val Error: 44.94%, lr: 0.001, Time: 109s\n",
      "Epoch 47/100, Cost: 1.981, Val Error: 53.14%, lr: 0.001, Time: 109s\n",
      "Epoch 48/100, Cost: 1.987, Val Error: 47.86%, lr: 0.001, Time: 109s\n",
      "Epoch 49/100, Cost: 1.985, Val Error: 48.18%, lr: 0.001, Time: 109s\n",
      "Epoch 50/100, Cost: 1.981, Val Error: 46.78%, lr: 0.001, Time: 111s\n",
      "Epoch 51/100, Cost: 1.966, Val Error: 47.66%, lr: 0.001, Time: 108s\n",
      "Epoch 52/100, Cost: 1.965, Val Error: 45.66%, lr: 0.001, Time: 106s\n",
      "Epoch 53/100, Cost: 1.971, Val Error: 46.02%, lr: 0.001, Time: 108s\n",
      "Epoch 54/100, Cost: 1.964, Val Error: 44.76%, lr: 0.001, Time: 112s\n",
      "Epoch 55/100, Cost: 1.950, Val Error: 50.48%, lr: 0.001, Time: 111s\n",
      "Epoch 56/100, Cost: 1.955, Val Error: 45.86%, lr: 0.001, Time: 113s\n",
      "Epoch 57/100, Cost: 1.954, Val Error: 48.06%, lr: 0.001, Time: 116s\n",
      "Epoch 58/100, Cost: 1.946, Val Error: 45.84%, lr: 0.001, Time: 108s\n",
      "Epoch 59/100, Cost: 1.941, Val Error: 50.02%, lr: 0.001, Time: 106s\n",
      "Epoch 60/100, Cost: 1.939, Val Error: 43.28%, lr: 0.001, Time: 111s\n",
      "Epoch 61/100, Cost: 1.935, Val Error: 44.46%, lr: 0.001, Time: 110s\n",
      "Epoch 62/100, Cost: 1.943, Val Error: 44.06%, lr: 0.001, Time: 112s\n",
      "Epoch 63/100, Cost: 1.928, Val Error: 46.38%, lr: 0.001, Time: 108s\n",
      "Epoch 64/100, Cost: 1.919, Val Error: 47.00%, lr: 0.001, Time: 114s\n",
      "Epoch 65/100, Cost: 1.931, Val Error: 47.00%, lr: 0.001, Time: 109s\n",
      "Epoch 66/100, Cost: 1.927, Val Error: 44.02%, lr: 0.001, Time: 112s\n",
      "Epoch 67/100, Cost: 1.927, Val Error: 46.40%, lr: 0.001, Time: 106s\n",
      "Epoch 68/100, Cost: 1.919, Val Error: 48.14%, lr: 0.001, Time: 106s\n",
      "Epoch 69/100, Cost: 1.918, Val Error: 45.50%, lr: 0.001, Time: 108s\n",
      "Epoch 70/100, Cost: 1.928, Val Error: 45.54%, lr: 0.001, Time: 106s\n",
      "Epoch 71/100, Cost: 1.913, Val Error: 47.00%, lr: 0.0001, Time: 105s\n",
      "Epoch 72/100, Cost: 1.682, Val Error: 35.84%, lr: 0.0001, Time: 108s\n",
      "Epoch 73/100, Cost: 1.575, Val Error: 35.06%, lr: 0.0001, Time: 107s\n",
      "Epoch 74/100, Cost: 1.524, Val Error: 34.52%, lr: 0.0001, Time: 107s\n",
      "Epoch 75/100, Cost: 1.502, Val Error: 34.10%, lr: 0.0001, Time: 110s\n",
      "Epoch 76/100, Cost: 1.471, Val Error: 33.48%, lr: 0.0001, Time: 105s\n",
      "Epoch 77/100, Cost: 1.443, Val Error: 33.68%, lr: 0.0001, Time: 107s\n",
      "Epoch 78/100, Cost: 1.437, Val Error: 33.30%, lr: 0.0001, Time: 107s\n",
      "Epoch 79/100, Cost: 1.413, Val Error: 33.10%, lr: 0.0001, Time: 110s\n",
      "Epoch 80/100, Cost: 1.399, Val Error: 32.72%, lr: 0.0001, Time: 106s\n",
      "Epoch 81/100, Cost: 1.386, Val Error: 32.32%, lr: 0.0001, Time: 110s\n",
      "Epoch 82/100, Cost: 1.370, Val Error: 32.32%, lr: 0.0001, Time: 107s\n",
      "Epoch 83/100, Cost: 1.347, Val Error: 31.98%, lr: 0.0001, Time: 109s\n",
      "Epoch 84/100, Cost: 1.336, Val Error: 31.72%, lr: 0.0001, Time: 109s\n",
      "Epoch 85/100, Cost: 1.316, Val Error: 31.86%, lr: 0.0001, Time: 110s\n",
      "Epoch 86/100, Cost: 1.313, Val Error: 31.52%, lr: 0.0001, Time: 109s\n",
      "Epoch 87/100, Cost: 1.305, Val Error: 31.48%, lr: 0.0001, Time: 107s\n",
      "Epoch 88/100, Cost: 1.285, Val Error: 31.82%, lr: 0.0001, Time: 105s\n",
      "Epoch 89/100, Cost: 1.268, Val Error: 31.68%, lr: 0.0001, Time: 108s\n",
      "Epoch 90/100, Cost: 1.262, Val Error: 31.10%, lr: 0.0001, Time: 108s\n",
      "Epoch 91/100, Cost: 1.255, Val Error: 31.28%, lr: 0.0001, Time: 110s\n",
      "Epoch 92/100, Cost: 1.233, Val Error: 30.84%, lr: 0.0001, Time: 108s\n",
      "Epoch 93/100, Cost: 1.233, Val Error: 30.78%, lr: 0.0001, Time: 108s\n",
      "Epoch 94/100, Cost: 1.226, Val Error: 30.92%, lr: 0.0001, Time: 106s\n",
      "Epoch 95/100, Cost: 1.218, Val Error: 30.98%, lr: 0.0001, Time: 107s\n",
      "Epoch 96/100, Cost: 1.206, Val Error: 30.48%, lr: 0.0001, Time: 110s\n",
      "Epoch 97/100, Cost: 1.191, Val Error: 30.98%, lr: 0.0001, Time: 108s\n",
      "Epoch 98/100, Cost: 1.194, Val Error: 31.02%, lr: 0.0001, Time: 108s\n",
      "Epoch 99/100, Cost: 1.183, Val Error: 30.76%, lr: 0.0001, Time: 111s\n",
      "Epoch 100/100, Cost: 1.183, Val Error: 29.62%, lr: 0.0001, Time: 108s\n",
      "Training time: 181m\n"
     ]
    }
   ],
   "source": [
    "costs, val_error_rates, learning_rates = train(\n",
    "    compiled_model,\n",
    "    train_dataset=train_dataset,\n",
    "    cv_dataset=val_dataset,\n",
    "    batch_size=128,\n",
    "    num_epochs=100,\n",
    "    initial_lr=0.001,\n",
    "    num_workers=3,\n",
    "    patience=10,\n",
    "    optimizer='adam',\n",
    ")"
   ]
  },
  {
   "cell_type": "code",
   "execution_count": 6,
   "id": "d53c2e65",
   "metadata": {
    "execution": {
     "iopub.execute_input": "2024-12-04T13:55:36.763493Z",
     "iopub.status.busy": "2024-12-04T13:55:36.763144Z",
     "iopub.status.idle": "2024-12-04T13:55:37.255825Z",
     "shell.execute_reply": "2024-12-04T13:55:37.255090Z"
    },
    "papermill": {
     "duration": 0.504564,
     "end_time": "2024-12-04T13:55:37.257675",
     "exception": false,
     "start_time": "2024-12-04T13:55:36.753111",
     "status": "completed"
    },
    "tags": []
   },
   "outputs": [],
   "source": [
    "torch.save(model.state_dict(), 'improved_cifar100.model.pt')\n",
    "torch.save(preprocess, 'improved_cifar100.preprocess.pt')\n",
    "torch.save(train_augment, 'improved_cifar100.train_augment.pt')"
   ]
  },
  {
   "cell_type": "code",
   "execution_count": 7,
   "id": "bf91724b",
   "metadata": {
    "execution": {
     "iopub.execute_input": "2024-12-04T13:55:37.277538Z",
     "iopub.status.busy": "2024-12-04T13:55:37.276946Z",
     "iopub.status.idle": "2024-12-04T13:58:01.879594Z",
     "shell.execute_reply": "2024-12-04T13:58:01.878456Z"
    },
    "papermill": {
     "duration": 144.623242,
     "end_time": "2024-12-04T13:58:01.890481",
     "exception": false,
     "start_time": "2024-12-04T13:55:37.267239",
     "status": "completed"
    },
    "tags": []
   },
   "outputs": [
    {
     "name": "stdout",
     "output_type": "stream",
     "text": [
      "Test Top 1: 0.7144\n",
      "Test Top 5: 0.9204\n",
      "Val Top 1: 0.7038\n",
      "Val Top 5: 0.9222\n",
      "Train Top 1: 0.89436\n",
      "Train Top 5: 0.98934\n"
     ]
    }
   ],
   "source": [
    "test_top1, test_top5 = top1_k(compiled_model, test_dataset, k=5)\n",
    "print(f'Test Top 1: {test_top1}')\n",
    "print(f'Test Top 5: {test_top5}')\n",
    "\n",
    "val_top1, val_top5 = top1_k(compiled_model, val_dataset, k=5)\n",
    "print(f'Val Top 1: {val_top1}')\n",
    "print(f'Val Top 5: {val_top5}')\n",
    "\n",
    "train_eval_dataset = datasets.CIFAR100(\n",
    "    'datasets/cifar100', train=True, transform=preprocess)\n",
    "train_top1, train_top5 = top1_k(compiled_model, train_eval_dataset, k=5)\n",
    "print(f'Train Top 1: {train_top1}')\n",
    "print(f'Train Top 5: {train_top5}')"
   ]
  },
  {
   "cell_type": "code",
   "execution_count": 8,
   "id": "2dbed679",
   "metadata": {
    "execution": {
     "iopub.execute_input": "2024-12-04T13:58:01.909660Z",
     "iopub.status.busy": "2024-12-04T13:58:01.909302Z",
     "iopub.status.idle": "2024-12-04T13:58:02.188935Z",
     "shell.execute_reply": "2024-12-04T13:58:02.188120Z"
    },
    "papermill": {
     "duration": 0.291294,
     "end_time": "2024-12-04T13:58:02.190558",
     "exception": false,
     "start_time": "2024-12-04T13:58:01.899264",
     "status": "completed"
    },
    "tags": []
   },
   "outputs": [
    {
     "data": {
      "text/plain": [
       "Text(0.5, 1.0, 'Costs')"
      ]
     },
     "execution_count": 8,
     "metadata": {},
     "output_type": "execute_result"
    },
    {
     "data": {
      "image/png": "[encoded data removed]",
      "text/plain": [
       "<Figure size 640x480 with 1 Axes>"
      ]
     },
     "metadata": {},
     "output_type": "display_data"
    }
   ],
   "source": [
    "plt.plot(costs)\n",
    "plt.xlabel(\"Epoch\")\n",
    "plt.title('Costs')"
   ]
  },
  {
   "cell_type": "code",
   "execution_count": 9,
   "id": "9371ca63",
   "metadata": {
    "execution": {
     "iopub.execute_input": "2024-12-04T13:58:02.210530Z",
     "iopub.status.busy": "2024-12-04T13:58:02.210020Z",
     "iopub.status.idle": "2024-12-04T13:58:02.460558Z",
     "shell.execute_reply": "2024-12-04T13:58:02.459708Z"
    },
    "papermill": {
     "duration": 0.26243,
     "end_time": "2024-12-04T13:58:02.462449",
     "exception": false,
     "start_time": "2024-12-04T13:58:02.200019",
     "status": "completed"
    },
    "tags": []
   },
   "outputs": [
    {
     "data": {
      "text/plain": [
       "Text(0.5, 1.0, 'Validation Error Rates')"
      ]
     },
     "execution_count": 9,
     "metadata": {},
     "output_type": "execute_result"
    },
    {
     "data": {
      "image/png": "[encoded data removed]",
      "text/plain": [
       "<Figure size 640x480 with 1 Axes>"
      ]
     },
     "metadata": {},
     "output_type": "display_data"
    }
   ],
   "source": [
    "plt.plot(val_error_rates)\n",
    "plt.xlabel(\"Epoch\")\n",
    "plt.title('Validation Error Rates')"
   ]
  },
  {
   "cell_type": "code",
   "execution_count": 10,
   "id": "f0a5c647",
   "metadata": {
    "execution": {
     "iopub.execute_input": "2024-12-04T13:58:02.483681Z",
     "iopub.status.busy": "2024-12-04T13:58:02.483390Z",
     "iopub.status.idle": "2024-12-04T13:58:02.723141Z",
     "shell.execute_reply": "2024-12-04T13:58:02.722261Z"
    },
    "papermill": {
     "duration": 0.252384,
     "end_time": "2024-12-04T13:58:02.724931",
     "exception": false,
     "start_time": "2024-12-04T13:58:02.472547",
     "status": "completed"
    },
    "tags": []
   },
   "outputs": [
    {
     "data": {
      "text/plain": [
       "Text(0.5, 1.0, 'Learning Rates')"
      ]
     },
     "execution_count": 10,
     "metadata": {},
     "output_type": "execute_result"
    },
    {
     "data": {
      "image/png": "[encoded data removed]",
      "text/plain": [
       "<Figure size 640x480 with 1 Axes>"
      ]
     },
     "metadata": {},
     "output_type": "display_data"
    }
   ],
   "source": [
    "import math\n",
    "\n",
    "plt.plot([math.log10(lr) for lr in learning_rates])\n",
    "plt.ylabel(\"Log10(lr)\")\n",
    "plt.xlabel(\"Epoch\")\n",
    "plt.title('Learning Rates')"
   ]
  }
 ],
 "metadata": {
  "kaggle": {
   "accelerator": "none",
   "dataSources": [
    {
     "modelId": 181947,
     "modelInstanceId": 159601,
     "sourceId": 187191,
     "sourceType": "modelInstanceVersion"
    }
   ],
   "dockerImageVersionId": 30805,
   "isGpuEnabled": false,
   "isInternetEnabled": true,
   "language": "python",
   "sourceType": "notebook"
  },
  "kernelspec": {
   "display_name": "Python 3",
   "language": "python",
   "name": "python3"
  },
  "language_info": {
   "codemirror_mode": {
    "name": "ipython",
    "version": 3
   },
   "file_extension": ".py",
   "mimetype": "text/x-python",
   "name": "python",
   "nbconvert_exporter": "python",
   "pygments_lexer": "ipython3",
   "version": "3.10.14"
  },
  "papermill": {
   "default_parameters": {},
   "duration": 11253.919885,
   "end_time": "2024-12-04T13:58:04.256965",
   "environment_variables": {},
   "exception": null,
   "input_path": "__notebook__.ipynb",
   "output_path": "__notebook__.ipynb",
   "parameters": {},
   "start_time": "2024-12-04T10:50:30.337080",
   "version": "2.6.0"
  }
 },
 "nbformat": 4,
 "nbformat_minor": 5
}
