{
 "cells": [
  {
   "cell_type": "code",
   "execution_count": null,
   "id": "e3d36e4f",
   "metadata": {
    "_cell_guid": "b45f5db7-6a30-4500-9d18-22af2f604f47",
    "_uuid": "543e58a8-8250-4de0-8382-cedffe00d0f7",
    "collapsed": false,
    "execution": {
     "iopub.execute_input": "2024-11-26T06:32:43.269032Z",
     "iopub.status.busy": "2024-11-26T06:32:43.268158Z",
     "iopub.status.idle": "2024-11-26T06:32:47.520617Z",
     "shell.execute_reply": "2024-11-26T06:32:47.519928Z"
    },
    "jupyter": {
     "outputs_hidden": false
    },
    "papermill": {
     "duration": 4.258655,
     "end_time": "2024-11-26T06:32:47.522633",
     "exception": false,
     "start_time": "2024-11-26T06:32:43.263978",
     "status": "completed"
    },
    "tags": []
   },
   "outputs": [],
   "source": [
    "import sys\n",
    "sys.path.append('/kaggle/input/alexnet/pytorch/improved/1')\n",
    "import torch\n",
    "import torch.nn as nn\n",
    "from torchvision import datasets\n",
    "from improved.pca import pca\n",
    "from improved.data_transforms import calc_mean_std, prepreprocess, get_preprocess, get_train_augment\n",
    "from improved.train import train\n",
    "import matplotlib.pyplot as plt\n",
    "from improved.eval import top1_k "
   ]
  },
  {
   "cell_type": "code",
   "execution_count": 2,
   "id": "42978309",
   "metadata": {
    "execution": {
     "iopub.execute_input": "2024-11-26T06:32:47.528526Z",
     "iopub.status.busy": "2024-11-26T06:32:47.527790Z",
     "iopub.status.idle": "2024-11-26T06:32:47.537698Z",
     "shell.execute_reply": "2024-11-26T06:32:47.536812Z"
    },
    "papermill": {
     "duration": 0.014502,
     "end_time": "2024-11-26T06:32:47.539553",
     "exception": false,
     "start_time": "2024-11-26T06:32:47.525051",
     "status": "completed"
    },
    "tags": []
   },
   "outputs": [
    {
     "name": "stdout",
     "output_type": "stream",
     "text": [
      "cuda\n"
     ]
    }
   ],
   "source": [
    "torch.manual_seed(0)\n",
    "device = torch.device(\"cuda\" if torch.cuda.is_available() else \"cpu\")\n",
    "print(device)"
   ]
  },
  {
   "cell_type": "code",
   "execution_count": 3,
   "id": "fcf839e5",
   "metadata": {
    "execution": {
     "iopub.execute_input": "2024-11-26T06:32:47.545203Z",
     "iopub.status.busy": "2024-11-26T06:32:47.544740Z",
     "iopub.status.idle": "2024-11-26T06:34:23.778631Z",
     "shell.execute_reply": "2024-11-26T06:34:23.777330Z"
    },
    "papermill": {
     "duration": 96.238754,
     "end_time": "2024-11-26T06:34:23.780608",
     "exception": false,
     "start_time": "2024-11-26T06:32:47.541854",
     "status": "completed"
    },
    "tags": []
   },
   "outputs": [
    {
     "name": "stdout",
     "output_type": "stream",
     "text": [
      "Downloading https://s3.amazonaws.com/fast-ai-imageclas/imagenette2-320.tgz to datasets/imagenette/imagenette2-320.tgz\n"
     ]
    },
    {
     "name": "stderr",
     "output_type": "stream",
     "text": [
      "100%|██████████| 341663724/341663724 [00:21<00:00, 15913267.90it/s]\n"
     ]
    },
    {
     "name": "stdout",
     "output_type": "stream",
     "text": [
      "Extracting datasets/imagenette/imagenette2-320.tgz to datasets/imagenette\n",
      "Mean:\n",
      "[0.4666706919670105, 0.45878785848617554, 0.43017029762268066]\n",
      "Standard Deviation:\n",
      "[0.28003814816474915, 0.27618539333343506, 0.2980325520038605]\n",
      "Covar:\n",
      "tensor([[0.9999, 0.9060, 0.7768],\n",
      "        [0.9060, 0.9999, 0.9098],\n",
      "        [0.7768, 0.9098, 1.0001]], device='cuda:0')\n",
      "Eigen values (sqrt):\n",
      "tensor([[0.2165],\n",
      "        [0.4725],\n",
      "        [1.6522]])\n",
      "Eigen vectors:\n",
      "tensor([[ 0.4129,  0.7125,  0.5673],\n",
      "        [-0.8029, -0.0092,  0.5960],\n",
      "        [ 0.4299, -0.7016,  0.5683]])\n",
      "Train: 9469\n",
      "Validation: 1963\n",
      "Test: 1962\n"
     ]
    }
   ],
   "source": [
    "train_dataset = datasets.Imagenette(\n",
    "    'datasets/imagenette', split='train', size='320px', download=True, transform=prepreprocess)\n",
    "mean, std = calc_mean_std(train_dataset)\n",
    "print(f'Mean:\\n{mean}')\n",
    "print(f'Standard Deviation:\\n{std}')\n",
    "preprocess = get_preprocess(mean, std)\n",
    "\n",
    "train_dataset = datasets.Imagenette(\n",
    "    'datasets/imagenette', split='train', size='320px', transform=preprocess)\n",
    "eigvals, eigvecs = pca(train_dataset)\n",
    "train_augment = get_train_augment(eigvals, eigvecs, mean, std)\n",
    "\n",
    "train_dataset = datasets.Imagenette(\n",
    "    'datasets/imagenette', split='train', size='320px', transform=train_augment)\n",
    "\n",
    "val_dataset = datasets.Imagenette(\n",
    "    'datasets/imagenette', split='val', size='320px',transform=preprocess)\n",
    "val_dataset, test_dataset = torch.utils.data.random_split(val_dataset, [0.5, 0.5])\n",
    "\n",
    "print(f'Train: {len(train_dataset)}')\n",
    "print(f'Validation: {len(val_dataset)}')\n",
    "print(f'Test: {len(test_dataset)}')"
   ]
  },
  {
   "cell_type": "code",
   "execution_count": null,
   "id": "e9839f5d",
   "metadata": {
    "execution": {
     "iopub.execute_input": "2024-11-26T06:34:23.796800Z",
     "iopub.status.busy": "2024-11-26T06:34:23.796506Z",
     "iopub.status.idle": "2024-11-26T06:34:23.816674Z",
     "shell.execute_reply": "2024-11-26T06:34:23.816029Z"
    },
    "papermill": {
     "duration": 0.030359,
     "end_time": "2024-11-26T06:34:23.818600",
     "exception": false,
     "start_time": "2024-11-26T06:34:23.788241",
     "status": "completed"
    },
    "tags": []
   },
   "outputs": [],
   "source": [
    "model = torch(len(train_dataset.classes))\n",
    "if torch.cuda.device_count() > 1:\n",
    "    print(f'Using {torch.cuda.device_count()} GPUs.')\n",
    "    model = nn.DataParallel(model)\n",
    "model.to(device)\n",
    "# initialize parameters\n",
    "# init_params(model)\n",
    "compiled_model = model\n",
    "# if torch.cuda.is_available():\n",
    "#     compiled_model = torch.compile(model)"
   ]
  },
  {
   "cell_type": "code",
   "execution_count": 5,
   "id": "3fbb935e",
   "metadata": {
    "execution": {
     "iopub.execute_input": "2024-11-26T06:34:23.834414Z",
     "iopub.status.busy": "2024-11-26T06:34:23.834158Z",
     "iopub.status.idle": "2024-11-26T08:36:35.585369Z",
     "shell.execute_reply": "2024-11-26T08:36:35.584258Z"
    },
    "papermill": {
     "duration": 7331.776416,
     "end_time": "2024-11-26T08:36:35.602586",
     "exception": false,
     "start_time": "2024-11-26T06:34:23.826170",
     "status": "completed"
    },
    "tags": []
   },
   "outputs": [
    {
     "name": "stdout",
     "output_type": "stream",
     "text": [
      "Epoch 1/200, Cost: 2.051, CV_Error: 59.14%, lr: 0.01, Time: 35.236767530441284\n",
      "Epoch 2/200, Cost: 1.713, CV_Error: 54.25%, lr: 0.01, Time: 35.40739393234253\n",
      "Epoch 3/200, Cost: 1.569, CV_Error: 37.60%, lr: 0.01, Time: 35.263983488082886\n",
      "Epoch 4/200, Cost: 1.397, CV_Error: 54.30%, lr: 0.01, Time: 35.31329536437988\n",
      "Epoch 5/200, Cost: 1.313, CV_Error: 43.50%, lr: 0.01, Time: 36.452439308166504\n",
      "Epoch 6/200, Cost: 1.251, CV_Error: 35.05%, lr: 0.01, Time: 36.30111813545227\n",
      "Epoch 7/200, Cost: 1.170, CV_Error: 26.29%, lr: 0.01, Time: 35.91155481338501\n",
      "Epoch 8/200, Cost: 1.115, CV_Error: 27.41%, lr: 0.01, Time: 36.41818642616272\n",
      "Epoch 9/200, Cost: 1.075, CV_Error: 33.88%, lr: 0.01, Time: 35.48709583282471\n",
      "Epoch 10/200, Cost: 1.019, CV_Error: 24.04%, lr: 0.01, Time: 36.28784418106079\n",
      "Epoch 11/200, Cost: 0.986, CV_Error: 25.47%, lr: 0.01, Time: 35.11242485046387\n",
      "Epoch 12/200, Cost: 0.932, CV_Error: 24.50%, lr: 0.01, Time: 35.9841365814209\n",
      "Epoch 13/200, Cost: 0.916, CV_Error: 25.83%, lr: 0.01, Time: 36.0653932094574\n",
      "Epoch 14/200, Cost: 0.837, CV_Error: 22.77%, lr: 0.01, Time: 35.83461952209473\n",
      "Epoch 15/200, Cost: 0.844, CV_Error: 24.96%, lr: 0.01, Time: 36.09665775299072\n",
      "Epoch 16/200, Cost: 0.790, CV_Error: 23.28%, lr: 0.01, Time: 35.69900131225586\n",
      "Epoch 17/200, Cost: 0.766, CV_Error: 22.47%, lr: 0.01, Time: 36.59439826011658\n",
      "Epoch 18/200, Cost: 0.730, CV_Error: 26.24%, lr: 0.01, Time: 36.520506381988525\n",
      "Epoch 19/200, Cost: 0.735, CV_Error: 22.92%, lr: 0.01, Time: 36.40880990028381\n",
      "Epoch 20/200, Cost: 0.673, CV_Error: 19.71%, lr: 0.01, Time: 35.41554141044617\n",
      "Epoch 21/200, Cost: 0.681, CV_Error: 26.54%, lr: 0.01, Time: 35.978657960891724\n",
      "Epoch 22/200, Cost: 0.668, CV_Error: 19.71%, lr: 0.01, Time: 36.55299711227417\n",
      "Epoch 23/200, Cost: 0.613, CV_Error: 20.53%, lr: 0.01, Time: 35.57738375663757\n",
      "Epoch 24/200, Cost: 0.610, CV_Error: 18.90%, lr: 0.01, Time: 36.52702879905701\n",
      "Epoch 25/200, Cost: 0.603, CV_Error: 23.23%, lr: 0.01, Time: 36.15311932563782\n",
      "Epoch 26/200, Cost: 0.573, CV_Error: 17.42%, lr: 0.01, Time: 36.425246238708496\n",
      "Epoch 27/200, Cost: 0.567, CV_Error: 16.76%, lr: 0.01, Time: 35.50845742225647\n",
      "Epoch 28/200, Cost: 0.543, CV_Error: 21.14%, lr: 0.01, Time: 35.59824228286743\n",
      "Epoch 29/200, Cost: 0.554, CV_Error: 21.70%, lr: 0.01, Time: 36.360087156295776\n",
      "Epoch 30/200, Cost: 0.569, CV_Error: 26.54%, lr: 0.01, Time: 36.180150270462036\n",
      "Epoch 31/200, Cost: 0.585, CV_Error: 15.38%, lr: 0.01, Time: 35.90786051750183\n",
      "Epoch 32/200, Cost: 0.504, CV_Error: 17.93%, lr: 0.01, Time: 36.1366229057312\n",
      "Epoch 33/200, Cost: 0.488, CV_Error: 20.84%, lr: 0.01, Time: 36.10539197921753\n",
      "Epoch 34/200, Cost: 0.485, CV_Error: 17.27%, lr: 0.01, Time: 35.84541344642639\n",
      "Epoch 35/200, Cost: 0.476, CV_Error: 16.35%, lr: 0.01, Time: 37.02880024909973\n",
      "Epoch 36/200, Cost: 0.467, CV_Error: 19.56%, lr: 0.01, Time: 36.128291606903076\n",
      "Epoch 37/200, Cost: 0.430, CV_Error: 16.66%, lr: 0.01, Time: 36.04696726799011\n",
      "Epoch 38/200, Cost: 0.449, CV_Error: 17.73%, lr: 0.01, Time: 36.428287744522095\n",
      "Epoch 39/200, Cost: 0.432, CV_Error: 19.66%, lr: 0.01, Time: 37.3894259929657\n",
      "Epoch 40/200, Cost: 0.437, CV_Error: 14.37%, lr: 0.01, Time: 37.33463478088379\n",
      "Epoch 41/200, Cost: 0.403, CV_Error: 16.10%, lr: 0.01, Time: 37.108028411865234\n",
      "Epoch 42/200, Cost: 0.412, CV_Error: 21.24%, lr: 0.01, Time: 35.708348989486694\n",
      "Epoch 43/200, Cost: 0.393, CV_Error: 16.40%, lr: 0.01, Time: 36.08703660964966\n",
      "Epoch 44/200, Cost: 0.396, CV_Error: 17.98%, lr: 0.01, Time: 36.257582902908325\n",
      "Epoch 45/200, Cost: 0.381, CV_Error: 17.01%, lr: 0.01, Time: 35.376752614974976\n",
      "Epoch 46/200, Cost: 0.385, CV_Error: 19.10%, lr: 0.01, Time: 36.43965268135071\n",
      "Epoch 47/200, Cost: 0.382, CV_Error: 15.94%, lr: 0.01, Time: 37.14639949798584\n",
      "Epoch 48/200, Cost: 0.380, CV_Error: 18.34%, lr: 0.01, Time: 36.898046016693115\n",
      "Epoch 49/200, Cost: 0.346, CV_Error: 18.24%, lr: 0.01, Time: 36.480202198028564\n",
      "Epoch 50/200, Cost: 0.375, CV_Error: 19.46%, lr: 0.01, Time: 36.869322538375854\n",
      "Epoch 51/200, Cost: 0.367, CV_Error: 21.45%, lr: 0.01, Time: 35.81822943687439\n",
      "Epoch 52/200, Cost: 0.346, CV_Error: 16.10%, lr: 0.01, Time: 36.41583514213562\n",
      "Epoch 53/200, Cost: 0.341, CV_Error: 17.22%, lr: 0.01, Time: 36.91996169090271\n",
      "Epoch 54/200, Cost: 0.343, CV_Error: 15.64%, lr: 0.01, Time: 37.71258854866028\n",
      "Epoch 55/200, Cost: 0.335, CV_Error: 21.29%, lr: 0.01, Time: 36.614357471466064\n",
      "Epoch 56/200, Cost: 0.340, CV_Error: 15.89%, lr: 0.01, Time: 36.71122980117798\n",
      "Epoch 57/200, Cost: 0.315, CV_Error: 17.32%, lr: 0.01, Time: 36.54643535614014\n",
      "Epoch 58/200, Cost: 0.334, CV_Error: 16.76%, lr: 0.01, Time: 36.57693004608154\n",
      "Epoch 59/200, Cost: 0.318, CV_Error: 17.58%, lr: 0.01, Time: 36.70423364639282\n",
      "Epoch 60/200, Cost: 0.314, CV_Error: 22.47%, lr: 0.01, Time: 35.32275032997131\n",
      "Epoch 61/200, Cost: 0.337, CV_Error: 15.54%, lr: 0.001, Time: 35.71716785430908\n",
      "Epoch 62/200, Cost: 0.278, CV_Error: 12.53%, lr: 0.001, Time: 36.16675639152527\n",
      "Epoch 63/200, Cost: 0.243, CV_Error: 12.48%, lr: 0.001, Time: 35.812172412872314\n",
      "Epoch 64/200, Cost: 0.234, CV_Error: 12.38%, lr: 0.001, Time: 36.06308698654175\n",
      "Epoch 65/200, Cost: 0.223, CV_Error: 11.87%, lr: 0.001, Time: 36.05186891555786\n",
      "Epoch 66/200, Cost: 0.217, CV_Error: 11.97%, lr: 0.001, Time: 37.033043384552\n",
      "Epoch 67/200, Cost: 0.223, CV_Error: 11.61%, lr: 0.001, Time: 36.854193449020386\n",
      "Epoch 68/200, Cost: 0.209, CV_Error: 11.56%, lr: 0.001, Time: 36.42669463157654\n",
      "Epoch 69/200, Cost: 0.215, CV_Error: 11.92%, lr: 0.001, Time: 36.739420652389526\n",
      "Epoch 70/200, Cost: 0.203, CV_Error: 11.36%, lr: 0.001, Time: 36.4432487487793\n",
      "Epoch 71/200, Cost: 0.213, CV_Error: 11.61%, lr: 0.001, Time: 36.86590886116028\n",
      "Epoch 72/200, Cost: 0.216, CV_Error: 11.67%, lr: 0.001, Time: 36.86892533302307\n",
      "Epoch 73/200, Cost: 0.191, CV_Error: 11.82%, lr: 0.001, Time: 36.245235443115234\n",
      "Epoch 74/200, Cost: 0.200, CV_Error: 11.67%, lr: 0.001, Time: 35.98178195953369\n",
      "Epoch 75/200, Cost: 0.200, CV_Error: 11.56%, lr: 0.001, Time: 36.49527549743652\n",
      "Epoch 76/200, Cost: 0.198, CV_Error: 11.72%, lr: 0.001, Time: 36.43133044242859\n",
      "Epoch 77/200, Cost: 0.200, CV_Error: 11.46%, lr: 0.001, Time: 36.112149477005005\n",
      "Epoch 78/200, Cost: 0.196, CV_Error: 11.87%, lr: 0.001, Time: 37.143404722213745\n",
      "Epoch 79/200, Cost: 0.197, CV_Error: 11.51%, lr: 0.001, Time: 36.660287618637085\n",
      "Epoch 80/200, Cost: 0.198, CV_Error: 11.82%, lr: 0.001, Time: 37.34119367599487\n",
      "Epoch 81/200, Cost: 0.201, CV_Error: 12.33%, lr: 0.001, Time: 36.264453172683716\n",
      "Epoch 82/200, Cost: 0.186, CV_Error: 11.56%, lr: 0.001, Time: 36.37548327445984\n",
      "Epoch 83/200, Cost: 0.200, CV_Error: 12.07%, lr: 0.001, Time: 37.1616747379303\n",
      "Epoch 84/200, Cost: 0.191, CV_Error: 11.46%, lr: 0.001, Time: 37.48599720001221\n",
      "Epoch 85/200, Cost: 0.185, CV_Error: 11.36%, lr: 0.001, Time: 36.902958154678345\n",
      "Epoch 86/200, Cost: 0.176, CV_Error: 11.56%, lr: 0.001, Time: 36.61741352081299\n",
      "Epoch 87/200, Cost: 0.195, CV_Error: 11.72%, lr: 0.001, Time: 37.46961569786072\n",
      "Epoch 88/200, Cost: 0.176, CV_Error: 11.00%, lr: 0.001, Time: 37.460147857666016\n",
      "Epoch 89/200, Cost: 0.185, CV_Error: 11.41%, lr: 0.001, Time: 36.77641296386719\n",
      "Epoch 90/200, Cost: 0.184, CV_Error: 11.31%, lr: 0.001, Time: 36.933295249938965\n",
      "Epoch 91/200, Cost: 0.186, CV_Error: 12.43%, lr: 0.001, Time: 37.404006242752075\n",
      "Epoch 92/200, Cost: 0.185, CV_Error: 11.51%, lr: 0.001, Time: 36.84531879425049\n",
      "Epoch 93/200, Cost: 0.180, CV_Error: 11.67%, lr: 0.001, Time: 37.082507371902466\n",
      "Epoch 94/200, Cost: 0.178, CV_Error: 11.31%, lr: 0.001, Time: 37.43250131607056\n",
      "Epoch 95/200, Cost: 0.189, CV_Error: 11.46%, lr: 0.001, Time: 36.685527324676514\n",
      "Epoch 96/200, Cost: 0.172, CV_Error: 11.26%, lr: 0.001, Time: 35.73537611961365\n",
      "Epoch 97/200, Cost: 0.179, CV_Error: 11.46%, lr: 0.001, Time: 36.047792196273804\n",
      "Epoch 98/200, Cost: 0.171, CV_Error: 11.21%, lr: 0.001, Time: 36.29039239883423\n",
      "Epoch 99/200, Cost: 0.174, CV_Error: 11.00%, lr: 0.001, Time: 36.53488564491272\n",
      "Epoch 100/200, Cost: 0.172, CV_Error: 11.46%, lr: 0.001, Time: 36.07937431335449\n",
      "Epoch 101/200, Cost: 0.178, CV_Error: 11.46%, lr: 0.001, Time: 35.80385446548462\n",
      "Epoch 102/200, Cost: 0.175, CV_Error: 11.21%, lr: 0.001, Time: 36.87633562088013\n",
      "Epoch 103/200, Cost: 0.173, CV_Error: 11.56%, lr: 0.001, Time: 36.47702503204346\n",
      "Epoch 104/200, Cost: 0.167, CV_Error: 11.00%, lr: 0.001, Time: 35.35284233093262\n",
      "Epoch 105/200, Cost: 0.168, CV_Error: 11.16%, lr: 0.001, Time: 35.600196838378906\n",
      "Epoch 106/200, Cost: 0.176, CV_Error: 10.90%, lr: 0.001, Time: 36.08354425430298\n",
      "Epoch 107/200, Cost: 0.167, CV_Error: 11.21%, lr: 0.001, Time: 36.363221406936646\n",
      "Epoch 108/200, Cost: 0.164, CV_Error: 11.21%, lr: 0.001, Time: 35.09166169166565\n",
      "Epoch 109/200, Cost: 0.163, CV_Error: 11.51%, lr: 0.001, Time: 36.37231779098511\n",
      "Epoch 110/200, Cost: 0.173, CV_Error: 11.56%, lr: 0.001, Time: 35.88242220878601\n",
      "Epoch 111/200, Cost: 0.158, CV_Error: 11.11%, lr: 0.001, Time: 36.57158374786377\n",
      "Epoch 112/200, Cost: 0.155, CV_Error: 11.31%, lr: 0.001, Time: 36.706714391708374\n",
      "Epoch 113/200, Cost: 0.164, CV_Error: 11.56%, lr: 0.001, Time: 36.36748147010803\n",
      "Epoch 114/200, Cost: 0.168, CV_Error: 11.61%, lr: 0.001, Time: 36.2434720993042\n",
      "Epoch 115/200, Cost: 0.170, CV_Error: 11.31%, lr: 0.001, Time: 35.761090993881226\n",
      "Epoch 116/200, Cost: 0.169, CV_Error: 11.05%, lr: 0.001, Time: 37.427284717559814\n",
      "Epoch 117/200, Cost: 0.162, CV_Error: 11.16%, lr: 0.001, Time: 36.52804255485535\n",
      "Epoch 118/200, Cost: 0.159, CV_Error: 11.26%, lr: 0.001, Time: 36.74839901924133\n",
      "Epoch 119/200, Cost: 0.160, CV_Error: 10.95%, lr: 0.001, Time: 35.91353940963745\n",
      "Epoch 120/200, Cost: 0.156, CV_Error: 11.31%, lr: 0.001, Time: 36.912285566329956\n",
      "Epoch 121/200, Cost: 0.163, CV_Error: 11.16%, lr: 0.001, Time: 36.3433837890625\n",
      "Epoch 122/200, Cost: 0.161, CV_Error: 11.41%, lr: 0.001, Time: 36.78630328178406\n",
      "Epoch 123/200, Cost: 0.156, CV_Error: 11.31%, lr: 0.001, Time: 36.209872007369995\n",
      "Epoch 124/200, Cost: 0.163, CV_Error: 11.00%, lr: 0.001, Time: 36.891796588897705\n",
      "Epoch 125/200, Cost: 0.152, CV_Error: 11.05%, lr: 0.001, Time: 37.485451459884644\n",
      "Epoch 126/200, Cost: 0.165, CV_Error: 11.31%, lr: 0.001, Time: 36.318172454833984\n",
      "Epoch 127/200, Cost: 0.160, CV_Error: 11.46%, lr: 0.0001, Time: 36.773614168167114\n",
      "Epoch 128/200, Cost: 0.162, CV_Error: 11.51%, lr: 0.0001, Time: 36.85754704475403\n",
      "Epoch 129/200, Cost: 0.166, CV_Error: 11.26%, lr: 0.0001, Time: 36.316343545913696\n",
      "Epoch 130/200, Cost: 0.156, CV_Error: 11.36%, lr: 0.0001, Time: 36.91237282752991\n",
      "Epoch 131/200, Cost: 0.157, CV_Error: 11.41%, lr: 0.0001, Time: 36.54845929145813\n",
      "Epoch 132/200, Cost: 0.148, CV_Error: 11.41%, lr: 0.0001, Time: 36.78709888458252\n",
      "Epoch 133/200, Cost: 0.140, CV_Error: 11.21%, lr: 0.0001, Time: 36.20250344276428\n",
      "Epoch 134/200, Cost: 0.152, CV_Error: 11.21%, lr: 0.0001, Time: 36.51869821548462\n",
      "Epoch 135/200, Cost: 0.151, CV_Error: 11.21%, lr: 0.0001, Time: 36.39674258232117\n",
      "Epoch 136/200, Cost: 0.162, CV_Error: 11.16%, lr: 0.0001, Time: 37.04590678215027\n",
      "Epoch 137/200, Cost: 0.154, CV_Error: 11.46%, lr: 0.0001, Time: 36.65047264099121\n",
      "Epoch 138/200, Cost: 0.161, CV_Error: 11.31%, lr: 0.0001, Time: 36.70625448226929\n",
      "Epoch 139/200, Cost: 0.146, CV_Error: 11.26%, lr: 0.0001, Time: 36.53962731361389\n",
      "Epoch 140/200, Cost: 0.154, CV_Error: 11.36%, lr: 0.0001, Time: 36.45660352706909\n",
      "Epoch 141/200, Cost: 0.148, CV_Error: 11.26%, lr: 0.0001, Time: 37.40266227722168\n",
      "Epoch 142/200, Cost: 0.147, CV_Error: 11.05%, lr: 0.0001, Time: 37.02319645881653\n",
      "Epoch 143/200, Cost: 0.150, CV_Error: 11.26%, lr: 0.0001, Time: 36.642906665802\n",
      "Epoch 144/200, Cost: 0.157, CV_Error: 11.31%, lr: 0.0001, Time: 36.76988101005554\n",
      "Epoch 145/200, Cost: 0.152, CV_Error: 11.41%, lr: 0.0001, Time: 37.12382173538208\n",
      "Epoch 146/200, Cost: 0.154, CV_Error: 11.05%, lr: 0.0001, Time: 37.252769947052\n",
      "Epoch 147/200, Cost: 0.146, CV_Error: 11.16%, lr: 0.0001, Time: 36.60442543029785\n",
      "Epoch 148/200, Cost: 0.160, CV_Error: 11.11%, lr: 1e-05, Time: 36.79389452934265\n",
      "Epoch 149/200, Cost: 0.143, CV_Error: 11.21%, lr: 1e-05, Time: 36.75599026679993\n",
      "Epoch 150/200, Cost: 0.143, CV_Error: 11.11%, lr: 1e-05, Time: 37.645655393600464\n",
      "Epoch 151/200, Cost: 0.145, CV_Error: 10.95%, lr: 1e-05, Time: 36.915042877197266\n",
      "Epoch 152/200, Cost: 0.154, CV_Error: 11.16%, lr: 1e-05, Time: 36.366214990615845\n",
      "Epoch 153/200, Cost: 0.148, CV_Error: 11.05%, lr: 1e-05, Time: 37.4460883140564\n",
      "Epoch 154/200, Cost: 0.161, CV_Error: 11.00%, lr: 1e-05, Time: 36.14040422439575\n",
      "Epoch 155/200, Cost: 0.156, CV_Error: 11.00%, lr: 1e-05, Time: 37.2279314994812\n",
      "Epoch 156/200, Cost: 0.155, CV_Error: 11.26%, lr: 1e-05, Time: 36.59620761871338\n",
      "Epoch 157/200, Cost: 0.157, CV_Error: 11.00%, lr: 1e-05, Time: 36.0564980506897\n",
      "Epoch 158/200, Cost: 0.145, CV_Error: 11.05%, lr: 1e-05, Time: 36.54361963272095\n",
      "Epoch 159/200, Cost: 0.146, CV_Error: 11.05%, lr: 1e-05, Time: 36.946579694747925\n",
      "Epoch 160/200, Cost: 0.150, CV_Error: 11.00%, lr: 1e-05, Time: 36.73209810256958\n",
      "Epoch 161/200, Cost: 0.159, CV_Error: 10.85%, lr: 1e-05, Time: 37.22900032997131\n",
      "Epoch 162/200, Cost: 0.149, CV_Error: 11.16%, lr: 1e-05, Time: 36.960782289505005\n",
      "Epoch 163/200, Cost: 0.154, CV_Error: 11.00%, lr: 1e-05, Time: 37.666847467422485\n",
      "Epoch 164/200, Cost: 0.151, CV_Error: 10.90%, lr: 1e-05, Time: 37.07002019882202\n",
      "Epoch 165/200, Cost: 0.138, CV_Error: 10.90%, lr: 1e-05, Time: 37.25880217552185\n",
      "Epoch 166/200, Cost: 0.150, CV_Error: 11.26%, lr: 1e-05, Time: 37.56603765487671\n",
      "Epoch 167/200, Cost: 0.150, CV_Error: 11.11%, lr: 1e-05, Time: 37.4891402721405\n",
      "Epoch 168/200, Cost: 0.150, CV_Error: 11.26%, lr: 1e-05, Time: 37.85283970832825\n",
      "Epoch 169/200, Cost: 0.150, CV_Error: 11.11%, lr: 1e-05, Time: 37.415053606033325\n",
      "Epoch 170/200, Cost: 0.154, CV_Error: 10.75%, lr: 1e-05, Time: 36.850982904434204\n",
      "Epoch 171/200, Cost: 0.161, CV_Error: 10.95%, lr: 1e-05, Time: 37.93996524810791\n",
      "Epoch 172/200, Cost: 0.152, CV_Error: 10.95%, lr: 1e-05, Time: 37.07189965248108\n",
      "Epoch 173/200, Cost: 0.162, CV_Error: 11.05%, lr: 1e-05, Time: 37.3958694934845\n",
      "Epoch 174/200, Cost: 0.157, CV_Error: 11.21%, lr: 1e-05, Time: 37.229583501815796\n",
      "Epoch 175/200, Cost: 0.148, CV_Error: 11.21%, lr: 1e-05, Time: 37.61447095870972\n",
      "Epoch 176/200, Cost: 0.150, CV_Error: 11.00%, lr: 1e-05, Time: 36.7378203868866\n",
      "Epoch 177/200, Cost: 0.146, CV_Error: 11.16%, lr: 1e-05, Time: 36.79504632949829\n",
      "Epoch 178/200, Cost: 0.147, CV_Error: 10.90%, lr: 1e-05, Time: 37.94194960594177\n",
      "Epoch 179/200, Cost: 0.156, CV_Error: 11.00%, lr: 1e-05, Time: 37.219133138656616\n",
      "Epoch 180/200, Cost: 0.149, CV_Error: 10.95%, lr: 1e-05, Time: 37.51436948776245\n",
      "Epoch 181/200, Cost: 0.147, CV_Error: 11.05%, lr: 1e-05, Time: 36.91742992401123\n",
      "Epoch 182/200, Cost: 0.154, CV_Error: 11.00%, lr: 1e-05, Time: 38.08224129676819\n",
      "Epoch 183/200, Cost: 0.151, CV_Error: 11.00%, lr: 1e-05, Time: 37.293657541275024\n",
      "Epoch 184/200, Cost: 0.149, CV_Error: 11.21%, lr: 1e-05, Time: 37.39917016029358\n",
      "Epoch 185/200, Cost: 0.154, CV_Error: 10.80%, lr: 1e-05, Time: 38.294697284698486\n",
      "Epoch 186/200, Cost: 0.149, CV_Error: 11.11%, lr: 1e-05, Time: 36.94261693954468\n",
      "Epoch 187/200, Cost: 0.149, CV_Error: 11.00%, lr: 1e-05, Time: 36.7206027507782\n",
      "Epoch 188/200, Cost: 0.156, CV_Error: 10.90%, lr: 1e-05, Time: 37.756657123565674\n",
      "Epoch 189/200, Cost: 0.144, CV_Error: 11.11%, lr: 1e-05, Time: 38.46881151199341\n",
      "Epoch 190/200, Cost: 0.143, CV_Error: 11.11%, lr: 1e-05, Time: 38.53924036026001\n",
      "Epoch 191/200, Cost: 0.152, CV_Error: 10.95%, lr: 1.0000000000000002e-06, Time: 36.7339391708374\n",
      "Epoch 192/200, Cost: 0.151, CV_Error: 11.00%, lr: 1.0000000000000002e-06, Time: 37.64498782157898\n",
      "Epoch 193/200, Cost: 0.146, CV_Error: 10.80%, lr: 1.0000000000000002e-06, Time: 37.297778367996216\n",
      "Epoch 194/200, Cost: 0.135, CV_Error: 10.95%, lr: 1.0000000000000002e-06, Time: 38.03312563896179\n",
      "Epoch 195/200, Cost: 0.148, CV_Error: 11.11%, lr: 1.0000000000000002e-06, Time: 37.98480296134949\n",
      "Epoch 196/200, Cost: 0.139, CV_Error: 10.85%, lr: 1.0000000000000002e-06, Time: 37.48102164268494\n",
      "Epoch 197/200, Cost: 0.158, CV_Error: 11.00%, lr: 1.0000000000000002e-06, Time: 37.926430463790894\n",
      "Epoch 198/200, Cost: 0.149, CV_Error: 11.21%, lr: 1.0000000000000002e-06, Time: 37.87027955055237\n",
      "Epoch 199/200, Cost: 0.139, CV_Error: 10.95%, lr: 1.0000000000000002e-06, Time: 37.338799476623535\n",
      "Epoch 200/200, Cost: 0.156, CV_Error: 10.90%, lr: 1.0000000000000002e-06, Time: 37.56874370574951\n",
      "Training time: 7331.745502710342\n"
     ]
    }
   ],
   "source": [
    "costs, val_error_rates, learning_rates = train(\n",
    "    compiled_model,\n",
    "    train_dataset=train_dataset,\n",
    "    cv_dataset=val_dataset,\n",
    "    batch_size=128,\n",
    "    num_epochs=200,\n",
    "    initial_lr=0.01,\n",
    "    num_workers=3,\n",
    "    patience=20,\n",
    ")"
   ]
  },
  {
   "cell_type": "code",
   "execution_count": null,
   "id": "f89e8aec",
   "metadata": {
    "execution": {
     "iopub.execute_input": "2024-11-26T08:36:35.637833Z",
     "iopub.status.busy": "2024-11-26T08:36:35.637426Z",
     "iopub.status.idle": "2024-11-26T08:36:36.135747Z",
     "shell.execute_reply": "2024-11-26T08:36:36.135068Z"
    },
    "papermill": {
     "duration": 0.519798,
     "end_time": "2024-11-26T08:36:36.137904",
     "exception": false,
     "start_time": "2024-11-26T08:36:35.618106",
     "status": "completed"
    },
    "tags": []
   },
   "outputs": [],
   "source": [
    "# torch.save(model.state_dict(), 'improved_imagenette.model.pt')\n",
    "# torch.save(preprocess, 'improved_imagenette.preprocess.pt')\n",
    "# torch.save(train_augment, 'improved_imagenette.train_augment.pt')"
   ]
  },
  {
   "cell_type": "code",
   "execution_count": null,
   "id": "70edd73e",
   "metadata": {
    "execution": {
     "iopub.execute_input": "2024-11-26T08:36:36.171969Z",
     "iopub.status.busy": "2024-11-26T08:36:36.171650Z",
     "iopub.status.idle": "2024-11-26T08:37:23.092447Z",
     "shell.execute_reply": "2024-11-26T08:37:23.091360Z"
    },
    "papermill": {
     "duration": 46.955587,
     "end_time": "2024-11-26T08:37:23.109718",
     "exception": false,
     "start_time": "2024-11-26T08:36:36.154131",
     "status": "completed"
    },
    "tags": []
   },
   "outputs": [
    {
     "name": "stdout",
     "output_type": "stream",
     "text": [
      "Test Top 1: 0.8944954128440367\n",
      "Test Top 5: 0.9887869520897044\n",
      "Val Top 1: 0.890983188996434\n",
      "Val Top 5: 0.9893020886398369\n",
      "Train Top 1: 1.0\n",
      "Train Top 5: 1.0\n"
     ]
    }
   ],
   "source": [
    "test_top1, test_top5 = top1_k(compiled_model, test_dataset, k=5)\n",
    "print(f'Test Top 1: {test_top1}')\n",
    "print(f'Test Top 5: {test_top5}')\n",
    "\n",
    "val_top1, val_top5 = top1_k(compiled_model, val_dataset, k=5)\n",
    "print(f'Val Top 1: {val_top1}')\n",
    "print(f'Val Top 5: {val_top5}')\n",
    "\n",
    "train_eval_dataset = datasets.Imagenette(\n",
    "    'datasets/imagenette', split='train', size='320px', transform=preprocess)\n",
    "train_top1, train_top5 = top1_k(compiled_model, train_eval_dataset, k=5)\n",
    "print(f'Train Top 1: {train_top1}')\n",
    "print(f'Train Top 5: {train_top5}')"
   ]
  },
  {
   "cell_type": "code",
   "execution_count": 8,
   "id": "5ae8d41d",
   "metadata": {
    "execution": {
     "iopub.execute_input": "2024-11-26T08:37:23.142511Z",
     "iopub.status.busy": "2024-11-26T08:37:23.142152Z",
     "iopub.status.idle": "2024-11-26T08:37:23.449439Z",
     "shell.execute_reply": "2024-11-26T08:37:23.448581Z"
    },
    "papermill": {
     "duration": 0.325982,
     "end_time": "2024-11-26T08:37:23.451351",
     "exception": false,
     "start_time": "2024-11-26T08:37:23.125369",
     "status": "completed"
    },
    "tags": []
   },
   "outputs": [
    {
     "data": {
      "text/plain": [
       "Text(0.5, 1.0, 'Costs')"
      ]
     },
     "execution_count": 8,
     "metadata": {},
     "output_type": "execute_result"
    },
    {
     "data": {
      "image/png": "[encoded data removed]",
      "text/plain": [
       "<Figure size 640x480 with 1 Axes>"
      ]
     },
     "metadata": {},
     "output_type": "display_data"
    }
   ],
   "source": [
    "plt.plot(costs)\n",
    "plt.xlabel(\"Epoch\")\n",
    "plt.title('Costs')"
   ]
  },
  {
   "cell_type": "code",
   "execution_count": 9,
   "id": "219e7ce4",
   "metadata": {
    "execution": {
     "iopub.execute_input": "2024-11-26T08:37:23.485345Z",
     "iopub.status.busy": "2024-11-26T08:37:23.485028Z",
     "iopub.status.idle": "2024-11-26T08:37:23.890353Z",
     "shell.execute_reply": "2024-11-26T08:37:23.889428Z"
    },
    "papermill": {
     "duration": 0.424448,
     "end_time": "2024-11-26T08:37:23.892214",
     "exception": false,
     "start_time": "2024-11-26T08:37:23.467766",
     "status": "completed"
    },
    "tags": []
   },
   "outputs": [
    {
     "data": {
      "text/plain": [
       "Text(0.5, 1.0, 'Validation Error Rates')"
      ]
     },
     "execution_count": 9,
     "metadata": {},
     "output_type": "execute_result"
    },
    {
     "data": {
      "image/png": "[encoded data removed]",
      "text/plain": [
       "<Figure size 640x480 with 1 Axes>"
      ]
     },
     "metadata": {},
     "output_type": "display_data"
    }
   ],
   "source": [
    "plt.plot(val_error_rates)\n",
    "plt.xlabel(\"Epoch\")\n",
    "plt.title('Validation Error Rates')"
   ]
  },
  {
   "cell_type": "code",
   "execution_count": null,
   "id": "e6664df3",
   "metadata": {
    "execution": {
     "iopub.execute_input": "2024-11-26T08:37:23.927140Z",
     "iopub.status.busy": "2024-11-26T08:37:23.926796Z",
     "iopub.status.idle": "2024-11-26T08:37:24.189975Z",
     "shell.execute_reply": "2024-11-26T08:37:24.189093Z"
    },
    "papermill": {
     "duration": 0.282549,
     "end_time": "2024-11-26T08:37:24.191955",
     "exception": false,
     "start_time": "2024-11-26T08:37:23.909406",
     "status": "completed"
    },
    "tags": []
   },
   "outputs": [
    {
     "data": {
      "text/plain": [
       "Text(0.5, 1.0, 'Learning Rates')"
      ]
     },
     "execution_count": 10,
     "metadata": {},
     "output_type": "execute_result"
    },
    {
     "data": {
      "image/png": "[encoded data removed]",
      "text/plain": [
       "<Figure size 640x480 with 1 Axes>"
      ]
     },
     "metadata": {},
     "output_type": "display_data"
    }
   ],
   "source": [
    "import math\n",
    "\n",
    "plt.plot([math.log10(lr) for lr in learning_rates])\n",
    "plt.ylabel(\"Log10(lr)\")\n",
    "plt.xlabel(\"Epoch\")\n",
    "plt.title('Learning Rates')"
   ]
  }
 ],
 "metadata": {
  "kaggle": {
   "accelerator": "none",
   "dataSources": [
    {
     "isSourceIdPinned": true,
     "modelId": 174579,
     "modelInstanceId": 152409,
     "sourceId": 178912,
     "sourceType": "modelInstanceVersion"
    }
   ],
   "isGpuEnabled": false,
   "isInternetEnabled": true,
   "language": "python",
   "sourceType": "notebook"
  },
  "kernelspec": {
   "display_name": "torch",
   "language": "python",
   "name": "python3"
  },
  "language_info": {
   "codemirror_mode": {
    "name": "ipython",
    "version": 3
   },
   "file_extension": ".py",
   "mimetype": "text/x-python",
   "name": "python",
   "nbconvert_exporter": "python",
   "pygments_lexer": "ipython3",
   "version": "3.12.3"
  },
  "papermill": {
   "default_parameters": {},
   "duration": 7485.77016,
   "end_time": "2024-11-26T08:37:26.713811",
   "environment_variables": {},
   "exception": null,
   "input_path": "__notebook__.ipynb",
   "output_path": "__notebook__.ipynb",
   "parameters": {},
   "start_time": "2024-11-26T06:32:40.943651",
   "version": "2.6.0"
  }
 },
 "nbformat": 4,
 "nbformat_minor": 5
}
