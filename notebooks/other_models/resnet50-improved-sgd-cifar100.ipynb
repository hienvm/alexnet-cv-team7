{
 "cells": [
  {
   "cell_type": "code",
   "execution_count": 1,
   "id": "2a3f85e9",
   "metadata": {
    "_cell_guid": "e01b8400-4527-41b8-bd0a-1cf52577e5b4",
    "_uuid": "60e99f23-fb3c-4292-b48b-9c624c77601b",
    "collapsed": false,
    "execution": {
     "iopub.execute_input": "2024-12-04T17:16:59.696637Z",
     "iopub.status.busy": "2024-12-04T17:16:59.696314Z",
     "iopub.status.idle": "2024-12-04T17:17:04.155250Z",
     "shell.execute_reply": "2024-12-04T17:17:04.154330Z"
    },
    "jupyter": {
     "outputs_hidden": false
    },
    "papermill": {
     "duration": 4.464935,
     "end_time": "2024-12-04T17:17:04.157200",
     "exception": false,
     "start_time": "2024-12-04T17:16:59.692265",
     "status": "completed"
    },
    "tags": []
   },
   "outputs": [],
   "source": [
    "import sys\n",
    "\n",
    "sys.path.append('/kaggle/input/alexnet2/pytorch/default/1')\n",
    "\n",
    "import torch\n",
    "\n",
    "import torch.nn as nn\n",
    "\n",
    "import torchvision\n",
    "\n",
    "from torchvision import datasets\n",
    "\n",
    "from improved.model import AlexNetImproved, init_params\n",
    "\n",
    "from improved.data_transforms import prepreprocess, get_preprocess, get_train_augment, calc_mean_std\n",
    "\n",
    "from improved.pca import pca\n",
    "\n",
    "from improved.train import train\n",
    "\n",
    "import matplotlib.pyplot as plt\n",
    "\n",
    "from improved.eval import top1_k"
   ]
  },
  {
   "cell_type": "code",
   "execution_count": 2,
   "id": "a143d06d",
   "metadata": {
    "execution": {
     "iopub.execute_input": "2024-12-04T17:17:04.164341Z",
     "iopub.status.busy": "2024-12-04T17:17:04.163964Z",
     "iopub.status.idle": "2024-12-04T17:17:04.175645Z",
     "shell.execute_reply": "2024-12-04T17:17:04.174587Z"
    },
    "papermill": {
     "duration": 0.017258,
     "end_time": "2024-12-04T17:17:04.177571",
     "exception": false,
     "start_time": "2024-12-04T17:17:04.160313",
     "status": "completed"
    },
    "tags": []
   },
   "outputs": [
    {
     "name": "stdout",
     "output_type": "stream",
     "text": [
      "cuda\n"
     ]
    }
   ],
   "source": [
    "torch.manual_seed(0)\n",
    "\n",
    "device = torch.device(\"cuda\" if torch.cuda.is_available() else \"cpu\")\n",
    "\n",
    "print(device)"
   ]
  },
  {
   "cell_type": "code",
   "execution_count": 3,
   "id": "705b001e",
   "metadata": {
    "execution": {
     "iopub.execute_input": "2024-12-04T17:17:04.184385Z",
     "iopub.status.busy": "2024-12-04T17:17:04.184140Z",
     "iopub.status.idle": "2024-12-04T17:20:40.385432Z",
     "shell.execute_reply": "2024-12-04T17:20:40.384268Z"
    },
    "papermill": {
     "duration": 216.207458,
     "end_time": "2024-12-04T17:20:40.387443",
     "exception": false,
     "start_time": "2024-12-04T17:17:04.179985",
     "status": "completed"
    },
    "tags": []
   },
   "outputs": [
    {
     "name": "stdout",
     "output_type": "stream",
     "text": [
      "Downloading https://www.cs.toronto.edu/~kriz/cifar-100-python.tar.gz to datasets/cifar100/cifar-100-python.tar.gz\n"
     ]
    },
    {
     "name": "stderr",
     "output_type": "stream",
     "text": [
      "100%|██████████| 169001437/169001437 [00:03<00:00, 49192052.20it/s]\n"
     ]
    },
    {
     "name": "stdout",
     "output_type": "stream",
     "text": [
      "Extracting datasets/cifar100/cifar-100-python.tar.gz to datasets/cifar100\n",
      "Mean:\n",
      "[0.5072646737098694, 0.4867367148399353, 0.4411051571369171]\n",
      "Standard Deviation:\n",
      "[0.2621012330055237, 0.2511281669139862, 0.2712865471839905]\n",
      "Covar:\n",
      "tensor([[1.0000, 0.8625, 0.7042],\n",
      "        [0.8625, 0.9998, 0.8843],\n",
      "        [0.7042, 0.8843, 1.0000]], device='cuda:0')\n",
      "Eigen values (sqrt):\n",
      "tensor([[0.2588],\n",
      "        [0.5444],\n",
      "        [1.6237]])\n",
      "Eigen vectors:\n",
      "tensor([[ 0.3872,  0.7312,  0.5616],\n",
      "        [-0.7971, -0.0405,  0.6024],\n",
      "        [ 0.4633, -0.6809,  0.5672]])\n",
      "Number of classes: 100\n",
      "Train samples: 50000\n",
      "Validation samples: 5000\n",
      "Test samples: 5000\n"
     ]
    }
   ],
   "source": [
    "train_dataset = datasets.CIFAR100(\n",
    "\n",
    "    'datasets/cifar100', train=True, download=True, transform=prepreprocess)\n",
    "\n",
    "mean, std = calc_mean_std(train_dataset)\n",
    "\n",
    "print(f'Mean:\\n{mean}')\n",
    "\n",
    "print(f'Standard Deviation:\\n{std}')\n",
    "\n",
    "preprocess = get_preprocess(mean, std)\n",
    "\n",
    "\n",
    "\n",
    "train_dataset = datasets.CIFAR100(\n",
    "\n",
    "    'datasets/cifar100', train=True, transform=preprocess)\n",
    "\n",
    "eigvals, eigvecs = pca(train_dataset)\n",
    "\n",
    "train_augment = get_train_augment(eigvals, eigvecs, mean, std)\n",
    "\n",
    "\n",
    "\n",
    "train_dataset = datasets.CIFAR100(\n",
    "\n",
    "    'datasets/cifar100', train=True, transform=train_augment)\n",
    "\n",
    "\n",
    "\n",
    "val_dataset = datasets.CIFAR100(\n",
    "\n",
    "    'datasets/cifar100', train=False, transform=preprocess)\n",
    "\n",
    "val_dataset, test_dataset = torch.utils.data.random_split(val_dataset, [0.5, 0.5])\n",
    "\n",
    "\n",
    "\n",
    "print(f'Number of classes: {len(train_dataset.classes)}')\n",
    "\n",
    "print(f'Train samples: {len(train_dataset)}')\n",
    "\n",
    "print(f'Validation samples: {len(val_dataset)}')\n",
    "\n",
    "print(f'Test samples: {len(test_dataset)}')"
   ]
  },
  {
   "cell_type": "code",
   "execution_count": 4,
   "id": "5d75d016",
   "metadata": {
    "execution": {
     "iopub.execute_input": "2024-12-04T17:20:40.396972Z",
     "iopub.status.busy": "2024-12-04T17:20:40.396633Z",
     "iopub.status.idle": "2024-12-04T17:20:40.828088Z",
     "shell.execute_reply": "2024-12-04T17:20:40.827335Z"
    },
    "papermill": {
     "duration": 0.438628,
     "end_time": "2024-12-04T17:20:40.830169",
     "exception": false,
     "start_time": "2024-12-04T17:20:40.391541",
     "status": "completed"
    },
    "tags": []
   },
   "outputs": [],
   "source": [
    "model = torchvision.models.resnet50(weights=None, num_classes=len(train_dataset.classes))\n",
    "\n",
    "if torch.cuda.device_count() > 1:\n",
    "\n",
    "    print(f'Using {torch.cuda.device_count()} GPUs.')\n",
    "\n",
    "    model = nn.DataParallel(model)\n",
    "\n",
    "model.to(device)\n",
    "\n",
    "# initialize parameters\n",
    "\n",
    "init_params(model)\n",
    "\n",
    "compiled_model = model\n",
    "\n",
    "# if torch.cuda.is_available():\n",
    "\n",
    "#     compiled_model = torch.compile(model)"
   ]
  },
  {
   "cell_type": "code",
   "execution_count": 5,
   "id": "ba038af4",
   "metadata": {
    "execution": {
     "iopub.execute_input": "2024-12-04T17:20:40.839438Z",
     "iopub.status.busy": "2024-12-04T17:20:40.839154Z",
     "iopub.status.idle": "2024-12-05T02:05:12.967331Z",
     "shell.execute_reply": "2024-12-05T02:05:12.966130Z"
    },
    "papermill": {
     "duration": 31472.142952,
     "end_time": "2024-12-05T02:05:12.977328",
     "exception": false,
     "start_time": "2024-12-04T17:20:40.834376",
     "status": "completed"
    },
    "tags": []
   },
   "outputs": [
    {
     "name": "stdout",
     "output_type": "stream",
     "text": [
      "Epoch 1/100, Cost: 4.458, Val Error: 90.98%, lr: 0.01, Time: 316s\n",
      "Epoch 2/100, Cost: 4.011, Val Error: 87.14%, lr: 0.01, Time: 314s\n",
      "Epoch 3/100, Cost: 3.833, Val Error: 82.66%, lr: 0.01, Time: 314s\n",
      "Epoch 4/100, Cost: 3.641, Val Error: 79.18%, lr: 0.01, Time: 315s\n",
      "Epoch 5/100, Cost: 3.461, Val Error: 75.66%, lr: 0.01, Time: 315s\n",
      "Epoch 6/100, Cost: 3.274, Val Error: 71.48%, lr: 0.01, Time: 315s\n",
      "Epoch 7/100, Cost: 3.086, Val Error: 66.94%, lr: 0.01, Time: 315s\n",
      "Epoch 8/100, Cost: 2.886, Val Error: 62.86%, lr: 0.01, Time: 315s\n",
      "Epoch 9/100, Cost: 2.688, Val Error: 59.30%, lr: 0.01, Time: 315s\n",
      "Epoch 10/100, Cost: 2.519, Val Error: 57.26%, lr: 0.01, Time: 315s\n",
      "Epoch 11/100, Cost: 2.378, Val Error: 53.94%, lr: 0.01, Time: 315s\n",
      "Epoch 12/100, Cost: 2.239, Val Error: 50.10%, lr: 0.01, Time: 315s\n",
      "Epoch 13/100, Cost: 2.121, Val Error: 47.60%, lr: 0.01, Time: 315s\n",
      "Epoch 14/100, Cost: 2.021, Val Error: 45.36%, lr: 0.01, Time: 315s\n",
      "Epoch 15/100, Cost: 1.922, Val Error: 45.14%, lr: 0.01, Time: 315s\n",
      "Epoch 16/100, Cost: 1.843, Val Error: 43.68%, lr: 0.01, Time: 315s\n",
      "Epoch 17/100, Cost: 1.764, Val Error: 42.14%, lr: 0.01, Time: 314s\n",
      "Epoch 18/100, Cost: 1.707, Val Error: 40.98%, lr: 0.01, Time: 315s\n",
      "Epoch 19/100, Cost: 1.632, Val Error: 39.38%, lr: 0.01, Time: 314s\n",
      "Epoch 20/100, Cost: 1.556, Val Error: 37.30%, lr: 0.01, Time: 314s\n",
      "Epoch 21/100, Cost: 1.523, Val Error: 37.76%, lr: 0.01, Time: 315s\n",
      "Epoch 22/100, Cost: 1.476, Val Error: 36.62%, lr: 0.01, Time: 315s\n",
      "Epoch 23/100, Cost: 1.427, Val Error: 36.30%, lr: 0.01, Time: 315s\n",
      "Epoch 24/100, Cost: 1.379, Val Error: 36.38%, lr: 0.01, Time: 314s\n",
      "Epoch 25/100, Cost: 1.351, Val Error: 33.80%, lr: 0.01, Time: 315s\n",
      "Epoch 26/100, Cost: 1.291, Val Error: 33.10%, lr: 0.01, Time: 315s\n",
      "Epoch 27/100, Cost: 1.258, Val Error: 33.16%, lr: 0.01, Time: 315s\n",
      "Epoch 28/100, Cost: 1.233, Val Error: 35.02%, lr: 0.01, Time: 315s\n",
      "Epoch 29/100, Cost: 1.195, Val Error: 32.94%, lr: 0.01, Time: 314s\n",
      "Epoch 30/100, Cost: 1.162, Val Error: 32.52%, lr: 0.01, Time: 315s\n",
      "Epoch 31/100, Cost: 1.143, Val Error: 32.16%, lr: 0.01, Time: 315s\n",
      "Epoch 32/100, Cost: 1.100, Val Error: 30.84%, lr: 0.01, Time: 314s\n",
      "Epoch 33/100, Cost: 1.084, Val Error: 32.44%, lr: 0.01, Time: 315s\n",
      "Epoch 34/100, Cost: 1.053, Val Error: 29.52%, lr: 0.01, Time: 315s\n",
      "Epoch 35/100, Cost: 1.024, Val Error: 30.42%, lr: 0.01, Time: 315s\n",
      "Epoch 36/100, Cost: 0.999, Val Error: 29.82%, lr: 0.01, Time: 314s\n",
      "Epoch 37/100, Cost: 0.981, Val Error: 30.84%, lr: 0.01, Time: 316s\n",
      "Epoch 38/100, Cost: 0.960, Val Error: 29.80%, lr: 0.01, Time: 315s\n",
      "Epoch 39/100, Cost: 0.952, Val Error: 30.54%, lr: 0.01, Time: 315s\n",
      "Epoch 40/100, Cost: 0.926, Val Error: 29.96%, lr: 0.01, Time: 315s\n",
      "Epoch 41/100, Cost: 0.900, Val Error: 29.00%, lr: 0.01, Time: 315s\n",
      "Epoch 42/100, Cost: 0.877, Val Error: 29.18%, lr: 0.01, Time: 315s\n",
      "Epoch 43/100, Cost: 0.875, Val Error: 29.48%, lr: 0.01, Time: 315s\n",
      "Epoch 44/100, Cost: 0.842, Val Error: 29.22%, lr: 0.01, Time: 315s\n",
      "Epoch 45/100, Cost: 0.845, Val Error: 28.14%, lr: 0.01, Time: 315s\n",
      "Epoch 46/100, Cost: 0.816, Val Error: 28.78%, lr: 0.01, Time: 315s\n",
      "Epoch 47/100, Cost: 0.803, Val Error: 28.82%, lr: 0.01, Time: 314s\n",
      "Epoch 48/100, Cost: 0.785, Val Error: 27.66%, lr: 0.01, Time: 314s\n",
      "Epoch 49/100, Cost: 0.782, Val Error: 28.16%, lr: 0.01, Time: 314s\n",
      "Epoch 50/100, Cost: 0.756, Val Error: 26.52%, lr: 0.01, Time: 315s\n",
      "Epoch 51/100, Cost: 0.754, Val Error: 28.82%, lr: 0.01, Time: 315s\n",
      "Epoch 52/100, Cost: 0.738, Val Error: 27.52%, lr: 0.01, Time: 315s\n",
      "Epoch 53/100, Cost: 0.722, Val Error: 29.30%, lr: 0.01, Time: 315s\n",
      "Epoch 54/100, Cost: 0.714, Val Error: 27.62%, lr: 0.01, Time: 315s\n",
      "Epoch 55/100, Cost: 0.717, Val Error: 26.38%, lr: 0.01, Time: 315s\n",
      "Epoch 56/100, Cost: 0.699, Val Error: 27.66%, lr: 0.01, Time: 315s\n",
      "Epoch 57/100, Cost: 0.687, Val Error: 27.16%, lr: 0.01, Time: 315s\n",
      "Epoch 58/100, Cost: 0.681, Val Error: 26.30%, lr: 0.01, Time: 315s\n",
      "Epoch 59/100, Cost: 0.676, Val Error: 27.12%, lr: 0.01, Time: 315s\n",
      "Epoch 60/100, Cost: 0.671, Val Error: 27.62%, lr: 0.01, Time: 315s\n",
      "Epoch 61/100, Cost: 0.655, Val Error: 25.96%, lr: 0.01, Time: 315s\n",
      "Epoch 62/100, Cost: 0.653, Val Error: 27.58%, lr: 0.01, Time: 314s\n",
      "Epoch 63/100, Cost: 0.641, Val Error: 26.12%, lr: 0.01, Time: 315s\n",
      "Epoch 64/100, Cost: 0.638, Val Error: 29.20%, lr: 0.01, Time: 315s\n",
      "Epoch 65/100, Cost: 0.628, Val Error: 25.88%, lr: 0.01, Time: 314s\n",
      "Epoch 66/100, Cost: 0.628, Val Error: 26.46%, lr: 0.01, Time: 314s\n",
      "Epoch 67/100, Cost: 0.621, Val Error: 26.64%, lr: 0.01, Time: 314s\n",
      "Epoch 68/100, Cost: 0.613, Val Error: 26.12%, lr: 0.01, Time: 315s\n",
      "Epoch 69/100, Cost: 0.609, Val Error: 25.06%, lr: 0.01, Time: 315s\n",
      "Epoch 70/100, Cost: 0.595, Val Error: 26.50%, lr: 0.01, Time: 314s\n",
      "Epoch 71/100, Cost: 0.600, Val Error: 27.00%, lr: 0.01, Time: 315s\n",
      "Epoch 72/100, Cost: 0.598, Val Error: 27.36%, lr: 0.01, Time: 315s\n",
      "Epoch 73/100, Cost: 0.586, Val Error: 26.06%, lr: 0.01, Time: 314s\n",
      "Epoch 74/100, Cost: 0.577, Val Error: 25.84%, lr: 0.01, Time: 315s\n",
      "Epoch 75/100, Cost: 0.578, Val Error: 26.76%, lr: 0.01, Time: 315s\n",
      "Epoch 76/100, Cost: 0.577, Val Error: 25.92%, lr: 0.01, Time: 315s\n",
      "Epoch 77/100, Cost: 0.567, Val Error: 26.66%, lr: 0.01, Time: 315s\n",
      "Epoch 78/100, Cost: 0.577, Val Error: 25.08%, lr: 0.01, Time: 315s\n",
      "Epoch 79/100, Cost: 0.568, Val Error: 25.80%, lr: 0.01, Time: 314s\n",
      "Epoch 80/100, Cost: 0.559, Val Error: 26.48%, lr: 0.001, Time: 313s\n",
      "Epoch 81/100, Cost: 0.395, Val Error: 20.70%, lr: 0.001, Time: 314s\n",
      "Epoch 82/100, Cost: 0.329, Val Error: 19.96%, lr: 0.001, Time: 315s\n",
      "Epoch 83/100, Cost: 0.311, Val Error: 19.92%, lr: 0.001, Time: 315s\n",
      "Epoch 84/100, Cost: 0.295, Val Error: 20.02%, lr: 0.001, Time: 314s\n",
      "Epoch 85/100, Cost: 0.286, Val Error: 20.02%, lr: 0.001, Time: 314s\n",
      "Epoch 86/100, Cost: 0.271, Val Error: 19.48%, lr: 0.001, Time: 314s\n",
      "Epoch 87/100, Cost: 0.278, Val Error: 19.48%, lr: 0.001, Time: 315s\n",
      "Epoch 88/100, Cost: 0.267, Val Error: 19.70%, lr: 0.001, Time: 313s\n",
      "Epoch 89/100, Cost: 0.262, Val Error: 19.94%, lr: 0.001, Time: 315s\n",
      "Epoch 90/100, Cost: 0.262, Val Error: 19.62%, lr: 0.001, Time: 315s\n",
      "Epoch 91/100, Cost: 0.250, Val Error: 19.78%, lr: 0.001, Time: 315s\n",
      "Epoch 92/100, Cost: 0.251, Val Error: 19.52%, lr: 0.001, Time: 314s\n",
      "Epoch 93/100, Cost: 0.247, Val Error: 19.66%, lr: 0.001, Time: 315s\n",
      "Epoch 94/100, Cost: 0.244, Val Error: 19.40%, lr: 0.001, Time: 315s\n",
      "Epoch 95/100, Cost: 0.243, Val Error: 19.30%, lr: 0.001, Time: 315s\n",
      "Epoch 96/100, Cost: 0.237, Val Error: 19.42%, lr: 0.001, Time: 314s\n",
      "Epoch 97/100, Cost: 0.235, Val Error: 19.26%, lr: 0.001, Time: 315s\n",
      "Epoch 98/100, Cost: 0.232, Val Error: 19.48%, lr: 0.001, Time: 315s\n",
      "Epoch 99/100, Cost: 0.232, Val Error: 19.56%, lr: 0.001, Time: 314s\n",
      "Epoch 100/100, Cost: 0.232, Val Error: 19.24%, lr: 0.001, Time: 314s\n",
      "Training time: 525m\n"
     ]
    }
   ],
   "source": [
    "costs, val_error_rates, learning_rates = train(\n",
    "\n",
    "    compiled_model,\n",
    "\n",
    "    train_dataset=train_dataset,\n",
    "\n",
    "    cv_dataset=val_dataset,\n",
    "\n",
    "    batch_size=128,\n",
    "\n",
    "    num_epochs=100,\n",
    "\n",
    "    initial_lr=0.01,\n",
    "\n",
    "    num_workers=3,\n",
    "\n",
    "    patience=10\n",
    "\n",
    ")"
   ]
  },
  {
   "cell_type": "code",
   "execution_count": 6,
   "id": "8b925da0",
   "metadata": {
    "execution": {
     "iopub.execute_input": "2024-12-05T02:05:12.994636Z",
     "iopub.status.busy": "2024-12-05T02:05:12.994288Z",
     "iopub.status.idle": "2024-12-05T02:05:12.998520Z",
     "shell.execute_reply": "2024-12-05T02:05:12.997700Z"
    },
    "papermill": {
     "duration": 0.014906,
     "end_time": "2024-12-05T02:05:13.000062",
     "exception": false,
     "start_time": "2024-12-05T02:05:12.985156",
     "status": "completed"
    },
    "tags": []
   },
   "outputs": [],
   "source": [
    "# torch.save(model.state_dict(), 'improved_cifar100.model.pt')\n",
    "\n",
    "# torch.save(preprocess, 'improved_cifar100.preprocess.pt')\n",
    "\n",
    "# torch.save(train_augment, 'improved_cifar100.train_augment.pt')"
   ]
  },
  {
   "cell_type": "code",
   "execution_count": 7,
   "id": "b85c9c4d",
   "metadata": {
    "execution": {
     "iopub.execute_input": "2024-12-05T02:05:13.016379Z",
     "iopub.status.busy": "2024-12-05T02:05:13.016125Z",
     "iopub.status.idle": "2024-12-05T02:18:58.712833Z",
     "shell.execute_reply": "2024-12-05T02:18:58.711674Z"
    },
    "papermill": {
     "duration": 825.71493,
     "end_time": "2024-12-05T02:18:58.722670",
     "exception": false,
     "start_time": "2024-12-05T02:05:13.007740",
     "status": "completed"
    },
    "tags": []
   },
   "outputs": [
    {
     "name": "stdout",
     "output_type": "stream",
     "text": [
      "Test Top 1: 0.8112\n",
      "Test Top 5: 0.962\n",
      "Val Top 1: 0.8076\n",
      "Val Top 5: 0.9594\n",
      "Train Top 1: 0.9991\n",
      "Train Top 5: 1.0\n"
     ]
    }
   ],
   "source": [
    "test_top1, test_top5 = top1_k(compiled_model, test_dataset, k=5)\n",
    "\n",
    "print(f'Test Top 1: {test_top1}')\n",
    "\n",
    "print(f'Test Top 5: {test_top5}')\n",
    "\n",
    "\n",
    "\n",
    "val_top1, val_top5 = top1_k(compiled_model, val_dataset, k=5)\n",
    "\n",
    "print(f'Val Top 1: {val_top1}')\n",
    "\n",
    "print(f'Val Top 5: {val_top5}')\n",
    "\n",
    "\n",
    "\n",
    "train_eval_dataset = datasets.CIFAR100(\n",
    "\n",
    "    'datasets/cifar100', train=True, transform=preprocess)\n",
    "\n",
    "train_top1, train_top5 = top1_k(compiled_model, train_eval_dataset, k=5)\n",
    "\n",
    "print(f'Train Top 1: {train_top1}')\n",
    "\n",
    "print(f'Train Top 5: {train_top5}')"
   ]
  },
  {
   "cell_type": "code",
   "execution_count": 8,
   "id": "2faccefa",
   "metadata": {
    "execution": {
     "iopub.execute_input": "2024-12-05T02:18:58.740221Z",
     "iopub.status.busy": "2024-12-05T02:18:58.739846Z",
     "iopub.status.idle": "2024-12-05T02:18:58.995133Z",
     "shell.execute_reply": "2024-12-05T02:18:58.994227Z"
    },
    "papermill": {
     "duration": 0.266311,
     "end_time": "2024-12-05T02:18:58.996904",
     "exception": false,
     "start_time": "2024-12-05T02:18:58.730593",
     "status": "completed"
    },
    "tags": []
   },
   "outputs": [
    {
     "data": {
      "text/plain": [
       "Text(0.5, 1.0, 'Costs')"
      ]
     },
     "execution_count": 8,
     "metadata": {},
     "output_type": "execute_result"
    },
    {
     "data": {
      "image/png": "[encoded data removed]",
      "text/plain": [
       "<Figure size 640x480 with 1 Axes>"
      ]
     },
     "metadata": {},
     "output_type": "display_data"
    }
   ],
   "source": [
    "plt.plot(costs)\n",
    "\n",
    "plt.xlabel(\"Epoch\")\n",
    "\n",
    "plt.title('Costs')"
   ]
  },
  {
   "cell_type": "code",
   "execution_count": 9,
   "id": "3997dbc9",
   "metadata": {
    "execution": {
     "iopub.execute_input": "2024-12-05T02:18:59.015032Z",
     "iopub.status.busy": "2024-12-05T02:18:59.014718Z",
     "iopub.status.idle": "2024-12-05T02:18:59.262354Z",
     "shell.execute_reply": "2024-12-05T02:18:59.261429Z"
    },
    "papermill": {
     "duration": 0.258558,
     "end_time": "2024-12-05T02:18:59.264084",
     "exception": false,
     "start_time": "2024-12-05T02:18:59.005526",
     "status": "completed"
    },
    "tags": []
   },
   "outputs": [
    {
     "data": {
      "text/plain": [
       "Text(0.5, 1.0, 'Validation Error Rates')"
      ]
     },
     "execution_count": 9,
     "metadata": {},
     "output_type": "execute_result"
    },
    {
     "data": {
      "image/png": "[encoded data removed]",
      "text/plain": [
       "<Figure size 640x480 with 1 Axes>"
      ]
     },
     "metadata": {},
     "output_type": "display_data"
    }
   ],
   "source": [
    "plt.plot(val_error_rates)\n",
    "\n",
    "plt.xlabel(\"Epoch\")\n",
    "\n",
    "plt.title('Validation Error Rates')"
   ]
  },
  {
   "cell_type": "code",
   "execution_count": 10,
   "id": "02d36e98",
   "metadata": {
    "execution": {
     "iopub.execute_input": "2024-12-05T02:18:59.283079Z",
     "iopub.status.busy": "2024-12-05T02:18:59.282780Z",
     "iopub.status.idle": "2024-12-05T02:18:59.523735Z",
     "shell.execute_reply": "2024-12-05T02:18:59.522804Z"
    },
    "papermill": {
     "duration": 0.252293,
     "end_time": "2024-12-05T02:18:59.525467",
     "exception": false,
     "start_time": "2024-12-05T02:18:59.273174",
     "status": "completed"
    },
    "tags": []
   },
   "outputs": [
    {
     "data": {
      "text/plain": [
       "Text(0.5, 1.0, 'Learning Rates')"
      ]
     },
     "execution_count": 10,
     "metadata": {},
     "output_type": "execute_result"
    },
    {
     "data": {
      "image/png": "[encoded data removed]",
      "text/plain": [
       "<Figure size 640x480 with 1 Axes>"
      ]
     },
     "metadata": {},
     "output_type": "display_data"
    }
   ],
   "source": [
    "import math\n",
    "\n",
    "\n",
    "\n",
    "plt.plot([math.log10(lr) for lr in learning_rates])\n",
    "\n",
    "plt.ylabel(\"Log10(lr)\")\n",
    "\n",
    "plt.xlabel(\"Epoch\")\n",
    "\n",
    "plt.title('Learning Rates')"
   ]
  }
 ],
 "metadata": {
  "kaggle": {
   "accelerator": "none",
   "dataSources": [
    {
     "isSourceIdPinned": true,
     "modelId": 182905,
     "modelInstanceId": 160531,
     "sourceId": 188288,
     "sourceType": "modelInstanceVersion"
    }
   ],
   "isGpuEnabled": false,
   "isInternetEnabled": true,
   "language": "python",
   "sourceType": "notebook"
  },
  "kernelspec": {
   "display_name": "torch",
   "language": "python",
   "name": "python3"
  },
  "language_info": {
   "codemirror_mode": {
    "name": "ipython",
    "version": 3
   },
   "file_extension": ".py",
   "mimetype": "text/x-python",
   "name": "python",
   "nbconvert_exporter": "python",
   "pygments_lexer": "ipython3",
   "version": "3.10.14"
  },
  "papermill": {
   "default_parameters": {},
   "duration": 32524.515092,
   "end_time": "2024-12-05T02:19:01.779249",
   "environment_variables": {},
   "exception": null,
   "input_path": "__notebook__.ipynb",
   "output_path": "__notebook__.ipynb",
   "parameters": {},
   "start_time": "2024-12-04T17:16:57.264157",
   "version": "2.6.0"
  }
 },
 "nbformat": 4,
 "nbformat_minor": 5
}
