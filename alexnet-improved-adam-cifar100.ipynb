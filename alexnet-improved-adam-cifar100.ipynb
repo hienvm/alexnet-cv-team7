{
 "cells": [
  {
   "cell_type": "code",
   "execution_count": 1,
   "id": "be5f60e3",
   "metadata": {
    "execution": {
     "iopub.execute_input": "2024-11-26T08:26:57.200206Z",
     "iopub.status.busy": "2024-11-26T08:26:57.199466Z",
     "iopub.status.idle": "2024-11-26T08:27:01.817994Z",
     "shell.execute_reply": "2024-11-26T08:27:01.817271Z"
    },
    "papermill": {
     "duration": 4.62495,
     "end_time": "2024-11-26T08:27:01.820006",
     "exception": false,
     "start_time": "2024-11-26T08:26:57.195056",
     "status": "completed"
    },
    "tags": []
   },
   "outputs": [],
   "source": [
    "import sys\n",
    "sys.path.append('/kaggle/input/alexnet/pytorch/improved_sgd/1')\n",
    "import torch\n",
    "import torch.nn as nn\n",
    "from torchvision import datasets\n",
    "from improved.model import AlexNetImproved, init_params\n",
    "from improved.data_transforms import prepreprocess, get_preprocess, get_train_augment, calc_mean_std\n",
    "from improved.pca import pca\n",
    "from improved.train import train\n",
    "import matplotlib.pyplot as plt\n",
    "from improved.eval import top1_k "
   ]
  },
  {
   "cell_type": "code",
   "execution_count": null,
   "id": "2c72c869",
   "metadata": {
    "execution": {
     "iopub.execute_input": "2024-11-26T08:27:01.826106Z",
     "iopub.status.busy": "2024-11-26T08:27:01.825764Z",
     "iopub.status.idle": "2024-11-26T08:27:01.835993Z",
     "shell.execute_reply": "2024-11-26T08:27:01.835162Z"
    },
    "papermill": {
     "duration": 0.014933,
     "end_time": "2024-11-26T08:27:01.837623",
     "exception": false,
     "start_time": "2024-11-26T08:27:01.822690",
     "status": "completed"
    },
    "tags": []
   },
   "outputs": [],
   "source": [
    "torch.manual_seed(0)\n",
    "device = torch.device(\"cuda\" if torch.cuda.is_available() else \"cpu\")\n",
    "print(device)"
   ]
  },
  {
   "cell_type": "code",
   "execution_count": null,
   "id": "c8822ea0",
   "metadata": {
    "execution": {
     "iopub.execute_input": "2024-11-26T08:27:01.842963Z",
     "iopub.status.busy": "2024-11-26T08:27:01.842713Z",
     "iopub.status.idle": "2024-11-26T08:29:21.224964Z",
     "shell.execute_reply": "2024-11-26T08:29:21.223707Z"
    },
    "papermill": {
     "duration": 139.387139,
     "end_time": "2024-11-26T08:29:21.227005",
     "exception": false,
     "start_time": "2024-11-26T08:27:01.839866",
     "status": "completed"
    },
    "tags": []
   },
   "outputs": [],
   "source": [
    "train_dataset = datasets.CIFAR100(\n",
    "    'datasets/cifar100', train=True, download=True, transform=prepreprocess)\n",
    "mean, std = calc_mean_std(train_dataset)\n",
    "print(f'Mean:\\n{mean}')\n",
    "print(f'Standard Deviation:\\n{std}')\n",
    "preprocess = get_preprocess(mean, std)\n",
    "\n",
    "train_dataset = datasets.CIFAR100(\n",
    "    'datasets/cifar100', train=True, transform=preprocess)\n",
    "eigvals, eigvecs = pca(train_dataset)\n",
    "train_augment = get_train_augment(eigvals, eigvecs, mean, std)\n",
    "\n",
    "train_dataset = datasets.CIFAR100(\n",
    "    'datasets/cifar100', train=True, transform=train_augment)\n",
    "\n",
    "val_dataset = datasets.CIFAR100(\n",
    "    'datasets/cifar100', train=False, transform=preprocess)\n",
    "val_dataset, test_dataset = torch.utils.data.random_split(val_dataset, [0.5, 0.5])\n",
    "\n",
    "print(f'Number of classes: {len(train_dataset.classes)}')\n",
    "print(f'Train samples: {len(train_dataset)}')\n",
    "print(f'Validation samples: {len(val_dataset)}')\n",
    "print(f'Test samples: {len(test_dataset)}')"
   ]
  },
  {
   "cell_type": "code",
   "execution_count": null,
   "id": "96064d3b",
   "metadata": {
    "execution": {
     "iopub.execute_input": "2024-11-26T08:29:21.237230Z",
     "iopub.status.busy": "2024-11-26T08:29:21.236896Z",
     "iopub.status.idle": "2024-11-26T08:29:21.253852Z",
     "shell.execute_reply": "2024-11-26T08:29:21.253003Z"
    },
    "papermill": {
     "duration": 0.024028,
     "end_time": "2024-11-26T08:29:21.255441",
     "exception": false,
     "start_time": "2024-11-26T08:29:21.231413",
     "status": "completed"
    },
    "tags": []
   },
   "outputs": [],
   "source": [
    "model = AlexNetImproved(len(train_dataset.classes))\n",
    "if torch.cuda.device_count() > 1:\n",
    "    print(f'Using {torch.cuda.device_count()} GPUs.')\n",
    "    model = nn.DataParallel(model)\n",
    "model.to(device)\n",
    "# initialize parameters\n",
    "init_params(model)\n",
    "compiled_model = model\n",
    "# if torch.cuda.is_available():\n",
    "#     compiled_model = torch.compile(model)"
   ]
  },
  {
   "cell_type": "code",
   "execution_count": null,
   "id": "321ce8c3",
   "metadata": {
    "execution": {
     "iopub.execute_input": "2024-11-26T08:29:21.266198Z",
     "iopub.status.busy": "2024-11-26T08:29:21.265937Z",
     "iopub.status.idle": "2024-11-26T11:32:17.766731Z",
     "shell.execute_reply": "2024-11-26T11:32:17.765594Z"
    },
    "papermill": {
     "duration": 10976.516085,
     "end_time": "2024-11-26T11:32:17.777243",
     "exception": false,
     "start_time": "2024-11-26T08:29:21.261158",
     "status": "completed"
    },
    "tags": []
   },
   "outputs": [],
   "source": [
    "costs, val_error_rates, learning_rates = train(\n",
    "    compiled_model,\n",
    "    train_dataset=train_dataset,\n",
    "    cv_dataset=val_dataset,\n",
    "    batch_size=128,\n",
    "    num_epochs=100,\n",
    "    initial_lr=0.01,\n",
    "    num_workers=3,\n",
    "    patience=10\n",
    ")"
   ]
  },
  {
   "cell_type": "code",
   "execution_count": null,
   "id": "ff202d73",
   "metadata": {
    "execution": {
     "iopub.execute_input": "2024-11-26T11:32:17.795099Z",
     "iopub.status.busy": "2024-11-26T11:32:17.794804Z",
     "iopub.status.idle": "2024-11-26T11:32:18.277168Z",
     "shell.execute_reply": "2024-11-26T11:32:18.276476Z"
    },
    "papermill": {
     "duration": 0.4935,
     "end_time": "2024-11-26T11:32:18.279138",
     "exception": false,
     "start_time": "2024-11-26T11:32:17.785638",
     "status": "completed"
    },
    "tags": []
   },
   "outputs": [],
   "source": [
    "torch.save(model.state_dict(), 'improved_cifar100.model.pt')\n",
    "torch.save(preprocess, 'improved_cifar100.preprocess.pt')\n",
    "torch.save(train_augment, 'improved_cifar100.train_augment.pt')"
   ]
  },
  {
   "cell_type": "code",
   "execution_count": null,
   "id": "0f4ac9ad",
   "metadata": {
    "execution": {
     "iopub.execute_input": "2024-11-26T11:32:18.296912Z",
     "iopub.status.busy": "2024-11-26T11:32:18.296670Z",
     "iopub.status.idle": "2024-11-26T11:35:51.702493Z",
     "shell.execute_reply": "2024-11-26T11:35:51.701545Z"
    },
    "papermill": {
     "duration": 213.424703,
     "end_time": "2024-11-26T11:35:51.712444",
     "exception": false,
     "start_time": "2024-11-26T11:32:18.287741",
     "status": "completed"
    },
    "tags": []
   },
   "outputs": [],
   "source": [
    "test_top1, test_top5 = top1_k(compiled_model, test_dataset, k=5)\n",
    "print(f'Test Top 1: {test_top1}')\n",
    "print(f'Test Top 5: {test_top5}')\n",
    "\n",
    "val_top1, val_top5 = top1_k(compiled_model, val_dataset, k=5)\n",
    "print(f'Val Top 1: {val_top1}')\n",
    "print(f'Val Top 5: {val_top5}')\n",
    "\n",
    "train_eval_dataset = datasets.CIFAR100(\n",
    "    'datasets/cifar100', train=True, transform=preprocess)\n",
    "train_top1, train_top5 = top1_k(compiled_model, train_eval_dataset, k=5)\n",
    "print(f'Train Top 1: {train_top1}')\n",
    "print(f'Train Top 5: {train_top5}')"
   ]
  },
  {
   "cell_type": "code",
   "execution_count": null,
   "id": "89b99cb4",
   "metadata": {
    "execution": {
     "iopub.execute_input": "2024-11-26T11:35:51.731077Z",
     "iopub.status.busy": "2024-11-26T11:35:51.730280Z",
     "iopub.status.idle": "2024-11-26T11:35:51.991783Z",
     "shell.execute_reply": "2024-11-26T11:35:51.991022Z"
    },
    "papermill": {
     "duration": 0.272534,
     "end_time": "2024-11-26T11:35:51.993545",
     "exception": false,
     "start_time": "2024-11-26T11:35:51.721011",
     "status": "completed"
    },
    "tags": []
   },
   "outputs": [],
   "source": [
    "plt.plot(costs)\n",
    "plt.xlabel(\"Epoch\")\n",
    "plt.title('Costs')"
   ]
  },
  {
   "cell_type": "code",
   "execution_count": null,
   "id": "eda694ad",
   "metadata": {
    "execution": {
     "iopub.execute_input": "2024-11-26T11:35:52.011914Z",
     "iopub.status.busy": "2024-11-26T11:35:52.011667Z",
     "iopub.status.idle": "2024-11-26T11:35:52.248781Z",
     "shell.execute_reply": "2024-11-26T11:35:52.247873Z"
    },
    "papermill": {
     "duration": 0.248583,
     "end_time": "2024-11-26T11:35:52.250892",
     "exception": false,
     "start_time": "2024-11-26T11:35:52.002309",
     "status": "completed"
    },
    "tags": []
   },
   "outputs": [],
   "source": [
    "plt.plot(val_error_rates)\n",
    "plt.xlabel(\"Epoch\")\n",
    "plt.title('Validation Error Rates')"
   ]
  },
  {
   "cell_type": "code",
   "execution_count": null,
   "id": "de173fce",
   "metadata": {
    "execution": {
     "iopub.execute_input": "2024-11-26T11:35:52.276880Z",
     "iopub.status.busy": "2024-11-26T11:35:52.276175Z",
     "iopub.status.idle": "2024-11-26T11:35:52.475089Z",
     "shell.execute_reply": "2024-11-26T11:35:52.474240Z"
    },
    "papermill": {
     "duration": 0.213601,
     "end_time": "2024-11-26T11:35:52.476950",
     "exception": false,
     "start_time": "2024-11-26T11:35:52.263349",
     "status": "completed"
    },
    "tags": []
   },
   "outputs": [],
   "source": [
    "import math\n",
    "\n",
    "plt.plot([math.log10(lr) for lr in learning_rates])\n",
    "plt.ylabel(\"Log10(lr)\")\n",
    "plt.xlabel(\"Epoch\")\n",
    "plt.title('Learning Rates')"
   ]
  }
 ],
 "metadata": {
  "kaggle": {
   "accelerator": "none",
   "dataSources": [
    {
     "isSourceIdPinned": true,
     "modelId": 174961,
     "modelInstanceId": 152507,
     "sourceId": 179024,
     "sourceType": "modelInstanceVersion"
    }
   ],
   "isGpuEnabled": false,
   "isInternetEnabled": true,
   "language": "python",
   "sourceType": "notebook"
  },
  "kernelspec": {
   "display_name": "torch",
   "language": "python",
   "name": "python3"
  },
  "language_info": {
   "codemirror_mode": {
    "name": "ipython",
    "version": 3
   },
   "file_extension": ".py",
   "mimetype": "text/x-python",
   "name": "python",
   "nbconvert_exporter": "python",
   "pygments_lexer": "ipython3",
   "version": "3.12.3"
  },
  "papermill": {
   "default_parameters": {},
   "duration": 11339.144517,
   "end_time": "2024-11-26T11:35:53.908705",
   "environment_variables": {},
   "exception": null,
   "input_path": "__notebook__.ipynb",
   "output_path": "__notebook__.ipynb",
   "parameters": {},
   "start_time": "2024-11-26T08:26:54.764188",
   "version": "2.6.0"
  }
 },
 "nbformat": 4,
 "nbformat_minor": 5
}
