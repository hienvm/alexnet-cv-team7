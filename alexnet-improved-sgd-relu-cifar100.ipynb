{
 "cells": [
  {
   "cell_type": "code",
   "execution_count": 1,
   "id": "7202c740",
   "metadata": {
    "_cell_guid": "e01b8400-4527-41b8-bd0a-1cf52577e5b4",
    "_uuid": "60e99f23-fb3c-4292-b48b-9c624c77601b",
    "collapsed": false,
    "execution": {
     "iopub.execute_input": "2024-12-03T19:58:01.372125Z",
     "iopub.status.busy": "2024-12-03T19:58:01.371767Z",
     "iopub.status.idle": "2024-12-03T19:58:05.843950Z",
     "shell.execute_reply": "2024-12-03T19:58:05.843244Z"
    },
    "jupyter": {
     "outputs_hidden": false
    },
    "papermill": {
     "duration": 4.478206,
     "end_time": "2024-12-03T19:58:05.846070",
     "exception": false,
     "start_time": "2024-12-03T19:58:01.367864",
     "status": "completed"
    },
    "tags": []
   },
   "outputs": [],
   "source": [
    "import sys\n",
    "sys.path.append('/kaggle/input/alexnet/pytorch/improved-relu/1')\n",
    "import torch\n",
    "import torch.nn as nn\n",
    "from torchvision import datasets\n",
    "from improved.model import AlexNetImproved, init_params\n",
    "from improved.data_transforms import prepreprocess, get_preprocess, get_train_augment, calc_mean_std\n",
    "from improved.pca import pca\n",
    "from improved.train import train\n",
    "import matplotlib.pyplot as plt\n",
    "from improved.eval import top1_k"
   ]
  },
  {
   "cell_type": "code",
   "execution_count": 2,
   "id": "b203fd41",
   "metadata": {
    "execution": {
     "iopub.execute_input": "2024-12-03T19:58:05.852811Z",
     "iopub.status.busy": "2024-12-03T19:58:05.852398Z",
     "iopub.status.idle": "2024-12-03T19:58:05.863515Z",
     "shell.execute_reply": "2024-12-03T19:58:05.862383Z"
    },
    "papermill": {
     "duration": 0.016078,
     "end_time": "2024-12-03T19:58:05.865246",
     "exception": false,
     "start_time": "2024-12-03T19:58:05.849168",
     "status": "completed"
    },
    "tags": []
   },
   "outputs": [
    {
     "name": "stdout",
     "output_type": "stream",
     "text": [
      "cuda\n"
     ]
    }
   ],
   "source": [
    "torch.manual_seed(0)\n",
    "device = torch.device(\"cuda\" if torch.cuda.is_available() else \"cpu\")\n",
    "print(device)"
   ]
  },
  {
   "cell_type": "code",
   "execution_count": 3,
   "id": "645c0806",
   "metadata": {
    "execution": {
     "iopub.execute_input": "2024-12-03T19:58:05.870925Z",
     "iopub.status.busy": "2024-12-03T19:58:05.870647Z",
     "iopub.status.idle": "2024-12-03T20:01:30.024624Z",
     "shell.execute_reply": "2024-12-03T20:01:30.023436Z"
    },
    "papermill": {
     "duration": 204.159091,
     "end_time": "2024-12-03T20:01:30.026652",
     "exception": false,
     "start_time": "2024-12-03T19:58:05.867561",
     "status": "completed"
    },
    "tags": []
   },
   "outputs": [
    {
     "name": "stdout",
     "output_type": "stream",
     "text": [
      "Downloading https://www.cs.toronto.edu/~kriz/cifar-100-python.tar.gz to datasets/cifar100/cifar-100-python.tar.gz\n"
     ]
    },
    {
     "name": "stderr",
     "output_type": "stream",
     "text": [
      "100%|██████████| 169001437/169001437 [00:05<00:00, 29640155.64it/s]\n"
     ]
    },
    {
     "name": "stdout",
     "output_type": "stream",
     "text": [
      "Extracting datasets/cifar100/cifar-100-python.tar.gz to datasets/cifar100\n",
      "Mean:\n",
      "[0.5072646737098694, 0.4867367148399353, 0.4411051571369171]\n",
      "Standard Deviation:\n",
      "[0.2621012330055237, 0.2511281669139862, 0.2712865471839905]\n",
      "Covar:\n",
      "tensor([[1.0000, 0.8625, 0.7042],\n",
      "        [0.8625, 0.9998, 0.8843],\n",
      "        [0.7042, 0.8843, 1.0000]], device='cuda:0')\n",
      "Eigen values (sqrt):\n",
      "tensor([[0.2588],\n",
      "        [0.5444],\n",
      "        [1.6237]])\n",
      "Eigen vectors:\n",
      "tensor([[ 0.3872,  0.7312,  0.5616],\n",
      "        [-0.7971, -0.0405,  0.6024],\n",
      "        [ 0.4633, -0.6809,  0.5672]])\n",
      "Number of classes: 100\n",
      "Train samples: 50000\n",
      "Validation samples: 5000\n",
      "Test samples: 5000\n"
     ]
    }
   ],
   "source": [
    "train_dataset = datasets.CIFAR100(\n",
    "    'datasets/cifar100', train=True, download=True, transform=prepreprocess)\n",
    "mean, std = calc_mean_std(train_dataset)\n",
    "print(f'Mean:\\n{mean}')\n",
    "print(f'Standard Deviation:\\n{std}')\n",
    "preprocess = get_preprocess(mean, std)\n",
    "\n",
    "train_dataset = datasets.CIFAR100(\n",
    "    'datasets/cifar100', train=True, transform=preprocess)\n",
    "eigvals, eigvecs = pca(train_dataset)\n",
    "train_augment = get_train_augment(eigvals, eigvecs, mean, std)\n",
    "\n",
    "train_dataset = datasets.CIFAR100(\n",
    "    'datasets/cifar100', train=True, transform=train_augment)\n",
    "\n",
    "val_dataset = datasets.CIFAR100(\n",
    "    'datasets/cifar100', train=False, transform=preprocess)\n",
    "val_dataset, test_dataset = torch.utils.data.random_split(val_dataset, [0.5, 0.5])\n",
    "\n",
    "print(f'Number of classes: {len(train_dataset.classes)}')\n",
    "print(f'Train samples: {len(train_dataset)}')\n",
    "print(f'Validation samples: {len(val_dataset)}')\n",
    "print(f'Test samples: {len(test_dataset)}')"
   ]
  },
  {
   "cell_type": "code",
   "execution_count": 4,
   "id": "bdb73d30",
   "metadata": {
    "execution": {
     "iopub.execute_input": "2024-12-03T20:01:30.037300Z",
     "iopub.status.busy": "2024-12-03T20:01:30.036982Z",
     "iopub.status.idle": "2024-12-03T20:01:30.054567Z",
     "shell.execute_reply": "2024-12-03T20:01:30.053921Z"
    },
    "papermill": {
     "duration": 0.024878,
     "end_time": "2024-12-03T20:01:30.056314",
     "exception": false,
     "start_time": "2024-12-03T20:01:30.031436",
     "status": "completed"
    },
    "tags": []
   },
   "outputs": [],
   "source": [
    "model = AlexNetImproved(len(train_dataset.classes))\n",
    "if torch.cuda.device_count() > 1:\n",
    "    print(f'Using {torch.cuda.device_count()} GPUs.')\n",
    "    model = nn.DataParallel(model)\n",
    "model.to(device)\n",
    "# initialize parameters\n",
    "init_params(model)\n",
    "compiled_model = model\n",
    "# if torch.cuda.is_available():\n",
    "#     compiled_model = torch.compile(model)"
   ]
  },
  {
   "cell_type": "code",
   "execution_count": 5,
   "id": "f26c999a",
   "metadata": {
    "execution": {
     "iopub.execute_input": "2024-12-03T20:01:30.067510Z",
     "iopub.status.busy": "2024-12-03T20:01:30.067253Z",
     "iopub.status.idle": "2024-12-03T23:05:55.059421Z",
     "shell.execute_reply": "2024-12-03T23:05:55.058157Z"
    },
    "papermill": {
     "duration": 11065.008235,
     "end_time": "2024-12-03T23:05:55.070247",
     "exception": false,
     "start_time": "2024-12-03T20:01:30.062012",
     "status": "completed"
    },
    "tags": []
   },
   "outputs": [
    {
     "name": "stdout",
     "output_type": "stream",
     "text": [
      "Epoch 1/100, Cost: 4.207, Val Error: 82.98%, lr: 0.01, Time: 110s\n",
      "Epoch 2/100, Cost: 3.635, Val Error: 73.70%, lr: 0.01, Time: 111s\n",
      "Epoch 3/100, Cost: 3.331, Val Error: 69.04%, lr: 0.01, Time: 106s\n",
      "Epoch 4/100, Cost: 3.105, Val Error: 63.80%, lr: 0.01, Time: 112s\n",
      "Epoch 5/100, Cost: 2.900, Val Error: 60.66%, lr: 0.01, Time: 109s\n",
      "Epoch 6/100, Cost: 2.777, Val Error: 59.82%, lr: 0.01, Time: 109s\n",
      "Epoch 7/100, Cost: 2.645, Val Error: 57.54%, lr: 0.01, Time: 110s\n",
      "Epoch 8/100, Cost: 2.533, Val Error: 54.80%, lr: 0.01, Time: 106s\n",
      "Epoch 9/100, Cost: 2.459, Val Error: 54.42%, lr: 0.01, Time: 106s\n",
      "Epoch 10/100, Cost: 2.367, Val Error: 51.56%, lr: 0.01, Time: 115s\n",
      "Epoch 11/100, Cost: 2.297, Val Error: 49.74%, lr: 0.01, Time: 110s\n",
      "Epoch 12/100, Cost: 2.237, Val Error: 49.08%, lr: 0.01, Time: 115s\n",
      "Epoch 13/100, Cost: 2.168, Val Error: 46.94%, lr: 0.01, Time: 109s\n",
      "Epoch 14/100, Cost: 2.106, Val Error: 44.28%, lr: 0.01, Time: 111s\n",
      "Epoch 15/100, Cost: 2.065, Val Error: 44.02%, lr: 0.01, Time: 107s\n",
      "Epoch 16/100, Cost: 2.001, Val Error: 44.30%, lr: 0.01, Time: 110s\n",
      "Epoch 17/100, Cost: 1.954, Val Error: 42.80%, lr: 0.01, Time: 113s\n",
      "Epoch 18/100, Cost: 1.913, Val Error: 41.96%, lr: 0.01, Time: 108s\n",
      "Epoch 19/100, Cost: 1.867, Val Error: 40.94%, lr: 0.01, Time: 108s\n",
      "Epoch 20/100, Cost: 1.830, Val Error: 44.24%, lr: 0.01, Time: 108s\n",
      "Epoch 21/100, Cost: 1.786, Val Error: 39.86%, lr: 0.01, Time: 107s\n",
      "Epoch 22/100, Cost: 1.764, Val Error: 38.90%, lr: 0.01, Time: 112s\n",
      "Epoch 23/100, Cost: 1.725, Val Error: 38.76%, lr: 0.01, Time: 110s\n",
      "Epoch 24/100, Cost: 1.687, Val Error: 39.60%, lr: 0.01, Time: 107s\n",
      "Epoch 25/100, Cost: 1.630, Val Error: 38.48%, lr: 0.01, Time: 106s\n",
      "Epoch 26/100, Cost: 1.610, Val Error: 36.92%, lr: 0.01, Time: 115s\n",
      "Epoch 27/100, Cost: 1.588, Val Error: 36.50%, lr: 0.01, Time: 111s\n",
      "Epoch 28/100, Cost: 1.554, Val Error: 35.68%, lr: 0.01, Time: 110s\n",
      "Epoch 29/100, Cost: 1.538, Val Error: 34.50%, lr: 0.01, Time: 115s\n",
      "Epoch 30/100, Cost: 1.510, Val Error: 35.74%, lr: 0.01, Time: 111s\n",
      "Epoch 31/100, Cost: 1.474, Val Error: 34.64%, lr: 0.01, Time: 110s\n",
      "Epoch 32/100, Cost: 1.453, Val Error: 35.24%, lr: 0.01, Time: 112s\n",
      "Epoch 33/100, Cost: 1.427, Val Error: 35.76%, lr: 0.01, Time: 108s\n",
      "Epoch 34/100, Cost: 1.412, Val Error: 36.54%, lr: 0.01, Time: 112s\n",
      "Epoch 35/100, Cost: 1.401, Val Error: 33.72%, lr: 0.01, Time: 109s\n",
      "Epoch 36/100, Cost: 1.374, Val Error: 34.12%, lr: 0.01, Time: 113s\n",
      "Epoch 37/100, Cost: 1.357, Val Error: 32.82%, lr: 0.01, Time: 111s\n",
      "Epoch 38/100, Cost: 1.340, Val Error: 32.48%, lr: 0.01, Time: 109s\n",
      "Epoch 39/100, Cost: 1.340, Val Error: 33.10%, lr: 0.01, Time: 114s\n",
      "Epoch 40/100, Cost: 1.305, Val Error: 32.56%, lr: 0.01, Time: 110s\n",
      "Epoch 41/100, Cost: 1.288, Val Error: 33.30%, lr: 0.01, Time: 112s\n",
      "Epoch 42/100, Cost: 1.282, Val Error: 31.66%, lr: 0.01, Time: 115s\n",
      "Epoch 43/100, Cost: 1.268, Val Error: 31.62%, lr: 0.01, Time: 111s\n",
      "Epoch 44/100, Cost: 1.251, Val Error: 31.94%, lr: 0.01, Time: 119s\n",
      "Epoch 45/100, Cost: 1.234, Val Error: 32.88%, lr: 0.01, Time: 116s\n",
      "Epoch 46/100, Cost: 1.226, Val Error: 33.68%, lr: 0.01, Time: 112s\n",
      "Epoch 47/100, Cost: 1.212, Val Error: 32.70%, lr: 0.01, Time: 110s\n",
      "Epoch 48/100, Cost: 1.203, Val Error: 32.24%, lr: 0.01, Time: 112s\n",
      "Epoch 49/100, Cost: 1.204, Val Error: 32.64%, lr: 0.01, Time: 109s\n",
      "Epoch 50/100, Cost: 1.188, Val Error: 31.48%, lr: 0.01, Time: 114s\n",
      "Epoch 51/100, Cost: 1.180, Val Error: 31.80%, lr: 0.01, Time: 110s\n",
      "Epoch 52/100, Cost: 1.172, Val Error: 30.58%, lr: 0.01, Time: 109s\n",
      "Epoch 53/100, Cost: 1.167, Val Error: 30.96%, lr: 0.01, Time: 109s\n",
      "Epoch 54/100, Cost: 1.156, Val Error: 30.42%, lr: 0.01, Time: 111s\n",
      "Epoch 55/100, Cost: 1.147, Val Error: 31.78%, lr: 0.01, Time: 111s\n",
      "Epoch 56/100, Cost: 1.128, Val Error: 31.48%, lr: 0.01, Time: 114s\n",
      "Epoch 57/100, Cost: 1.132, Val Error: 31.46%, lr: 0.01, Time: 115s\n",
      "Epoch 58/100, Cost: 1.115, Val Error: 31.66%, lr: 0.01, Time: 114s\n",
      "Epoch 59/100, Cost: 1.104, Val Error: 31.54%, lr: 0.01, Time: 110s\n",
      "Epoch 60/100, Cost: 1.111, Val Error: 30.10%, lr: 0.01, Time: 109s\n",
      "Epoch 61/100, Cost: 1.092, Val Error: 29.86%, lr: 0.01, Time: 110s\n",
      "Epoch 62/100, Cost: 1.080, Val Error: 30.50%, lr: 0.01, Time: 109s\n",
      "Epoch 63/100, Cost: 1.078, Val Error: 29.70%, lr: 0.01, Time: 111s\n",
      "Epoch 64/100, Cost: 1.070, Val Error: 30.68%, lr: 0.01, Time: 110s\n",
      "Epoch 65/100, Cost: 1.070, Val Error: 30.74%, lr: 0.01, Time: 110s\n",
      "Epoch 66/100, Cost: 1.073, Val Error: 29.12%, lr: 0.01, Time: 111s\n",
      "Epoch 67/100, Cost: 1.079, Val Error: 30.74%, lr: 0.01, Time: 109s\n",
      "Epoch 68/100, Cost: 1.061, Val Error: 31.14%, lr: 0.01, Time: 109s\n",
      "Epoch 69/100, Cost: 1.045, Val Error: 30.60%, lr: 0.01, Time: 117s\n",
      "Epoch 70/100, Cost: 1.057, Val Error: 29.40%, lr: 0.01, Time: 111s\n",
      "Epoch 71/100, Cost: 1.048, Val Error: 29.14%, lr: 0.01, Time: 112s\n",
      "Epoch 72/100, Cost: 1.045, Val Error: 29.34%, lr: 0.01, Time: 108s\n",
      "Epoch 73/100, Cost: 1.031, Val Error: 29.46%, lr: 0.01, Time: 108s\n",
      "Epoch 74/100, Cost: 1.026, Val Error: 29.02%, lr: 0.01, Time: 106s\n",
      "Epoch 75/100, Cost: 1.039, Val Error: 29.04%, lr: 0.01, Time: 108s\n",
      "Epoch 76/100, Cost: 1.016, Val Error: 29.46%, lr: 0.01, Time: 108s\n",
      "Epoch 77/100, Cost: 1.024, Val Error: 29.34%, lr: 0.01, Time: 109s\n",
      "Epoch 78/100, Cost: 1.029, Val Error: 29.62%, lr: 0.01, Time: 114s\n",
      "Epoch 79/100, Cost: 1.018, Val Error: 28.90%, lr: 0.01, Time: 112s\n",
      "Epoch 80/100, Cost: 1.017, Val Error: 29.94%, lr: 0.01, Time: 111s\n",
      "Epoch 81/100, Cost: 1.021, Val Error: 29.20%, lr: 0.01, Time: 111s\n",
      "Epoch 82/100, Cost: 1.013, Val Error: 29.02%, lr: 0.01, Time: 111s\n",
      "Epoch 83/100, Cost: 0.997, Val Error: 28.94%, lr: 0.01, Time: 111s\n",
      "Epoch 84/100, Cost: 0.996, Val Error: 28.88%, lr: 0.01, Time: 109s\n",
      "Epoch 85/100, Cost: 0.997, Val Error: 28.34%, lr: 0.01, Time: 110s\n",
      "Epoch 86/100, Cost: 0.984, Val Error: 28.84%, lr: 0.01, Time: 112s\n",
      "Epoch 87/100, Cost: 0.981, Val Error: 28.38%, lr: 0.01, Time: 111s\n",
      "Epoch 88/100, Cost: 0.987, Val Error: 28.60%, lr: 0.01, Time: 112s\n",
      "Epoch 89/100, Cost: 0.971, Val Error: 29.60%, lr: 0.01, Time: 114s\n",
      "Epoch 90/100, Cost: 0.977, Val Error: 29.80%, lr: 0.01, Time: 109s\n",
      "Epoch 91/100, Cost: 0.977, Val Error: 28.84%, lr: 0.01, Time: 113s\n",
      "Epoch 92/100, Cost: 0.968, Val Error: 29.74%, lr: 0.01, Time: 110s\n",
      "Epoch 93/100, Cost: 0.972, Val Error: 28.68%, lr: 0.01, Time: 115s\n",
      "Epoch 94/100, Cost: 0.962, Val Error: 28.14%, lr: 0.01, Time: 109s\n",
      "Epoch 95/100, Cost: 0.960, Val Error: 30.08%, lr: 0.01, Time: 107s\n",
      "Epoch 96/100, Cost: 0.964, Val Error: 28.58%, lr: 0.01, Time: 114s\n",
      "Epoch 97/100, Cost: 0.957, Val Error: 27.82%, lr: 0.01, Time: 109s\n",
      "Epoch 98/100, Cost: 0.966, Val Error: 28.52%, lr: 0.01, Time: 111s\n",
      "Epoch 99/100, Cost: 0.960, Val Error: 28.48%, lr: 0.01, Time: 109s\n",
      "Epoch 100/100, Cost: 0.959, Val Error: 28.96%, lr: 0.01, Time: 109s\n",
      "Training time: 184m\n"
     ]
    }
   ],
   "source": [
    "costs, val_error_rates, learning_rates = train(\n",
    "    compiled_model,\n",
    "    train_dataset=train_dataset,\n",
    "    cv_dataset=val_dataset,\n",
    "    batch_size=128,\n",
    "    num_epochs=100,\n",
    "    initial_lr=0.01,\n",
    "    num_workers=3,\n",
    "    patience=10\n",
    ")"
   ]
  },
  {
   "cell_type": "code",
   "execution_count": 6,
   "id": "4332c4d2",
   "metadata": {
    "execution": {
     "iopub.execute_input": "2024-12-03T23:05:55.089390Z",
     "iopub.status.busy": "2024-12-03T23:05:55.089016Z",
     "iopub.status.idle": "2024-12-03T23:05:55.581800Z",
     "shell.execute_reply": "2024-12-03T23:05:55.581099Z"
    },
    "papermill": {
     "duration": 0.504877,
     "end_time": "2024-12-03T23:05:55.583717",
     "exception": false,
     "start_time": "2024-12-03T23:05:55.078840",
     "status": "completed"
    },
    "tags": []
   },
   "outputs": [],
   "source": [
    "torch.save(model.state_dict(), 'improved_cifar100.model.pt')\n",
    "torch.save(preprocess, 'improved_cifar100.preprocess.pt')\n",
    "torch.save(train_augment, 'improved_cifar100.train_augment.pt')"
   ]
  },
  {
   "cell_type": "code",
   "execution_count": 7,
   "id": "807be3b6",
   "metadata": {
    "execution": {
     "iopub.execute_input": "2024-12-03T23:05:55.602304Z",
     "iopub.status.busy": "2024-12-03T23:05:55.601965Z",
     "iopub.status.idle": "2024-12-03T23:08:17.949451Z",
     "shell.execute_reply": "2024-12-03T23:08:17.948258Z"
    },
    "papermill": {
     "duration": 142.368391,
     "end_time": "2024-12-03T23:08:17.960914",
     "exception": false,
     "start_time": "2024-12-03T23:05:55.592523",
     "status": "completed"
    },
    "tags": []
   },
   "outputs": [
    {
     "name": "stdout",
     "output_type": "stream",
     "text": [
      "Test Top 1: 0.7214\n",
      "Test Top 5: 0.9266\n",
      "Val Top 1: 0.7104\n",
      "Val Top 5: 0.9182\n",
      "Train Top 1: 0.9624\n",
      "Train Top 5: 0.99918\n"
     ]
    }
   ],
   "source": [
    "test_top1, test_top5 = top1_k(compiled_model, test_dataset, k=5)\n",
    "print(f'Test Top 1: {test_top1}')\n",
    "print(f'Test Top 5: {test_top5}')\n",
    "\n",
    "val_top1, val_top5 = top1_k(compiled_model, val_dataset, k=5)\n",
    "print(f'Val Top 1: {val_top1}')\n",
    "print(f'Val Top 5: {val_top5}')\n",
    "\n",
    "train_eval_dataset = datasets.CIFAR100(\n",
    "    'datasets/cifar100', train=True, transform=preprocess)\n",
    "train_top1, train_top5 = top1_k(compiled_model, train_eval_dataset, k=5)\n",
    "print(f'Train Top 1: {train_top1}')\n",
    "print(f'Train Top 5: {train_top5}')"
   ]
  },
  {
   "cell_type": "code",
   "execution_count": 8,
   "id": "9f82db65",
   "metadata": {
    "execution": {
     "iopub.execute_input": "2024-12-03T23:08:17.979859Z",
     "iopub.status.busy": "2024-12-03T23:08:17.979549Z",
     "iopub.status.idle": "2024-12-03T23:08:18.262701Z",
     "shell.execute_reply": "2024-12-03T23:08:18.261834Z"
    },
    "papermill": {
     "duration": 0.294828,
     "end_time": "2024-12-03T23:08:18.264417",
     "exception": false,
     "start_time": "2024-12-03T23:08:17.969589",
     "status": "completed"
    },
    "tags": []
   },
   "outputs": [
    {
     "data": {
      "text/plain": [
       "Text(0.5, 1.0, 'Costs')"
      ]
     },
     "execution_count": 8,
     "metadata": {},
     "output_type": "execute_result"
    },
    {
     "data": {
      "image/png": "[encoded data removed]",
      "text/plain": [
       "<Figure size 640x480 with 1 Axes>"
      ]
     },
     "metadata": {},
     "output_type": "display_data"
    }
   ],
   "source": [
    "plt.plot(costs)\n",
    "plt.xlabel(\"Epoch\")\n",
    "plt.title('Costs')"
   ]
  },
  {
   "cell_type": "code",
   "execution_count": 9,
   "id": "25e5ee71",
   "metadata": {
    "execution": {
     "iopub.execute_input": "2024-12-03T23:08:18.284429Z",
     "iopub.status.busy": "2024-12-03T23:08:18.283911Z",
     "iopub.status.idle": "2024-12-03T23:08:18.524930Z",
     "shell.execute_reply": "2024-12-03T23:08:18.524098Z"
    },
    "papermill": {
     "duration": 0.252783,
     "end_time": "2024-12-03T23:08:18.526773",
     "exception": false,
     "start_time": "2024-12-03T23:08:18.273990",
     "status": "completed"
    },
    "tags": []
   },
   "outputs": [
    {
     "data": {
      "text/plain": [
       "Text(0.5, 1.0, 'Validation Error Rates')"
      ]
     },
     "execution_count": 9,
     "metadata": {},
     "output_type": "execute_result"
    },
    {
     "data": {
      "image/png": "[encoded data removed]",
      "text/plain": [
       "<Figure size 640x480 with 1 Axes>"
      ]
     },
     "metadata": {},
     "output_type": "display_data"
    }
   ],
   "source": [
    "plt.plot(val_error_rates)\n",
    "plt.xlabel(\"Epoch\")\n",
    "plt.title('Validation Error Rates')"
   ]
  },
  {
   "cell_type": "code",
   "execution_count": 10,
   "id": "22af6b16",
   "metadata": {
    "execution": {
     "iopub.execute_input": "2024-12-03T23:08:18.548114Z",
     "iopub.status.busy": "2024-12-03T23:08:18.547496Z",
     "iopub.status.idle": "2024-12-03T23:08:18.745063Z",
     "shell.execute_reply": "2024-12-03T23:08:18.744169Z"
    },
    "papermill": {
     "duration": 0.209886,
     "end_time": "2024-12-03T23:08:18.746746",
     "exception": false,
     "start_time": "2024-12-03T23:08:18.536860",
     "status": "completed"
    },
    "tags": []
   },
   "outputs": [
    {
     "data": {
      "text/plain": [
       "Text(0.5, 1.0, 'Learning Rates')"
      ]
     },
     "execution_count": 10,
     "metadata": {},
     "output_type": "execute_result"
    },
    {
     "data": {
      "image/png": "[encoded data removed]",
      "text/plain": [
       "<Figure size 640x480 with 1 Axes>"
      ]
     },
     "metadata": {},
     "output_type": "display_data"
    }
   ],
   "source": [
    "import math\n",
    "\n",
    "plt.plot([math.log10(lr) for lr in learning_rates])\n",
    "plt.ylabel(\"Log10(lr)\")\n",
    "plt.xlabel(\"Epoch\")\n",
    "plt.title('Learning Rates')"
   ]
  }
 ],
 "metadata": {
  "kaggle": {
   "accelerator": "none",
   "dataSources": [
    {
     "modelId": 181947,
     "modelInstanceId": 159585,
     "sourceId": 187174,
     "sourceType": "modelInstanceVersion"
    }
   ],
   "dockerImageVersionId": 30804,
   "isGpuEnabled": false,
   "isInternetEnabled": true,
   "language": "python",
   "sourceType": "notebook"
  },
  "kernelspec": {
   "display_name": "Python 3",
   "language": "python",
   "name": "python3"
  },
  "language_info": {
   "codemirror_mode": {
    "name": "ipython",
    "version": 3
   },
   "file_extension": ".py",
   "mimetype": "text/x-python",
   "name": "python",
   "nbconvert_exporter": "python",
   "pygments_lexer": "ipython3",
   "version": "3.10.14"
  },
  "papermill": {
   "default_parameters": {},
   "duration": 11422.192863,
   "end_time": "2024-12-03T23:08:21.106462",
   "environment_variables": {},
   "exception": null,
   "input_path": "__notebook__.ipynb",
   "output_path": "__notebook__.ipynb",
   "parameters": {},
   "start_time": "2024-12-03T19:57:58.913599",
   "version": "2.6.0"
  }
 },
 "nbformat": 4,
 "nbformat_minor": 5
}
