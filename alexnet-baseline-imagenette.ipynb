{
 "cells": [
  {
   "cell_type": "code",
   "execution_count": 1,
   "id": "4e483da6",
   "metadata": {
    "execution": {
     "iopub.execute_input": "2024-11-25T14:33:32.003390Z",
     "iopub.status.busy": "2024-11-25T14:33:32.003067Z",
     "iopub.status.idle": "2024-11-25T14:33:36.545063Z",
     "shell.execute_reply": "2024-11-25T14:33:36.544129Z"
    },
    "papermill": {
     "duration": 4.548076,
     "end_time": "2024-11-25T14:33:36.547155",
     "exception": false,
     "start_time": "2024-11-25T14:33:31.999079",
     "status": "completed"
    },
    "tags": []
   },
   "outputs": [],
   "source": [
    "import sys\n",
    "sys.path.append('/kaggle/input/alexnet/pytorch/baseline/1')\n",
    "import torch\n",
    "import torch.nn as nn\n",
    "from torchvision import datasets\n",
    "from baseline.model import AlexNetBaseline, init_params\n",
    "from baseline.data_transforms import prepreprocess, get_preprocess, get_train_augment\n",
    "from baseline.train import train\n",
    "import matplotlib.pyplot as plt\n",
    "from baseline.eval import top1_k "
   ]
  },
  {
   "cell_type": "code",
   "execution_count": 2,
   "id": "7d93f02f",
   "metadata": {
    "execution": {
     "iopub.execute_input": "2024-11-25T14:33:36.554530Z",
     "iopub.status.busy": "2024-11-25T14:33:36.553992Z",
     "iopub.status.idle": "2024-11-25T14:33:36.565148Z",
     "shell.execute_reply": "2024-11-25T14:33:36.564160Z"
    },
    "papermill": {
     "duration": 0.017475,
     "end_time": "2024-11-25T14:33:36.567417",
     "exception": false,
     "start_time": "2024-11-25T14:33:36.549942",
     "status": "completed"
    },
    "tags": []
   },
   "outputs": [
    {
     "name": "stdout",
     "output_type": "stream",
     "text": [
      "cpu\n"
     ]
    }
   ],
   "source": [
    "torch.manual_seed(0)\n",
    "device = torch.device(\"cuda\" if torch.cuda.is_available() else \"cpu\")\n",
    "print(device)"
   ]
  },
  {
   "cell_type": "code",
   "execution_count": 5,
   "id": "c567d797",
   "metadata": {
    "execution": {
     "iopub.execute_input": "2024-11-25T14:33:36.574074Z",
     "iopub.status.busy": "2024-11-25T14:33:36.573606Z",
     "iopub.status.idle": "2024-11-25T14:34:31.619636Z",
     "shell.execute_reply": "2024-11-25T14:34:31.618420Z"
    },
    "papermill": {
     "duration": 55.051634,
     "end_time": "2024-11-25T14:34:31.621537",
     "exception": false,
     "start_time": "2024-11-25T14:33:36.569903",
     "status": "completed"
    },
    "tags": []
   },
   "outputs": [
    {
     "name": "stdout",
     "output_type": "stream",
     "text": [
      "Mean: [119.00183868408203, 116.9910659790039, 109.69749450683594]\n",
      "Covar: tensor([[5102.0781, 4551.8145, 4207.4111],\n",
      "        [4551.8145, 4960.1279, 4866.2661],\n",
      "        [4207.4111, 4866.2661, 5780.0615]])\n",
      "Eigen values (sqrt): tensor([[ 15.6196],\n",
      "        [ 34.9483],\n",
      "        [119.9038]])\n",
      "Eigen vectors: tensor([[ 0.4193, -0.7184, -0.5550],\n",
      "        [-0.8158, -0.0299, -0.5776],\n",
      "        [ 0.3984,  0.6950, -0.5986]])\n",
      "Train: 9469\n",
      "Validation: 1963\n",
      "Test: 1962\n"
     ]
    }
   ],
   "source": [
    "train_dataset = datasets.Imagenette(\n",
    "    'datasets/imagenette', split='train', size='320px', transform=prepreprocess)\n",
    "preprocess = get_preprocess(train_dataset)\n",
    "\n",
    "train_dataset = datasets.Imagenette(\n",
    "    'datasets/imagenette', split='train', size='320px', transform=preprocess)\n",
    "train_augment = get_train_augment(train_dataset, preprocess)\n",
    "\n",
    "train_dataset = datasets.Imagenette(\n",
    "    'datasets/imagenette', split='train', size='320px', transform=train_augment)\n",
    "\n",
    "val_dataset = datasets.Imagenette(\n",
    "    'datasets/imagenette', split='val', size='320px',transform=preprocess)\n",
    "val_dataset, test_dataset = torch.utils.data.random_split(val_dataset, [0.5, 0.5])\n",
    "\n",
    "print(f'Train: {len(train_dataset)}')\n",
    "print(f'Validation: {len(val_dataset)}')\n",
    "print(f'Test: {len(test_dataset)}')"
   ]
  },
  {
   "cell_type": "code",
   "execution_count": 4,
   "id": "7122311e",
   "metadata": {
    "execution": {
     "iopub.execute_input": "2024-11-25T14:34:31.633412Z",
     "iopub.status.busy": "2024-11-25T14:34:31.633109Z",
     "iopub.status.idle": "2024-11-25T14:34:31.648771Z",
     "shell.execute_reply": "2024-11-25T14:34:31.647953Z"
    },
    "papermill": {
     "duration": 0.024172,
     "end_time": "2024-11-25T14:34:31.650346",
     "exception": false,
     "start_time": "2024-11-25T14:34:31.626174",
     "status": "completed"
    },
    "tags": []
   },
   "outputs": [],
   "source": [
    "model = AlexNetBaseline(len(train_dataset.classes))\n",
    "if torch.cuda.device_count() > 1:\n",
    "    print(f'Using {torch.cuda.device_count()} GPUs.')\n",
    "    model = nn.DataParallel(model)\n",
    "model.to(device)\n",
    "# initialize parameters\n",
    "init_params(model)\n",
    "compiled_model = model\n",
    "# if torch.cuda.is_available():\n",
    "#     compiled_model = torch.compile(model)"
   ]
  },
  {
   "cell_type": "code",
   "execution_count": 5,
   "id": "54822008",
   "metadata": {
    "execution": {
     "iopub.execute_input": "2024-11-25T14:34:31.660111Z",
     "iopub.status.busy": "2024-11-25T14:34:31.659624Z",
     "iopub.status.idle": "2024-11-25T16:32:10.312981Z",
     "shell.execute_reply": "2024-11-25T16:32:10.311644Z"
    },
    "papermill": {
     "duration": 7058.675278,
     "end_time": "2024-11-25T16:32:10.329835",
     "exception": false,
     "start_time": "2024-11-25T14:34:31.654557",
     "status": "completed"
    },
    "tags": []
   },
   "outputs": [
    {
     "name": "stdout",
     "output_type": "stream",
     "text": [
      "Epoch 1/200, Cost: 2.3125381, CV_Error: 90.22%, lr: 0.01, Time: 34s\n",
      "Epoch 2/200, Cost: 2.3037463, CV_Error: 90.27%, lr: 0.01, Time: 35s\n",
      "Epoch 3/200, Cost: 2.3020736, CV_Error: 90.27%, lr: 0.01, Time: 33s\n",
      "Epoch 4/200, Cost: 2.2999391, CV_Error: 87.06%, lr: 0.01, Time: 35s\n",
      "Epoch 5/200, Cost: 2.2879239, CV_Error: 87.77%, lr: 0.01, Time: 34s\n",
      "Epoch 6/200, Cost: 2.2548936, CV_Error: 83.70%, lr: 0.01, Time: 34s\n",
      "Epoch 7/200, Cost: 2.1856481, CV_Error: 79.37%, lr: 0.01, Time: 34s\n",
      "Epoch 8/200, Cost: 2.1057905, CV_Error: 79.22%, lr: 0.01, Time: 34s\n",
      "Epoch 9/200, Cost: 2.0159132, CV_Error: 81.46%, lr: 0.01, Time: 34s\n",
      "Epoch 10/200, Cost: 1.8882560, CV_Error: 77.74%, lr: 0.01, Time: 34s\n",
      "Epoch 11/200, Cost: 1.7569191, CV_Error: 72.29%, lr: 0.01, Time: 32s\n",
      "Epoch 12/200, Cost: 1.5829008, CV_Error: 63.12%, lr: 0.01, Time: 33s\n",
      "Epoch 13/200, Cost: 1.5781820, CV_Error: 69.38%, lr: 0.01, Time: 33s\n",
      "Epoch 14/200, Cost: 1.4549547, CV_Error: 73.97%, lr: 0.01, Time: 33s\n",
      "Epoch 15/200, Cost: 1.3495400, CV_Error: 65.05%, lr: 0.01, Time: 34s\n",
      "Epoch 16/200, Cost: 1.2605954, CV_Error: 60.21%, lr: 0.01, Time: 34s\n",
      "Epoch 17/200, Cost: 1.1571791, CV_Error: 51.40%, lr: 0.01, Time: 34s\n",
      "Epoch 18/200, Cost: 1.0988334, CV_Error: 56.85%, lr: 0.01, Time: 33s\n",
      "Epoch 19/200, Cost: 1.1250413, CV_Error: 57.26%, lr: 0.01, Time: 34s\n",
      "Epoch 20/200, Cost: 1.0301573, CV_Error: 58.07%, lr: 0.01, Time: 34s\n",
      "Epoch 21/200, Cost: 0.9612606, CV_Error: 55.68%, lr: 0.01, Time: 33s\n",
      "Epoch 22/200, Cost: 0.9339173, CV_Error: 52.98%, lr: 0.01, Time: 34s\n",
      "Epoch 23/200, Cost: 0.8998632, CV_Error: 57.16%, lr: 0.01, Time: 34s\n",
      "Epoch 24/200, Cost: 0.8660297, CV_Error: 52.22%, lr: 0.01, Time: 34s\n",
      "Epoch 25/200, Cost: 0.8340977, CV_Error: 57.87%, lr: 0.01, Time: 33s\n",
      "Epoch 26/200, Cost: 0.8184806, CV_Error: 50.23%, lr: 0.01, Time: 33s\n",
      "Epoch 27/200, Cost: 0.8015968, CV_Error: 47.94%, lr: 0.01, Time: 34s\n",
      "Epoch 28/200, Cost: 0.7378986, CV_Error: 53.03%, lr: 0.01, Time: 35s\n",
      "Epoch 29/200, Cost: 0.7087646, CV_Error: 47.58%, lr: 0.01, Time: 33s\n",
      "Epoch 30/200, Cost: 0.7151677, CV_Error: 39.28%, lr: 0.01, Time: 34s\n",
      "Epoch 31/200, Cost: 0.6838276, CV_Error: 50.33%, lr: 0.01, Time: 34s\n",
      "Epoch 32/200, Cost: 0.6388513, CV_Error: 47.83%, lr: 0.01, Time: 34s\n",
      "Epoch 33/200, Cost: 0.6189668, CV_Error: 50.48%, lr: 0.01, Time: 32s\n",
      "Epoch 34/200, Cost: 0.6128574, CV_Error: 53.44%, lr: 0.01, Time: 34s\n",
      "Epoch 35/200, Cost: 0.5829689, CV_Error: 46.92%, lr: 0.01, Time: 33s\n",
      "Epoch 36/200, Cost: 0.5521603, CV_Error: 45.49%, lr: 0.01, Time: 32s\n",
      "Epoch 37/200, Cost: 0.5380176, CV_Error: 44.57%, lr: 0.01, Time: 34s\n",
      "Epoch 38/200, Cost: 0.5441541, CV_Error: 52.06%, lr: 0.01, Time: 32s\n",
      "Epoch 39/200, Cost: 0.5021203, CV_Error: 36.42%, lr: 0.01, Time: 32s\n",
      "Epoch 40/200, Cost: 0.4738961, CV_Error: 45.44%, lr: 0.01, Time: 33s\n",
      "Epoch 41/200, Cost: 0.4750730, CV_Error: 46.77%, lr: 0.01, Time: 34s\n",
      "Epoch 42/200, Cost: 0.4539771, CV_Error: 47.58%, lr: 0.01, Time: 34s\n",
      "Epoch 43/200, Cost: 0.4325072, CV_Error: 46.71%, lr: 0.01, Time: 33s\n",
      "Epoch 44/200, Cost: 0.4249929, CV_Error: 44.93%, lr: 0.01, Time: 33s\n",
      "Epoch 45/200, Cost: 0.4261384, CV_Error: 52.93%, lr: 0.01, Time: 33s\n",
      "Epoch 46/200, Cost: 0.4013754, CV_Error: 36.93%, lr: 0.01, Time: 33s\n",
      "Epoch 47/200, Cost: 0.4026439, CV_Error: 48.70%, lr: 0.01, Time: 32s\n",
      "Epoch 48/200, Cost: 0.3437405, CV_Error: 40.70%, lr: 0.01, Time: 34s\n",
      "Epoch 49/200, Cost: 0.3463016, CV_Error: 38.56%, lr: 0.01, Time: 33s\n",
      "Epoch 50/200, Cost: 0.3572978, CV_Error: 48.90%, lr: 0.01, Time: 33s\n",
      "Epoch 51/200, Cost: 0.3476186, CV_Error: 58.99%, lr: 0.01, Time: 34s\n",
      "Epoch 52/200, Cost: 0.3365831, CV_Error: 37.60%, lr: 0.01, Time: 33s\n",
      "Epoch 53/200, Cost: 0.3204740, CV_Error: 38.36%, lr: 0.01, Time: 33s\n",
      "Epoch 54/200, Cost: 0.3074481, CV_Error: 35.40%, lr: 0.01, Time: 34s\n",
      "Epoch 55/200, Cost: 0.3045584, CV_Error: 46.82%, lr: 0.01, Time: 34s\n",
      "Epoch 56/200, Cost: 0.3098075, CV_Error: 34.59%, lr: 0.01, Time: 33s\n",
      "Epoch 57/200, Cost: 0.2681993, CV_Error: 51.45%, lr: 0.01, Time: 34s\n",
      "Epoch 58/200, Cost: 0.2664452, CV_Error: 48.14%, lr: 0.01, Time: 34s\n",
      "Epoch 59/200, Cost: 0.2892412, CV_Error: 42.23%, lr: 0.01, Time: 34s\n",
      "Epoch 60/200, Cost: 0.2835053, CV_Error: 39.94%, lr: 0.01, Time: 33s\n",
      "Epoch 61/200, Cost: 0.2585662, CV_Error: 49.62%, lr: 0.01, Time: 33s\n",
      "Epoch 62/200, Cost: 0.2529770, CV_Error: 40.96%, lr: 0.01, Time: 34s\n",
      "Epoch 63/200, Cost: 0.2529048, CV_Error: 42.84%, lr: 0.01, Time: 33s\n",
      "Epoch 64/200, Cost: 0.2102599, CV_Error: 36.12%, lr: 0.01, Time: 34s\n",
      "Epoch 65/200, Cost: 0.2045751, CV_Error: 40.96%, lr: 0.01, Time: 34s\n",
      "Epoch 66/200, Cost: 0.2240526, CV_Error: 40.96%, lr: 0.01, Time: 34s\n",
      "Epoch 67/200, Cost: 0.2136811, CV_Error: 38.05%, lr: 0.01, Time: 34s\n",
      "Epoch 68/200, Cost: 0.2056436, CV_Error: 42.94%, lr: 0.01, Time: 34s\n",
      "Epoch 69/200, Cost: 0.1906363, CV_Error: 34.64%, lr: 0.01, Time: 33s\n",
      "Epoch 70/200, Cost: 0.2000475, CV_Error: 36.02%, lr: 0.01, Time: 34s\n",
      "Epoch 71/200, Cost: 0.2045865, CV_Error: 43.56%, lr: 0.01, Time: 33s\n",
      "Epoch 72/200, Cost: 0.2040630, CV_Error: 44.78%, lr: 0.01, Time: 34s\n",
      "Epoch 73/200, Cost: 0.1855266, CV_Error: 35.35%, lr: 0.01, Time: 34s\n",
      "Epoch 74/200, Cost: 0.1936981, CV_Error: 37.90%, lr: 0.01, Time: 34s\n",
      "Epoch 75/200, Cost: 0.1794009, CV_Error: 40.65%, lr: 0.01, Time: 33s\n",
      "Epoch 76/200, Cost: 0.1880051, CV_Error: 37.14%, lr: 0.01, Time: 34s\n",
      "Epoch 77/200, Cost: 0.1617485, CV_Error: 36.88%, lr: 0.001, Time: 34s\n",
      "Epoch 78/200, Cost: 0.0816751, CV_Error: 36.22%, lr: 0.001, Time: 34s\n",
      "Epoch 79/200, Cost: 0.0613137, CV_Error: 35.61%, lr: 0.001, Time: 33s\n",
      "Epoch 80/200, Cost: 0.0560483, CV_Error: 35.81%, lr: 0.001, Time: 33s\n",
      "Epoch 81/200, Cost: 0.0523893, CV_Error: 34.74%, lr: 0.001, Time: 34s\n",
      "Epoch 82/200, Cost: 0.0510474, CV_Error: 33.32%, lr: 0.001, Time: 34s\n",
      "Epoch 83/200, Cost: 0.0439766, CV_Error: 33.77%, lr: 0.001, Time: 34s\n",
      "Epoch 84/200, Cost: 0.0437850, CV_Error: 34.28%, lr: 0.001, Time: 34s\n",
      "Epoch 85/200, Cost: 0.0394006, CV_Error: 34.34%, lr: 0.001, Time: 34s\n",
      "Epoch 86/200, Cost: 0.0373130, CV_Error: 33.88%, lr: 0.001, Time: 34s\n",
      "Epoch 87/200, Cost: 0.0363150, CV_Error: 32.25%, lr: 0.001, Time: 34s\n",
      "Epoch 88/200, Cost: 0.0328606, CV_Error: 32.45%, lr: 0.001, Time: 34s\n",
      "Epoch 89/200, Cost: 0.0339982, CV_Error: 33.72%, lr: 0.001, Time: 33s\n",
      "Epoch 90/200, Cost: 0.0322544, CV_Error: 32.91%, lr: 0.001, Time: 33s\n",
      "Epoch 91/200, Cost: 0.0333226, CV_Error: 33.37%, lr: 0.001, Time: 34s\n",
      "Epoch 92/200, Cost: 0.0292787, CV_Error: 33.16%, lr: 0.001, Time: 33s\n",
      "Epoch 93/200, Cost: 0.0326523, CV_Error: 32.86%, lr: 0.001, Time: 33s\n",
      "Epoch 94/200, Cost: 0.0293884, CV_Error: 31.94%, lr: 0.001, Time: 33s\n",
      "Epoch 95/200, Cost: 0.0287785, CV_Error: 32.86%, lr: 0.001, Time: 33s\n",
      "Epoch 96/200, Cost: 0.0299588, CV_Error: 32.65%, lr: 0.001, Time: 34s\n",
      "Epoch 97/200, Cost: 0.0296566, CV_Error: 31.94%, lr: 0.001, Time: 33s\n",
      "Epoch 98/200, Cost: 0.0251622, CV_Error: 32.60%, lr: 0.001, Time: 34s\n",
      "Epoch 99/200, Cost: 0.0266469, CV_Error: 32.65%, lr: 0.001, Time: 34s\n",
      "Epoch 100/200, Cost: 0.0296289, CV_Error: 30.67%, lr: 0.001, Time: 34s\n",
      "Epoch 101/200, Cost: 0.0280027, CV_Error: 30.87%, lr: 0.001, Time: 34s\n",
      "Epoch 102/200, Cost: 0.0269076, CV_Error: 31.84%, lr: 0.001, Time: 33s\n",
      "Epoch 103/200, Cost: 0.0224279, CV_Error: 31.64%, lr: 0.001, Time: 34s\n",
      "Epoch 104/200, Cost: 0.0259758, CV_Error: 32.30%, lr: 0.001, Time: 33s\n",
      "Epoch 105/200, Cost: 0.0267977, CV_Error: 31.23%, lr: 0.001, Time: 34s\n",
      "Epoch 106/200, Cost: 0.0204235, CV_Error: 30.57%, lr: 0.001, Time: 32s\n",
      "Epoch 107/200, Cost: 0.0251831, CV_Error: 30.16%, lr: 0.001, Time: 34s\n",
      "Epoch 108/200, Cost: 0.0209157, CV_Error: 30.87%, lr: 0.001, Time: 32s\n",
      "Epoch 109/200, Cost: 0.0225866, CV_Error: 30.46%, lr: 0.001, Time: 33s\n",
      "Epoch 110/200, Cost: 0.0243596, CV_Error: 30.21%, lr: 0.001, Time: 33s\n",
      "Epoch 111/200, Cost: 0.0237045, CV_Error: 30.26%, lr: 0.001, Time: 32s\n",
      "Epoch 112/200, Cost: 0.0208692, CV_Error: 30.11%, lr: 0.001, Time: 34s\n",
      "Epoch 113/200, Cost: 0.0185920, CV_Error: 31.33%, lr: 0.001, Time: 34s\n",
      "Epoch 114/200, Cost: 0.0209067, CV_Error: 31.43%, lr: 0.001, Time: 34s\n",
      "Epoch 115/200, Cost: 0.0197980, CV_Error: 31.89%, lr: 0.001, Time: 35s\n",
      "Epoch 116/200, Cost: 0.0223032, CV_Error: 31.33%, lr: 0.001, Time: 36s\n",
      "Epoch 117/200, Cost: 0.0179135, CV_Error: 30.31%, lr: 0.001, Time: 38s\n",
      "Epoch 118/200, Cost: 0.0184089, CV_Error: 30.62%, lr: 0.001, Time: 37s\n",
      "Epoch 119/200, Cost: 0.0188293, CV_Error: 30.31%, lr: 0.001, Time: 34s\n",
      "Epoch 120/200, Cost: 0.0192200, CV_Error: 31.23%, lr: 0.001, Time: 35s\n",
      "Epoch 121/200, Cost: 0.0175145, CV_Error: 30.11%, lr: 0.001, Time: 35s\n",
      "Epoch 122/200, Cost: 0.0196941, CV_Error: 30.57%, lr: 0.001, Time: 36s\n",
      "Epoch 123/200, Cost: 0.0182248, CV_Error: 29.34%, lr: 0.001, Time: 36s\n",
      "Epoch 124/200, Cost: 0.0187441, CV_Error: 28.94%, lr: 0.001, Time: 36s\n",
      "Epoch 125/200, Cost: 0.0202789, CV_Error: 28.17%, lr: 0.001, Time: 35s\n",
      "Epoch 126/200, Cost: 0.0207930, CV_Error: 28.58%, lr: 0.001, Time: 36s\n",
      "Epoch 127/200, Cost: 0.0138290, CV_Error: 28.48%, lr: 0.001, Time: 37s\n",
      "Epoch 128/200, Cost: 0.0153396, CV_Error: 29.70%, lr: 0.001, Time: 38s\n",
      "Epoch 129/200, Cost: 0.0164280, CV_Error: 28.88%, lr: 0.001, Time: 38s\n",
      "Epoch 130/200, Cost: 0.0198171, CV_Error: 29.60%, lr: 0.001, Time: 37s\n",
      "Epoch 131/200, Cost: 0.0172772, CV_Error: 28.94%, lr: 0.001, Time: 36s\n",
      "Epoch 132/200, Cost: 0.0160241, CV_Error: 29.29%, lr: 0.001, Time: 37s\n",
      "Epoch 133/200, Cost: 0.0160546, CV_Error: 27.71%, lr: 0.001, Time: 35s\n",
      "Epoch 134/200, Cost: 0.0152533, CV_Error: 28.73%, lr: 0.001, Time: 37s\n",
      "Epoch 135/200, Cost: 0.0128192, CV_Error: 28.22%, lr: 0.001, Time: 37s\n",
      "Epoch 136/200, Cost: 0.0111941, CV_Error: 28.43%, lr: 0.001, Time: 36s\n",
      "Epoch 137/200, Cost: 0.0136428, CV_Error: 29.60%, lr: 0.001, Time: 36s\n",
      "Epoch 138/200, Cost: 0.0166378, CV_Error: 29.70%, lr: 0.001, Time: 36s\n",
      "Epoch 139/200, Cost: 0.0118950, CV_Error: 28.32%, lr: 0.001, Time: 38s\n",
      "Epoch 140/200, Cost: 0.0128071, CV_Error: 29.29%, lr: 0.001, Time: 38s\n",
      "Epoch 141/200, Cost: 0.0132051, CV_Error: 29.70%, lr: 0.001, Time: 37s\n",
      "Epoch 142/200, Cost: 0.0147718, CV_Error: 28.83%, lr: 0.001, Time: 37s\n",
      "Epoch 143/200, Cost: 0.0144989, CV_Error: 29.14%, lr: 0.001, Time: 38s\n",
      "Epoch 144/200, Cost: 0.0141741, CV_Error: 28.58%, lr: 0.001, Time: 38s\n",
      "Epoch 145/200, Cost: 0.0134972, CV_Error: 29.24%, lr: 0.001, Time: 37s\n",
      "Epoch 146/200, Cost: 0.0119325, CV_Error: 28.12%, lr: 0.001, Time: 35s\n",
      "Epoch 147/200, Cost: 0.0120695, CV_Error: 27.87%, lr: 0.001, Time: 34s\n",
      "Epoch 148/200, Cost: 0.0125638, CV_Error: 29.09%, lr: 0.001, Time: 36s\n",
      "Epoch 149/200, Cost: 0.0121954, CV_Error: 28.63%, lr: 0.001, Time: 37s\n",
      "Epoch 150/200, Cost: 0.0165301, CV_Error: 30.11%, lr: 0.001, Time: 37s\n",
      "Epoch 151/200, Cost: 0.0108751, CV_Error: 28.99%, lr: 0.001, Time: 36s\n",
      "Epoch 152/200, Cost: 0.0115930, CV_Error: 29.24%, lr: 0.001, Time: 38s\n",
      "Epoch 153/200, Cost: 0.0117384, CV_Error: 30.21%, lr: 0.001, Time: 38s\n",
      "Epoch 154/200, Cost: 0.0131828, CV_Error: 29.70%, lr: 0.0001, Time: 38s\n",
      "Epoch 155/200, Cost: 0.0158562, CV_Error: 29.55%, lr: 0.0001, Time: 39s\n",
      "Epoch 156/200, Cost: 0.0114737, CV_Error: 29.34%, lr: 0.0001, Time: 40s\n",
      "Epoch 157/200, Cost: 0.0097768, CV_Error: 29.24%, lr: 0.0001, Time: 40s\n",
      "Epoch 158/200, Cost: 0.0130835, CV_Error: 29.24%, lr: 0.0001, Time: 40s\n",
      "Epoch 159/200, Cost: 0.0123469, CV_Error: 29.60%, lr: 0.0001, Time: 40s\n",
      "Epoch 160/200, Cost: 0.0120264, CV_Error: 29.65%, lr: 0.0001, Time: 38s\n",
      "Epoch 161/200, Cost: 0.0104946, CV_Error: 29.70%, lr: 0.0001, Time: 38s\n",
      "Epoch 162/200, Cost: 0.0111695, CV_Error: 29.65%, lr: 0.0001, Time: 39s\n",
      "Epoch 163/200, Cost: 0.0104817, CV_Error: 29.50%, lr: 0.0001, Time: 38s\n",
      "Epoch 164/200, Cost: 0.0120591, CV_Error: 29.44%, lr: 0.0001, Time: 37s\n",
      "Epoch 165/200, Cost: 0.0124911, CV_Error: 29.70%, lr: 0.0001, Time: 38s\n",
      "Epoch 166/200, Cost: 0.0096801, CV_Error: 29.55%, lr: 0.0001, Time: 38s\n",
      "Epoch 167/200, Cost: 0.0104629, CV_Error: 29.80%, lr: 0.0001, Time: 40s\n",
      "Epoch 168/200, Cost: 0.0094652, CV_Error: 29.70%, lr: 0.0001, Time: 39s\n",
      "Epoch 169/200, Cost: 0.0113712, CV_Error: 29.50%, lr: 0.0001, Time: 39s\n",
      "Epoch 170/200, Cost: 0.0109475, CV_Error: 29.44%, lr: 0.0001, Time: 39s\n",
      "Epoch 171/200, Cost: 0.0100959, CV_Error: 29.44%, lr: 0.0001, Time: 40s\n",
      "Epoch 172/200, Cost: 0.0115478, CV_Error: 29.50%, lr: 0.0001, Time: 38s\n",
      "Epoch 173/200, Cost: 0.0091278, CV_Error: 29.34%, lr: 0.0001, Time: 38s\n",
      "Epoch 174/200, Cost: 0.0102946, CV_Error: 29.34%, lr: 0.0001, Time: 39s\n",
      "Epoch 175/200, Cost: 0.0082141, CV_Error: 29.19%, lr: 1e-05, Time: 38s\n",
      "Epoch 176/200, Cost: 0.0118415, CV_Error: 29.19%, lr: 1e-05, Time: 38s\n",
      "Epoch 177/200, Cost: 0.0102403, CV_Error: 29.34%, lr: 1e-05, Time: 40s\n",
      "Epoch 178/200, Cost: 0.0116898, CV_Error: 29.34%, lr: 1e-05, Time: 39s\n",
      "Epoch 179/200, Cost: 0.0093001, CV_Error: 29.34%, lr: 1e-05, Time: 38s\n",
      "Epoch 180/200, Cost: 0.0122835, CV_Error: 29.29%, lr: 1e-05, Time: 38s\n",
      "Epoch 181/200, Cost: 0.0109188, CV_Error: 29.29%, lr: 1e-05, Time: 39s\n",
      "Epoch 182/200, Cost: 0.0097938, CV_Error: 29.29%, lr: 1e-05, Time: 38s\n",
      "Epoch 183/200, Cost: 0.0129526, CV_Error: 29.34%, lr: 1e-05, Time: 37s\n",
      "Epoch 184/200, Cost: 0.0116027, CV_Error: 29.34%, lr: 1e-05, Time: 38s\n",
      "Epoch 185/200, Cost: 0.0110961, CV_Error: 29.34%, lr: 1e-05, Time: 39s\n",
      "Epoch 186/200, Cost: 0.0101216, CV_Error: 29.39%, lr: 1e-05, Time: 37s\n",
      "Epoch 187/200, Cost: 0.0103787, CV_Error: 29.34%, lr: 1e-05, Time: 39s\n",
      "Epoch 188/200, Cost: 0.0111020, CV_Error: 29.34%, lr: 1e-05, Time: 39s\n",
      "Epoch 189/200, Cost: 0.0102259, CV_Error: 29.34%, lr: 1e-05, Time: 39s\n",
      "Epoch 190/200, Cost: 0.0099187, CV_Error: 29.34%, lr: 1e-05, Time: 38s\n",
      "Epoch 191/200, Cost: 0.0093359, CV_Error: 29.34%, lr: 1e-05, Time: 40s\n",
      "Epoch 192/200, Cost: 0.0096578, CV_Error: 29.34%, lr: 1e-05, Time: 40s\n",
      "Epoch 193/200, Cost: 0.0093149, CV_Error: 29.34%, lr: 1e-05, Time: 39s\n",
      "Epoch 194/200, Cost: 0.0101977, CV_Error: 29.34%, lr: 1e-05, Time: 38s\n",
      "Epoch 195/200, Cost: 0.0090860, CV_Error: 29.34%, lr: 1e-05, Time: 40s\n",
      "Epoch 196/200, Cost: 0.0122377, CV_Error: 29.34%, lr: 1.0000000000000002e-06, Time: 39s\n",
      "Epoch 197/200, Cost: 0.0108341, CV_Error: 29.34%, lr: 1.0000000000000002e-06, Time: 38s\n",
      "Epoch 198/200, Cost: 0.0112793, CV_Error: 29.34%, lr: 1.0000000000000002e-06, Time: 38s\n",
      "Epoch 199/200, Cost: 0.0091388, CV_Error: 29.34%, lr: 1.0000000000000002e-06, Time: 39s\n",
      "Epoch 200/200, Cost: 0.0087097, CV_Error: 29.34%, lr: 1.0000000000000002e-06, Time: 40s\n",
      "Training time: 7058.646853923798\n"
     ]
    }
   ],
   "source": [
    "costs, val_error_rates, learning_rates = train(\n",
    "    compiled_model,\n",
    "    train_dataset=train_dataset,\n",
    "    cv_dataset=val_dataset,\n",
    "    batch_size=128,\n",
    "    num_epochs=200,\n",
    "    initial_lr=0.01,\n",
    "    num_workers=3\n",
    ")"
   ]
  },
  {
   "cell_type": "code",
   "execution_count": 6,
   "id": "939f0933",
   "metadata": {
    "execution": {
     "iopub.execute_input": "2024-11-25T16:32:10.362502Z",
     "iopub.status.busy": "2024-11-25T16:32:10.361524Z",
     "iopub.status.idle": "2024-11-25T16:32:10.926426Z",
     "shell.execute_reply": "2024-11-25T16:32:10.925534Z"
    },
    "papermill": {
     "duration": 0.584007,
     "end_time": "2024-11-25T16:32:10.928809",
     "exception": false,
     "start_time": "2024-11-25T16:32:10.344802",
     "status": "completed"
    },
    "tags": []
   },
   "outputs": [],
   "source": [
    "torch.save(model.state_dict(), 'baseline_imagenette.model.pt')\n",
    "torch.save(preprocess, 'baseline_imagenette.preprocess.pt')\n",
    "torch.save(train_augment, 'baseline_imagenette.train_augment.pt')"
   ]
  },
  {
   "cell_type": "code",
   "execution_count": 7,
   "id": "c365b616",
   "metadata": {
    "execution": {
     "iopub.execute_input": "2024-11-25T16:32:10.962794Z",
     "iopub.status.busy": "2024-11-25T16:32:10.961828Z",
     "iopub.status.idle": "2024-11-25T16:33:12.944089Z",
     "shell.execute_reply": "2024-11-25T16:33:12.942844Z"
    },
    "papermill": {
     "duration": 62.015648,
     "end_time": "2024-11-25T16:33:12.960677",
     "exception": false,
     "start_time": "2024-11-25T16:32:10.945029",
     "status": "completed"
    },
    "tags": []
   },
   "outputs": [
    {
     "name": "stdout",
     "output_type": "stream",
     "text": [
      "Test Top 1: 0.6809378185524975\n",
      "Test Top 5: 0.9393476044852191\n",
      "Val Top 1: 0.7065715741212429\n",
      "Val Top 5: 0.9490575649516046\n",
      "Val Top 1: 0.7790685394445032\n",
      "Val Top 5: 0.9777167599535326\n"
     ]
    }
   ],
   "source": [
    "test_top1, test_top5 = top1_k(compiled_model, test_dataset, k=5)\n",
    "print(f'Test Top 1: {test_top1}')\n",
    "print(f'Test Top 5: {test_top5}')\n",
    "\n",
    "val_top1, val_top5 = top1_k(compiled_model, val_dataset, k=5)\n",
    "print(f'Val Top 1: {val_top1}')\n",
    "print(f'Val Top 5: {val_top5}')\n",
    "\n",
    "train_eval_dataset = datasets.Imagenette(\n",
    "    'datasets/imagenette', split='train', size='320px', transform=preprocess)\n",
    "train_top1, train_top5 = top1_k(compiled_model, train_eval_dataset, k=5)\n",
    "print(f'Val Top 1: {train_top1}')\n",
    "print(f'Val Top 5: {train_top5}')"
   ]
  },
  {
   "cell_type": "code",
   "execution_count": 8,
   "id": "555c65c1",
   "metadata": {
    "execution": {
     "iopub.execute_input": "2024-11-25T16:33:12.993711Z",
     "iopub.status.busy": "2024-11-25T16:33:12.993260Z",
     "iopub.status.idle": "2024-11-25T16:33:13.335694Z",
     "shell.execute_reply": "2024-11-25T16:33:13.334551Z"
    },
    "papermill": {
     "duration": 0.361459,
     "end_time": "2024-11-25T16:33:13.337634",
     "exception": false,
     "start_time": "2024-11-25T16:33:12.976175",
     "status": "completed"
    },
    "tags": []
   },
   "outputs": [
    {
     "data": {
      "text/plain": [
       "Text(0.5, 1.0, 'Costs')"
      ]
     },
     "execution_count": 8,
     "metadata": {},
     "output_type": "execute_result"
    },
    {
     "data": {
      "image/png": "[encoded data removed]",
      "text/plain": [
       "<Figure size 640x480 with 1 Axes>"
      ]
     },
     "metadata": {},
     "output_type": "display_data"
    }
   ],
   "source": [
    "plt.plot(costs)\n",
    "plt.xlabel(\"Epoch\")\n",
    "plt.title('Costs')"
   ]
  },
  {
   "cell_type": "code",
   "execution_count": 9,
   "id": "0f6d10c3",
   "metadata": {
    "execution": {
     "iopub.execute_input": "2024-11-25T16:33:13.371225Z",
     "iopub.status.busy": "2024-11-25T16:33:13.370833Z",
     "iopub.status.idle": "2024-11-25T16:33:13.859449Z",
     "shell.execute_reply": "2024-11-25T16:33:13.858330Z"
    },
    "papermill": {
     "duration": 0.508052,
     "end_time": "2024-11-25T16:33:13.861635",
     "exception": false,
     "start_time": "2024-11-25T16:33:13.353583",
     "status": "completed"
    },
    "tags": []
   },
   "outputs": [
    {
     "data": {
      "text/plain": [
       "Text(0.5, 1.0, 'Cross Validation Error Rates')"
      ]
     },
     "execution_count": 9,
     "metadata": {},
     "output_type": "execute_result"
    },
    {
     "data": {
      "image/png": "[encoded data removed]",
      "text/plain": [
       "<Figure size 640x480 with 1 Axes>"
      ]
     },
     "metadata": {},
     "output_type": "display_data"
    }
   ],
   "source": [
    "plt.plot(val_error_rates)\n",
    "plt.xlabel(\"Epoch\")\n",
    "plt.title('Cross Validation Error Rates')"
   ]
  },
  {
   "cell_type": "code",
   "execution_count": 10,
   "id": "91bd1aef",
   "metadata": {
    "execution": {
     "iopub.execute_input": "2024-11-25T16:33:13.897396Z",
     "iopub.status.busy": "2024-11-25T16:33:13.896991Z",
     "iopub.status.idle": "2024-11-25T16:33:14.207992Z",
     "shell.execute_reply": "2024-11-25T16:33:14.206849Z"
    },
    "papermill": {
     "duration": 0.331346,
     "end_time": "2024-11-25T16:33:14.210347",
     "exception": false,
     "start_time": "2024-11-25T16:33:13.879001",
     "status": "completed"
    },
    "tags": []
   },
   "outputs": [
    {
     "data": {
      "text/plain": [
       "Text(0.5, 1.0, 'Learning Rates')"
      ]
     },
     "execution_count": 10,
     "metadata": {},
     "output_type": "execute_result"
    },
    {
     "data": {
      "image/png": "[encoded data removed]",
      "text/plain": [
       "<Figure size 640x480 with 1 Axes>"
      ]
     },
     "metadata": {},
     "output_type": "display_data"
    }
   ],
   "source": [
    "plt.plot(learning_rates)\n",
    "plt.xlabel(\"Epoch\")\n",
    "plt.title('Learning Rates')"
   ]
  }
 ],
 "metadata": {
  "kaggle": {
   "accelerator": "none",
   "dataSources": [
    {
     "isSourceIdPinned": true,
     "modelId": 174272,
     "modelInstanceId": 151820,
     "sourceId": 178209,
     "sourceType": "modelInstanceVersion"
    }
   ],
   "dockerImageVersionId": 30786,
   "isGpuEnabled": false,
   "isInternetEnabled": true,
   "language": "python",
   "sourceType": "notebook"
  },
  "kernelspec": {
   "display_name": "torch",
   "language": "python",
   "name": "python3"
  },
  "language_info": {
   "codemirror_mode": {
    "name": "ipython",
    "version": 3
   },
   "file_extension": ".py",
   "mimetype": "text/x-python",
   "name": "python",
   "nbconvert_exporter": "python",
   "pygments_lexer": "ipython3",
   "version": "3.12.3"
  },
  "papermill": {
   "default_parameters": {},
   "duration": 7187.302666,
   "end_time": "2024-11-25T16:33:16.880926",
   "environment_variables": {},
   "exception": null,
   "input_path": "__notebook__.ipynb",
   "output_path": "__notebook__.ipynb",
   "parameters": {},
   "start_time": "2024-11-25T14:33:29.578260",
   "version": "2.6.0"
  }
 },
 "nbformat": 4,
 "nbformat_minor": 5
}
