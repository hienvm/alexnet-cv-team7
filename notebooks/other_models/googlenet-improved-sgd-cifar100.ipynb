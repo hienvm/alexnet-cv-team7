{
 "cells": [
  {
   "cell_type": "code",
   "execution_count": 1,
   "id": "786b5bb1",
   "metadata": {
    "_cell_guid": "e01b8400-4527-41b8-bd0a-1cf52577e5b4",
    "_uuid": "60e99f23-fb3c-4292-b48b-9c624c77601b",
    "collapsed": false,
    "execution": {
     "iopub.execute_input": "2024-12-14T02:07:13.676343Z",
     "iopub.status.busy": "2024-12-14T02:07:13.676032Z",
     "iopub.status.idle": "2024-12-14T02:07:18.346804Z",
     "shell.execute_reply": "2024-12-14T02:07:18.345893Z"
    },
    "jupyter": {
     "outputs_hidden": false
    },
    "papermill": {
     "duration": 4.676803,
     "end_time": "2024-12-14T02:07:18.348860",
     "exception": false,
     "start_time": "2024-12-14T02:07:13.672057",
     "status": "completed"
    },
    "tags": []
   },
   "outputs": [],
   "source": [
    "import sys\n",
    "sys.path.append('/kaggle/input/alexnet/pytorch/improved/1')\n",
    "import torch\n",
    "import torch.nn as nn\n",
    "import torchvision\n",
    "from torchvision import datasets\n",
    "from improved.model import AlexNetImproved, init_params\n",
    "from improved.data_transforms import prepreprocess, get_preprocess, get_train_augment, calc_mean_std\n",
    "from improved.pca import pca\n",
    "from improved.train import train\n",
    "import matplotlib.pyplot as plt\n",
    "from improved.eval import top1_k"
   ]
  },
  {
   "cell_type": "code",
   "execution_count": 2,
   "id": "89c05591",
   "metadata": {
    "execution": {
     "iopub.execute_input": "2024-12-14T02:07:18.354899Z",
     "iopub.status.busy": "2024-12-14T02:07:18.354501Z",
     "iopub.status.idle": "2024-12-14T02:07:18.365227Z",
     "shell.execute_reply": "2024-12-14T02:07:18.364394Z"
    },
    "papermill": {
     "duration": 0.015413,
     "end_time": "2024-12-14T02:07:18.366875",
     "exception": false,
     "start_time": "2024-12-14T02:07:18.351462",
     "status": "completed"
    },
    "tags": []
   },
   "outputs": [
    {
     "name": "stdout",
     "output_type": "stream",
     "text": [
      "cuda\n"
     ]
    }
   ],
   "source": [
    "torch.manual_seed(0)\n",
    "device = torch.device(\"cuda\" if torch.cuda.is_available() else \"cpu\")\n",
    "print(device)"
   ]
  },
  {
   "cell_type": "code",
   "execution_count": 3,
   "id": "bdcffe16",
   "metadata": {
    "execution": {
     "iopub.execute_input": "2024-12-14T02:07:18.372508Z",
     "iopub.status.busy": "2024-12-14T02:07:18.372255Z",
     "iopub.status.idle": "2024-12-14T02:10:56.855941Z",
     "shell.execute_reply": "2024-12-14T02:10:56.854761Z"
    },
    "papermill": {
     "duration": 218.488573,
     "end_time": "2024-12-14T02:10:56.857753",
     "exception": false,
     "start_time": "2024-12-14T02:07:18.369180",
     "status": "completed"
    },
    "tags": []
   },
   "outputs": [
    {
     "name": "stdout",
     "output_type": "stream",
     "text": [
      "Downloading https://www.cs.toronto.edu/~kriz/cifar-100-python.tar.gz to datasets/cifar100/cifar-100-python.tar.gz\n"
     ]
    },
    {
     "name": "stderr",
     "output_type": "stream",
     "text": [
      "100%|██████████| 169001437/169001437 [00:08<00:00, 20656338.97it/s]\n"
     ]
    },
    {
     "name": "stdout",
     "output_type": "stream",
     "text": [
      "Extracting datasets/cifar100/cifar-100-python.tar.gz to datasets/cifar100\n",
      "Mean:\n",
      "[0.5072646737098694, 0.4867367148399353, 0.4411051571369171]\n",
      "Standard Deviation:\n",
      "[0.2621012330055237, 0.2511281669139862, 0.2712865471839905]\n",
      "Covar:\n",
      "tensor([[1.0000, 0.8625, 0.7042],\n",
      "        [0.8625, 0.9998, 0.8843],\n",
      "        [0.7042, 0.8843, 1.0000]], device='cuda:0')\n",
      "Eigen values (sqrt):\n",
      "tensor([[0.2588],\n",
      "        [0.5444],\n",
      "        [1.6237]])\n",
      "Eigen vectors:\n",
      "tensor([[ 0.3872,  0.7312,  0.5616],\n",
      "        [-0.7971, -0.0405,  0.6024],\n",
      "        [ 0.4633, -0.6809,  0.5672]])\n",
      "Number of classes: 100\n",
      "Train samples: 50000\n",
      "Validation samples: 5000\n",
      "Test samples: 5000\n"
     ]
    }
   ],
   "source": [
    "train_dataset = datasets.CIFAR100(\n",
    "    'datasets/cifar100', train=True, download=True, transform=prepreprocess)\n",
    "mean, std = calc_mean_std(train_dataset)\n",
    "print(f'Mean:\\n{mean}')\n",
    "print(f'Standard Deviation:\\n{std}')\n",
    "preprocess = get_preprocess(mean, std)\n",
    "\n",
    "train_dataset = datasets.CIFAR100(\n",
    "    'datasets/cifar100', train=True, transform=preprocess)\n",
    "eigvals, eigvecs = pca(train_dataset)\n",
    "train_augment = get_train_augment(eigvals, eigvecs, mean, std)\n",
    "\n",
    "train_dataset = datasets.CIFAR100(\n",
    "    'datasets/cifar100', train=True, transform=train_augment)\n",
    "\n",
    "val_dataset = datasets.CIFAR100(\n",
    "    'datasets/cifar100', train=False, transform=preprocess)\n",
    "val_dataset, test_dataset = torch.utils.data.random_split(val_dataset, [0.5, 0.5])\n",
    "\n",
    "print(f'Number of classes: {len(train_dataset.classes)}')\n",
    "print(f'Train samples: {len(train_dataset)}')\n",
    "print(f'Validation samples: {len(val_dataset)}')\n",
    "print(f'Test samples: {len(test_dataset)}')"
   ]
  },
  {
   "cell_type": "code",
   "execution_count": 4,
   "id": "35f0c0fa",
   "metadata": {
    "execution": {
     "iopub.execute_input": "2024-12-14T02:10:56.870976Z",
     "iopub.status.busy": "2024-12-14T02:10:56.870625Z",
     "iopub.status.idle": "2024-12-14T02:10:57.368805Z",
     "shell.execute_reply": "2024-12-14T02:10:57.368035Z"
    },
    "papermill": {
     "duration": 0.507245,
     "end_time": "2024-12-14T02:10:57.370971",
     "exception": false,
     "start_time": "2024-12-14T02:10:56.863726",
     "status": "completed"
    },
    "tags": []
   },
   "outputs": [
    {
     "name": "stderr",
     "output_type": "stream",
     "text": [
      "/opt/conda/lib/python3.10/site-packages/torchvision/models/_utils.py:135: UserWarning: Using 'weights' as positional parameter(s) is deprecated since 0.13 and may be removed in the future. Please use keyword parameter(s) instead.\n",
      "  warnings.warn(\n",
      "/opt/conda/lib/python3.10/site-packages/torchvision/models/_utils.py:223: UserWarning: Arguments other than a weight enum or `None` for 'weights' are deprecated since 0.13 and may be removed in the future. The current behavior is equivalent to passing `weights=GoogLeNet_Weights.IMAGENET1K_V1`. You can also use `weights=GoogLeNet_Weights.DEFAULT` to get the most up-to-date weights.\n",
      "  warnings.warn(msg)\n",
      "Downloading: \"https://download.pytorch.org/models/googlenet-1378be20.pth\" to /root/.cache/torch/hub/checkpoints/googlenet-1378be20.pth\n",
      "100%|██████████| 49.7M/49.7M [00:00<00:00, 223MB/s]\n"
     ]
    }
   ],
   "source": [
    "model = torchvision.models.googlenet(len(train_dataset.classes))\n",
    "if torch.cuda.device_count() > 1:\n",
    "    print(f'Using {torch.cuda.device_count()} GPUs.')\n",
    "    model = nn.DataParallel(model)\n",
    "model.to(device)\n",
    "# initialize parameters\n",
    "init_params(model)\n",
    "compiled_model = model\n",
    "# if torch.cuda.is_available():\n",
    "#     compiled_model = torch.compile(model)"
   ]
  },
  {
   "cell_type": "code",
   "execution_count": 5,
   "id": "66b0a2c7",
   "metadata": {
    "execution": {
     "iopub.execute_input": "2024-12-14T02:10:57.384720Z",
     "iopub.status.busy": "2024-12-14T02:10:57.384380Z",
     "iopub.status.idle": "2024-12-14T06:37:14.995784Z",
     "shell.execute_reply": "2024-12-14T06:37:14.994601Z"
    },
    "papermill": {
     "duration": 15977.630654,
     "end_time": "2024-12-14T06:37:15.008043",
     "exception": false,
     "start_time": "2024-12-14T02:10:57.377389",
     "status": "completed"
    },
    "tags": []
   },
   "outputs": [
    {
     "name": "stdout",
     "output_type": "stream",
     "text": [
      "Epoch 1/100, Cost: 2.885, Val Error: 36.04%, lr: 0.01, Time: 161s\n",
      "Epoch 2/100, Cost: 1.557, Val Error: 30.40%, lr: 0.01, Time: 159s\n",
      "Epoch 3/100, Cost: 1.290, Val Error: 27.66%, lr: 0.01, Time: 159s\n",
      "Epoch 4/100, Cost: 1.146, Val Error: 24.28%, lr: 0.01, Time: 159s\n",
      "Epoch 5/100, Cost: 1.047, Val Error: 24.04%, lr: 0.01, Time: 159s\n",
      "Epoch 6/100, Cost: 0.983, Val Error: 22.92%, lr: 0.01, Time: 159s\n",
      "Epoch 7/100, Cost: 0.912, Val Error: 22.32%, lr: 0.01, Time: 160s\n",
      "Epoch 8/100, Cost: 0.873, Val Error: 22.22%, lr: 0.01, Time: 159s\n",
      "Epoch 9/100, Cost: 0.826, Val Error: 21.40%, lr: 0.01, Time: 158s\n",
      "Epoch 10/100, Cost: 0.797, Val Error: 21.52%, lr: 0.01, Time: 159s\n",
      "Epoch 11/100, Cost: 0.758, Val Error: 21.36%, lr: 0.01, Time: 159s\n",
      "Epoch 12/100, Cost: 0.733, Val Error: 22.02%, lr: 0.01, Time: 158s\n",
      "Epoch 13/100, Cost: 0.704, Val Error: 21.72%, lr: 0.01, Time: 157s\n",
      "Epoch 14/100, Cost: 0.692, Val Error: 20.54%, lr: 0.01, Time: 159s\n",
      "Epoch 15/100, Cost: 0.657, Val Error: 20.54%, lr: 0.01, Time: 159s\n",
      "Epoch 16/100, Cost: 0.657, Val Error: 19.98%, lr: 0.01, Time: 158s\n",
      "Epoch 17/100, Cost: 0.636, Val Error: 21.16%, lr: 0.01, Time: 159s\n",
      "Epoch 18/100, Cost: 0.622, Val Error: 20.58%, lr: 0.01, Time: 160s\n",
      "Epoch 19/100, Cost: 0.601, Val Error: 20.80%, lr: 0.01, Time: 159s\n",
      "Epoch 20/100, Cost: 0.608, Val Error: 20.64%, lr: 0.01, Time: 158s\n",
      "Epoch 21/100, Cost: 0.587, Val Error: 20.48%, lr: 0.01, Time: 160s\n",
      "Epoch 22/100, Cost: 0.588, Val Error: 21.22%, lr: 0.01, Time: 160s\n",
      "Epoch 23/100, Cost: 0.564, Val Error: 20.68%, lr: 0.01, Time: 159s\n",
      "Epoch 24/100, Cost: 0.572, Val Error: 20.94%, lr: 0.01, Time: 159s\n",
      "Epoch 25/100, Cost: 0.547, Val Error: 20.44%, lr: 0.01, Time: 160s\n",
      "Epoch 26/100, Cost: 0.552, Val Error: 20.94%, lr: 0.01, Time: 160s\n",
      "Epoch 27/100, Cost: 0.554, Val Error: 19.44%, lr: 0.01, Time: 160s\n",
      "Epoch 28/100, Cost: 0.534, Val Error: 20.12%, lr: 0.01, Time: 159s\n",
      "Epoch 29/100, Cost: 0.547, Val Error: 20.52%, lr: 0.01, Time: 160s\n",
      "Epoch 30/100, Cost: 0.536, Val Error: 19.70%, lr: 0.01, Time: 159s\n",
      "Epoch 31/100, Cost: 0.526, Val Error: 20.26%, lr: 0.01, Time: 159s\n",
      "Epoch 32/100, Cost: 0.523, Val Error: 20.86%, lr: 0.01, Time: 159s\n",
      "Epoch 33/100, Cost: 0.517, Val Error: 20.46%, lr: 0.01, Time: 159s\n",
      "Epoch 34/100, Cost: 0.520, Val Error: 20.48%, lr: 0.01, Time: 160s\n",
      "Epoch 35/100, Cost: 0.512, Val Error: 21.24%, lr: 0.01, Time: 160s\n",
      "Epoch 36/100, Cost: 0.507, Val Error: 20.38%, lr: 0.01, Time: 160s\n",
      "Epoch 37/100, Cost: 0.506, Val Error: 20.60%, lr: 0.01, Time: 160s\n",
      "Epoch 38/100, Cost: 0.506, Val Error: 20.44%, lr: 0.001, Time: 160s\n",
      "Epoch 39/100, Cost: 0.370, Val Error: 17.32%, lr: 0.001, Time: 160s\n",
      "Epoch 40/100, Cost: 0.311, Val Error: 16.76%, lr: 0.001, Time: 160s\n",
      "Epoch 41/100, Cost: 0.292, Val Error: 16.46%, lr: 0.001, Time: 159s\n",
      "Epoch 42/100, Cost: 0.271, Val Error: 16.68%, lr: 0.001, Time: 160s\n",
      "Epoch 43/100, Cost: 0.264, Val Error: 16.40%, lr: 0.001, Time: 159s\n",
      "Epoch 44/100, Cost: 0.258, Val Error: 16.42%, lr: 0.001, Time: 159s\n",
      "Epoch 45/100, Cost: 0.251, Val Error: 16.14%, lr: 0.001, Time: 160s\n",
      "Epoch 46/100, Cost: 0.247, Val Error: 16.08%, lr: 0.001, Time: 160s\n",
      "Epoch 47/100, Cost: 0.244, Val Error: 16.22%, lr: 0.001, Time: 160s\n",
      "Epoch 48/100, Cost: 0.233, Val Error: 16.04%, lr: 0.001, Time: 159s\n",
      "Epoch 49/100, Cost: 0.236, Val Error: 16.20%, lr: 0.001, Time: 159s\n",
      "Epoch 50/100, Cost: 0.234, Val Error: 16.64%, lr: 0.001, Time: 161s\n",
      "Epoch 51/100, Cost: 0.223, Val Error: 16.24%, lr: 0.001, Time: 161s\n",
      "Epoch 52/100, Cost: 0.232, Val Error: 16.02%, lr: 0.001, Time: 162s\n",
      "Epoch 53/100, Cost: 0.220, Val Error: 16.34%, lr: 0.001, Time: 159s\n",
      "Epoch 54/100, Cost: 0.223, Val Error: 16.10%, lr: 0.001, Time: 161s\n",
      "Epoch 55/100, Cost: 0.224, Val Error: 16.22%, lr: 0.001, Time: 161s\n",
      "Epoch 56/100, Cost: 0.214, Val Error: 16.24%, lr: 0.001, Time: 160s\n",
      "Epoch 57/100, Cost: 0.213, Val Error: 16.38%, lr: 0.001, Time: 161s\n",
      "Epoch 58/100, Cost: 0.212, Val Error: 16.16%, lr: 0.001, Time: 161s\n",
      "Epoch 59/100, Cost: 0.207, Val Error: 16.16%, lr: 0.001, Time: 161s\n",
      "Epoch 60/100, Cost: 0.207, Val Error: 16.46%, lr: 0.001, Time: 161s\n",
      "Epoch 61/100, Cost: 0.210, Val Error: 16.22%, lr: 0.001, Time: 160s\n",
      "Epoch 62/100, Cost: 0.203, Val Error: 16.34%, lr: 0.001, Time: 160s\n",
      "Epoch 63/100, Cost: 0.200, Val Error: 15.90%, lr: 0.001, Time: 161s\n",
      "Epoch 64/100, Cost: 0.208, Val Error: 16.04%, lr: 0.001, Time: 159s\n",
      "Epoch 65/100, Cost: 0.196, Val Error: 15.80%, lr: 0.001, Time: 160s\n",
      "Epoch 66/100, Cost: 0.198, Val Error: 16.06%, lr: 0.001, Time: 161s\n",
      "Epoch 67/100, Cost: 0.191, Val Error: 16.34%, lr: 0.001, Time: 160s\n",
      "Epoch 68/100, Cost: 0.202, Val Error: 15.86%, lr: 0.001, Time: 160s\n",
      "Epoch 69/100, Cost: 0.195, Val Error: 15.94%, lr: 0.001, Time: 160s\n",
      "Epoch 70/100, Cost: 0.194, Val Error: 15.96%, lr: 0.001, Time: 159s\n",
      "Epoch 71/100, Cost: 0.192, Val Error: 15.94%, lr: 0.001, Time: 160s\n",
      "Epoch 72/100, Cost: 0.190, Val Error: 15.86%, lr: 0.001, Time: 158s\n",
      "Epoch 73/100, Cost: 0.187, Val Error: 16.38%, lr: 0.001, Time: 160s\n",
      "Epoch 74/100, Cost: 0.187, Val Error: 15.92%, lr: 0.001, Time: 160s\n",
      "Epoch 75/100, Cost: 0.183, Val Error: 16.16%, lr: 0.001, Time: 159s\n",
      "Epoch 76/100, Cost: 0.189, Val Error: 15.82%, lr: 0.0001, Time: 160s\n",
      "Epoch 77/100, Cost: 0.179, Val Error: 15.96%, lr: 0.0001, Time: 161s\n",
      "Epoch 78/100, Cost: 0.179, Val Error: 15.82%, lr: 0.0001, Time: 161s\n",
      "Epoch 79/100, Cost: 0.177, Val Error: 15.74%, lr: 0.0001, Time: 161s\n",
      "Epoch 80/100, Cost: 0.169, Val Error: 15.68%, lr: 0.0001, Time: 160s\n",
      "Epoch 81/100, Cost: 0.178, Val Error: 15.64%, lr: 0.0001, Time: 161s\n",
      "Epoch 82/100, Cost: 0.173, Val Error: 15.82%, lr: 0.0001, Time: 161s\n",
      "Epoch 83/100, Cost: 0.175, Val Error: 15.82%, lr: 0.0001, Time: 160s\n",
      "Epoch 84/100, Cost: 0.175, Val Error: 15.60%, lr: 0.0001, Time: 161s\n",
      "Epoch 85/100, Cost: 0.171, Val Error: 15.76%, lr: 0.0001, Time: 161s\n",
      "Epoch 86/100, Cost: 0.176, Val Error: 15.68%, lr: 0.0001, Time: 161s\n",
      "Epoch 87/100, Cost: 0.171, Val Error: 15.80%, lr: 0.0001, Time: 161s\n",
      "Epoch 88/100, Cost: 0.174, Val Error: 15.86%, lr: 0.0001, Time: 160s\n",
      "Epoch 89/100, Cost: 0.174, Val Error: 15.76%, lr: 0.0001, Time: 161s\n",
      "Epoch 90/100, Cost: 0.174, Val Error: 15.76%, lr: 0.0001, Time: 160s\n",
      "Epoch 91/100, Cost: 0.169, Val Error: 15.86%, lr: 0.0001, Time: 160s\n",
      "Epoch 92/100, Cost: 0.174, Val Error: 15.70%, lr: 0.0001, Time: 160s\n",
      "Epoch 93/100, Cost: 0.171, Val Error: 15.80%, lr: 0.0001, Time: 159s\n",
      "Epoch 94/100, Cost: 0.167, Val Error: 15.64%, lr: 0.0001, Time: 159s\n",
      "Epoch 95/100, Cost: 0.164, Val Error: 15.64%, lr: 1e-05, Time: 159s\n",
      "Epoch 96/100, Cost: 0.167, Val Error: 15.64%, lr: 1e-05, Time: 161s\n",
      "Epoch 97/100, Cost: 0.173, Val Error: 15.98%, lr: 1e-05, Time: 159s\n",
      "Epoch 98/100, Cost: 0.170, Val Error: 15.64%, lr: 1e-05, Time: 159s\n",
      "Epoch 99/100, Cost: 0.170, Val Error: 15.68%, lr: 1e-05, Time: 159s\n",
      "Epoch 100/100, Cost: 0.171, Val Error: 15.62%, lr: 1e-05, Time: 160s\n",
      "Training time: 266m\n"
     ]
    }
   ],
   "source": [
    "costs, val_error_rates, learning_rates = train(\n",
    "    compiled_model,\n",
    "    train_dataset=train_dataset,\n",
    "    cv_dataset=val_dataset,\n",
    "    batch_size=128,\n",
    "    num_epochs=100,\n",
    "    initial_lr=0.01,\n",
    "    num_workers=3,\n",
    "    patience=10\n",
    ")"
   ]
  },
  {
   "cell_type": "code",
   "execution_count": 6,
   "id": "ec32eaec",
   "metadata": {
    "execution": {
     "iopub.execute_input": "2024-12-14T06:37:15.029520Z",
     "iopub.status.busy": "2024-12-14T06:37:15.029192Z",
     "iopub.status.idle": "2024-12-14T06:37:15.033219Z",
     "shell.execute_reply": "2024-12-14T06:37:15.032466Z"
    },
    "papermill": {
     "duration": 0.016672,
     "end_time": "2024-12-14T06:37:15.034731",
     "exception": false,
     "start_time": "2024-12-14T06:37:15.018059",
     "status": "completed"
    },
    "tags": []
   },
   "outputs": [],
   "source": [
    "# torch.save(model.state_dict(), 'improved_cifar100.model.pt')\n",
    "# torch.save(preprocess, 'improved_cifar100.preprocess.pt')\n",
    "# torch.save(train_augment, 'improved_cifar100.train_augment.pt')"
   ]
  },
  {
   "cell_type": "code",
   "execution_count": 7,
   "id": "09760b88",
   "metadata": {
    "execution": {
     "iopub.execute_input": "2024-12-14T06:37:15.055800Z",
     "iopub.status.busy": "2024-12-14T06:37:15.055544Z",
     "iopub.status.idle": "2024-12-14T06:43:36.257446Z",
     "shell.execute_reply": "2024-12-14T06:43:36.256298Z"
    },
    "papermill": {
     "duration": 381.224847,
     "end_time": "2024-12-14T06:43:36.269718",
     "exception": false,
     "start_time": "2024-12-14T06:37:15.044871",
     "status": "completed"
    },
    "tags": []
   },
   "outputs": [
    {
     "name": "stdout",
     "output_type": "stream",
     "text": [
      "Test Top 1: 0.8462\n",
      "Test Top 5: 0.9728\n",
      "Val Top 1: 0.8438\n",
      "Val Top 5: 0.9768\n",
      "Train Top 1: 0.9996\n",
      "Train Top 5: 1.0\n"
     ]
    }
   ],
   "source": [
    "test_top1, test_top5 = top1_k(compiled_model, test_dataset, k=5)\n",
    "print(f'Test Top 1: {test_top1}')\n",
    "print(f'Test Top 5: {test_top5}')\n",
    "\n",
    "val_top1, val_top5 = top1_k(compiled_model, val_dataset, k=5)\n",
    "print(f'Val Top 1: {val_top1}')\n",
    "print(f'Val Top 5: {val_top5}')\n",
    "\n",
    "train_eval_dataset = datasets.CIFAR100(\n",
    "    'datasets/cifar100', train=True, transform=preprocess)\n",
    "train_top1, train_top5 = top1_k(compiled_model, train_eval_dataset, k=5)\n",
    "print(f'Train Top 1: {train_top1}')\n",
    "print(f'Train Top 5: {train_top5}')"
   ]
  },
  {
   "cell_type": "code",
   "execution_count": 8,
   "id": "1594d9b4",
   "metadata": {
    "execution": {
     "iopub.execute_input": "2024-12-14T06:43:36.291138Z",
     "iopub.status.busy": "2024-12-14T06:43:36.290783Z",
     "iopub.status.idle": "2024-12-14T06:43:36.565386Z",
     "shell.execute_reply": "2024-12-14T06:43:36.564567Z"
    },
    "papermill": {
     "duration": 0.287486,
     "end_time": "2024-12-14T06:43:36.567159",
     "exception": false,
     "start_time": "2024-12-14T06:43:36.279673",
     "status": "completed"
    },
    "tags": []
   },
   "outputs": [
    {
     "data": {
      "text/plain": [
       "Text(0.5, 1.0, 'Costs')"
      ]
     },
     "execution_count": 8,
     "metadata": {},
     "output_type": "execute_result"
    },
    {
     "data": {
      "image/png": "[encoded data removed]",
      "text/plain": [
       "<Figure size 640x480 with 1 Axes>"
      ]
     },
     "metadata": {},
     "output_type": "display_data"
    }
   ],
   "source": [
    "plt.plot(costs)\n",
    "plt.xlabel(\"Epoch\")\n",
    "plt.title('Costs')"
   ]
  },
  {
   "cell_type": "code",
   "execution_count": 9,
   "id": "c4bfe7a4",
   "metadata": {
    "execution": {
     "iopub.execute_input": "2024-12-14T06:43:36.589919Z",
     "iopub.status.busy": "2024-12-14T06:43:36.589617Z",
     "iopub.status.idle": "2024-12-14T06:43:36.856183Z",
     "shell.execute_reply": "2024-12-14T06:43:36.855385Z"
    },
    "papermill": {
     "duration": 0.279984,
     "end_time": "2024-12-14T06:43:36.858078",
     "exception": false,
     "start_time": "2024-12-14T06:43:36.578094",
     "status": "completed"
    },
    "tags": []
   },
   "outputs": [
    {
     "data": {
      "text/plain": [
       "Text(0.5, 1.0, 'Validation Error Rates')"
      ]
     },
     "execution_count": 9,
     "metadata": {},
     "output_type": "execute_result"
    },
    {
     "data": {
      "image/png": "[encoded data removed]",
      "text/plain": [
       "<Figure size 640x480 with 1 Axes>"
      ]
     },
     "metadata": {},
     "output_type": "display_data"
    }
   ],
   "source": [
    "plt.plot(val_error_rates)\n",
    "plt.xlabel(\"Epoch\")\n",
    "plt.title('Validation Error Rates')"
   ]
  },
  {
   "cell_type": "code",
   "execution_count": 10,
   "id": "c5c6d97c",
   "metadata": {
    "execution": {
     "iopub.execute_input": "2024-12-14T06:43:36.881736Z",
     "iopub.status.busy": "2024-12-14T06:43:36.881469Z",
     "iopub.status.idle": "2024-12-14T06:43:37.063471Z",
     "shell.execute_reply": "2024-12-14T06:43:37.062631Z"
    },
    "papermill": {
     "duration": 0.195617,
     "end_time": "2024-12-14T06:43:37.065065",
     "exception": false,
     "start_time": "2024-12-14T06:43:36.869448",
     "status": "completed"
    },
    "tags": []
   },
   "outputs": [
    {
     "data": {
      "text/plain": [
       "Text(0.5, 1.0, 'Learning Rates')"
      ]
     },
     "execution_count": 10,
     "metadata": {},
     "output_type": "execute_result"
    },
    {
     "data": {
      "image/png": "[encoded data removed]",
      "text/plain": [
       "<Figure size 640x480 with 1 Axes>"
      ]
     },
     "metadata": {},
     "output_type": "display_data"
    }
   ],
   "source": [
    "import math\n",
    "\n",
    "plt.plot([math.log10(lr) for lr in learning_rates])\n",
    "plt.ylabel(\"Log10(lr)\")\n",
    "plt.xlabel(\"Epoch\")\n",
    "plt.title('Learning Rates')"
   ]
  }
 ],
 "metadata": {
  "kaggle": {
   "accelerator": "none",
   "dataSources": [
    {
     "isSourceIdPinned": true,
     "modelId": 181947,
     "modelInstanceId": 159601,
     "sourceId": 187191,
     "sourceType": "modelInstanceVersion"
    }
   ],
   "isGpuEnabled": false,
   "isInternetEnabled": true,
   "language": "python",
   "sourceType": "notebook"
  },
  "kernelspec": {
   "display_name": "torch",
   "language": "python",
   "name": "python3"
  },
  "language_info": {
   "codemirror_mode": {
    "name": "ipython",
    "version": 3
   },
   "file_extension": ".py",
   "mimetype": "text/x-python",
   "name": "python",
   "nbconvert_exporter": "python",
   "pygments_lexer": "ipython3",
   "version": "3.10.14"
  },
  "papermill": {
   "default_parameters": {},
   "duration": 16588.187938,
   "end_time": "2024-12-14T06:43:39.402321",
   "environment_variables": {},
   "exception": null,
   "input_path": "__notebook__.ipynb",
   "output_path": "__notebook__.ipynb",
   "parameters": {},
   "start_time": "2024-12-14T02:07:11.214383",
   "version": "2.6.0"
  }
 },
 "nbformat": 4,
 "nbformat_minor": 5
}
