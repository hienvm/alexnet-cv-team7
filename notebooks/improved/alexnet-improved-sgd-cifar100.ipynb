{
 "cells": [
  {
   "cell_type": "code",
   "execution_count": 1,
   "id": "84c6954a",
   "metadata": {
    "_cell_guid": "e01b8400-4527-41b8-bd0a-1cf52577e5b4",
    "_uuid": "60e99f23-fb3c-4292-b48b-9c624c77601b",
    "collapsed": false,
    "execution": {
     "iopub.execute_input": "2024-11-26T12:05:54.817066Z",
     "iopub.status.busy": "2024-11-26T12:05:54.816728Z",
     "iopub.status.idle": "2024-11-26T12:05:59.552229Z",
     "shell.execute_reply": "2024-11-26T12:05:59.551494Z"
    },
    "jupyter": {
     "outputs_hidden": false
    },
    "papermill": {
     "duration": 4.741452,
     "end_time": "2024-11-26T12:05:59.554211",
     "exception": false,
     "start_time": "2024-11-26T12:05:54.812759",
     "status": "completed"
    },
    "tags": []
   },
   "outputs": [],
   "source": [
    "import sys\n",
    "sys.path.append('/kaggle/input/alexnet/pytorch/improved_sgd/1')\n",
    "import torch\n",
    "import torch.nn as nn\n",
    "from torchvision import datasets\n",
    "from improved.model import AlexNetImproved, init_params\n",
    "from improved.data_transforms import prepreprocess, get_preprocess, get_train_augment, calc_mean_std\n",
    "from improved.pca import pca\n",
    "from improved.train import train\n",
    "import matplotlib.pyplot as plt\n",
    "from improved.eval import top1_k"
   ]
  },
  {
   "cell_type": "code",
   "execution_count": 2,
   "id": "5edd6022",
   "metadata": {
    "execution": {
     "iopub.execute_input": "2024-11-26T12:05:59.560408Z",
     "iopub.status.busy": "2024-11-26T12:05:59.559657Z",
     "iopub.status.idle": "2024-11-26T12:05:59.572323Z",
     "shell.execute_reply": "2024-11-26T12:05:59.571485Z"
    },
    "papermill": {
     "duration": 0.017148,
     "end_time": "2024-11-26T12:05:59.573935",
     "exception": false,
     "start_time": "2024-11-26T12:05:59.556787",
     "status": "completed"
    },
    "tags": []
   },
   "outputs": [
    {
     "name": "stdout",
     "output_type": "stream",
     "text": [
      "cuda\n"
     ]
    }
   ],
   "source": [
    "torch.manual_seed(0)\n",
    "device = torch.device(\"cuda\" if torch.cuda.is_available() else \"cpu\")\n",
    "print(device)"
   ]
  },
  {
   "cell_type": "code",
   "execution_count": 3,
   "id": "afdb6f8f",
   "metadata": {
    "execution": {
     "iopub.execute_input": "2024-11-26T12:05:59.579392Z",
     "iopub.status.busy": "2024-11-26T12:05:59.579060Z",
     "iopub.status.idle": "2024-11-26T12:09:29.528685Z",
     "shell.execute_reply": "2024-11-26T12:09:29.527351Z"
    },
    "papermill": {
     "duration": 209.954543,
     "end_time": "2024-11-26T12:09:29.530672",
     "exception": false,
     "start_time": "2024-11-26T12:05:59.576129",
     "status": "completed"
    },
    "tags": []
   },
   "outputs": [
    {
     "name": "stdout",
     "output_type": "stream",
     "text": [
      "Downloading https://www.cs.toronto.edu/~kriz/cifar-100-python.tar.gz to datasets/cifar100/cifar-100-python.tar.gz\n"
     ]
    },
    {
     "name": "stderr",
     "output_type": "stream",
     "text": [
      "100%|██████████| 169001437/169001437 [00:06<00:00, 24301902.31it/s]\n"
     ]
    },
    {
     "name": "stdout",
     "output_type": "stream",
     "text": [
      "Extracting datasets/cifar100/cifar-100-python.tar.gz to datasets/cifar100\n",
      "Mean:\n",
      "[0.5072646737098694, 0.4867367148399353, 0.4411051571369171]\n",
      "Standard Deviation:\n",
      "[0.2621012330055237, 0.2511281669139862, 0.2712865471839905]\n",
      "Covar:\n",
      "tensor([[1.0000, 0.8625, 0.7042],\n",
      "        [0.8625, 0.9998, 0.8843],\n",
      "        [0.7042, 0.8843, 1.0000]], device='cuda:0')\n",
      "Eigen values (sqrt):\n",
      "tensor([[0.2588],\n",
      "        [0.5444],\n",
      "        [1.6237]])\n",
      "Eigen vectors:\n",
      "tensor([[ 0.3872,  0.7312,  0.5616],\n",
      "        [-0.7971, -0.0405,  0.6024],\n",
      "        [ 0.4633, -0.6809,  0.5672]])\n",
      "Number of classes: 100\n",
      "Train samples: 50000\n",
      "Validation samples: 5000\n",
      "Test samples: 5000\n"
     ]
    }
   ],
   "source": [
    "train_dataset = datasets.CIFAR100(\n",
    "    'datasets/cifar100', train=True, download=True, transform=prepreprocess)\n",
    "mean, std = calc_mean_std(train_dataset)\n",
    "print(f'Mean:\\n{mean}')\n",
    "print(f'Standard Deviation:\\n{std}')\n",
    "preprocess = get_preprocess(mean, std)\n",
    "\n",
    "train_dataset = datasets.CIFAR100(\n",
    "    'datasets/cifar100', train=True, transform=preprocess)\n",
    "eigvals, eigvecs = pca(train_dataset)\n",
    "train_augment = get_train_augment(eigvals, eigvecs, mean, std)\n",
    "\n",
    "train_dataset = datasets.CIFAR100(\n",
    "    'datasets/cifar100', train=True, transform=train_augment)\n",
    "\n",
    "val_dataset = datasets.CIFAR100(\n",
    "    'datasets/cifar100', train=False, transform=preprocess)\n",
    "val_dataset, test_dataset = torch.utils.data.random_split(val_dataset, [0.5, 0.5])\n",
    "\n",
    "print(f'Number of classes: {len(train_dataset.classes)}')\n",
    "print(f'Train samples: {len(train_dataset)}')\n",
    "print(f'Validation samples: {len(val_dataset)}')\n",
    "print(f'Test samples: {len(test_dataset)}')"
   ]
  },
  {
   "cell_type": "code",
   "execution_count": 4,
   "id": "3c647d2d",
   "metadata": {
    "execution": {
     "iopub.execute_input": "2024-11-26T12:09:29.544930Z",
     "iopub.status.busy": "2024-11-26T12:09:29.544546Z",
     "iopub.status.idle": "2024-11-26T12:09:29.564813Z",
     "shell.execute_reply": "2024-11-26T12:09:29.564093Z"
    },
    "papermill": {
     "duration": 0.030357,
     "end_time": "2024-11-26T12:09:29.566976",
     "exception": false,
     "start_time": "2024-11-26T12:09:29.536619",
     "status": "completed"
    },
    "tags": []
   },
   "outputs": [],
   "source": [
    "model = AlexNetImproved(len(train_dataset.classes))\n",
    "if torch.cuda.device_count() > 1:\n",
    "    print(f'Using {torch.cuda.device_count()} GPUs.')\n",
    "    model = nn.DataParallel(model)\n",
    "model.to(device)\n",
    "# initialize parameters\n",
    "init_params(model)\n",
    "compiled_model = model\n",
    "# if torch.cuda.is_available():\n",
    "#     compiled_model = torch.compile(model)"
   ]
  },
  {
   "cell_type": "code",
   "execution_count": 5,
   "id": "e1053efb",
   "metadata": {
    "execution": {
     "iopub.execute_input": "2024-11-26T12:09:29.579227Z",
     "iopub.status.busy": "2024-11-26T12:09:29.578846Z",
     "iopub.status.idle": "2024-11-26T15:12:52.220327Z",
     "shell.execute_reply": "2024-11-26T15:12:52.219124Z"
    },
    "papermill": {
     "duration": 11002.658569,
     "end_time": "2024-11-26T15:12:52.231021",
     "exception": false,
     "start_time": "2024-11-26T12:09:29.572452",
     "status": "completed"
    },
    "tags": []
   },
   "outputs": [
    {
     "name": "stdout",
     "output_type": "stream",
     "text": [
      "Epoch 1/100, Cost: 4.083, Val Error: 80.22%, lr: 0.01, Time: 109s\n",
      "Epoch 2/100, Cost: 3.507, Val Error: 70.18%, lr: 0.01, Time: 109s\n",
      "Epoch 3/100, Cost: 3.127, Val Error: 63.74%, lr: 0.01, Time: 109s\n",
      "Epoch 4/100, Cost: 2.871, Val Error: 59.54%, lr: 0.01, Time: 114s\n",
      "Epoch 5/100, Cost: 2.678, Val Error: 56.56%, lr: 0.01, Time: 111s\n",
      "Epoch 6/100, Cost: 2.555, Val Error: 55.88%, lr: 0.01, Time: 111s\n",
      "Epoch 7/100, Cost: 2.433, Val Error: 52.90%, lr: 0.01, Time: 115s\n",
      "Epoch 8/100, Cost: 2.326, Val Error: 55.18%, lr: 0.01, Time: 116s\n",
      "Epoch 9/100, Cost: 2.250, Val Error: 50.16%, lr: 0.01, Time: 112s\n",
      "Epoch 10/100, Cost: 2.147, Val Error: 47.90%, lr: 0.01, Time: 113s\n",
      "Epoch 11/100, Cost: 2.068, Val Error: 47.80%, lr: 0.01, Time: 111s\n",
      "Epoch 12/100, Cost: 2.001, Val Error: 50.62%, lr: 0.01, Time: 114s\n",
      "Epoch 13/100, Cost: 1.939, Val Error: 45.54%, lr: 0.01, Time: 112s\n",
      "Epoch 14/100, Cost: 1.871, Val Error: 42.58%, lr: 0.01, Time: 112s\n",
      "Epoch 15/100, Cost: 1.817, Val Error: 45.84%, lr: 0.01, Time: 116s\n",
      "Epoch 16/100, Cost: 1.753, Val Error: 43.72%, lr: 0.01, Time: 114s\n",
      "Epoch 17/100, Cost: 1.701, Val Error: 42.50%, lr: 0.01, Time: 114s\n",
      "Epoch 18/100, Cost: 1.662, Val Error: 40.84%, lr: 0.01, Time: 112s\n",
      "Epoch 19/100, Cost: 1.617, Val Error: 40.80%, lr: 0.01, Time: 113s\n",
      "Epoch 20/100, Cost: 1.572, Val Error: 39.76%, lr: 0.01, Time: 111s\n",
      "Epoch 21/100, Cost: 1.538, Val Error: 40.02%, lr: 0.01, Time: 111s\n",
      "Epoch 22/100, Cost: 1.507, Val Error: 38.94%, lr: 0.01, Time: 115s\n",
      "Epoch 23/100, Cost: 1.476, Val Error: 38.66%, lr: 0.01, Time: 113s\n",
      "Epoch 24/100, Cost: 1.442, Val Error: 37.50%, lr: 0.01, Time: 107s\n",
      "Epoch 25/100, Cost: 1.401, Val Error: 36.18%, lr: 0.01, Time: 112s\n",
      "Epoch 26/100, Cost: 1.380, Val Error: 35.82%, lr: 0.01, Time: 106s\n",
      "Epoch 27/100, Cost: 1.356, Val Error: 37.60%, lr: 0.01, Time: 108s\n",
      "Epoch 28/100, Cost: 1.325, Val Error: 38.34%, lr: 0.01, Time: 111s\n",
      "Epoch 29/100, Cost: 1.314, Val Error: 35.84%, lr: 0.01, Time: 110s\n",
      "Epoch 30/100, Cost: 1.288, Val Error: 37.88%, lr: 0.01, Time: 112s\n",
      "Epoch 31/100, Cost: 1.254, Val Error: 36.24%, lr: 0.01, Time: 111s\n",
      "Epoch 32/100, Cost: 1.235, Val Error: 36.76%, lr: 0.01, Time: 110s\n",
      "Epoch 33/100, Cost: 1.218, Val Error: 36.72%, lr: 0.01, Time: 107s\n",
      "Epoch 34/100, Cost: 1.203, Val Error: 34.92%, lr: 0.01, Time: 107s\n",
      "Epoch 35/100, Cost: 1.180, Val Error: 36.40%, lr: 0.01, Time: 108s\n",
      "Epoch 36/100, Cost: 1.156, Val Error: 36.40%, lr: 0.01, Time: 112s\n",
      "Epoch 37/100, Cost: 1.145, Val Error: 36.58%, lr: 0.01, Time: 106s\n",
      "Epoch 38/100, Cost: 1.120, Val Error: 33.80%, lr: 0.01, Time: 107s\n",
      "Epoch 39/100, Cost: 1.129, Val Error: 34.48%, lr: 0.01, Time: 112s\n",
      "Epoch 40/100, Cost: 1.099, Val Error: 36.96%, lr: 0.01, Time: 108s\n",
      "Epoch 41/100, Cost: 1.083, Val Error: 34.62%, lr: 0.01, Time: 109s\n",
      "Epoch 42/100, Cost: 1.074, Val Error: 33.78%, lr: 0.01, Time: 108s\n",
      "Epoch 43/100, Cost: 1.054, Val Error: 35.34%, lr: 0.01, Time: 112s\n",
      "Epoch 44/100, Cost: 1.043, Val Error: 33.36%, lr: 0.01, Time: 107s\n",
      "Epoch 45/100, Cost: 1.035, Val Error: 33.48%, lr: 0.01, Time: 106s\n",
      "Epoch 46/100, Cost: 1.024, Val Error: 36.82%, lr: 0.01, Time: 108s\n",
      "Epoch 47/100, Cost: 1.012, Val Error: 35.54%, lr: 0.01, Time: 109s\n",
      "Epoch 48/100, Cost: 1.003, Val Error: 34.90%, lr: 0.01, Time: 107s\n",
      "Epoch 49/100, Cost: 1.002, Val Error: 35.54%, lr: 0.01, Time: 109s\n",
      "Epoch 50/100, Cost: 0.982, Val Error: 32.60%, lr: 0.01, Time: 114s\n",
      "Epoch 51/100, Cost: 0.977, Val Error: 33.08%, lr: 0.01, Time: 106s\n",
      "Epoch 52/100, Cost: 0.959, Val Error: 34.18%, lr: 0.01, Time: 106s\n",
      "Epoch 53/100, Cost: 0.966, Val Error: 31.76%, lr: 0.01, Time: 108s\n",
      "Epoch 54/100, Cost: 0.948, Val Error: 32.64%, lr: 0.01, Time: 116s\n",
      "Epoch 55/100, Cost: 0.940, Val Error: 33.70%, lr: 0.01, Time: 109s\n",
      "Epoch 56/100, Cost: 0.927, Val Error: 31.98%, lr: 0.01, Time: 112s\n",
      "Epoch 57/100, Cost: 0.928, Val Error: 33.02%, lr: 0.01, Time: 113s\n",
      "Epoch 58/100, Cost: 0.907, Val Error: 32.72%, lr: 0.01, Time: 109s\n",
      "Epoch 59/100, Cost: 0.910, Val Error: 32.18%, lr: 0.01, Time: 108s\n",
      "Epoch 60/100, Cost: 0.900, Val Error: 33.46%, lr: 0.01, Time: 110s\n",
      "Epoch 61/100, Cost: 0.896, Val Error: 34.54%, lr: 0.01, Time: 107s\n",
      "Epoch 62/100, Cost: 0.885, Val Error: 32.36%, lr: 0.01, Time: 107s\n",
      "Epoch 63/100, Cost: 0.874, Val Error: 32.10%, lr: 0.01, Time: 110s\n",
      "Epoch 64/100, Cost: 0.872, Val Error: 32.56%, lr: 0.001, Time: 109s\n",
      "Epoch 65/100, Cost: 0.736, Val Error: 27.54%, lr: 0.001, Time: 110s\n",
      "Epoch 66/100, Cost: 0.699, Val Error: 26.72%, lr: 0.001, Time: 107s\n",
      "Epoch 67/100, Cost: 0.681, Val Error: 26.46%, lr: 0.001, Time: 109s\n",
      "Epoch 68/100, Cost: 0.664, Val Error: 26.64%, lr: 0.001, Time: 107s\n",
      "Epoch 69/100, Cost: 0.645, Val Error: 26.58%, lr: 0.001, Time: 107s\n",
      "Epoch 70/100, Cost: 0.640, Val Error: 26.50%, lr: 0.001, Time: 105s\n",
      "Epoch 71/100, Cost: 0.627, Val Error: 26.38%, lr: 0.001, Time: 108s\n",
      "Epoch 72/100, Cost: 0.621, Val Error: 26.20%, lr: 0.001, Time: 108s\n",
      "Epoch 73/100, Cost: 0.611, Val Error: 26.48%, lr: 0.001, Time: 109s\n",
      "Epoch 74/100, Cost: 0.605, Val Error: 26.36%, lr: 0.001, Time: 110s\n",
      "Epoch 75/100, Cost: 0.614, Val Error: 26.00%, lr: 0.001, Time: 112s\n",
      "Epoch 76/100, Cost: 0.594, Val Error: 25.96%, lr: 0.001, Time: 113s\n",
      "Epoch 77/100, Cost: 0.596, Val Error: 26.10%, lr: 0.001, Time: 115s\n",
      "Epoch 78/100, Cost: 0.596, Val Error: 26.42%, lr: 0.001, Time: 111s\n",
      "Epoch 79/100, Cost: 0.587, Val Error: 26.50%, lr: 0.001, Time: 114s\n",
      "Epoch 80/100, Cost: 0.589, Val Error: 26.34%, lr: 0.001, Time: 108s\n",
      "Epoch 81/100, Cost: 0.591, Val Error: 25.84%, lr: 0.001, Time: 109s\n",
      "Epoch 82/100, Cost: 0.586, Val Error: 26.08%, lr: 0.001, Time: 108s\n",
      "Epoch 83/100, Cost: 0.577, Val Error: 26.04%, lr: 0.001, Time: 111s\n",
      "Epoch 84/100, Cost: 0.569, Val Error: 26.14%, lr: 0.001, Time: 110s\n",
      "Epoch 85/100, Cost: 0.563, Val Error: 26.04%, lr: 0.001, Time: 108s\n",
      "Epoch 86/100, Cost: 0.567, Val Error: 26.08%, lr: 0.001, Time: 110s\n",
      "Epoch 87/100, Cost: 0.560, Val Error: 26.32%, lr: 0.001, Time: 109s\n",
      "Epoch 88/100, Cost: 0.562, Val Error: 26.06%, lr: 0.001, Time: 112s\n",
      "Epoch 89/100, Cost: 0.547, Val Error: 26.34%, lr: 0.001, Time: 110s\n",
      "Epoch 90/100, Cost: 0.554, Val Error: 26.12%, lr: 0.001, Time: 108s\n",
      "Epoch 91/100, Cost: 0.551, Val Error: 26.18%, lr: 0.001, Time: 108s\n",
      "Epoch 92/100, Cost: 0.540, Val Error: 25.84%, lr: 0.0001, Time: 112s\n",
      "Epoch 93/100, Cost: 0.537, Val Error: 25.74%, lr: 0.0001, Time: 110s\n",
      "Epoch 94/100, Cost: 0.532, Val Error: 25.72%, lr: 0.0001, Time: 107s\n",
      "Epoch 95/100, Cost: 0.526, Val Error: 25.74%, lr: 0.0001, Time: 109s\n",
      "Epoch 96/100, Cost: 0.526, Val Error: 25.70%, lr: 0.0001, Time: 113s\n",
      "Epoch 97/100, Cost: 0.529, Val Error: 25.68%, lr: 0.0001, Time: 108s\n",
      "Epoch 98/100, Cost: 0.532, Val Error: 25.60%, lr: 0.0001, Time: 112s\n",
      "Epoch 99/100, Cost: 0.528, Val Error: 25.72%, lr: 0.0001, Time: 108s\n",
      "Epoch 100/100, Cost: 0.525, Val Error: 25.62%, lr: 0.0001, Time: 109s\n",
      "Training time: 183m\n"
     ]
    }
   ],
   "source": [
    "costs, val_error_rates, learning_rates = train(\n",
    "    compiled_model,\n",
    "    train_dataset=train_dataset,\n",
    "    cv_dataset=val_dataset,\n",
    "    batch_size=128,\n",
    "    num_epochs=100,\n",
    "    initial_lr=0.01,\n",
    "    num_workers=3,\n",
    "    patience=10\n",
    ")"
   ]
  },
  {
   "cell_type": "code",
   "execution_count": 6,
   "id": "06779c5c",
   "metadata": {
    "execution": {
     "iopub.execute_input": "2024-11-26T15:12:52.250858Z",
     "iopub.status.busy": "2024-11-26T15:12:52.250503Z",
     "iopub.status.idle": "2024-11-26T15:12:52.742007Z",
     "shell.execute_reply": "2024-11-26T15:12:52.741328Z"
    },
    "papermill": {
     "duration": 0.504013,
     "end_time": "2024-11-26T15:12:52.744037",
     "exception": false,
     "start_time": "2024-11-26T15:12:52.240024",
     "status": "completed"
    },
    "tags": []
   },
   "outputs": [],
   "source": [
    "torch.save(model.state_dict(), 'improved_cifar100.model.pt')\n",
    "torch.save(preprocess, 'improved_cifar100.preprocess.pt')\n",
    "torch.save(train_augment, 'improved_cifar100.train_augment.pt')"
   ]
  },
  {
   "cell_type": "code",
   "execution_count": 7,
   "id": "fa19ea75",
   "metadata": {
    "execution": {
     "iopub.execute_input": "2024-11-26T15:12:52.764412Z",
     "iopub.status.busy": "2024-11-26T15:12:52.763753Z",
     "iopub.status.idle": "2024-11-26T15:15:13.451038Z",
     "shell.execute_reply": "2024-11-26T15:15:13.449942Z"
    },
    "papermill": {
     "duration": 140.70804,
     "end_time": "2024-11-26T15:15:13.461570",
     "exception": false,
     "start_time": "2024-11-26T15:12:52.753530",
     "status": "completed"
    },
    "tags": []
   },
   "outputs": [
    {
     "name": "stdout",
     "output_type": "stream",
     "text": [
      "Test Top 1: 0.7598\n",
      "Test Top 5: 0.9364\n",
      "Val Top 1: 0.7438\n",
      "Val Top 5: 0.93\n",
      "Train Top 1: 0.99836\n",
      "Train Top 5: 1.0\n"
     ]
    }
   ],
   "source": [
    "test_top1, test_top5 = top1_k(compiled_model, test_dataset, k=5)\n",
    "print(f'Test Top 1: {test_top1}')\n",
    "print(f'Test Top 5: {test_top5}')\n",
    "\n",
    "val_top1, val_top5 = top1_k(compiled_model, val_dataset, k=5)\n",
    "print(f'Val Top 1: {val_top1}')\n",
    "print(f'Val Top 5: {val_top5}')\n",
    "\n",
    "train_eval_dataset = datasets.CIFAR100(\n",
    "    'datasets/cifar100', train=True, transform=preprocess)\n",
    "train_top1, train_top5 = top1_k(compiled_model, train_eval_dataset, k=5)\n",
    "print(f'Train Top 1: {train_top1}')\n",
    "print(f'Train Top 5: {train_top5}')"
   ]
  },
  {
   "cell_type": "code",
   "execution_count": 8,
   "id": "5231ae99",
   "metadata": {
    "execution": {
     "iopub.execute_input": "2024-11-26T15:15:13.482047Z",
     "iopub.status.busy": "2024-11-26T15:15:13.481682Z",
     "iopub.status.idle": "2024-11-26T15:15:13.770903Z",
     "shell.execute_reply": "2024-11-26T15:15:13.769991Z"
    },
    "papermill": {
     "duration": 0.30152,
     "end_time": "2024-11-26T15:15:13.772612",
     "exception": false,
     "start_time": "2024-11-26T15:15:13.471092",
     "status": "completed"
    },
    "tags": []
   },
   "outputs": [
    {
     "data": {
      "text/plain": [
       "Text(0.5, 1.0, 'Costs')"
      ]
     },
     "execution_count": 8,
     "metadata": {},
     "output_type": "execute_result"
    },
    {
     "data": {
      "image/png": "[encoded data removed]",
      "text/plain": [
       "<Figure size 640x480 with 1 Axes>"
      ]
     },
     "metadata": {},
     "output_type": "display_data"
    }
   ],
   "source": [
    "plt.plot(costs)\n",
    "plt.xlabel(\"Epoch\")\n",
    "plt.title('Costs')"
   ]
  },
  {
   "cell_type": "code",
   "execution_count": 9,
   "id": "268482be",
   "metadata": {
    "execution": {
     "iopub.execute_input": "2024-11-26T15:15:13.793509Z",
     "iopub.status.busy": "2024-11-26T15:15:13.793172Z",
     "iopub.status.idle": "2024-11-26T15:15:13.968285Z",
     "shell.execute_reply": "2024-11-26T15:15:13.967403Z"
    },
    "papermill": {
     "duration": 0.187423,
     "end_time": "2024-11-26T15:15:13.970092",
     "exception": false,
     "start_time": "2024-11-26T15:15:13.782669",
     "status": "completed"
    },
    "tags": []
   },
   "outputs": [
    {
     "data": {
      "text/plain": [
       "Text(0.5, 1.0, 'Validation Error Rates')"
      ]
     },
     "execution_count": 9,
     "metadata": {},
     "output_type": "execute_result"
    },
    {
     "data": {
      "image/png": "[encoded data removed]",
      "text/plain": [
       "<Figure size 640x480 with 1 Axes>"
      ]
     },
     "metadata": {},
     "output_type": "display_data"
    }
   ],
   "source": [
    "plt.plot(val_error_rates)\n",
    "plt.xlabel(\"Epoch\")\n",
    "plt.title('Validation Error Rates')"
   ]
  },
  {
   "cell_type": "code",
   "execution_count": 10,
   "id": "51182cac",
   "metadata": {
    "execution": {
     "iopub.execute_input": "2024-11-26T15:15:13.992217Z",
     "iopub.status.busy": "2024-11-26T15:15:13.991902Z",
     "iopub.status.idle": "2024-11-26T15:15:14.191401Z",
     "shell.execute_reply": "2024-11-26T15:15:14.190549Z"
    },
    "papermill": {
     "duration": 0.21243,
     "end_time": "2024-11-26T15:15:14.193178",
     "exception": false,
     "start_time": "2024-11-26T15:15:13.980748",
     "status": "completed"
    },
    "tags": []
   },
   "outputs": [
    {
     "data": {
      "text/plain": [
       "Text(0.5, 1.0, 'Learning Rates')"
      ]
     },
     "execution_count": 10,
     "metadata": {},
     "output_type": "execute_result"
    },
    {
     "data": {
      "image/png": "[encoded data removed]",
      "text/plain": [
       "<Figure size 640x480 with 1 Axes>"
      ]
     },
     "metadata": {},
     "output_type": "display_data"
    }
   ],
   "source": [
    "import math\n",
    "\n",
    "plt.plot([math.log10(lr) for lr in learning_rates])\n",
    "plt.ylabel(\"Log10(lr)\")\n",
    "plt.xlabel(\"Epoch\")\n",
    "plt.title('Learning Rates')"
   ]
  }
 ],
 "metadata": {
  "kaggle": {
   "accelerator": "none",
   "dataSources": [
    {
     "isSourceIdPinned": true,
     "modelId": 174961,
     "modelInstanceId": 152720,
     "sourceId": 179256,
     "sourceType": "modelInstanceVersion"
    }
   ],
   "isGpuEnabled": false,
   "isInternetEnabled": true,
   "language": "python",
   "sourceType": "notebook"
  },
  "kernelspec": {
   "display_name": "Python 3",
   "language": "python",
   "name": "python3"
  },
  "language_info": {
   "codemirror_mode": {
    "name": "ipython",
    "version": 3
   },
   "file_extension": ".py",
   "mimetype": "text/x-python",
   "name": "python",
   "nbconvert_exporter": "python",
   "pygments_lexer": "ipython3",
   "version": "3.10.14"
  },
  "papermill": {
   "default_parameters": {},
   "duration": 11363.583321,
   "end_time": "2024-11-26T15:15:15.826993",
   "environment_variables": {},
   "exception": null,
   "input_path": "__notebook__.ipynb",
   "output_path": "__notebook__.ipynb",
   "parameters": {},
   "start_time": "2024-11-26T12:05:52.243672",
   "version": "2.6.0"
  }
 },
 "nbformat": 4,
 "nbformat_minor": 5
}
