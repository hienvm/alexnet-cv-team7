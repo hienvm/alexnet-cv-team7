{
 "cells": [
  {
   "cell_type": "code",
   "execution_count": 1,
   "id": "b344e748",
   "metadata": {
    "_cell_guid": "b45f5db7-6a30-4500-9d18-22af2f604f47",
    "_uuid": "543e58a8-8250-4de0-8382-cedffe00d0f7",
    "collapsed": false,
    "execution": {
     "iopub.execute_input": "2024-12-04T17:10:26.781894Z",
     "iopub.status.busy": "2024-12-04T17:10:26.781647Z",
     "iopub.status.idle": "2024-12-04T17:10:31.318786Z",
     "shell.execute_reply": "2024-12-04T17:10:31.318110Z"
    },
    "jupyter": {
     "outputs_hidden": false
    },
    "papermill": {
     "duration": 4.542526,
     "end_time": "2024-12-04T17:10:31.320697",
     "exception": false,
     "start_time": "2024-12-04T17:10:26.778171",
     "status": "completed"
    },
    "tags": []
   },
   "outputs": [],
   "source": [
    "import sys\n",
    "\n",
    "sys.path.append('/kaggle/input/alexnet2/pytorch/default/1')\n",
    "\n",
    "import torch\n",
    "\n",
    "import torch.nn as nn\n",
    "\n",
    "from torchvision import datasets\n",
    "\n",
    "import torchvision\n",
    "\n",
    "from improved.pca import pca\n",
    "\n",
    "from improved.data_transforms import calc_mean_std, prepreprocess, get_preprocess, get_train_augment\n",
    "\n",
    "from improved.train import train\n",
    "\n",
    "import matplotlib.pyplot as plt\n",
    "\n",
    "from improved.eval import top1_k "
   ]
  },
  {
   "cell_type": "code",
   "execution_count": 2,
   "id": "d008c2b3",
   "metadata": {
    "execution": {
     "iopub.execute_input": "2024-12-04T17:10:31.326812Z",
     "iopub.status.busy": "2024-12-04T17:10:31.326134Z",
     "iopub.status.idle": "2024-12-04T17:10:31.336049Z",
     "shell.execute_reply": "2024-12-04T17:10:31.335237Z"
    },
    "papermill": {
     "duration": 0.014353,
     "end_time": "2024-12-04T17:10:31.337578",
     "exception": false,
     "start_time": "2024-12-04T17:10:31.323225",
     "status": "completed"
    },
    "tags": []
   },
   "outputs": [
    {
     "name": "stdout",
     "output_type": "stream",
     "text": [
      "cuda\n"
     ]
    }
   ],
   "source": [
    "torch.manual_seed(0)\n",
    "\n",
    "device = torch.device(\"cuda\" if torch.cuda.is_available() else \"cpu\")\n",
    "\n",
    "print(device)"
   ]
  },
  {
   "cell_type": "code",
   "execution_count": 3,
   "id": "49927b1c",
   "metadata": {
    "execution": {
     "iopub.execute_input": "2024-12-04T17:10:31.343214Z",
     "iopub.status.busy": "2024-12-04T17:10:31.342795Z",
     "iopub.status.idle": "2024-12-04T17:11:54.896639Z",
     "shell.execute_reply": "2024-12-04T17:11:54.895521Z"
    },
    "papermill": {
     "duration": 83.558869,
     "end_time": "2024-12-04T17:11:54.898587",
     "exception": false,
     "start_time": "2024-12-04T17:10:31.339718",
     "status": "completed"
    },
    "tags": []
   },
   "outputs": [
    {
     "name": "stdout",
     "output_type": "stream",
     "text": [
      "Downloading https://s3.amazonaws.com/fast-ai-imageclas/imagenette2-320.tgz to datasets/imagenette/imagenette2-320.tgz\n"
     ]
    },
    {
     "name": "stderr",
     "output_type": "stream",
     "text": [
      "100%|██████████| 341663724/341663724 [00:07<00:00, 45734642.85it/s]\n"
     ]
    },
    {
     "name": "stdout",
     "output_type": "stream",
     "text": [
      "Extracting datasets/imagenette/imagenette2-320.tgz to datasets/imagenette\n",
      "Mean:\n",
      "[0.4666706919670105, 0.45878785848617554, 0.43017029762268066]\n",
      "Standard Deviation:\n",
      "[0.28003814816474915, 0.27618539333343506, 0.2980325520038605]\n",
      "Covar:\n",
      "tensor([[0.9999, 0.9060, 0.7768],\n",
      "        [0.9060, 0.9999, 0.9098],\n",
      "        [0.7768, 0.9098, 1.0001]], device='cuda:0')\n",
      "Eigen values (sqrt):\n",
      "tensor([[0.2165],\n",
      "        [0.4725],\n",
      "        [1.6522]])\n",
      "Eigen vectors:\n",
      "tensor([[ 0.4129,  0.7125,  0.5673],\n",
      "        [-0.8029, -0.0092,  0.5960],\n",
      "        [ 0.4299, -0.7016,  0.5683]])\n",
      "Train: 9469\n",
      "Validation: 1963\n",
      "Test: 1962\n"
     ]
    }
   ],
   "source": [
    "train_dataset = datasets.Imagenette(\n",
    "\n",
    "    'datasets/imagenette', split='train', size='320px', download=True, transform=prepreprocess)\n",
    "\n",
    "mean, std = calc_mean_std(train_dataset)\n",
    "\n",
    "print(f'Mean:\\n{mean}')\n",
    "\n",
    "print(f'Standard Deviation:\\n{std}')\n",
    "\n",
    "preprocess = get_preprocess(mean, std)\n",
    "\n",
    "\n",
    "\n",
    "train_dataset = datasets.Imagenette(\n",
    "\n",
    "    'datasets/imagenette', split='train', size='320px', transform=preprocess)\n",
    "\n",
    "eigvals, eigvecs = pca(train_dataset)\n",
    "\n",
    "train_augment = get_train_augment(eigvals, eigvecs, mean, std)\n",
    "\n",
    "\n",
    "\n",
    "train_dataset = datasets.Imagenette(\n",
    "\n",
    "    'datasets/imagenette', split='train', size='320px', transform=train_augment)\n",
    "\n",
    "\n",
    "\n",
    "val_dataset = datasets.Imagenette(\n",
    "\n",
    "    'datasets/imagenette', split='val', size='320px',transform=preprocess)\n",
    "\n",
    "val_dataset, test_dataset = torch.utils.data.random_split(val_dataset, [0.5, 0.5])\n",
    "\n",
    "\n",
    "\n",
    "print(f'Train: {len(train_dataset)}')\n",
    "\n",
    "print(f'Validation: {len(val_dataset)}')\n",
    "\n",
    "print(f'Test: {len(test_dataset)}')"
   ]
  },
  {
   "cell_type": "code",
   "execution_count": 4,
   "id": "0a9b4c16",
   "metadata": {
    "execution": {
     "iopub.execute_input": "2024-12-04T17:11:54.910114Z",
     "iopub.status.busy": "2024-12-04T17:11:54.909627Z",
     "iopub.status.idle": "2024-12-04T17:11:55.353440Z",
     "shell.execute_reply": "2024-12-04T17:11:55.352725Z"
    },
    "papermill": {
     "duration": 0.451885,
     "end_time": "2024-12-04T17:11:55.355516",
     "exception": false,
     "start_time": "2024-12-04T17:11:54.903631",
     "status": "completed"
    },
    "tags": []
   },
   "outputs": [],
   "source": [
    "model = torchvision.models.resnet50(weights=None, num_classes=len(train_dataset.classes))\n",
    "\n",
    "if torch.cuda.device_count() > 1:\n",
    "\n",
    "    print(f'Using {torch.cuda.device_count()} GPUs.')\n",
    "\n",
    "    model = nn.DataParallel(model)\n",
    "\n",
    "model.to(device)\n",
    "\n",
    "# initialize parameters\n",
    "\n",
    "# init_params(model)\n",
    "\n",
    "compiled_model = model\n",
    "\n",
    "# if torch.cuda.is_available():\n",
    "\n",
    "#     compiled_model = torch.compile(model)"
   ]
  },
  {
   "cell_type": "code",
   "execution_count": 5,
   "id": "19648c37",
   "metadata": {
    "execution": {
     "iopub.execute_input": "2024-12-04T17:11:55.367182Z",
     "iopub.status.busy": "2024-12-04T17:11:55.366602Z",
     "iopub.status.idle": "2024-12-04T21:34:05.340309Z",
     "shell.execute_reply": "2024-12-04T21:34:05.339152Z"
    },
    "papermill": {
     "duration": 15729.994618,
     "end_time": "2024-12-04T21:34:05.355414",
     "exception": false,
     "start_time": "2024-12-04T17:11:55.360796",
     "status": "completed"
    },
    "tags": []
   },
   "outputs": [
    {
     "name": "stdout",
     "output_type": "stream",
     "text": [
      "Epoch 1/200, Cost: 3.011, Val Error: 84.56%, lr: 0.01, Time: 80s\n",
      "Epoch 2/200, Cost: 2.247, Val Error: 76.06%, lr: 0.01, Time: 79s\n",
      "Epoch 3/200, Cost: 2.071, Val Error: 62.91%, lr: 0.01, Time: 78s\n",
      "Epoch 4/200, Cost: 1.918, Val Error: 60.47%, lr: 0.01, Time: 78s\n",
      "Epoch 5/200, Cost: 1.791, Val Error: 51.35%, lr: 0.01, Time: 78s\n",
      "Epoch 6/200, Cost: 1.652, Val Error: 44.93%, lr: 0.01, Time: 79s\n",
      "Epoch 7/200, Cost: 1.564, Val Error: 40.19%, lr: 0.01, Time: 79s\n",
      "Epoch 8/200, Cost: 1.470, Val Error: 37.04%, lr: 0.01, Time: 78s\n",
      "Epoch 9/200, Cost: 1.410, Val Error: 39.84%, lr: 0.01, Time: 79s\n",
      "Epoch 10/200, Cost: 1.330, Val Error: 32.71%, lr: 0.01, Time: 79s\n",
      "Epoch 11/200, Cost: 1.257, Val Error: 32.20%, lr: 0.01, Time: 79s\n",
      "Epoch 12/200, Cost: 1.184, Val Error: 31.02%, lr: 0.01, Time: 79s\n",
      "Epoch 13/200, Cost: 1.152, Val Error: 27.61%, lr: 0.01, Time: 79s\n",
      "Epoch 14/200, Cost: 1.120, Val Error: 30.77%, lr: 0.01, Time: 79s\n",
      "Epoch 15/200, Cost: 1.093, Val Error: 28.17%, lr: 0.01, Time: 79s\n",
      "Epoch 16/200, Cost: 1.065, Val Error: 30.31%, lr: 0.01, Time: 79s\n",
      "Epoch 17/200, Cost: 1.005, Val Error: 24.91%, lr: 0.01, Time: 79s\n",
      "Epoch 18/200, Cost: 0.985, Val Error: 25.27%, lr: 0.01, Time: 78s\n",
      "Epoch 19/200, Cost: 0.958, Val Error: 23.43%, lr: 0.01, Time: 79s\n",
      "Epoch 20/200, Cost: 0.918, Val Error: 26.44%, lr: 0.01, Time: 78s\n",
      "Epoch 21/200, Cost: 0.890, Val Error: 25.83%, lr: 0.01, Time: 78s\n",
      "Epoch 22/200, Cost: 0.896, Val Error: 22.47%, lr: 0.01, Time: 79s\n",
      "Epoch 23/200, Cost: 0.859, Val Error: 22.67%, lr: 0.01, Time: 79s\n",
      "Epoch 24/200, Cost: 0.808, Val Error: 22.11%, lr: 0.01, Time: 79s\n",
      "Epoch 25/200, Cost: 0.798, Val Error: 18.54%, lr: 0.01, Time: 79s\n",
      "Epoch 26/200, Cost: 0.764, Val Error: 21.04%, lr: 0.01, Time: 78s\n",
      "Epoch 27/200, Cost: 0.742, Val Error: 19.15%, lr: 0.01, Time: 80s\n",
      "Epoch 28/200, Cost: 0.744, Val Error: 23.18%, lr: 0.01, Time: 79s\n",
      "Epoch 29/200, Cost: 0.727, Val Error: 18.19%, lr: 0.01, Time: 79s\n",
      "Epoch 30/200, Cost: 0.714, Val Error: 17.88%, lr: 0.01, Time: 78s\n",
      "Epoch 31/200, Cost: 0.706, Val Error: 18.08%, lr: 0.01, Time: 79s\n",
      "Epoch 32/200, Cost: 0.671, Val Error: 24.96%, lr: 0.01, Time: 79s\n",
      "Epoch 33/200, Cost: 0.653, Val Error: 16.71%, lr: 0.01, Time: 78s\n",
      "Epoch 34/200, Cost: 0.656, Val Error: 19.31%, lr: 0.01, Time: 79s\n",
      "Epoch 35/200, Cost: 0.626, Val Error: 17.83%, lr: 0.01, Time: 79s\n",
      "Epoch 36/200, Cost: 0.612, Val Error: 17.27%, lr: 0.01, Time: 78s\n",
      "Epoch 37/200, Cost: 0.617, Val Error: 18.54%, lr: 0.01, Time: 79s\n",
      "Epoch 38/200, Cost: 0.603, Val Error: 18.54%, lr: 0.01, Time: 79s\n",
      "Epoch 39/200, Cost: 0.583, Val Error: 19.61%, lr: 0.01, Time: 78s\n",
      "Epoch 40/200, Cost: 0.568, Val Error: 16.40%, lr: 0.01, Time: 79s\n",
      "Epoch 41/200, Cost: 0.567, Val Error: 14.72%, lr: 0.01, Time: 78s\n",
      "Epoch 42/200, Cost: 0.548, Val Error: 18.64%, lr: 0.01, Time: 79s\n",
      "Epoch 43/200, Cost: 0.539, Val Error: 15.64%, lr: 0.01, Time: 79s\n",
      "Epoch 44/200, Cost: 0.521, Val Error: 15.33%, lr: 0.01, Time: 77s\n",
      "Epoch 45/200, Cost: 0.529, Val Error: 17.88%, lr: 0.01, Time: 79s\n",
      "Epoch 46/200, Cost: 0.528, Val Error: 15.79%, lr: 0.01, Time: 77s\n",
      "Epoch 47/200, Cost: 0.491, Val Error: 14.01%, lr: 0.01, Time: 79s\n",
      "Epoch 48/200, Cost: 0.514, Val Error: 14.67%, lr: 0.01, Time: 78s\n",
      "Epoch 49/200, Cost: 0.498, Val Error: 16.10%, lr: 0.01, Time: 78s\n",
      "Epoch 50/200, Cost: 0.477, Val Error: 15.54%, lr: 0.01, Time: 79s\n",
      "Epoch 51/200, Cost: 0.484, Val Error: 16.35%, lr: 0.01, Time: 79s\n",
      "Epoch 52/200, Cost: 0.465, Val Error: 15.33%, lr: 0.01, Time: 78s\n",
      "Epoch 53/200, Cost: 0.459, Val Error: 16.61%, lr: 0.01, Time: 79s\n",
      "Epoch 54/200, Cost: 0.445, Val Error: 15.89%, lr: 0.01, Time: 79s\n",
      "Epoch 55/200, Cost: 0.435, Val Error: 15.38%, lr: 0.01, Time: 79s\n",
      "Epoch 56/200, Cost: 0.447, Val Error: 13.45%, lr: 0.01, Time: 79s\n",
      "Epoch 57/200, Cost: 0.433, Val Error: 19.51%, lr: 0.01, Time: 78s\n",
      "Epoch 58/200, Cost: 0.420, Val Error: 14.77%, lr: 0.01, Time: 78s\n",
      "Epoch 59/200, Cost: 0.412, Val Error: 14.11%, lr: 0.01, Time: 78s\n",
      "Epoch 60/200, Cost: 0.432, Val Error: 14.47%, lr: 0.01, Time: 78s\n",
      "Epoch 61/200, Cost: 0.388, Val Error: 17.17%, lr: 0.01, Time: 79s\n",
      "Epoch 62/200, Cost: 0.411, Val Error: 17.01%, lr: 0.01, Time: 78s\n",
      "Epoch 63/200, Cost: 0.410, Val Error: 15.08%, lr: 0.01, Time: 79s\n",
      "Epoch 64/200, Cost: 0.377, Val Error: 13.60%, lr: 0.01, Time: 79s\n",
      "Epoch 65/200, Cost: 0.377, Val Error: 14.26%, lr: 0.01, Time: 79s\n",
      "Epoch 66/200, Cost: 0.373, Val Error: 16.30%, lr: 0.01, Time: 79s\n",
      "Epoch 67/200, Cost: 0.354, Val Error: 13.81%, lr: 0.01, Time: 79s\n",
      "Epoch 68/200, Cost: 0.365, Val Error: 14.88%, lr: 0.01, Time: 78s\n",
      "Epoch 69/200, Cost: 0.369, Val Error: 14.88%, lr: 0.01, Time: 78s\n",
      "Epoch 70/200, Cost: 0.359, Val Error: 13.30%, lr: 0.01, Time: 78s\n",
      "Epoch 71/200, Cost: 0.362, Val Error: 12.68%, lr: 0.01, Time: 78s\n",
      "Epoch 72/200, Cost: 0.339, Val Error: 12.89%, lr: 0.01, Time: 78s\n",
      "Epoch 73/200, Cost: 0.360, Val Error: 15.13%, lr: 0.01, Time: 79s\n",
      "Epoch 74/200, Cost: 0.347, Val Error: 13.30%, lr: 0.01, Time: 78s\n",
      "Epoch 75/200, Cost: 0.346, Val Error: 13.14%, lr: 0.01, Time: 78s\n",
      "Epoch 76/200, Cost: 0.328, Val Error: 13.30%, lr: 0.01, Time: 79s\n",
      "Epoch 77/200, Cost: 0.334, Val Error: 14.62%, lr: 0.01, Time: 79s\n",
      "Epoch 78/200, Cost: 0.316, Val Error: 13.96%, lr: 0.01, Time: 78s\n",
      "Epoch 79/200, Cost: 0.317, Val Error: 13.25%, lr: 0.01, Time: 79s\n",
      "Epoch 80/200, Cost: 0.294, Val Error: 15.44%, lr: 0.01, Time: 79s\n",
      "Epoch 81/200, Cost: 0.318, Val Error: 12.23%, lr: 0.01, Time: 78s\n",
      "Epoch 82/200, Cost: 0.301, Val Error: 14.88%, lr: 0.01, Time: 78s\n",
      "Epoch 83/200, Cost: 0.307, Val Error: 12.33%, lr: 0.01, Time: 79s\n",
      "Epoch 84/200, Cost: 0.284, Val Error: 12.94%, lr: 0.01, Time: 79s\n",
      "Epoch 85/200, Cost: 0.298, Val Error: 12.18%, lr: 0.01, Time: 79s\n",
      "Epoch 86/200, Cost: 0.289, Val Error: 13.70%, lr: 0.01, Time: 78s\n",
      "Epoch 87/200, Cost: 0.289, Val Error: 12.12%, lr: 0.01, Time: 78s\n",
      "Epoch 88/200, Cost: 0.299, Val Error: 13.04%, lr: 0.01, Time: 79s\n",
      "Epoch 89/200, Cost: 0.281, Val Error: 15.64%, lr: 0.01, Time: 78s\n",
      "Epoch 90/200, Cost: 0.293, Val Error: 12.94%, lr: 0.01, Time: 78s\n",
      "Epoch 91/200, Cost: 0.281, Val Error: 12.79%, lr: 0.01, Time: 79s\n",
      "Epoch 92/200, Cost: 0.289, Val Error: 14.21%, lr: 0.01, Time: 78s\n",
      "Epoch 93/200, Cost: 0.264, Val Error: 13.96%, lr: 0.01, Time: 79s\n",
      "Epoch 94/200, Cost: 0.268, Val Error: 11.92%, lr: 0.01, Time: 79s\n",
      "Epoch 95/200, Cost: 0.291, Val Error: 12.23%, lr: 0.01, Time: 79s\n",
      "Epoch 96/200, Cost: 0.280, Val Error: 13.70%, lr: 0.01, Time: 79s\n",
      "Epoch 97/200, Cost: 0.277, Val Error: 14.88%, lr: 0.01, Time: 79s\n",
      "Epoch 98/200, Cost: 0.264, Val Error: 14.26%, lr: 0.01, Time: 79s\n",
      "Epoch 99/200, Cost: 0.278, Val Error: 16.56%, lr: 0.01, Time: 79s\n",
      "Epoch 100/200, Cost: 0.253, Val Error: 11.51%, lr: 0.01, Time: 79s\n",
      "Epoch 101/200, Cost: 0.240, Val Error: 15.08%, lr: 0.01, Time: 78s\n",
      "Epoch 102/200, Cost: 0.248, Val Error: 14.72%, lr: 0.01, Time: 79s\n",
      "Epoch 103/200, Cost: 0.245, Val Error: 11.67%, lr: 0.01, Time: 79s\n",
      "Epoch 104/200, Cost: 0.228, Val Error: 12.89%, lr: 0.01, Time: 78s\n",
      "Epoch 105/200, Cost: 0.242, Val Error: 12.18%, lr: 0.01, Time: 78s\n",
      "Epoch 106/200, Cost: 0.237, Val Error: 9.98%, lr: 0.01, Time: 79s\n",
      "Epoch 107/200, Cost: 0.235, Val Error: 12.02%, lr: 0.01, Time: 79s\n",
      "Epoch 108/200, Cost: 0.236, Val Error: 12.68%, lr: 0.01, Time: 78s\n",
      "Epoch 109/200, Cost: 0.238, Val Error: 15.54%, lr: 0.01, Time: 79s\n",
      "Epoch 110/200, Cost: 0.250, Val Error: 11.67%, lr: 0.01, Time: 78s\n",
      "Epoch 111/200, Cost: 0.237, Val Error: 11.00%, lr: 0.01, Time: 78s\n",
      "Epoch 112/200, Cost: 0.245, Val Error: 13.45%, lr: 0.01, Time: 79s\n",
      "Epoch 113/200, Cost: 0.227, Val Error: 12.23%, lr: 0.01, Time: 79s\n",
      "Epoch 114/200, Cost: 0.235, Val Error: 11.67%, lr: 0.01, Time: 79s\n",
      "Epoch 115/200, Cost: 0.228, Val Error: 11.51%, lr: 0.01, Time: 78s\n",
      "Epoch 116/200, Cost: 0.237, Val Error: 13.91%, lr: 0.01, Time: 78s\n",
      "Epoch 117/200, Cost: 0.221, Val Error: 15.69%, lr: 0.01, Time: 79s\n",
      "Epoch 118/200, Cost: 0.231, Val Error: 13.30%, lr: 0.01, Time: 79s\n",
      "Epoch 119/200, Cost: 0.206, Val Error: 11.26%, lr: 0.01, Time: 77s\n",
      "Epoch 120/200, Cost: 0.242, Val Error: 11.92%, lr: 0.01, Time: 78s\n",
      "Epoch 121/200, Cost: 0.222, Val Error: 10.09%, lr: 0.01, Time: 79s\n",
      "Epoch 122/200, Cost: 0.207, Val Error: 12.38%, lr: 0.01, Time: 79s\n",
      "Epoch 123/200, Cost: 0.211, Val Error: 14.47%, lr: 0.01, Time: 78s\n",
      "Epoch 124/200, Cost: 0.219, Val Error: 11.72%, lr: 0.01, Time: 79s\n",
      "Epoch 125/200, Cost: 0.221, Val Error: 12.74%, lr: 0.01, Time: 78s\n",
      "Epoch 126/200, Cost: 0.200, Val Error: 10.80%, lr: 0.01, Time: 78s\n",
      "Epoch 127/200, Cost: 0.198, Val Error: 12.48%, lr: 0.001, Time: 79s\n",
      "Epoch 128/200, Cost: 0.168, Val Error: 8.71%, lr: 0.001, Time: 80s\n",
      "Epoch 129/200, Cost: 0.137, Val Error: 8.25%, lr: 0.001, Time: 78s\n",
      "Epoch 130/200, Cost: 0.136, Val Error: 8.35%, lr: 0.001, Time: 79s\n",
      "Epoch 131/200, Cost: 0.138, Val Error: 8.15%, lr: 0.001, Time: 79s\n",
      "Epoch 132/200, Cost: 0.131, Val Error: 8.20%, lr: 0.001, Time: 79s\n",
      "Epoch 133/200, Cost: 0.128, Val Error: 8.35%, lr: 0.001, Time: 79s\n",
      "Epoch 134/200, Cost: 0.129, Val Error: 7.95%, lr: 0.001, Time: 79s\n",
      "Epoch 135/200, Cost: 0.131, Val Error: 8.10%, lr: 0.001, Time: 79s\n",
      "Epoch 136/200, Cost: 0.120, Val Error: 7.85%, lr: 0.001, Time: 78s\n",
      "Epoch 137/200, Cost: 0.118, Val Error: 7.74%, lr: 0.001, Time: 79s\n",
      "Epoch 138/200, Cost: 0.124, Val Error: 7.79%, lr: 0.001, Time: 79s\n",
      "Epoch 139/200, Cost: 0.118, Val Error: 7.64%, lr: 0.001, Time: 79s\n",
      "Epoch 140/200, Cost: 0.121, Val Error: 8.00%, lr: 0.001, Time: 79s\n",
      "Epoch 141/200, Cost: 0.112, Val Error: 8.15%, lr: 0.001, Time: 79s\n",
      "Epoch 142/200, Cost: 0.115, Val Error: 8.25%, lr: 0.001, Time: 78s\n",
      "Epoch 143/200, Cost: 0.110, Val Error: 7.85%, lr: 0.001, Time: 78s\n",
      "Epoch 144/200, Cost: 0.123, Val Error: 7.64%, lr: 0.001, Time: 79s\n",
      "Epoch 145/200, Cost: 0.119, Val Error: 7.85%, lr: 0.001, Time: 78s\n",
      "Epoch 146/200, Cost: 0.108, Val Error: 7.79%, lr: 0.001, Time: 79s\n",
      "Epoch 147/200, Cost: 0.110, Val Error: 8.41%, lr: 0.001, Time: 79s\n",
      "Epoch 148/200, Cost: 0.115, Val Error: 8.15%, lr: 0.001, Time: 78s\n",
      "Epoch 149/200, Cost: 0.108, Val Error: 8.05%, lr: 0.001, Time: 77s\n",
      "Epoch 150/200, Cost: 0.119, Val Error: 7.95%, lr: 0.001, Time: 78s\n",
      "Epoch 151/200, Cost: 0.111, Val Error: 8.00%, lr: 0.001, Time: 79s\n",
      "Epoch 152/200, Cost: 0.097, Val Error: 7.79%, lr: 0.001, Time: 78s\n",
      "Epoch 153/200, Cost: 0.108, Val Error: 7.59%, lr: 0.001, Time: 79s\n",
      "Epoch 154/200, Cost: 0.100, Val Error: 7.54%, lr: 0.001, Time: 79s\n",
      "Epoch 155/200, Cost: 0.101, Val Error: 7.54%, lr: 0.001, Time: 78s\n",
      "Epoch 156/200, Cost: 0.106, Val Error: 7.64%, lr: 0.001, Time: 79s\n",
      "Epoch 157/200, Cost: 0.097, Val Error: 7.59%, lr: 0.001, Time: 79s\n",
      "Epoch 158/200, Cost: 0.107, Val Error: 7.90%, lr: 0.001, Time: 78s\n",
      "Epoch 159/200, Cost: 0.109, Val Error: 7.85%, lr: 0.001, Time: 79s\n",
      "Epoch 160/200, Cost: 0.106, Val Error: 7.64%, lr: 0.001, Time: 79s\n",
      "Epoch 161/200, Cost: 0.106, Val Error: 7.85%, lr: 0.001, Time: 78s\n",
      "Epoch 162/200, Cost: 0.112, Val Error: 7.59%, lr: 0.001, Time: 78s\n",
      "Epoch 163/200, Cost: 0.094, Val Error: 8.15%, lr: 0.001, Time: 79s\n",
      "Epoch 164/200, Cost: 0.099, Val Error: 8.15%, lr: 0.001, Time: 79s\n",
      "Epoch 165/200, Cost: 0.105, Val Error: 7.74%, lr: 0.001, Time: 80s\n",
      "Epoch 166/200, Cost: 0.099, Val Error: 7.44%, lr: 0.001, Time: 79s\n",
      "Epoch 167/200, Cost: 0.102, Val Error: 7.69%, lr: 0.001, Time: 78s\n",
      "Epoch 168/200, Cost: 0.094, Val Error: 8.05%, lr: 0.001, Time: 79s\n",
      "Epoch 169/200, Cost: 0.102, Val Error: 7.79%, lr: 0.001, Time: 79s\n",
      "Epoch 170/200, Cost: 0.090, Val Error: 7.74%, lr: 0.001, Time: 79s\n",
      "Epoch 171/200, Cost: 0.099, Val Error: 7.64%, lr: 0.001, Time: 79s\n",
      "Epoch 172/200, Cost: 0.091, Val Error: 7.39%, lr: 0.001, Time: 79s\n",
      "Epoch 173/200, Cost: 0.094, Val Error: 7.64%, lr: 0.001, Time: 79s\n",
      "Epoch 174/200, Cost: 0.098, Val Error: 7.79%, lr: 0.001, Time: 79s\n",
      "Epoch 175/200, Cost: 0.102, Val Error: 7.44%, lr: 0.001, Time: 79s\n",
      "Epoch 176/200, Cost: 0.098, Val Error: 7.85%, lr: 0.001, Time: 78s\n",
      "Epoch 177/200, Cost: 0.101, Val Error: 7.69%, lr: 0.001, Time: 79s\n",
      "Epoch 178/200, Cost: 0.100, Val Error: 7.54%, lr: 0.001, Time: 79s\n",
      "Epoch 179/200, Cost: 0.097, Val Error: 7.95%, lr: 0.001, Time: 78s\n",
      "Epoch 180/200, Cost: 0.097, Val Error: 7.49%, lr: 0.001, Time: 79s\n",
      "Epoch 181/200, Cost: 0.095, Val Error: 7.74%, lr: 0.001, Time: 79s\n",
      "Epoch 182/200, Cost: 0.095, Val Error: 7.34%, lr: 0.001, Time: 78s\n",
      "Epoch 183/200, Cost: 0.095, Val Error: 7.59%, lr: 0.001, Time: 79s\n",
      "Epoch 184/200, Cost: 0.106, Val Error: 7.74%, lr: 0.001, Time: 79s\n",
      "Epoch 185/200, Cost: 0.090, Val Error: 7.39%, lr: 0.001, Time: 79s\n",
      "Epoch 186/200, Cost: 0.101, Val Error: 7.44%, lr: 0.001, Time: 78s\n",
      "Epoch 187/200, Cost: 0.097, Val Error: 7.18%, lr: 0.001, Time: 78s\n",
      "Epoch 188/200, Cost: 0.098, Val Error: 7.44%, lr: 0.001, Time: 79s\n",
      "Epoch 189/200, Cost: 0.100, Val Error: 7.54%, lr: 0.001, Time: 79s\n",
      "Epoch 190/200, Cost: 0.094, Val Error: 7.95%, lr: 0.001, Time: 78s\n",
      "Epoch 191/200, Cost: 0.095, Val Error: 7.64%, lr: 0.001, Time: 79s\n",
      "Epoch 192/200, Cost: 0.092, Val Error: 7.59%, lr: 0.001, Time: 79s\n",
      "Epoch 193/200, Cost: 0.094, Val Error: 7.90%, lr: 0.001, Time: 79s\n",
      "Epoch 194/200, Cost: 0.090, Val Error: 7.79%, lr: 0.001, Time: 79s\n",
      "Epoch 195/200, Cost: 0.099, Val Error: 7.34%, lr: 0.001, Time: 79s\n",
      "Epoch 196/200, Cost: 0.096, Val Error: 7.34%, lr: 0.001, Time: 79s\n",
      "Epoch 197/200, Cost: 0.084, Val Error: 7.69%, lr: 0.001, Time: 79s\n",
      "Epoch 198/200, Cost: 0.100, Val Error: 7.13%, lr: 0.001, Time: 79s\n",
      "Epoch 199/200, Cost: 0.105, Val Error: 7.13%, lr: 0.001, Time: 79s\n",
      "Epoch 200/200, Cost: 0.088, Val Error: 7.28%, lr: 0.001, Time: 79s\n",
      "Training time: 262m\n"
     ]
    }
   ],
   "source": [
    "costs, val_error_rates, learning_rates = train(\n",
    "\n",
    "    compiled_model,\n",
    "\n",
    "    train_dataset=train_dataset,\n",
    "\n",
    "    cv_dataset=val_dataset,\n",
    "\n",
    "    batch_size=128,\n",
    "\n",
    "    num_epochs=200,\n",
    "\n",
    "    initial_lr=0.01,\n",
    "\n",
    "    num_workers=3,\n",
    "\n",
    "    patience=20,\n",
    "\n",
    ")"
   ]
  },
  {
   "cell_type": "code",
   "execution_count": 6,
   "id": "67bb1e4a",
   "metadata": {
    "execution": {
     "iopub.execute_input": "2024-12-04T21:34:05.383584Z",
     "iopub.status.busy": "2024-12-04T21:34:05.382801Z",
     "iopub.status.idle": "2024-12-04T21:34:05.387026Z",
     "shell.execute_reply": "2024-12-04T21:34:05.386270Z"
    },
    "papermill": {
     "duration": 0.019989,
     "end_time": "2024-12-04T21:34:05.388673",
     "exception": false,
     "start_time": "2024-12-04T21:34:05.368684",
     "status": "completed"
    },
    "tags": []
   },
   "outputs": [],
   "source": [
    "# torch.save(model.state_dict(), 'improved_imagenette.model.pt')\n",
    "\n",
    "# torch.save(preprocess, 'improved_imagenette.preprocess.pt')\n",
    "\n",
    "# torch.save(train_augment, 'improved_imagenette.train_augment.pt')"
   ]
  },
  {
   "cell_type": "code",
   "execution_count": 7,
   "id": "602a55ee",
   "metadata": {
    "execution": {
     "iopub.execute_input": "2024-12-04T21:34:05.416032Z",
     "iopub.status.busy": "2024-12-04T21:34:05.415726Z",
     "iopub.status.idle": "2024-12-04T21:37:20.493373Z",
     "shell.execute_reply": "2024-12-04T21:37:20.492216Z"
    },
    "papermill": {
     "duration": 195.106774,
     "end_time": "2024-12-04T21:37:20.508650",
     "exception": false,
     "start_time": "2024-12-04T21:34:05.401876",
     "status": "completed"
    },
    "tags": []
   },
   "outputs": [
    {
     "name": "stdout",
     "output_type": "stream",
     "text": [
      "Test Top 1: 0.9225280326197758\n",
      "Test Top 5: 0.9933741080530072\n",
      "Val Top 1: 0.9271523178807947\n",
      "Val Top 5: 0.9918492103922567\n",
      "Train Top 1: 1.0\n",
      "Train Top 5: 1.0\n"
     ]
    }
   ],
   "source": [
    "test_top1, test_top5 = top1_k(compiled_model, test_dataset, k=5)\n",
    "\n",
    "print(f'Test Top 1: {test_top1}')\n",
    "\n",
    "print(f'Test Top 5: {test_top5}')\n",
    "\n",
    "\n",
    "\n",
    "val_top1, val_top5 = top1_k(compiled_model, val_dataset, k=5)\n",
    "\n",
    "print(f'Val Top 1: {val_top1}')\n",
    "\n",
    "print(f'Val Top 5: {val_top5}')\n",
    "\n",
    "\n",
    "\n",
    "train_eval_dataset = datasets.Imagenette(\n",
    "\n",
    "    'datasets/imagenette', split='train', size='320px', transform=preprocess)\n",
    "\n",
    "train_top1, train_top5 = top1_k(compiled_model, train_eval_dataset, k=5)\n",
    "\n",
    "print(f'Train Top 1: {train_top1}')\n",
    "\n",
    "print(f'Train Top 5: {train_top5}')"
   ]
  },
  {
   "cell_type": "code",
   "execution_count": 8,
   "id": "2a0f3157",
   "metadata": {
    "execution": {
     "iopub.execute_input": "2024-12-04T21:37:20.536412Z",
     "iopub.status.busy": "2024-12-04T21:37:20.536090Z",
     "iopub.status.idle": "2024-12-04T21:37:20.824355Z",
     "shell.execute_reply": "2024-12-04T21:37:20.823437Z"
    },
    "papermill": {
     "duration": 0.304413,
     "end_time": "2024-12-04T21:37:20.826246",
     "exception": false,
     "start_time": "2024-12-04T21:37:20.521833",
     "status": "completed"
    },
    "tags": []
   },
   "outputs": [
    {
     "data": {
      "text/plain": [
       "Text(0.5, 1.0, 'Costs')"
      ]
     },
     "execution_count": 8,
     "metadata": {},
     "output_type": "execute_result"
    },
    {
     "data": {
      "image/png": "[encoded data removed]",
      "text/plain": [
       "<Figure size 640x480 with 1 Axes>"
      ]
     },
     "metadata": {},
     "output_type": "display_data"
    }
   ],
   "source": [
    "plt.plot(costs)\n",
    "\n",
    "plt.xlabel(\"Epoch\")\n",
    "\n",
    "plt.title('Costs')"
   ]
  },
  {
   "cell_type": "code",
   "execution_count": 9,
   "id": "72663bd6",
   "metadata": {
    "execution": {
     "iopub.execute_input": "2024-12-04T21:37:20.855072Z",
     "iopub.status.busy": "2024-12-04T21:37:20.854763Z",
     "iopub.status.idle": "2024-12-04T21:37:21.234714Z",
     "shell.execute_reply": "2024-12-04T21:37:21.233817Z"
    },
    "papermill": {
     "duration": 0.396278,
     "end_time": "2024-12-04T21:37:21.236501",
     "exception": false,
     "start_time": "2024-12-04T21:37:20.840223",
     "status": "completed"
    },
    "tags": []
   },
   "outputs": [
    {
     "data": {
      "text/plain": [
       "Text(0.5, 1.0, 'Validation Error Rates')"
      ]
     },
     "execution_count": 9,
     "metadata": {},
     "output_type": "execute_result"
    },
    {
     "data": {
      "image/png": "[encoded data removed]",
      "text/plain": [
       "<Figure size 640x480 with 1 Axes>"
      ]
     },
     "metadata": {},
     "output_type": "display_data"
    }
   ],
   "source": [
    "plt.plot(val_error_rates)\n",
    "\n",
    "plt.xlabel(\"Epoch\")\n",
    "\n",
    "plt.title('Validation Error Rates')"
   ]
  },
  {
   "cell_type": "code",
   "execution_count": 10,
   "id": "4fb6eed9",
   "metadata": {
    "execution": {
     "iopub.execute_input": "2024-12-04T21:37:21.267056Z",
     "iopub.status.busy": "2024-12-04T21:37:21.266748Z",
     "iopub.status.idle": "2024-12-04T21:37:21.525447Z",
     "shell.execute_reply": "2024-12-04T21:37:21.524365Z"
    },
    "papermill": {
     "duration": 0.275705,
     "end_time": "2024-12-04T21:37:21.527250",
     "exception": false,
     "start_time": "2024-12-04T21:37:21.251545",
     "status": "completed"
    },
    "tags": []
   },
   "outputs": [
    {
     "data": {
      "text/plain": [
       "Text(0.5, 1.0, 'Learning Rates')"
      ]
     },
     "execution_count": 10,
     "metadata": {},
     "output_type": "execute_result"
    },
    {
     "data": {
      "image/png": "[encoded data removed]",
      "text/plain": [
       "<Figure size 640x480 with 1 Axes>"
      ]
     },
     "metadata": {},
     "output_type": "display_data"
    }
   ],
   "source": [
    "import math\n",
    "\n",
    "\n",
    "\n",
    "plt.plot([math.log10(lr) for lr in learning_rates])\n",
    "\n",
    "plt.ylabel(\"Log10(lr)\")\n",
    "\n",
    "plt.xlabel(\"Epoch\")\n",
    "\n",
    "plt.title('Learning Rates')"
   ]
  }
 ],
 "metadata": {
  "kaggle": {
   "accelerator": "none",
   "dataSources": [
    {
     "isSourceIdPinned": true,
     "modelId": 182905,
     "modelInstanceId": 160531,
     "sourceId": 188288,
     "sourceType": "modelInstanceVersion"
    }
   ],
   "dockerImageVersionId": 30805,
   "isGpuEnabled": false,
   "isInternetEnabled": true,
   "language": "python",
   "sourceType": "notebook"
  },
  "kernelspec": {
   "display_name": "Python 3",
   "language": "python",
   "name": "python3"
  },
  "language_info": {
   "codemirror_mode": {
    "name": "ipython",
    "version": 3
   },
   "file_extension": ".py",
   "mimetype": "text/x-python",
   "name": "python",
   "nbconvert_exporter": "python",
   "pygments_lexer": "ipython3",
   "version": "3.10.14"
  },
  "papermill": {
   "default_parameters": {},
   "duration": 16018.593853,
   "end_time": "2024-12-04T21:37:22.963273",
   "environment_variables": {},
   "exception": null,
   "input_path": "__notebook__.ipynb",
   "output_path": "__notebook__.ipynb",
   "parameters": {},
   "start_time": "2024-12-04T17:10:24.369420",
   "version": "2.6.0"
  }
 },
 "nbformat": 4,
 "nbformat_minor": 5
}
