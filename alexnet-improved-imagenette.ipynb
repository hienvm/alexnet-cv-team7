{
 "cells": [
  {
   "cell_type": "code",
   "execution_count": 1,
   "id": "825ab53b",
   "metadata": {
    "execution": {
     "iopub.execute_input": "2024-11-25T21:52:27.539189Z",
     "iopub.status.busy": "2024-11-25T21:52:27.538499Z",
     "iopub.status.idle": "2024-11-25T21:52:31.793095Z",
     "shell.execute_reply": "2024-11-25T21:52:31.792362Z"
    },
    "papermill": {
     "duration": 4.260749,
     "end_time": "2024-11-25T21:52:31.795083",
     "exception": false,
     "start_time": "2024-11-25T21:52:27.534334",
     "status": "completed"
    },
    "tags": []
   },
   "outputs": [],
   "source": [
    "import sys\n",
    "sys.path.append('/kaggle/input/alexnet/pytorch/improved/1')\n",
    "import torch\n",
    "import torch.nn as nn\n",
    "from torchvision import datasets\n",
    "from improved.model import AlexNetImproved, init_params\n",
    "from improved.pca import pca\n",
    "from improved.data_transforms import calc_mean_std, prepreprocess, get_preprocess, get_train_augment\n",
    "from improved.train import train\n",
    "import matplotlib.pyplot as plt\n",
    "from improved.eval import top1_k "
   ]
  },
  {
   "cell_type": "code",
   "execution_count": 2,
   "id": "846f6de0",
   "metadata": {
    "execution": {
     "iopub.execute_input": "2024-11-25T21:52:31.800635Z",
     "iopub.status.busy": "2024-11-25T21:52:31.800274Z",
     "iopub.status.idle": "2024-11-25T21:52:31.810018Z",
     "shell.execute_reply": "2024-11-25T21:52:31.809145Z"
    },
    "papermill": {
     "duration": 0.014139,
     "end_time": "2024-11-25T21:52:31.811611",
     "exception": false,
     "start_time": "2024-11-25T21:52:31.797472",
     "status": "completed"
    },
    "tags": []
   },
   "outputs": [
    {
     "name": "stdout",
     "output_type": "stream",
     "text": [
      "cpu\n"
     ]
    }
   ],
   "source": [
    "torch.manual_seed(0)\n",
    "device = torch.device(\"cuda\" if torch.cuda.is_available() else \"cpu\")\n",
    "print(device)"
   ]
  },
  {
   "cell_type": "code",
   "execution_count": 4,
   "id": "70bf1955",
   "metadata": {
    "execution": {
     "iopub.execute_input": "2024-11-25T21:52:31.816905Z",
     "iopub.status.busy": "2024-11-25T21:52:31.816431Z",
     "iopub.status.idle": "2024-11-25T21:53:57.615643Z",
     "shell.execute_reply": "2024-11-25T21:53:57.614332Z"
    },
    "papermill": {
     "duration": 85.809325,
     "end_time": "2024-11-25T21:53:57.623021",
     "exception": false,
     "start_time": "2024-11-25T21:52:31.813696",
     "status": "completed"
    },
    "tags": []
   },
   "outputs": [
    {
     "name": "stdout",
     "output_type": "stream",
     "text": [
      "Mean:\n",
      "[0.4666738510131836, 0.45878851413726807, 0.43018630146980286]\n",
      "Standard Deviation:\n",
      "[0.28020089864730835, 0.27625083923339844, 0.2981722056865692]\n",
      "Covar:\n",
      "tensor([[0.9991, 0.9045, 0.7746],\n",
      "        [0.9045, 0.9992, 0.9084],\n",
      "        [0.7746, 0.9084, 0.9997]])\n",
      "Eigen values (sqrt):\n",
      "tensor([[0.2178],\n",
      "        [0.4742],\n",
      "        [1.6510]])\n",
      "Eigen vectors:\n",
      "tensor([[ 0.4133, -0.7124, -0.5672],\n",
      "        [-0.8029,  0.0089, -0.5961],\n",
      "        [ 0.4297,  0.7017, -0.5683]])\n",
      "Train: 9469\n",
      "Validation: 1963\n",
      "Test: 1962\n"
     ]
    }
   ],
   "source": [
    "train_dataset = datasets.Imagenette(\n",
    "    'datasets/imagenette', split='train', size='320px', transform=prepreprocess)\n",
    "mean, std = calc_mean_std(train_dataset)\n",
    "print(f'Mean:\\n{mean}')\n",
    "print(f'Standard Deviation:\\n{std}')\n",
    "preprocess = get_preprocess(mean, std)\n",
    "\n",
    "train_dataset = datasets.Imagenette(\n",
    "    'datasets/imagenette', split='train', size='320px', transform=preprocess)\n",
    "eigvals, eigvecs = pca(train_dataset)\n",
    "train_augment = get_train_augment(eigvals, eigvecs, mean, std)\n",
    "\n",
    "train_dataset = datasets.Imagenette(\n",
    "    'datasets/imagenette', split='train', size='320px', transform=train_augment)\n",
    "\n",
    "val_dataset = datasets.Imagenette(\n",
    "    'datasets/imagenette', split='val', size='320px',transform=preprocess)\n",
    "val_dataset, test_dataset = torch.utils.data.random_split(val_dataset, [0.5, 0.5])\n",
    "\n",
    "print(f'Train: {len(train_dataset)}')\n",
    "print(f'Validation: {len(val_dataset)}')\n",
    "print(f'Test: {len(test_dataset)}')"
   ]
  },
  {
   "cell_type": "code",
   "execution_count": 4,
   "id": "47614066",
   "metadata": {
    "execution": {
     "iopub.execute_input": "2024-11-25T21:53:57.639695Z",
     "iopub.status.busy": "2024-11-25T21:53:57.638791Z",
     "iopub.status.idle": "2024-11-25T21:53:57.661709Z",
     "shell.execute_reply": "2024-11-25T21:53:57.660948Z"
    },
    "papermill": {
     "duration": 0.031964,
     "end_time": "2024-11-25T21:53:57.663386",
     "exception": false,
     "start_time": "2024-11-25T21:53:57.631422",
     "status": "completed"
    },
    "tags": []
   },
   "outputs": [],
   "source": [
    "model = AlexNetImproved(len(train_dataset.classes))\n",
    "if torch.cuda.device_count() > 1:\n",
    "    print(f'Using {torch.cuda.device_count()} GPUs.')\n",
    "    model = nn.DataParallel(model)\n",
    "model.to(device)\n",
    "# initialize parameters\n",
    "init_params(model)\n",
    "compiled_model = model\n",
    "# if torch.cuda.is_available():\n",
    "#     compiled_model = torch.compile(model)"
   ]
  },
  {
   "cell_type": "code",
   "execution_count": 5,
   "id": "9b74a2f3",
   "metadata": {
    "execution": {
     "iopub.execute_input": "2024-11-25T21:53:57.676696Z",
     "iopub.status.busy": "2024-11-25T21:53:57.676348Z",
     "iopub.status.idle": "2024-11-25T23:55:04.462236Z",
     "shell.execute_reply": "2024-11-25T23:55:04.461034Z"
    },
    "papermill": {
     "duration": 7266.808367,
     "end_time": "2024-11-25T23:55:04.477795",
     "exception": false,
     "start_time": "2024-11-25T21:53:57.669428",
     "status": "completed"
    },
    "tags": []
   },
   "outputs": [
    {
     "name": "stdout",
     "output_type": "stream",
     "text": [
      "Epoch 1/200, Cost: 5.324, CV_Error: 84.97%, lr: 0.01, Time: 36.4780752658844\n",
      "Epoch 2/200, Cost: 2.445, CV_Error: 82.22%, lr: 0.01, Time: 36.49488830566406\n",
      "Epoch 3/200, Cost: 2.376, CV_Error: 75.50%, lr: 0.01, Time: 36.068235874176025\n",
      "Epoch 4/200, Cost: 2.198, CV_Error: 72.03%, lr: 0.01, Time: 35.87571310997009\n",
      "Epoch 5/200, Cost: 2.006, CV_Error: 72.49%, lr: 0.01, Time: 35.78767275810242\n",
      "Epoch 6/200, Cost: 1.844, CV_Error: 65.16%, lr: 0.01, Time: 35.86994981765747\n",
      "Epoch 7/200, Cost: 1.752, CV_Error: 65.56%, lr: 0.01, Time: 36.51343488693237\n",
      "Epoch 8/200, Cost: 1.684, CV_Error: 78.60%, lr: 0.01, Time: 36.03931498527527\n",
      "Epoch 9/200, Cost: 1.644, CV_Error: 86.81%, lr: 0.01, Time: 35.56862711906433\n",
      "Epoch 10/200, Cost: 1.582, CV_Error: 53.08%, lr: 0.01, Time: 36.43456697463989\n",
      "Epoch 11/200, Cost: 1.569, CV_Error: 62.10%, lr: 0.01, Time: 36.05973696708679\n",
      "Epoch 12/200, Cost: 1.512, CV_Error: 57.26%, lr: 0.01, Time: 35.79431986808777\n",
      "Epoch 13/200, Cost: 1.464, CV_Error: 62.46%, lr: 0.01, Time: 35.4881637096405\n",
      "Epoch 14/200, Cost: 1.449, CV_Error: 49.97%, lr: 0.01, Time: 35.992902755737305\n",
      "Epoch 15/200, Cost: 1.442, CV_Error: 46.36%, lr: 0.01, Time: 36.0552134513855\n",
      "Epoch 16/200, Cost: 1.379, CV_Error: 44.01%, lr: 0.01, Time: 36.15949010848999\n",
      "Epoch 17/200, Cost: 1.375, CV_Error: 64.70%, lr: 0.01, Time: 35.61135673522949\n",
      "Epoch 18/200, Cost: 1.378, CV_Error: 48.45%, lr: 0.01, Time: 35.73182225227356\n",
      "Epoch 19/200, Cost: 1.347, CV_Error: 38.36%, lr: 0.01, Time: 36.87553834915161\n",
      "Epoch 20/200, Cost: 1.340, CV_Error: 50.28%, lr: 0.01, Time: 35.23286819458008\n",
      "Epoch 21/200, Cost: 1.342, CV_Error: 44.93%, lr: 0.01, Time: 36.17026138305664\n",
      "Epoch 22/200, Cost: 1.322, CV_Error: 45.49%, lr: 0.01, Time: 36.12354230880737\n",
      "Epoch 23/200, Cost: 1.281, CV_Error: 46.66%, lr: 0.01, Time: 35.64344239234924\n",
      "Epoch 24/200, Cost: 1.286, CV_Error: 39.58%, lr: 0.01, Time: 35.64260292053223\n",
      "Epoch 25/200, Cost: 1.270, CV_Error: 49.72%, lr: 0.01, Time: 34.93118476867676\n",
      "Epoch 26/200, Cost: 1.291, CV_Error: 47.78%, lr: 0.01, Time: 35.87276554107666\n",
      "Epoch 27/200, Cost: 1.266, CV_Error: 50.99%, lr: 0.01, Time: 36.348724126815796\n",
      "Epoch 28/200, Cost: 1.260, CV_Error: 46.92%, lr: 0.01, Time: 36.26903676986694\n",
      "Epoch 29/200, Cost: 1.256, CV_Error: 47.07%, lr: 0.01, Time: 35.89062547683716\n",
      "Epoch 30/200, Cost: 1.256, CV_Error: 43.05%, lr: 0.01, Time: 36.486494064331055\n",
      "Epoch 31/200, Cost: 1.252, CV_Error: 54.00%, lr: 0.01, Time: 36.53417682647705\n",
      "Epoch 32/200, Cost: 1.260, CV_Error: 58.28%, lr: 0.01, Time: 35.78033137321472\n",
      "Epoch 33/200, Cost: 1.228, CV_Error: 50.18%, lr: 0.01, Time: 36.25520849227905\n",
      "Epoch 34/200, Cost: 1.232, CV_Error: 46.66%, lr: 0.01, Time: 35.77757787704468\n",
      "Epoch 35/200, Cost: 1.250, CV_Error: 54.92%, lr: 0.01, Time: 35.91598916053772\n",
      "Epoch 36/200, Cost: 1.228, CV_Error: 39.17%, lr: 0.01, Time: 35.17435383796692\n",
      "Epoch 37/200, Cost: 1.213, CV_Error: 48.50%, lr: 0.01, Time: 36.807188510894775\n",
      "Epoch 38/200, Cost: 1.198, CV_Error: 35.81%, lr: 0.01, Time: 35.01648569107056\n",
      "Epoch 39/200, Cost: 1.193, CV_Error: 43.66%, lr: 0.01, Time: 35.89162635803223\n",
      "Epoch 40/200, Cost: 1.220, CV_Error: 50.79%, lr: 0.01, Time: 35.58442306518555\n",
      "Epoch 41/200, Cost: 1.163, CV_Error: 35.86%, lr: 0.01, Time: 36.02293515205383\n",
      "Epoch 42/200, Cost: 1.229, CV_Error: 48.80%, lr: 0.01, Time: 35.96220111846924\n",
      "Epoch 43/200, Cost: 1.193, CV_Error: 43.30%, lr: 0.01, Time: 35.17647457122803\n",
      "Epoch 44/200, Cost: 1.207, CV_Error: 38.26%, lr: 0.01, Time: 36.086674451828\n",
      "Epoch 45/200, Cost: 1.181, CV_Error: 33.62%, lr: 0.01, Time: 35.557119607925415\n",
      "Epoch 46/200, Cost: 1.187, CV_Error: 33.62%, lr: 0.01, Time: 35.71744084358215\n",
      "Epoch 47/200, Cost: 1.154, CV_Error: 47.94%, lr: 0.01, Time: 35.73366117477417\n",
      "Epoch 48/200, Cost: 1.180, CV_Error: 43.66%, lr: 0.01, Time: 35.32695293426514\n",
      "Epoch 49/200, Cost: 1.169, CV_Error: 59.86%, lr: 0.01, Time: 35.95381808280945\n",
      "Epoch 50/200, Cost: 1.186, CV_Error: 36.53%, lr: 0.01, Time: 36.43867230415344\n",
      "Epoch 51/200, Cost: 1.180, CV_Error: 38.67%, lr: 0.01, Time: 35.71772336959839\n",
      "Epoch 52/200, Cost: 1.176, CV_Error: 39.58%, lr: 0.01, Time: 36.177366971969604\n",
      "Epoch 53/200, Cost: 1.176, CV_Error: 70.56%, lr: 0.01, Time: 36.794708013534546\n",
      "Epoch 54/200, Cost: 1.179, CV_Error: 46.82%, lr: 0.01, Time: 35.62691783905029\n",
      "Epoch 55/200, Cost: 1.168, CV_Error: 39.53%, lr: 0.01, Time: 35.98333477973938\n",
      "Epoch 56/200, Cost: 1.163, CV_Error: 47.48%, lr: 0.01, Time: 36.62045741081238\n",
      "Epoch 57/200, Cost: 1.140, CV_Error: 36.07%, lr: 0.01, Time: 36.45264482498169\n",
      "Epoch 58/200, Cost: 1.159, CV_Error: 46.00%, lr: 0.01, Time: 35.74902105331421\n",
      "Epoch 59/200, Cost: 1.149, CV_Error: 41.62%, lr: 0.01, Time: 36.168992042541504\n",
      "Epoch 60/200, Cost: 1.163, CV_Error: 40.40%, lr: 0.01, Time: 35.98374962806702\n",
      "Epoch 61/200, Cost: 1.156, CV_Error: 35.86%, lr: 0.01, Time: 36.433509349823\n",
      "Epoch 62/200, Cost: 1.158, CV_Error: 46.26%, lr: 0.01, Time: 36.36182141304016\n",
      "Epoch 63/200, Cost: 1.122, CV_Error: 66.07%, lr: 0.01, Time: 36.89660048484802\n",
      "Epoch 64/200, Cost: 1.150, CV_Error: 48.04%, lr: 0.01, Time: 35.614550828933716\n",
      "Epoch 65/200, Cost: 1.137, CV_Error: 36.58%, lr: 0.01, Time: 35.90981888771057\n",
      "Epoch 66/200, Cost: 1.129, CV_Error: 43.45%, lr: 0.001, Time: 35.83602261543274\n",
      "Epoch 67/200, Cost: 0.993, CV_Error: 20.84%, lr: 0.001, Time: 36.704116106033325\n",
      "Epoch 68/200, Cost: 0.935, CV_Error: 19.31%, lr: 0.001, Time: 36.784361362457275\n",
      "Epoch 69/200, Cost: 0.931, CV_Error: 19.71%, lr: 0.001, Time: 36.871527910232544\n",
      "Epoch 70/200, Cost: 0.904, CV_Error: 20.84%, lr: 0.001, Time: 36.97334837913513\n",
      "Epoch 71/200, Cost: 0.906, CV_Error: 20.63%, lr: 0.001, Time: 36.177653551101685\n",
      "Epoch 72/200, Cost: 0.884, CV_Error: 21.09%, lr: 0.001, Time: 36.911001682281494\n",
      "Epoch 73/200, Cost: 0.867, CV_Error: 19.82%, lr: 0.001, Time: 36.846654176712036\n",
      "Epoch 74/200, Cost: 0.869, CV_Error: 19.82%, lr: 0.001, Time: 37.260727405548096\n",
      "Epoch 75/200, Cost: 0.867, CV_Error: 20.33%, lr: 0.001, Time: 35.95923638343811\n",
      "Epoch 76/200, Cost: 0.869, CV_Error: 19.46%, lr: 0.001, Time: 35.908252477645874\n",
      "Epoch 77/200, Cost: 0.863, CV_Error: 19.46%, lr: 0.001, Time: 36.112889766693115\n",
      "Epoch 78/200, Cost: 0.853, CV_Error: 20.63%, lr: 0.001, Time: 36.10994791984558\n",
      "Epoch 79/200, Cost: 0.863, CV_Error: 20.48%, lr: 0.001, Time: 35.61751651763916\n",
      "Epoch 80/200, Cost: 0.853, CV_Error: 20.28%, lr: 0.001, Time: 36.64767241477966\n",
      "Epoch 81/200, Cost: 0.849, CV_Error: 19.21%, lr: 0.001, Time: 36.20094180107117\n",
      "Epoch 82/200, Cost: 0.852, CV_Error: 21.24%, lr: 0.001, Time: 35.530938148498535\n",
      "Epoch 83/200, Cost: 0.849, CV_Error: 18.64%, lr: 0.001, Time: 36.92602252960205\n",
      "Epoch 84/200, Cost: 0.838, CV_Error: 19.21%, lr: 0.001, Time: 36.66470766067505\n",
      "Epoch 85/200, Cost: 0.835, CV_Error: 19.05%, lr: 0.001, Time: 36.55308175086975\n",
      "Epoch 86/200, Cost: 0.815, CV_Error: 18.39%, lr: 0.001, Time: 36.282074213027954\n",
      "Epoch 87/200, Cost: 0.816, CV_Error: 17.78%, lr: 0.001, Time: 37.099693298339844\n",
      "Epoch 88/200, Cost: 0.809, CV_Error: 18.24%, lr: 0.001, Time: 36.53020453453064\n",
      "Epoch 89/200, Cost: 0.810, CV_Error: 18.54%, lr: 0.001, Time: 36.25217008590698\n",
      "Epoch 90/200, Cost: 0.798, CV_Error: 21.09%, lr: 0.001, Time: 36.79408359527588\n",
      "Epoch 91/200, Cost: 0.809, CV_Error: 18.64%, lr: 0.001, Time: 35.91935062408447\n",
      "Epoch 92/200, Cost: 0.815, CV_Error: 20.22%, lr: 0.001, Time: 37.0348219871521\n",
      "Epoch 93/200, Cost: 0.804, CV_Error: 19.36%, lr: 0.001, Time: 35.646902084350586\n",
      "Epoch 94/200, Cost: 0.791, CV_Error: 19.15%, lr: 0.001, Time: 36.56849122047424\n",
      "Epoch 95/200, Cost: 0.821, CV_Error: 18.90%, lr: 0.001, Time: 36.16932964324951\n",
      "Epoch 96/200, Cost: 0.787, CV_Error: 20.02%, lr: 0.001, Time: 36.39702272415161\n",
      "Epoch 97/200, Cost: 0.793, CV_Error: 18.80%, lr: 0.001, Time: 36.27932548522949\n",
      "Epoch 98/200, Cost: 0.795, CV_Error: 19.82%, lr: 0.001, Time: 36.60219049453735\n",
      "Epoch 99/200, Cost: 0.778, CV_Error: 18.90%, lr: 0.001, Time: 37.00489902496338\n",
      "Epoch 100/200, Cost: 0.785, CV_Error: 18.54%, lr: 0.001, Time: 35.941768646240234\n",
      "Epoch 101/200, Cost: 0.796, CV_Error: 17.52%, lr: 0.001, Time: 36.444478034973145\n",
      "Epoch 102/200, Cost: 0.784, CV_Error: 19.77%, lr: 0.001, Time: 36.68269205093384\n",
      "Epoch 103/200, Cost: 0.779, CV_Error: 18.54%, lr: 0.001, Time: 36.47454595565796\n",
      "Epoch 104/200, Cost: 0.783, CV_Error: 18.70%, lr: 0.001, Time: 37.126025438308716\n",
      "Epoch 105/200, Cost: 0.778, CV_Error: 18.95%, lr: 0.001, Time: 37.18820548057556\n",
      "Epoch 106/200, Cost: 0.777, CV_Error: 20.12%, lr: 0.001, Time: 37.12160038948059\n",
      "Epoch 107/200, Cost: 0.770, CV_Error: 17.93%, lr: 0.001, Time: 36.53423810005188\n",
      "Epoch 108/200, Cost: 0.766, CV_Error: 18.08%, lr: 0.001, Time: 36.3517279624939\n",
      "Epoch 109/200, Cost: 0.755, CV_Error: 17.12%, lr: 0.001, Time: 37.212594509124756\n",
      "Epoch 110/200, Cost: 0.768, CV_Error: 18.54%, lr: 0.001, Time: 37.55725073814392\n",
      "Epoch 111/200, Cost: 0.768, CV_Error: 17.47%, lr: 0.001, Time: 36.64241313934326\n",
      "Epoch 112/200, Cost: 0.745, CV_Error: 16.20%, lr: 0.001, Time: 36.85300874710083\n",
      "Epoch 113/200, Cost: 0.756, CV_Error: 18.59%, lr: 0.001, Time: 36.97010922431946\n",
      "Epoch 114/200, Cost: 0.761, CV_Error: 19.05%, lr: 0.001, Time: 36.25400400161743\n",
      "Epoch 115/200, Cost: 0.771, CV_Error: 17.83%, lr: 0.001, Time: 36.180612325668335\n",
      "Epoch 116/200, Cost: 0.752, CV_Error: 17.58%, lr: 0.001, Time: 36.23734188079834\n",
      "Epoch 117/200, Cost: 0.739, CV_Error: 18.29%, lr: 0.001, Time: 36.98131203651428\n",
      "Epoch 118/200, Cost: 0.735, CV_Error: 17.98%, lr: 0.001, Time: 36.81854724884033\n",
      "Epoch 119/200, Cost: 0.749, CV_Error: 17.32%, lr: 0.001, Time: 35.71174168586731\n",
      "Epoch 120/200, Cost: 0.744, CV_Error: 17.52%, lr: 0.001, Time: 36.188132524490356\n",
      "Epoch 121/200, Cost: 0.745, CV_Error: 17.52%, lr: 0.001, Time: 36.77158856391907\n",
      "Epoch 122/200, Cost: 0.726, CV_Error: 17.12%, lr: 0.001, Time: 36.085331201553345\n",
      "Epoch 123/200, Cost: 0.722, CV_Error: 19.05%, lr: 0.001, Time: 36.137911319732666\n",
      "Epoch 124/200, Cost: 0.735, CV_Error: 17.22%, lr: 0.001, Time: 36.624932289123535\n",
      "Epoch 125/200, Cost: 0.731, CV_Error: 21.60%, lr: 0.001, Time: 36.52402973175049\n",
      "Epoch 126/200, Cost: 0.740, CV_Error: 17.22%, lr: 0.001, Time: 37.81673049926758\n",
      "Epoch 127/200, Cost: 0.744, CV_Error: 17.83%, lr: 0.001, Time: 37.86792230606079\n",
      "Epoch 128/200, Cost: 0.723, CV_Error: 17.73%, lr: 0.001, Time: 37.48821973800659\n",
      "Epoch 129/200, Cost: 0.740, CV_Error: 18.19%, lr: 0.001, Time: 36.99249505996704\n",
      "Epoch 130/200, Cost: 0.718, CV_Error: 16.30%, lr: 0.001, Time: 37.52976417541504\n",
      "Epoch 131/200, Cost: 0.743, CV_Error: 16.35%, lr: 0.001, Time: 35.521453619003296\n",
      "Epoch 132/200, Cost: 0.727, CV_Error: 17.88%, lr: 0.001, Time: 36.88263154029846\n",
      "Epoch 133/200, Cost: 0.718, CV_Error: 19.15%, lr: 0.0001, Time: 36.66790270805359\n",
      "Epoch 134/200, Cost: 0.675, CV_Error: 14.98%, lr: 0.0001, Time: 36.54911780357361\n",
      "Epoch 135/200, Cost: 0.675, CV_Error: 14.47%, lr: 0.0001, Time: 36.139155626297\n",
      "Epoch 136/200, Cost: 0.676, CV_Error: 14.47%, lr: 0.0001, Time: 36.43985438346863\n",
      "Epoch 137/200, Cost: 0.647, CV_Error: 14.88%, lr: 0.0001, Time: 36.0330593585968\n",
      "Epoch 138/200, Cost: 0.681, CV_Error: 14.11%, lr: 0.0001, Time: 36.58204913139343\n",
      "Epoch 139/200, Cost: 0.661, CV_Error: 14.11%, lr: 0.0001, Time: 35.853782176971436\n",
      "Epoch 140/200, Cost: 0.653, CV_Error: 14.77%, lr: 0.0001, Time: 35.3330774307251\n",
      "Epoch 141/200, Cost: 0.663, CV_Error: 14.11%, lr: 0.0001, Time: 36.40753102302551\n",
      "Epoch 142/200, Cost: 0.665, CV_Error: 14.21%, lr: 0.0001, Time: 36.34081196784973\n",
      "Epoch 143/200, Cost: 0.657, CV_Error: 14.72%, lr: 0.0001, Time: 35.545236587524414\n",
      "Epoch 144/200, Cost: 0.659, CV_Error: 14.47%, lr: 0.0001, Time: 36.47232365608215\n",
      "Epoch 145/200, Cost: 0.642, CV_Error: 14.88%, lr: 0.0001, Time: 35.98176908493042\n",
      "Epoch 146/200, Cost: 0.652, CV_Error: 14.62%, lr: 0.0001, Time: 36.59477090835571\n",
      "Epoch 147/200, Cost: 0.638, CV_Error: 14.42%, lr: 0.0001, Time: 35.64779329299927\n",
      "Epoch 148/200, Cost: 0.641, CV_Error: 14.57%, lr: 0.0001, Time: 36.346290826797485\n",
      "Epoch 149/200, Cost: 0.653, CV_Error: 14.06%, lr: 0.0001, Time: 35.901355028152466\n",
      "Epoch 150/200, Cost: 0.637, CV_Error: 14.62%, lr: 0.0001, Time: 36.097219705581665\n",
      "Epoch 151/200, Cost: 0.645, CV_Error: 14.26%, lr: 0.0001, Time: 36.19103002548218\n",
      "Epoch 152/200, Cost: 0.643, CV_Error: 14.26%, lr: 0.0001, Time: 35.86135959625244\n",
      "Epoch 153/200, Cost: 0.640, CV_Error: 14.31%, lr: 0.0001, Time: 36.09280347824097\n",
      "Epoch 154/200, Cost: 0.638, CV_Error: 14.06%, lr: 0.0001, Time: 36.166037797927856\n",
      "Epoch 155/200, Cost: 0.635, CV_Error: 14.21%, lr: 0.0001, Time: 36.022122859954834\n",
      "Epoch 156/200, Cost: 0.640, CV_Error: 14.52%, lr: 0.0001, Time: 37.33009600639343\n",
      "Epoch 157/200, Cost: 0.648, CV_Error: 14.47%, lr: 0.0001, Time: 36.26077437400818\n",
      "Epoch 158/200, Cost: 0.635, CV_Error: 14.31%, lr: 0.0001, Time: 36.51938247680664\n",
      "Epoch 159/200, Cost: 0.637, CV_Error: 14.42%, lr: 0.0001, Time: 36.65338182449341\n",
      "Epoch 160/200, Cost: 0.638, CV_Error: 14.31%, lr: 0.0001, Time: 35.92978501319885\n",
      "Epoch 161/200, Cost: 0.632, CV_Error: 14.11%, lr: 0.0001, Time: 36.15991711616516\n",
      "Epoch 162/200, Cost: 0.636, CV_Error: 14.62%, lr: 0.0001, Time: 37.11353421211243\n",
      "Epoch 163/200, Cost: 0.644, CV_Error: 13.91%, lr: 0.0001, Time: 36.255260944366455\n",
      "Epoch 164/200, Cost: 0.645, CV_Error: 14.11%, lr: 0.0001, Time: 36.11371040344238\n",
      "Epoch 165/200, Cost: 0.623, CV_Error: 14.26%, lr: 0.0001, Time: 36.81790018081665\n",
      "Epoch 166/200, Cost: 0.640, CV_Error: 14.11%, lr: 0.0001, Time: 36.67584037780762\n",
      "Epoch 167/200, Cost: 0.630, CV_Error: 14.06%, lr: 0.0001, Time: 36.35613822937012\n",
      "Epoch 168/200, Cost: 0.639, CV_Error: 13.86%, lr: 0.0001, Time: 36.77773666381836\n",
      "Epoch 169/200, Cost: 0.636, CV_Error: 14.16%, lr: 0.0001, Time: 36.98006057739258\n",
      "Epoch 170/200, Cost: 0.635, CV_Error: 13.96%, lr: 0.0001, Time: 36.41659593582153\n",
      "Epoch 171/200, Cost: 0.623, CV_Error: 14.06%, lr: 0.0001, Time: 36.10986590385437\n",
      "Epoch 172/200, Cost: 0.624, CV_Error: 14.01%, lr: 0.0001, Time: 37.19856381416321\n",
      "Epoch 173/200, Cost: 0.633, CV_Error: 14.21%, lr: 0.0001, Time: 36.25739336013794\n",
      "Epoch 174/200, Cost: 0.624, CV_Error: 13.65%, lr: 0.0001, Time: 36.7083797454834\n",
      "Epoch 175/200, Cost: 0.629, CV_Error: 13.96%, lr: 0.0001, Time: 37.637778997421265\n",
      "Epoch 176/200, Cost: 0.625, CV_Error: 13.45%, lr: 0.0001, Time: 36.39995241165161\n",
      "Epoch 177/200, Cost: 0.639, CV_Error: 13.65%, lr: 0.0001, Time: 37.149585008621216\n",
      "Epoch 178/200, Cost: 0.626, CV_Error: 13.65%, lr: 0.0001, Time: 35.967644691467285\n",
      "Epoch 179/200, Cost: 0.619, CV_Error: 14.26%, lr: 0.0001, Time: 35.848828077316284\n",
      "Epoch 180/200, Cost: 0.614, CV_Error: 13.96%, lr: 0.0001, Time: 36.152933835983276\n",
      "Epoch 181/200, Cost: 0.624, CV_Error: 13.96%, lr: 0.0001, Time: 35.72794580459595\n",
      "Epoch 182/200, Cost: 0.627, CV_Error: 14.01%, lr: 0.0001, Time: 36.146995306015015\n",
      "Epoch 183/200, Cost: 0.616, CV_Error: 14.21%, lr: 0.0001, Time: 35.76740527153015\n",
      "Epoch 184/200, Cost: 0.617, CV_Error: 14.52%, lr: 0.0001, Time: 36.180121660232544\n",
      "Epoch 185/200, Cost: 0.613, CV_Error: 14.52%, lr: 0.0001, Time: 36.696171283721924\n",
      "Epoch 186/200, Cost: 0.615, CV_Error: 14.16%, lr: 0.0001, Time: 36.37067127227783\n",
      "Epoch 187/200, Cost: 0.620, CV_Error: 14.06%, lr: 0.0001, Time: 36.605060338974\n",
      "Epoch 188/200, Cost: 0.621, CV_Error: 14.31%, lr: 0.0001, Time: 36.54649901390076\n",
      "Epoch 189/200, Cost: 0.619, CV_Error: 14.21%, lr: 0.0001, Time: 36.4272038936615\n",
      "Epoch 190/200, Cost: 0.607, CV_Error: 13.86%, lr: 0.0001, Time: 36.54791831970215\n",
      "Epoch 191/200, Cost: 0.615, CV_Error: 13.86%, lr: 0.0001, Time: 36.90759253501892\n",
      "Epoch 192/200, Cost: 0.610, CV_Error: 13.86%, lr: 0.0001, Time: 37.18460297584534\n",
      "Epoch 193/200, Cost: 0.607, CV_Error: 14.06%, lr: 0.0001, Time: 36.239760398864746\n",
      "Epoch 194/200, Cost: 0.601, CV_Error: 13.30%, lr: 0.0001, Time: 35.85668611526489\n",
      "Epoch 195/200, Cost: 0.604, CV_Error: 13.70%, lr: 0.0001, Time: 37.01092529296875\n",
      "Epoch 196/200, Cost: 0.605, CV_Error: 13.65%, lr: 0.0001, Time: 37.96078681945801\n",
      "Epoch 197/200, Cost: 0.616, CV_Error: 13.65%, lr: 0.0001, Time: 37.17766499519348\n",
      "Epoch 198/200, Cost: 0.612, CV_Error: 14.31%, lr: 0.0001, Time: 36.38294053077698\n",
      "Epoch 199/200, Cost: 0.594, CV_Error: 14.26%, lr: 0.0001, Time: 37.065807819366455\n",
      "Epoch 200/200, Cost: 0.593, CV_Error: 13.96%, lr: 0.0001, Time: 37.27034783363342\n",
      "Training time: 7266.778404474258\n"
     ]
    }
   ],
   "source": [
    "costs, val_error_rates, learning_rates = train(\n",
    "    compiled_model,\n",
    "    train_dataset=train_dataset,\n",
    "    cv_dataset=val_dataset,\n",
    "    batch_size=128,\n",
    "    num_epochs=200,\n",
    "    initial_lr=0.01,\n",
    "    num_workers=3,\n",
    "    patience=20,\n",
    ")"
   ]
  },
  {
   "cell_type": "code",
   "execution_count": 6,
   "id": "89b7a0c1",
   "metadata": {
    "execution": {
     "iopub.execute_input": "2024-11-25T23:55:04.557890Z",
     "iopub.status.busy": "2024-11-25T23:55:04.557446Z",
     "iopub.status.idle": "2024-11-25T23:55:05.058417Z",
     "shell.execute_reply": "2024-11-25T23:55:05.057619Z"
    },
    "papermill": {
     "duration": 0.518679,
     "end_time": "2024-11-25T23:55:05.060484",
     "exception": false,
     "start_time": "2024-11-25T23:55:04.541805",
     "status": "completed"
    },
    "tags": []
   },
   "outputs": [],
   "source": [
    "torch.save(model.state_dict(), 'baseline_imagenette.model.pt')\n",
    "torch.save(preprocess, 'baseline_imagenette.preprocess.pt')\n",
    "torch.save(train_augment, 'baseline_imagenette.train_augment.pt')"
   ]
  },
  {
   "cell_type": "code",
   "execution_count": 7,
   "id": "fe592b9e",
   "metadata": {
    "execution": {
     "iopub.execute_input": "2024-11-25T23:55:05.090451Z",
     "iopub.status.busy": "2024-11-25T23:55:05.090130Z",
     "iopub.status.idle": "2024-11-25T23:55:50.643808Z",
     "shell.execute_reply": "2024-11-25T23:55:50.642658Z"
    },
    "papermill": {
     "duration": 45.58443,
     "end_time": "2024-11-25T23:55:50.659564",
     "exception": false,
     "start_time": "2024-11-25T23:55:05.075134",
     "status": "completed"
    },
    "tags": []
   },
   "outputs": [
    {
     "name": "stdout",
     "output_type": "stream",
     "text": [
      "Test Top 1: 0.8481141692150866\n",
      "Test Top 5: 0.9882772680937818\n",
      "Val Top 1: 0.8604177279673968\n",
      "Val Top 5: 0.9867549668874173\n",
      "Train Top 1: 0.917520329496251\n",
      "Train Top 5: 0.9946140035906643\n"
     ]
    }
   ],
   "source": [
    "test_top1, test_top5 = top1_k(compiled_model, test_dataset, k=5)\n",
    "print(f'Test Top 1: {test_top1}')\n",
    "print(f'Test Top 5: {test_top5}')\n",
    "\n",
    "val_top1, val_top5 = top1_k(compiled_model, val_dataset, k=5)\n",
    "print(f'Val Top 1: {val_top1}')\n",
    "print(f'Val Top 5: {val_top5}')\n",
    "\n",
    "train_eval_dataset = datasets.Imagenette(\n",
    "    'datasets/imagenette', split='train', size='320px', transform=preprocess)\n",
    "train_top1, train_top5 = top1_k(compiled_model, train_eval_dataset, k=5)\n",
    "print(f'Train Top 1: {train_top1}')\n",
    "print(f'Train Top 5: {train_top5}')"
   ]
  },
  {
   "cell_type": "code",
   "execution_count": 8,
   "id": "1b303601",
   "metadata": {
    "execution": {
     "iopub.execute_input": "2024-11-25T23:55:50.689732Z",
     "iopub.status.busy": "2024-11-25T23:55:50.689010Z",
     "iopub.status.idle": "2024-11-25T23:55:50.959107Z",
     "shell.execute_reply": "2024-11-25T23:55:50.958321Z"
    },
    "papermill": {
     "duration": 0.287385,
     "end_time": "2024-11-25T23:55:50.961011",
     "exception": false,
     "start_time": "2024-11-25T23:55:50.673626",
     "status": "completed"
    },
    "tags": []
   },
   "outputs": [
    {
     "data": {
      "text/plain": [
       "Text(0.5, 1.0, 'Costs')"
      ]
     },
     "execution_count": 8,
     "metadata": {},
     "output_type": "execute_result"
    },
    {
     "data": {
      "image/png": "[encoded data removed]",
      "text/plain": [
       "<Figure size 640x480 with 1 Axes>"
      ]
     },
     "metadata": {},
     "output_type": "display_data"
    }
   ],
   "source": [
    "plt.plot(costs)\n",
    "plt.xlabel(\"Epoch\")\n",
    "plt.title('Costs')"
   ]
  },
  {
   "cell_type": "code",
   "execution_count": 9,
   "id": "ee53364e",
   "metadata": {
    "execution": {
     "iopub.execute_input": "2024-11-25T23:55:50.991182Z",
     "iopub.status.busy": "2024-11-25T23:55:50.990925Z",
     "iopub.status.idle": "2024-11-25T23:55:51.379620Z",
     "shell.execute_reply": "2024-11-25T23:55:51.378695Z"
    },
    "papermill": {
     "duration": 0.405589,
     "end_time": "2024-11-25T23:55:51.381374",
     "exception": false,
     "start_time": "2024-11-25T23:55:50.975785",
     "status": "completed"
    },
    "tags": []
   },
   "outputs": [
    {
     "data": {
      "text/plain": [
       "Text(0.5, 1.0, 'Cross Validation Error Rates')"
      ]
     },
     "execution_count": 9,
     "metadata": {},
     "output_type": "execute_result"
    },
    {
     "data": {
      "image/png": "[encoded data removed]",
      "text/plain": [
       "<Figure size 640x480 with 1 Axes>"
      ]
     },
     "metadata": {},
     "output_type": "display_data"
    }
   ],
   "source": [
    "plt.plot(val_error_rates)\n",
    "plt.xlabel(\"Epoch\")\n",
    "plt.title('Cross Validation Error Rates')"
   ]
  },
  {
   "cell_type": "code",
   "execution_count": 10,
   "id": "9e0d3734",
   "metadata": {
    "execution": {
     "iopub.execute_input": "2024-11-25T23:55:51.413742Z",
     "iopub.status.busy": "2024-11-25T23:55:51.413474Z",
     "iopub.status.idle": "2024-11-25T23:55:51.668009Z",
     "shell.execute_reply": "2024-11-25T23:55:51.667225Z"
    },
    "papermill": {
     "duration": 0.272801,
     "end_time": "2024-11-25T23:55:51.669797",
     "exception": false,
     "start_time": "2024-11-25T23:55:51.396996",
     "status": "completed"
    },
    "tags": []
   },
   "outputs": [
    {
     "data": {
      "text/plain": [
       "Text(0.5, 1.0, 'Learning Rates')"
      ]
     },
     "execution_count": 10,
     "metadata": {},
     "output_type": "execute_result"
    },
    {
     "data": {
      "image/png": "[encoded data removed]",
      "text/plain": [
       "<Figure size 640x480 with 1 Axes>"
      ]
     },
     "metadata": {},
     "output_type": "display_data"
    }
   ],
   "source": [
    "plt.plot(learning_rates)\n",
    "plt.xlabel(\"Epoch\")\n",
    "plt.title('Learning Rates')"
   ]
  }
 ],
 "metadata": {
  "kaggle": {
   "accelerator": "none",
   "dataSources": [
    {
     "isSourceIdPinned": true,
     "modelId": 174579,
     "modelInstanceId": 152122,
     "sourceId": 178580,
     "sourceType": "modelInstanceVersion"
    }
   ],
   "dockerImageVersionId": 30787,
   "isGpuEnabled": false,
   "isInternetEnabled": true,
   "language": "python",
   "sourceType": "notebook"
  },
  "kernelspec": {
   "display_name": "torch",
   "language": "python",
   "name": "python3"
  },
  "language_info": {
   "codemirror_mode": {
    "name": "ipython",
    "version": 3
   },
   "file_extension": ".py",
   "mimetype": "text/x-python",
   "name": "python",
   "nbconvert_exporter": "python",
   "pygments_lexer": "ipython3",
   "version": "3.12.3"
  },
  "papermill": {
   "default_parameters": {},
   "duration": 7407.974167,
   "end_time": "2024-11-25T23:55:53.107561",
   "environment_variables": {},
   "exception": null,
   "input_path": "__notebook__.ipynb",
   "output_path": "__notebook__.ipynb",
   "parameters": {},
   "start_time": "2024-11-25T21:52:25.133394",
   "version": "2.6.0"
  }
 },
 "nbformat": 4,
 "nbformat_minor": 5
}
