{
 "cells": [
  {
   "cell_type": "code",
   "execution_count": 1,
   "id": "7b9d7ae7",
   "metadata": {
    "_cell_guid": "e01b8400-4527-41b8-bd0a-1cf52577e5b4",
    "_uuid": "60e99f23-fb3c-4292-b48b-9c624c77601b",
    "collapsed": false,
    "execution": {
     "iopub.execute_input": "2024-12-03T17:49:53.483606Z",
     "iopub.status.busy": "2024-12-03T17:49:53.483342Z",
     "iopub.status.idle": "2024-12-03T17:49:58.012542Z",
     "shell.execute_reply": "2024-12-03T17:49:58.011833Z"
    },
    "jupyter": {
     "outputs_hidden": false
    },
    "papermill": {
     "duration": 4.53471,
     "end_time": "2024-12-03T17:49:58.014486",
     "exception": false,
     "start_time": "2024-12-03T17:49:53.479776",
     "status": "completed"
    },
    "tags": []
   },
   "outputs": [],
   "source": [
    "import sys\n",
    "sys.path.append('/kaggle/input/alexnet/pytorch/improved/1')\n",
    "import torch\n",
    "import torch.nn as nn\n",
    "from torchvision import datasets\n",
    "from improved.model import AlexNetImproved, init_params\n",
    "from improved.data_transforms import prepreprocess, get_preprocess, get_train_augment, calc_mean_std\n",
    "from improved.pca import pca\n",
    "from improved.train import train\n",
    "import matplotlib.pyplot as plt\n",
    "from improved.eval import top1_k"
   ]
  },
  {
   "cell_type": "code",
   "execution_count": 2,
   "id": "b62778cb",
   "metadata": {
    "execution": {
     "iopub.execute_input": "2024-12-03T17:49:58.021411Z",
     "iopub.status.busy": "2024-12-03T17:49:58.020988Z",
     "iopub.status.idle": "2024-12-03T17:49:58.032913Z",
     "shell.execute_reply": "2024-12-03T17:49:58.031819Z"
    },
    "papermill": {
     "duration": 0.017632,
     "end_time": "2024-12-03T17:49:58.034821",
     "exception": false,
     "start_time": "2024-12-03T17:49:58.017189",
     "status": "completed"
    },
    "tags": []
   },
   "outputs": [
    {
     "name": "stdout",
     "output_type": "stream",
     "text": [
      "cuda\n"
     ]
    }
   ],
   "source": [
    "torch.manual_seed(0)\n",
    "device = torch.device(\"cuda\" if torch.cuda.is_available() else \"cpu\")\n",
    "print(device)"
   ]
  },
  {
   "cell_type": "code",
   "execution_count": 3,
   "id": "e29c7032",
   "metadata": {
    "execution": {
     "iopub.execute_input": "2024-12-03T17:49:58.041480Z",
     "iopub.status.busy": "2024-12-03T17:49:58.040830Z",
     "iopub.status.idle": "2024-12-03T17:53:40.193132Z",
     "shell.execute_reply": "2024-12-03T17:53:40.191911Z"
    },
    "papermill": {
     "duration": 222.157261,
     "end_time": "2024-12-03T17:53:40.194922",
     "exception": false,
     "start_time": "2024-12-03T17:49:58.037661",
     "status": "completed"
    },
    "tags": []
   },
   "outputs": [
    {
     "name": "stdout",
     "output_type": "stream",
     "text": [
      "Downloading https://www.cs.toronto.edu/~kriz/cifar-100-python.tar.gz to datasets/cifar100/cifar-100-python.tar.gz\n"
     ]
    },
    {
     "name": "stderr",
     "output_type": "stream",
     "text": [
      "100%|██████████| 169001437/169001437 [00:04<00:00, 33910458.49it/s]\n"
     ]
    },
    {
     "name": "stdout",
     "output_type": "stream",
     "text": [
      "Extracting datasets/cifar100/cifar-100-python.tar.gz to datasets/cifar100\n",
      "Mean:\n",
      "[0.5072646737098694, 0.4867367148399353, 0.4411051571369171]\n",
      "Standard Deviation:\n",
      "[0.2621012330055237, 0.2511281669139862, 0.2712865471839905]\n",
      "Covar:\n",
      "tensor([[1.0000, 0.8625, 0.7042],\n",
      "        [0.8625, 0.9998, 0.8843],\n",
      "        [0.7042, 0.8843, 1.0000]], device='cuda:0')\n",
      "Eigen values (sqrt):\n",
      "tensor([[0.2588],\n",
      "        [0.5444],\n",
      "        [1.6237]])\n",
      "Eigen vectors:\n",
      "tensor([[ 0.3872,  0.7312,  0.5616],\n",
      "        [-0.7971, -0.0405,  0.6024],\n",
      "        [ 0.4633, -0.6809,  0.5672]])\n",
      "Number of classes: 100\n",
      "Train samples: 50000\n",
      "Validation samples: 5000\n",
      "Test samples: 5000\n"
     ]
    }
   ],
   "source": [
    "train_dataset = datasets.CIFAR100(\n",
    "    'datasets/cifar100', train=True, download=True, transform=prepreprocess)\n",
    "mean, std = calc_mean_std(train_dataset)\n",
    "print(f'Mean:\\n{mean}')\n",
    "print(f'Standard Deviation:\\n{std}')\n",
    "preprocess = get_preprocess(mean, std)\n",
    "\n",
    "train_dataset = datasets.CIFAR100(\n",
    "    'datasets/cifar100', train=True, transform=preprocess)\n",
    "eigvals, eigvecs = pca(train_dataset)\n",
    "train_augment = get_train_augment(eigvals, eigvecs, mean, std)\n",
    "\n",
    "train_dataset = datasets.CIFAR100(\n",
    "    'datasets/cifar100', train=True, transform=train_augment)\n",
    "\n",
    "val_dataset = datasets.CIFAR100(\n",
    "    'datasets/cifar100', train=False, transform=preprocess)\n",
    "val_dataset, test_dataset = torch.utils.data.random_split(val_dataset, [0.5, 0.5])\n",
    "\n",
    "print(f'Number of classes: {len(train_dataset.classes)}')\n",
    "print(f'Train samples: {len(train_dataset)}')\n",
    "print(f'Validation samples: {len(val_dataset)}')\n",
    "print(f'Test samples: {len(test_dataset)}')"
   ]
  },
  {
   "cell_type": "code",
   "execution_count": 4,
   "id": "43bb3e3e",
   "metadata": {
    "execution": {
     "iopub.execute_input": "2024-12-03T17:53:40.205507Z",
     "iopub.status.busy": "2024-12-03T17:53:40.205220Z",
     "iopub.status.idle": "2024-12-03T17:53:40.224856Z",
     "shell.execute_reply": "2024-12-03T17:53:40.224270Z"
    },
    "papermill": {
     "duration": 0.026754,
     "end_time": "2024-12-03T17:53:40.226389",
     "exception": false,
     "start_time": "2024-12-03T17:53:40.199635",
     "status": "completed"
    },
    "tags": []
   },
   "outputs": [],
   "source": [
    "model = AlexNetImproved(len(train_dataset.classes))\n",
    "if torch.cuda.device_count() > 1:\n",
    "    print(f'Using {torch.cuda.device_count()} GPUs.')\n",
    "    model = nn.DataParallel(model)\n",
    "model.to(device)\n",
    "# initialize parameters\n",
    "init_params(model)\n",
    "compiled_model = model\n",
    "# if torch.cuda.is_available():\n",
    "#     compiled_model = torch.compile(model)"
   ]
  },
  {
   "cell_type": "code",
   "execution_count": 5,
   "id": "cb323a94",
   "metadata": {
    "execution": {
     "iopub.execute_input": "2024-12-03T17:53:40.236539Z",
     "iopub.status.busy": "2024-12-03T17:53:40.236306Z",
     "iopub.status.idle": "2024-12-03T20:58:00.251223Z",
     "shell.execute_reply": "2024-12-03T20:58:00.250021Z"
    },
    "papermill": {
     "duration": 11060.031242,
     "end_time": "2024-12-03T20:58:00.262256",
     "exception": false,
     "start_time": "2024-12-03T17:53:40.231014",
     "status": "completed"
    },
    "tags": []
   },
   "outputs": [
    {
     "name": "stdout",
     "output_type": "stream",
     "text": [
      "Epoch 1/100, Cost: 5.962, Val Error: 97.70%, lr: 0.01, Time: 111s\n",
      "Epoch 2/100, Cost: 4.282, Val Error: 95.50%, lr: 0.01, Time: 107s\n",
      "Epoch 3/100, Cost: 4.224, Val Error: 96.32%, lr: 0.01, Time: 111s\n",
      "Epoch 4/100, Cost: 4.185, Val Error: 93.28%, lr: 0.01, Time: 109s\n",
      "Epoch 5/100, Cost: 4.116, Val Error: 93.42%, lr: 0.01, Time: 106s\n",
      "Epoch 6/100, Cost: 4.053, Val Error: 91.42%, lr: 0.01, Time: 109s\n",
      "Epoch 7/100, Cost: 4.003, Val Error: 91.22%, lr: 0.01, Time: 105s\n",
      "Epoch 8/100, Cost: 3.963, Val Error: 89.10%, lr: 0.01, Time: 108s\n",
      "Epoch 9/100, Cost: 3.952, Val Error: 90.04%, lr: 0.01, Time: 111s\n",
      "Epoch 10/100, Cost: 3.918, Val Error: 92.60%, lr: 0.01, Time: 112s\n",
      "Epoch 11/100, Cost: 3.894, Val Error: 86.50%, lr: 0.01, Time: 112s\n",
      "Epoch 12/100, Cost: 3.876, Val Error: 88.66%, lr: 0.01, Time: 111s\n",
      "Epoch 13/100, Cost: 3.867, Val Error: 87.10%, lr: 0.01, Time: 110s\n",
      "Epoch 14/100, Cost: 3.860, Val Error: 86.50%, lr: 0.01, Time: 112s\n",
      "Epoch 15/100, Cost: 3.849, Val Error: 86.86%, lr: 0.01, Time: 112s\n",
      "Epoch 16/100, Cost: 3.833, Val Error: 89.14%, lr: 0.01, Time: 110s\n",
      "Epoch 17/100, Cost: 3.825, Val Error: 86.62%, lr: 0.01, Time: 110s\n",
      "Epoch 18/100, Cost: 3.812, Val Error: 87.72%, lr: 0.01, Time: 109s\n",
      "Epoch 19/100, Cost: 3.805, Val Error: 85.68%, lr: 0.01, Time: 115s\n",
      "Epoch 20/100, Cost: 3.804, Val Error: 86.48%, lr: 0.01, Time: 110s\n",
      "Epoch 21/100, Cost: 3.789, Val Error: 86.06%, lr: 0.01, Time: 109s\n",
      "Epoch 22/100, Cost: 3.781, Val Error: 84.74%, lr: 0.01, Time: 113s\n",
      "Epoch 23/100, Cost: 3.777, Val Error: 89.66%, lr: 0.01, Time: 108s\n",
      "Epoch 24/100, Cost: 3.776, Val Error: 87.70%, lr: 0.01, Time: 110s\n",
      "Epoch 25/100, Cost: 3.769, Val Error: 85.86%, lr: 0.01, Time: 112s\n",
      "Epoch 26/100, Cost: 3.769, Val Error: 84.86%, lr: 0.01, Time: 111s\n",
      "Epoch 27/100, Cost: 3.777, Val Error: 86.98%, lr: 0.01, Time: 110s\n",
      "Epoch 28/100, Cost: 3.757, Val Error: 87.26%, lr: 0.01, Time: 112s\n",
      "Epoch 29/100, Cost: 3.758, Val Error: 84.80%, lr: 0.01, Time: 109s\n",
      "Epoch 30/100, Cost: 3.761, Val Error: 84.50%, lr: 0.01, Time: 108s\n",
      "Epoch 31/100, Cost: 3.762, Val Error: 94.50%, lr: 0.01, Time: 112s\n",
      "Epoch 32/100, Cost: 3.762, Val Error: 86.32%, lr: 0.01, Time: 108s\n",
      "Epoch 33/100, Cost: 3.751, Val Error: 85.06%, lr: 0.01, Time: 109s\n",
      "Epoch 34/100, Cost: 3.745, Val Error: 88.62%, lr: 0.01, Time: 115s\n",
      "Epoch 35/100, Cost: 3.746, Val Error: 86.24%, lr: 0.01, Time: 114s\n",
      "Epoch 36/100, Cost: 3.745, Val Error: 86.72%, lr: 0.01, Time: 115s\n",
      "Epoch 37/100, Cost: 3.750, Val Error: 89.78%, lr: 0.01, Time: 108s\n",
      "Epoch 38/100, Cost: 3.724, Val Error: 85.10%, lr: 0.01, Time: 111s\n",
      "Epoch 39/100, Cost: 3.737, Val Error: 85.36%, lr: 0.01, Time: 109s\n",
      "Epoch 40/100, Cost: 3.726, Val Error: 85.36%, lr: 0.01, Time: 111s\n",
      "Epoch 41/100, Cost: 3.716, Val Error: 86.62%, lr: 0.001, Time: 111s\n",
      "Epoch 42/100, Cost: 3.504, Val Error: 76.24%, lr: 0.001, Time: 113s\n",
      "Epoch 43/100, Cost: 3.434, Val Error: 74.02%, lr: 0.001, Time: 110s\n",
      "Epoch 44/100, Cost: 3.386, Val Error: 73.92%, lr: 0.001, Time: 117s\n",
      "Epoch 45/100, Cost: 3.342, Val Error: 71.62%, lr: 0.001, Time: 110s\n",
      "Epoch 46/100, Cost: 3.304, Val Error: 70.48%, lr: 0.001, Time: 107s\n",
      "Epoch 47/100, Cost: 3.261, Val Error: 68.54%, lr: 0.001, Time: 107s\n",
      "Epoch 48/100, Cost: 3.231, Val Error: 67.62%, lr: 0.001, Time: 108s\n",
      "Epoch 49/100, Cost: 3.203, Val Error: 68.38%, lr: 0.001, Time: 106s\n",
      "Epoch 50/100, Cost: 3.171, Val Error: 68.56%, lr: 0.001, Time: 112s\n",
      "Epoch 51/100, Cost: 3.138, Val Error: 65.92%, lr: 0.001, Time: 108s\n",
      "Epoch 52/100, Cost: 3.120, Val Error: 64.22%, lr: 0.001, Time: 110s\n",
      "Epoch 53/100, Cost: 3.096, Val Error: 64.66%, lr: 0.001, Time: 114s\n",
      "Epoch 54/100, Cost: 3.076, Val Error: 64.62%, lr: 0.001, Time: 113s\n",
      "Epoch 55/100, Cost: 3.038, Val Error: 65.04%, lr: 0.001, Time: 112s\n",
      "Epoch 56/100, Cost: 3.023, Val Error: 64.00%, lr: 0.001, Time: 110s\n",
      "Epoch 57/100, Cost: 3.011, Val Error: 62.58%, lr: 0.001, Time: 110s\n",
      "Epoch 58/100, Cost: 2.985, Val Error: 61.20%, lr: 0.001, Time: 116s\n",
      "Epoch 59/100, Cost: 2.970, Val Error: 62.72%, lr: 0.001, Time: 110s\n",
      "Epoch 60/100, Cost: 2.955, Val Error: 60.74%, lr: 0.001, Time: 109s\n",
      "Epoch 61/100, Cost: 2.934, Val Error: 60.56%, lr: 0.001, Time: 109s\n",
      "Epoch 62/100, Cost: 2.925, Val Error: 60.44%, lr: 0.001, Time: 110s\n",
      "Epoch 63/100, Cost: 2.907, Val Error: 61.42%, lr: 0.001, Time: 111s\n",
      "Epoch 64/100, Cost: 2.888, Val Error: 60.18%, lr: 0.001, Time: 111s\n",
      "Epoch 65/100, Cost: 2.872, Val Error: 59.26%, lr: 0.001, Time: 110s\n",
      "Epoch 66/100, Cost: 2.878, Val Error: 59.32%, lr: 0.001, Time: 110s\n",
      "Epoch 67/100, Cost: 2.863, Val Error: 58.60%, lr: 0.001, Time: 108s\n",
      "Epoch 68/100, Cost: 2.852, Val Error: 57.88%, lr: 0.001, Time: 112s\n",
      "Epoch 69/100, Cost: 2.848, Val Error: 58.10%, lr: 0.001, Time: 110s\n",
      "Epoch 70/100, Cost: 2.838, Val Error: 58.30%, lr: 0.001, Time: 108s\n",
      "Epoch 71/100, Cost: 2.820, Val Error: 57.40%, lr: 0.001, Time: 113s\n",
      "Epoch 72/100, Cost: 2.828, Val Error: 56.84%, lr: 0.001, Time: 106s\n",
      "Epoch 73/100, Cost: 2.812, Val Error: 57.98%, lr: 0.001, Time: 108s\n",
      "Epoch 74/100, Cost: 2.806, Val Error: 56.06%, lr: 0.001, Time: 109s\n",
      "Epoch 75/100, Cost: 2.809, Val Error: 56.76%, lr: 0.001, Time: 114s\n",
      "Epoch 76/100, Cost: 2.785, Val Error: 57.86%, lr: 0.001, Time: 117s\n",
      "Epoch 77/100, Cost: 2.782, Val Error: 56.20%, lr: 0.001, Time: 111s\n",
      "Epoch 78/100, Cost: 2.787, Val Error: 57.04%, lr: 0.001, Time: 111s\n",
      "Epoch 79/100, Cost: 2.777, Val Error: 57.62%, lr: 0.001, Time: 109s\n",
      "Epoch 80/100, Cost: 2.781, Val Error: 56.92%, lr: 0.001, Time: 109s\n",
      "Epoch 81/100, Cost: 2.767, Val Error: 56.80%, lr: 0.001, Time: 111s\n",
      "Epoch 82/100, Cost: 2.765, Val Error: 56.08%, lr: 0.001, Time: 113s\n",
      "Epoch 83/100, Cost: 2.753, Val Error: 55.34%, lr: 0.001, Time: 112s\n",
      "Epoch 84/100, Cost: 2.748, Val Error: 54.54%, lr: 0.001, Time: 108s\n",
      "Epoch 85/100, Cost: 2.756, Val Error: 55.82%, lr: 0.001, Time: 109s\n",
      "Epoch 86/100, Cost: 2.742, Val Error: 54.62%, lr: 0.001, Time: 109s\n",
      "Epoch 87/100, Cost: 2.742, Val Error: 55.08%, lr: 0.001, Time: 113s\n",
      "Epoch 88/100, Cost: 2.735, Val Error: 54.56%, lr: 0.001, Time: 112s\n",
      "Epoch 89/100, Cost: 2.725, Val Error: 56.56%, lr: 0.001, Time: 117s\n",
      "Epoch 90/100, Cost: 2.721, Val Error: 54.78%, lr: 0.001, Time: 111s\n",
      "Epoch 91/100, Cost: 2.725, Val Error: 55.50%, lr: 0.001, Time: 109s\n",
      "Epoch 92/100, Cost: 2.721, Val Error: 54.32%, lr: 0.001, Time: 117s\n",
      "Epoch 93/100, Cost: 2.718, Val Error: 54.60%, lr: 0.001, Time: 111s\n",
      "Epoch 94/100, Cost: 2.715, Val Error: 53.32%, lr: 0.001, Time: 114s\n",
      "Epoch 95/100, Cost: 2.711, Val Error: 54.58%, lr: 0.001, Time: 109s\n",
      "Epoch 96/100, Cost: 2.696, Val Error: 53.44%, lr: 0.001, Time: 110s\n",
      "Epoch 97/100, Cost: 2.692, Val Error: 53.38%, lr: 0.001, Time: 110s\n",
      "Epoch 98/100, Cost: 2.697, Val Error: 54.14%, lr: 0.001, Time: 111s\n",
      "Epoch 99/100, Cost: 2.685, Val Error: 53.38%, lr: 0.001, Time: 110s\n",
      "Epoch 100/100, Cost: 2.698, Val Error: 55.36%, lr: 0.001, Time: 113s\n",
      "Training time: 184m\n"
     ]
    }
   ],
   "source": [
    "costs, val_error_rates, learning_rates = train(\n",
    "    compiled_model,\n",
    "    train_dataset=train_dataset,\n",
    "    cv_dataset=val_dataset,\n",
    "    batch_size=128,\n",
    "    num_epochs=100,\n",
    "    initial_lr=0.01,\n",
    "    num_workers=3,\n",
    "    patience=10,\n",
    "    optimizer='adam',\n",
    ")"
   ]
  },
  {
   "cell_type": "code",
   "execution_count": 6,
   "id": "3e863156",
   "metadata": {
    "execution": {
     "iopub.execute_input": "2024-12-03T20:58:00.281914Z",
     "iopub.status.busy": "2024-12-03T20:58:00.281526Z",
     "iopub.status.idle": "2024-12-03T20:58:00.783691Z",
     "shell.execute_reply": "2024-12-03T20:58:00.782714Z"
    },
    "papermill": {
     "duration": 0.514514,
     "end_time": "2024-12-03T20:58:00.785712",
     "exception": false,
     "start_time": "2024-12-03T20:58:00.271198",
     "status": "completed"
    },
    "tags": []
   },
   "outputs": [],
   "source": [
    "torch.save(model.state_dict(), 'improved_cifar100.model.pt')\n",
    "torch.save(preprocess, 'improved_cifar100.preprocess.pt')\n",
    "torch.save(train_augment, 'improved_cifar100.train_augment.pt')"
   ]
  },
  {
   "cell_type": "code",
   "execution_count": 7,
   "id": "6efe5bf2",
   "metadata": {
    "execution": {
     "iopub.execute_input": "2024-12-03T20:58:00.804372Z",
     "iopub.status.busy": "2024-12-03T20:58:00.804035Z",
     "iopub.status.idle": "2024-12-03T21:00:23.914374Z",
     "shell.execute_reply": "2024-12-03T21:00:23.913191Z"
    },
    "papermill": {
     "duration": 143.130522,
     "end_time": "2024-12-03T21:00:23.925163",
     "exception": false,
     "start_time": "2024-12-03T20:58:00.794641",
     "status": "completed"
    },
    "tags": []
   },
   "outputs": [
    {
     "name": "stdout",
     "output_type": "stream",
     "text": [
      "Test Top 1: 0.4716\n",
      "Test Top 5: 0.7756\n",
      "Val Top 1: 0.4464\n",
      "Val Top 5: 0.7654\n",
      "Train Top 1: 0.48202\n",
      "Train Top 5: 0.79462\n"
     ]
    }
   ],
   "source": [
    "test_top1, test_top5 = top1_k(compiled_model, test_dataset, k=5)\n",
    "print(f'Test Top 1: {test_top1}')\n",
    "print(f'Test Top 5: {test_top5}')\n",
    "\n",
    "val_top1, val_top5 = top1_k(compiled_model, val_dataset, k=5)\n",
    "print(f'Val Top 1: {val_top1}')\n",
    "print(f'Val Top 5: {val_top5}')\n",
    "\n",
    "train_eval_dataset = datasets.CIFAR100(\n",
    "    'datasets/cifar100', train=True, transform=preprocess)\n",
    "train_top1, train_top5 = top1_k(compiled_model, train_eval_dataset, k=5)\n",
    "print(f'Train Top 1: {train_top1}')\n",
    "print(f'Train Top 5: {train_top5}')"
   ]
  },
  {
   "cell_type": "code",
   "execution_count": 8,
   "id": "ba31c670",
   "metadata": {
    "execution": {
     "iopub.execute_input": "2024-12-03T21:00:23.943682Z",
     "iopub.status.busy": "2024-12-03T21:00:23.943338Z",
     "iopub.status.idle": "2024-12-03T21:00:24.229279Z",
     "shell.execute_reply": "2024-12-03T21:00:24.228442Z"
    },
    "papermill": {
     "duration": 0.297372,
     "end_time": "2024-12-03T21:00:24.231112",
     "exception": false,
     "start_time": "2024-12-03T21:00:23.933740",
     "status": "completed"
    },
    "tags": []
   },
   "outputs": [
    {
     "data": {
      "text/plain": [
       "Text(0.5, 1.0, 'Costs')"
      ]
     },
     "execution_count": 8,
     "metadata": {},
     "output_type": "execute_result"
    },
    {
     "data": {
      "image/png": "[encoded data removed]",
      "text/plain": [
       "<Figure size 640x480 with 1 Axes>"
      ]
     },
     "metadata": {},
     "output_type": "display_data"
    }
   ],
   "source": [
    "plt.plot(costs)\n",
    "plt.xlabel(\"Epoch\")\n",
    "plt.title('Costs')"
   ]
  },
  {
   "cell_type": "code",
   "execution_count": 9,
   "id": "c5e01d8f",
   "metadata": {
    "execution": {
     "iopub.execute_input": "2024-12-03T21:00:24.250644Z",
     "iopub.status.busy": "2024-12-03T21:00:24.250363Z",
     "iopub.status.idle": "2024-12-03T21:00:24.482671Z",
     "shell.execute_reply": "2024-12-03T21:00:24.481865Z"
    },
    "papermill": {
     "duration": 0.243928,
     "end_time": "2024-12-03T21:00:24.484431",
     "exception": false,
     "start_time": "2024-12-03T21:00:24.240503",
     "status": "completed"
    },
    "tags": []
   },
   "outputs": [
    {
     "data": {
      "text/plain": [
       "Text(0.5, 1.0, 'Validation Error Rates')"
      ]
     },
     "execution_count": 9,
     "metadata": {},
     "output_type": "execute_result"
    },
    {
     "data": {
      "image/png": "[encoded data removed]",
      "text/plain": [
       "<Figure size 640x480 with 1 Axes>"
      ]
     },
     "metadata": {},
     "output_type": "display_data"
    }
   ],
   "source": [
    "plt.plot(val_error_rates)\n",
    "plt.xlabel(\"Epoch\")\n",
    "plt.title('Validation Error Rates')"
   ]
  },
  {
   "cell_type": "code",
   "execution_count": 10,
   "id": "673b9653",
   "metadata": {
    "execution": {
     "iopub.execute_input": "2024-12-03T21:00:24.505865Z",
     "iopub.status.busy": "2024-12-03T21:00:24.505301Z",
     "iopub.status.idle": "2024-12-03T21:00:24.752004Z",
     "shell.execute_reply": "2024-12-03T21:00:24.751160Z"
    },
    "papermill": {
     "duration": 0.259043,
     "end_time": "2024-12-03T21:00:24.753732",
     "exception": false,
     "start_time": "2024-12-03T21:00:24.494689",
     "status": "completed"
    },
    "tags": []
   },
   "outputs": [
    {
     "data": {
      "text/plain": [
       "Text(0.5, 1.0, 'Learning Rates')"
      ]
     },
     "execution_count": 10,
     "metadata": {},
     "output_type": "execute_result"
    },
    {
     "data": {
      "image/png": "[encoded data removed]",
      "text/plain": [
       "<Figure size 640x480 with 1 Axes>"
      ]
     },
     "metadata": {},
     "output_type": "display_data"
    }
   ],
   "source": [
    "import math\n",
    "\n",
    "plt.plot([math.log10(lr) for lr in learning_rates])\n",
    "plt.ylabel(\"Log10(lr)\")\n",
    "plt.xlabel(\"Epoch\")\n",
    "plt.title('Learning Rates')"
   ]
  }
 ],
 "metadata": {
  "kaggle": {
   "accelerator": "none",
   "dataSources": [
    {
     "modelId": 181947,
     "modelInstanceId": 159601,
     "sourceId": 187191,
     "sourceType": "modelInstanceVersion"
    }
   ],
   "dockerImageVersionId": 30805,
   "isGpuEnabled": false,
   "isInternetEnabled": true,
   "language": "python",
   "sourceType": "notebook"
  },
  "kernelspec": {
   "display_name": "Python 3",
   "language": "python",
   "name": "python3"
  },
  "language_info": {
   "codemirror_mode": {
    "name": "ipython",
    "version": 3
   },
   "file_extension": ".py",
   "mimetype": "text/x-python",
   "name": "python",
   "nbconvert_exporter": "python",
   "pygments_lexer": "ipython3",
   "version": "3.10.14"
  },
  "papermill": {
   "default_parameters": {},
   "duration": 11436.237702,
   "end_time": "2024-12-03T21:00:27.309564",
   "environment_variables": {},
   "exception": null,
   "input_path": "__notebook__.ipynb",
   "output_path": "__notebook__.ipynb",
   "parameters": {},
   "start_time": "2024-12-03T17:49:51.071862",
   "version": "2.6.0"
  }
 },
 "nbformat": 4,
 "nbformat_minor": 5
}
