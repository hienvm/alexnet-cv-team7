{
 "cells": [
  {
   "cell_type": "code",
   "execution_count": null,
   "id": "e3d36e4f",
   "metadata": {
    "_cell_guid": "b45f5db7-6a30-4500-9d18-22af2f604f47",
    "_uuid": "543e58a8-8250-4de0-8382-cedffe00d0f7",
    "collapsed": false,
    "execution": {
     "iopub.execute_input": "2024-11-26T06:32:43.269032Z",
     "iopub.status.busy": "2024-11-26T06:32:43.268158Z",
     "iopub.status.idle": "2024-11-26T06:32:47.520617Z",
     "shell.execute_reply": "2024-11-26T06:32:47.519928Z"
    },
    "jupyter": {
     "outputs_hidden": false
    },
    "papermill": {
     "duration": 4.258655,
     "end_time": "2024-11-26T06:32:47.522633",
     "exception": false,
     "start_time": "2024-11-26T06:32:43.263978",
     "status": "completed"
    },
    "tags": []
   },
   "outputs": [],
   "source": [
    "import sys\n",
    "sys.path.append('/kaggle/input/alexnet/pytorch/improved/1')\n",
    "import torch\n",
    "import torch.nn as nn\n",
    "from torchvision import datasets\n",
    "from improved.pca import pca\n",
    "from improved.data_transforms import calc_mean_std, prepreprocess, get_preprocess, get_train_augment\n",
    "from improved.train import train\n",
    "import matplotlib.pyplot as plt\n",
    "from improved.eval import top1_k "
   ]
  },
  {
   "cell_type": "code",
   "execution_count": null,
   "id": "42978309",
   "metadata": {
    "execution": {
     "iopub.execute_input": "2024-11-26T06:32:47.528526Z",
     "iopub.status.busy": "2024-11-26T06:32:47.527790Z",
     "iopub.status.idle": "2024-11-26T06:32:47.537698Z",
     "shell.execute_reply": "2024-11-26T06:32:47.536812Z"
    },
    "papermill": {
     "duration": 0.014502,
     "end_time": "2024-11-26T06:32:47.539553",
     "exception": false,
     "start_time": "2024-11-26T06:32:47.525051",
     "status": "completed"
    },
    "tags": []
   },
   "outputs": [],
   "source": [
    "torch.manual_seed(0)\n",
    "device = torch.device(\"cuda\" if torch.cuda.is_available() else \"cpu\")\n",
    "print(device)"
   ]
  },
  {
   "cell_type": "code",
   "execution_count": null,
   "id": "fcf839e5",
   "metadata": {
    "execution": {
     "iopub.execute_input": "2024-11-26T06:32:47.545203Z",
     "iopub.status.busy": "2024-11-26T06:32:47.544740Z",
     "iopub.status.idle": "2024-11-26T06:34:23.778631Z",
     "shell.execute_reply": "2024-11-26T06:34:23.777330Z"
    },
    "papermill": {
     "duration": 96.238754,
     "end_time": "2024-11-26T06:34:23.780608",
     "exception": false,
     "start_time": "2024-11-26T06:32:47.541854",
     "status": "completed"
    },
    "tags": []
   },
   "outputs": [],
   "source": [
    "train_dataset = datasets.Imagenette(\n",
    "    'datasets/imagenette', split='train', size='320px', download=True, transform=prepreprocess)\n",
    "mean, std = calc_mean_std(train_dataset)\n",
    "print(f'Mean:\\n{mean}')\n",
    "print(f'Standard Deviation:\\n{std}')\n",
    "preprocess = get_preprocess(mean, std)\n",
    "\n",
    "train_dataset = datasets.Imagenette(\n",
    "    'datasets/imagenette', split='train', size='320px', transform=preprocess)\n",
    "eigvals, eigvecs = pca(train_dataset)\n",
    "train_augment = get_train_augment(eigvals, eigvecs, mean, std)\n",
    "\n",
    "train_dataset = datasets.Imagenette(\n",
    "    'datasets/imagenette', split='train', size='320px', transform=train_augment)\n",
    "\n",
    "val_dataset = datasets.Imagenette(\n",
    "    'datasets/imagenette', split='val', size='320px',transform=preprocess)\n",
    "val_dataset, test_dataset = torch.utils.data.random_split(val_dataset, [0.5, 0.5])\n",
    "\n",
    "print(f'Train: {len(train_dataset)}')\n",
    "print(f'Validation: {len(val_dataset)}')\n",
    "print(f'Test: {len(test_dataset)}')"
   ]
  },
  {
   "cell_type": "code",
   "execution_count": null,
   "id": "e9839f5d",
   "metadata": {
    "execution": {
     "iopub.execute_input": "2024-11-26T06:34:23.796800Z",
     "iopub.status.busy": "2024-11-26T06:34:23.796506Z",
     "iopub.status.idle": "2024-11-26T06:34:23.816674Z",
     "shell.execute_reply": "2024-11-26T06:34:23.816029Z"
    },
    "papermill": {
     "duration": 0.030359,
     "end_time": "2024-11-26T06:34:23.818600",
     "exception": false,
     "start_time": "2024-11-26T06:34:23.788241",
     "status": "completed"
    },
    "tags": []
   },
   "outputs": [],
   "source": [
    "model = torch(len(train_dataset.classes))\n",
    "if torch.cuda.device_count() > 1:\n",
    "    print(f'Using {torch.cuda.device_count()} GPUs.')\n",
    "    model = nn.DataParallel(model)\n",
    "model.to(device)\n",
    "# initialize parameters\n",
    "# init_params(model)\n",
    "compiled_model = model\n",
    "# if torch.cuda.is_available():\n",
    "#     compiled_model = torch.compile(model)"
   ]
  },
  {
   "cell_type": "code",
   "execution_count": null,
   "id": "3fbb935e",
   "metadata": {
    "execution": {
     "iopub.execute_input": "2024-11-26T06:34:23.834414Z",
     "iopub.status.busy": "2024-11-26T06:34:23.834158Z",
     "iopub.status.idle": "2024-11-26T08:36:35.585369Z",
     "shell.execute_reply": "2024-11-26T08:36:35.584258Z"
    },
    "papermill": {
     "duration": 7331.776416,
     "end_time": "2024-11-26T08:36:35.602586",
     "exception": false,
     "start_time": "2024-11-26T06:34:23.826170",
     "status": "completed"
    },
    "tags": []
   },
   "outputs": [],
   "source": [
    "costs, val_error_rates, learning_rates = train(\n",
    "    compiled_model,\n",
    "    train_dataset=train_dataset,\n",
    "    cv_dataset=val_dataset,\n",
    "    batch_size=128,\n",
    "    num_epochs=200,\n",
    "    initial_lr=0.01,\n",
    "    num_workers=3,\n",
    "    patience=20,\n",
    ")"
   ]
  },
  {
   "cell_type": "code",
   "execution_count": null,
   "id": "f89e8aec",
   "metadata": {
    "execution": {
     "iopub.execute_input": "2024-11-26T08:36:35.637833Z",
     "iopub.status.busy": "2024-11-26T08:36:35.637426Z",
     "iopub.status.idle": "2024-11-26T08:36:36.135747Z",
     "shell.execute_reply": "2024-11-26T08:36:36.135068Z"
    },
    "papermill": {
     "duration": 0.519798,
     "end_time": "2024-11-26T08:36:36.137904",
     "exception": false,
     "start_time": "2024-11-26T08:36:35.618106",
     "status": "completed"
    },
    "tags": []
   },
   "outputs": [],
   "source": [
    "# torch.save(model.state_dict(), 'improved_imagenette.model.pt')\n",
    "# torch.save(preprocess, 'improved_imagenette.preprocess.pt')\n",
    "# torch.save(train_augment, 'improved_imagenette.train_augment.pt')"
   ]
  },
  {
   "cell_type": "code",
   "execution_count": null,
   "id": "70edd73e",
   "metadata": {
    "execution": {
     "iopub.execute_input": "2024-11-26T08:36:36.171969Z",
     "iopub.status.busy": "2024-11-26T08:36:36.171650Z",
     "iopub.status.idle": "2024-11-26T08:37:23.092447Z",
     "shell.execute_reply": "2024-11-26T08:37:23.091360Z"
    },
    "papermill": {
     "duration": 46.955587,
     "end_time": "2024-11-26T08:37:23.109718",
     "exception": false,
     "start_time": "2024-11-26T08:36:36.154131",
     "status": "completed"
    },
    "tags": []
   },
   "outputs": [],
   "source": [
    "test_top1, test_top5 = top1_k(compiled_model, test_dataset, k=5)\n",
    "print(f'Test Top 1: {test_top1}')\n",
    "print(f'Test Top 5: {test_top5}')\n",
    "\n",
    "val_top1, val_top5 = top1_k(compiled_model, val_dataset, k=5)\n",
    "print(f'Val Top 1: {val_top1}')\n",
    "print(f'Val Top 5: {val_top5}')\n",
    "\n",
    "train_eval_dataset = datasets.Imagenette(\n",
    "    'datasets/imagenette', split='train', size='320px', transform=preprocess)\n",
    "train_top1, train_top5 = top1_k(compiled_model, train_eval_dataset, k=5)\n",
    "print(f'Train Top 1: {train_top1}')\n",
    "print(f'Train Top 5: {train_top5}')"
   ]
  },
  {
   "cell_type": "code",
   "execution_count": null,
   "id": "5ae8d41d",
   "metadata": {
    "execution": {
     "iopub.execute_input": "2024-11-26T08:37:23.142511Z",
     "iopub.status.busy": "2024-11-26T08:37:23.142152Z",
     "iopub.status.idle": "2024-11-26T08:37:23.449439Z",
     "shell.execute_reply": "2024-11-26T08:37:23.448581Z"
    },
    "papermill": {
     "duration": 0.325982,
     "end_time": "2024-11-26T08:37:23.451351",
     "exception": false,
     "start_time": "2024-11-26T08:37:23.125369",
     "status": "completed"
    },
    "tags": []
   },
   "outputs": [],
   "source": [
    "plt.plot(costs)\n",
    "plt.xlabel(\"Epoch\")\n",
    "plt.title('Costs')"
   ]
  },
  {
   "cell_type": "code",
   "execution_count": null,
   "id": "219e7ce4",
   "metadata": {
    "execution": {
     "iopub.execute_input": "2024-11-26T08:37:23.485345Z",
     "iopub.status.busy": "2024-11-26T08:37:23.485028Z",
     "iopub.status.idle": "2024-11-26T08:37:23.890353Z",
     "shell.execute_reply": "2024-11-26T08:37:23.889428Z"
    },
    "papermill": {
     "duration": 0.424448,
     "end_time": "2024-11-26T08:37:23.892214",
     "exception": false,
     "start_time": "2024-11-26T08:37:23.467766",
     "status": "completed"
    },
    "tags": []
   },
   "outputs": [],
   "source": [
    "plt.plot(val_error_rates)\n",
    "plt.xlabel(\"Epoch\")\n",
    "plt.title('Validation Error Rates')"
   ]
  },
  {
   "cell_type": "code",
   "execution_count": null,
   "id": "e6664df3",
   "metadata": {
    "execution": {
     "iopub.execute_input": "2024-11-26T08:37:23.927140Z",
     "iopub.status.busy": "2024-11-26T08:37:23.926796Z",
     "iopub.status.idle": "2024-11-26T08:37:24.189975Z",
     "shell.execute_reply": "2024-11-26T08:37:24.189093Z"
    },
    "papermill": {
     "duration": 0.282549,
     "end_time": "2024-11-26T08:37:24.191955",
     "exception": false,
     "start_time": "2024-11-26T08:37:23.909406",
     "status": "completed"
    },
    "tags": []
   },
   "outputs": [],
   "source": [
    "import math\n",
    "\n",
    "plt.plot([math.log10(lr) for lr in learning_rates])\n",
    "plt.ylabel(\"Log10(lr)\")\n",
    "plt.xlabel(\"Epoch\")\n",
    "plt.title('Learning Rates')"
   ]
  }
 ],
 "metadata": {
  "kaggle": {
   "accelerator": "none",
   "dataSources": [
    {
     "isSourceIdPinned": true,
     "modelId": 174579,
     "modelInstanceId": 152409,
     "sourceId": 178912,
     "sourceType": "modelInstanceVersion"
    }
   ],
   "isGpuEnabled": false,
   "isInternetEnabled": true,
   "language": "python",
   "sourceType": "notebook"
  },
  "kernelspec": {
   "display_name": "torch",
   "language": "python",
   "name": "python3"
  },
  "language_info": {
   "codemirror_mode": {
    "name": "ipython",
    "version": 3
   },
   "file_extension": ".py",
   "mimetype": "text/x-python",
   "name": "python",
   "nbconvert_exporter": "python",
   "pygments_lexer": "ipython3",
   "version": "3.12.3"
  },
  "papermill": {
   "default_parameters": {},
   "duration": 7485.77016,
   "end_time": "2024-11-26T08:37:26.713811",
   "environment_variables": {},
   "exception": null,
   "input_path": "__notebook__.ipynb",
   "output_path": "__notebook__.ipynb",
   "parameters": {},
   "start_time": "2024-11-26T06:32:40.943651",
   "version": "2.6.0"
  }
 },
 "nbformat": 4,
 "nbformat_minor": 5
}
