{
 "cells": [
  {
   "cell_type": "code",
   "execution_count": 1,
   "id": "6dbde02f",
   "metadata": {
    "_cell_guid": "b45f5db7-6a30-4500-9d18-22af2f604f47",
    "_uuid": "543e58a8-8250-4de0-8382-cedffe00d0f7",
    "collapsed": false,
    "execution": {
     "iopub.execute_input": "2024-12-14T02:06:11.734635Z",
     "iopub.status.busy": "2024-12-14T02:06:11.734313Z",
     "iopub.status.idle": "2024-12-14T02:06:16.493712Z",
     "shell.execute_reply": "2024-12-14T02:06:16.492948Z"
    },
    "jupyter": {
     "outputs_hidden": false
    },
    "papermill": {
     "duration": 4.765785,
     "end_time": "2024-12-14T02:06:16.495690",
     "exception": false,
     "start_time": "2024-12-14T02:06:11.729905",
     "status": "completed"
    },
    "tags": []
   },
   "outputs": [],
   "source": [
    "import sys\n",
    "sys.path.append('/kaggle/input/alexnet/pytorch/improved/1')\n",
    "import torch\n",
    "import torch.nn as nn\n",
    "import torchvision\n",
    "from torchvision import datasets\n",
    "from improved.pca import pca\n",
    "from improved.data_transforms import calc_mean_std, prepreprocess, get_preprocess, get_train_augment\n",
    "from improved.train import train\n",
    "import matplotlib.pyplot as plt\n",
    "from improved.eval import top1_k "
   ]
  },
  {
   "cell_type": "code",
   "execution_count": 2,
   "id": "b6dc59c2",
   "metadata": {
    "execution": {
     "iopub.execute_input": "2024-12-14T02:06:16.501836Z",
     "iopub.status.busy": "2024-12-14T02:06:16.501416Z",
     "iopub.status.idle": "2024-12-14T02:06:16.512475Z",
     "shell.execute_reply": "2024-12-14T02:06:16.511383Z"
    },
    "papermill": {
     "duration": 0.016564,
     "end_time": "2024-12-14T02:06:16.514958",
     "exception": false,
     "start_time": "2024-12-14T02:06:16.498394",
     "status": "completed"
    },
    "tags": []
   },
   "outputs": [
    {
     "name": "stdout",
     "output_type": "stream",
     "text": [
      "cuda\n"
     ]
    }
   ],
   "source": [
    "torch.manual_seed(0)\n",
    "device = torch.device(\"cuda\" if torch.cuda.is_available() else \"cpu\")\n",
    "print(device)"
   ]
  },
  {
   "cell_type": "code",
   "execution_count": 3,
   "id": "bcf9056a",
   "metadata": {
    "execution": {
     "iopub.execute_input": "2024-12-14T02:06:16.525448Z",
     "iopub.status.busy": "2024-12-14T02:06:16.524483Z",
     "iopub.status.idle": "2024-12-14T02:07:43.076106Z",
     "shell.execute_reply": "2024-12-14T02:07:43.074833Z"
    },
    "papermill": {
     "duration": 86.558726,
     "end_time": "2024-12-14T02:07:43.078127",
     "exception": false,
     "start_time": "2024-12-14T02:06:16.519401",
     "status": "completed"
    },
    "tags": []
   },
   "outputs": [
    {
     "name": "stdout",
     "output_type": "stream",
     "text": [
      "Downloading https://s3.amazonaws.com/fast-ai-imageclas/imagenette2-320.tgz to datasets/imagenette/imagenette2-320.tgz\n"
     ]
    },
    {
     "name": "stderr",
     "output_type": "stream",
     "text": [
      "100%|██████████| 341663724/341663724 [00:10<00:00, 32586709.78it/s]\n"
     ]
    },
    {
     "name": "stdout",
     "output_type": "stream",
     "text": [
      "Extracting datasets/imagenette/imagenette2-320.tgz to datasets/imagenette\n",
      "Mean:\n",
      "[0.4666706919670105, 0.45878785848617554, 0.43017029762268066]\n",
      "Standard Deviation:\n",
      "[0.28003814816474915, 0.27618539333343506, 0.2980325520038605]\n",
      "Covar:\n",
      "tensor([[0.9999, 0.9060, 0.7768],\n",
      "        [0.9060, 0.9999, 0.9098],\n",
      "        [0.7768, 0.9098, 1.0001]], device='cuda:0')\n",
      "Eigen values (sqrt):\n",
      "tensor([[0.2165],\n",
      "        [0.4725],\n",
      "        [1.6522]])\n",
      "Eigen vectors:\n",
      "tensor([[ 0.4129,  0.7125,  0.5673],\n",
      "        [-0.8029, -0.0092,  0.5960],\n",
      "        [ 0.4299, -0.7016,  0.5683]])\n",
      "Train: 9469\n",
      "Validation: 1963\n",
      "Test: 1962\n"
     ]
    }
   ],
   "source": [
    "train_dataset = datasets.Imagenette(\n",
    "    'datasets/imagenette', split='train', size='320px', download=True, transform=prepreprocess)\n",
    "mean, std = calc_mean_std(train_dataset)\n",
    "print(f'Mean:\\n{mean}')\n",
    "print(f'Standard Deviation:\\n{std}')\n",
    "preprocess = get_preprocess(mean, std)\n",
    "\n",
    "train_dataset = datasets.Imagenette(\n",
    "    'datasets/imagenette', split='train', size='320px', transform=preprocess)\n",
    "eigvals, eigvecs = pca(train_dataset)\n",
    "train_augment = get_train_augment(eigvals, eigvecs, mean, std)\n",
    "\n",
    "train_dataset = datasets.Imagenette(\n",
    "    'datasets/imagenette', split='train', size='320px', transform=train_augment)\n",
    "\n",
    "val_dataset = datasets.Imagenette(\n",
    "    'datasets/imagenette', split='val', size='320px',transform=preprocess)\n",
    "val_dataset, test_dataset = torch.utils.data.random_split(val_dataset, [0.5, 0.5])\n",
    "\n",
    "print(f'Train: {len(train_dataset)}')\n",
    "print(f'Validation: {len(val_dataset)}')\n",
    "print(f'Test: {len(test_dataset)}')"
   ]
  },
  {
   "cell_type": "code",
   "execution_count": 4,
   "id": "8ac246e4",
   "metadata": {
    "execution": {
     "iopub.execute_input": "2024-12-14T02:07:43.091369Z",
     "iopub.status.busy": "2024-12-14T02:07:43.091059Z",
     "iopub.status.idle": "2024-12-14T02:07:43.667634Z",
     "shell.execute_reply": "2024-12-14T02:07:43.666666Z"
    },
    "papermill": {
     "duration": 0.585992,
     "end_time": "2024-12-14T02:07:43.669686",
     "exception": false,
     "start_time": "2024-12-14T02:07:43.083694",
     "status": "completed"
    },
    "tags": []
   },
   "outputs": [
    {
     "name": "stderr",
     "output_type": "stream",
     "text": [
      "/opt/conda/lib/python3.10/site-packages/torchvision/models/_utils.py:135: UserWarning: Using 'weights' as positional parameter(s) is deprecated since 0.13 and may be removed in the future. Please use keyword parameter(s) instead.\n",
      "  warnings.warn(\n",
      "/opt/conda/lib/python3.10/site-packages/torchvision/models/_utils.py:223: UserWarning: Arguments other than a weight enum or `None` for 'weights' are deprecated since 0.13 and may be removed in the future. The current behavior is equivalent to passing `weights=GoogLeNet_Weights.IMAGENET1K_V1`. You can also use `weights=GoogLeNet_Weights.DEFAULT` to get the most up-to-date weights.\n",
      "  warnings.warn(msg)\n",
      "Downloading: \"https://download.pytorch.org/models/googlenet-1378be20.pth\" to /root/.cache/torch/hub/checkpoints/googlenet-1378be20.pth\n",
      "100%|██████████| 49.7M/49.7M [00:00<00:00, 181MB/s]\n"
     ]
    }
   ],
   "source": [
    "model = torchvision.models.googlenet(len(train_dataset.classes))\n",
    "if torch.cuda.device_count() > 1:\n",
    "    print(f'Using {torch.cuda.device_count()} GPUs.')\n",
    "    model = nn.DataParallel(model)\n",
    "model.to(device)\n",
    "# initialize parameters\n",
    "# init_params(model)\n",
    "compiled_model = model\n",
    "# if torch.cuda.is_available():\n",
    "#     compiled_model = torch.compile(model)"
   ]
  },
  {
   "cell_type": "code",
   "execution_count": 5,
   "id": "843309cd",
   "metadata": {
    "execution": {
     "iopub.execute_input": "2024-12-14T02:07:43.682614Z",
     "iopub.status.busy": "2024-12-14T02:07:43.682311Z",
     "iopub.status.idle": "2024-12-14T04:52:47.370805Z",
     "shell.execute_reply": "2024-12-14T04:52:47.369578Z"
    },
    "papermill": {
     "duration": 9903.711007,
     "end_time": "2024-12-14T04:52:47.386694",
     "exception": false,
     "start_time": "2024-12-14T02:07:43.675687",
     "status": "completed"
    },
    "tags": []
   },
   "outputs": [
    {
     "name": "stdout",
     "output_type": "stream",
     "text": [
      "Epoch 1/200, Cost: 1.020, Val Error: 3.77%, lr: 0.01, Time: 47s\n",
      "Epoch 2/200, Cost: 0.183, Val Error: 3.11%, lr: 0.01, Time: 49s\n",
      "Epoch 3/200, Cost: 0.132, Val Error: 2.19%, lr: 0.01, Time: 50s\n",
      "Epoch 4/200, Cost: 0.120, Val Error: 2.39%, lr: 0.01, Time: 50s\n",
      "Epoch 5/200, Cost: 0.105, Val Error: 1.78%, lr: 0.01, Time: 49s\n",
      "Epoch 6/200, Cost: 0.098, Val Error: 2.14%, lr: 0.01, Time: 49s\n",
      "Epoch 7/200, Cost: 0.090, Val Error: 1.99%, lr: 0.01, Time: 49s\n",
      "Epoch 8/200, Cost: 0.082, Val Error: 2.04%, lr: 0.01, Time: 48s\n",
      "Epoch 9/200, Cost: 0.068, Val Error: 2.04%, lr: 0.01, Time: 48s\n",
      "Epoch 10/200, Cost: 0.069, Val Error: 2.39%, lr: 0.01, Time: 49s\n",
      "Epoch 11/200, Cost: 0.073, Val Error: 2.14%, lr: 0.01, Time: 49s\n",
      "Epoch 12/200, Cost: 0.068, Val Error: 2.39%, lr: 0.01, Time: 48s\n",
      "Epoch 13/200, Cost: 0.064, Val Error: 2.04%, lr: 0.01, Time: 48s\n",
      "Epoch 14/200, Cost: 0.061, Val Error: 2.39%, lr: 0.01, Time: 49s\n",
      "Epoch 15/200, Cost: 0.058, Val Error: 2.09%, lr: 0.01, Time: 48s\n",
      "Epoch 16/200, Cost: 0.071, Val Error: 2.24%, lr: 0.01, Time: 49s\n",
      "Epoch 17/200, Cost: 0.058, Val Error: 2.14%, lr: 0.01, Time: 49s\n",
      "Epoch 18/200, Cost: 0.063, Val Error: 2.29%, lr: 0.01, Time: 48s\n",
      "Epoch 19/200, Cost: 0.062, Val Error: 1.94%, lr: 0.01, Time: 49s\n",
      "Epoch 20/200, Cost: 0.050, Val Error: 2.14%, lr: 0.01, Time: 50s\n",
      "Epoch 21/200, Cost: 0.057, Val Error: 2.14%, lr: 0.01, Time: 49s\n",
      "Epoch 22/200, Cost: 0.051, Val Error: 1.78%, lr: 0.01, Time: 49s\n",
      "Epoch 23/200, Cost: 0.051, Val Error: 1.94%, lr: 0.01, Time: 51s\n",
      "Epoch 24/200, Cost: 0.048, Val Error: 1.68%, lr: 0.01, Time: 49s\n",
      "Epoch 25/200, Cost: 0.055, Val Error: 2.09%, lr: 0.01, Time: 49s\n",
      "Epoch 26/200, Cost: 0.042, Val Error: 1.68%, lr: 0.01, Time: 48s\n",
      "Epoch 27/200, Cost: 0.041, Val Error: 1.63%, lr: 0.01, Time: 49s\n",
      "Epoch 28/200, Cost: 0.046, Val Error: 2.09%, lr: 0.01, Time: 51s\n",
      "Epoch 29/200, Cost: 0.044, Val Error: 1.99%, lr: 0.01, Time: 49s\n",
      "Epoch 30/200, Cost: 0.044, Val Error: 2.24%, lr: 0.01, Time: 49s\n",
      "Epoch 31/200, Cost: 0.044, Val Error: 2.04%, lr: 0.01, Time: 51s\n",
      "Epoch 32/200, Cost: 0.048, Val Error: 1.73%, lr: 0.01, Time: 49s\n",
      "Epoch 33/200, Cost: 0.049, Val Error: 1.88%, lr: 0.01, Time: 51s\n",
      "Epoch 34/200, Cost: 0.047, Val Error: 1.88%, lr: 0.01, Time: 50s\n",
      "Epoch 35/200, Cost: 0.044, Val Error: 2.19%, lr: 0.01, Time: 50s\n",
      "Epoch 36/200, Cost: 0.039, Val Error: 1.73%, lr: 0.01, Time: 50s\n",
      "Epoch 37/200, Cost: 0.041, Val Error: 1.83%, lr: 0.01, Time: 50s\n",
      "Epoch 38/200, Cost: 0.047, Val Error: 1.83%, lr: 0.01, Time: 49s\n",
      "Epoch 39/200, Cost: 0.041, Val Error: 1.99%, lr: 0.01, Time: 50s\n",
      "Epoch 40/200, Cost: 0.037, Val Error: 1.53%, lr: 0.01, Time: 52s\n",
      "Epoch 41/200, Cost: 0.045, Val Error: 1.94%, lr: 0.01, Time: 50s\n",
      "Epoch 42/200, Cost: 0.034, Val Error: 1.94%, lr: 0.01, Time: 50s\n",
      "Epoch 43/200, Cost: 0.041, Val Error: 1.94%, lr: 0.01, Time: 48s\n",
      "Epoch 44/200, Cost: 0.038, Val Error: 1.99%, lr: 0.01, Time: 50s\n",
      "Epoch 45/200, Cost: 0.038, Val Error: 1.94%, lr: 0.01, Time: 50s\n",
      "Epoch 46/200, Cost: 0.042, Val Error: 1.73%, lr: 0.01, Time: 50s\n",
      "Epoch 47/200, Cost: 0.041, Val Error: 1.94%, lr: 0.01, Time: 50s\n",
      "Epoch 48/200, Cost: 0.035, Val Error: 1.83%, lr: 0.01, Time: 49s\n",
      "Epoch 49/200, Cost: 0.039, Val Error: 2.04%, lr: 0.01, Time: 51s\n",
      "Epoch 50/200, Cost: 0.035, Val Error: 2.04%, lr: 0.01, Time: 50s\n",
      "Epoch 51/200, Cost: 0.038, Val Error: 2.24%, lr: 0.01, Time: 51s\n",
      "Epoch 52/200, Cost: 0.045, Val Error: 2.04%, lr: 0.01, Time: 49s\n",
      "Epoch 53/200, Cost: 0.040, Val Error: 1.94%, lr: 0.01, Time: 49s\n",
      "Epoch 54/200, Cost: 0.033, Val Error: 2.09%, lr: 0.01, Time: 51s\n",
      "Epoch 55/200, Cost: 0.033, Val Error: 2.14%, lr: 0.01, Time: 49s\n",
      "Epoch 56/200, Cost: 0.037, Val Error: 1.68%, lr: 0.01, Time: 51s\n",
      "Epoch 57/200, Cost: 0.043, Val Error: 1.58%, lr: 0.01, Time: 50s\n",
      "Epoch 58/200, Cost: 0.041, Val Error: 1.78%, lr: 0.01, Time: 51s\n",
      "Epoch 59/200, Cost: 0.038, Val Error: 2.19%, lr: 0.01, Time: 50s\n",
      "Epoch 60/200, Cost: 0.035, Val Error: 2.29%, lr: 0.01, Time: 50s\n",
      "Epoch 61/200, Cost: 0.031, Val Error: 2.04%, lr: 0.001, Time: 50s\n",
      "Epoch 62/200, Cost: 0.035, Val Error: 1.94%, lr: 0.001, Time: 51s\n",
      "Epoch 63/200, Cost: 0.027, Val Error: 1.83%, lr: 0.001, Time: 51s\n",
      "Epoch 64/200, Cost: 0.030, Val Error: 1.88%, lr: 0.001, Time: 52s\n",
      "Epoch 65/200, Cost: 0.022, Val Error: 1.68%, lr: 0.001, Time: 51s\n",
      "Epoch 66/200, Cost: 0.027, Val Error: 1.63%, lr: 0.001, Time: 51s\n",
      "Epoch 67/200, Cost: 0.026, Val Error: 1.68%, lr: 0.001, Time: 51s\n",
      "Epoch 68/200, Cost: 0.021, Val Error: 1.73%, lr: 0.001, Time: 50s\n",
      "Epoch 69/200, Cost: 0.024, Val Error: 1.68%, lr: 0.001, Time: 50s\n",
      "Epoch 70/200, Cost: 0.026, Val Error: 1.78%, lr: 0.001, Time: 50s\n",
      "Epoch 71/200, Cost: 0.024, Val Error: 1.63%, lr: 0.001, Time: 49s\n",
      "Epoch 72/200, Cost: 0.024, Val Error: 1.68%, lr: 0.001, Time: 50s\n",
      "Epoch 73/200, Cost: 0.022, Val Error: 1.78%, lr: 0.001, Time: 49s\n",
      "Epoch 74/200, Cost: 0.022, Val Error: 1.68%, lr: 0.001, Time: 50s\n",
      "Epoch 75/200, Cost: 0.023, Val Error: 1.63%, lr: 0.001, Time: 49s\n",
      "Epoch 76/200, Cost: 0.020, Val Error: 1.68%, lr: 0.001, Time: 51s\n",
      "Epoch 77/200, Cost: 0.022, Val Error: 1.63%, lr: 0.001, Time: 50s\n",
      "Epoch 78/200, Cost: 0.021, Val Error: 1.58%, lr: 0.001, Time: 50s\n",
      "Epoch 79/200, Cost: 0.020, Val Error: 1.58%, lr: 0.001, Time: 50s\n",
      "Epoch 80/200, Cost: 0.021, Val Error: 1.48%, lr: 0.001, Time: 50s\n",
      "Epoch 81/200, Cost: 0.019, Val Error: 1.53%, lr: 0.001, Time: 51s\n",
      "Epoch 82/200, Cost: 0.025, Val Error: 1.58%, lr: 0.001, Time: 51s\n",
      "Epoch 83/200, Cost: 0.022, Val Error: 1.48%, lr: 0.001, Time: 49s\n",
      "Epoch 84/200, Cost: 0.020, Val Error: 1.58%, lr: 0.001, Time: 51s\n",
      "Epoch 85/200, Cost: 0.017, Val Error: 1.53%, lr: 0.001, Time: 50s\n",
      "Epoch 86/200, Cost: 0.022, Val Error: 1.48%, lr: 0.001, Time: 50s\n",
      "Epoch 87/200, Cost: 0.019, Val Error: 1.48%, lr: 0.001, Time: 50s\n",
      "Epoch 88/200, Cost: 0.021, Val Error: 1.58%, lr: 0.001, Time: 51s\n",
      "Epoch 89/200, Cost: 0.022, Val Error: 1.58%, lr: 0.001, Time: 50s\n",
      "Epoch 90/200, Cost: 0.017, Val Error: 1.63%, lr: 0.001, Time: 50s\n",
      "Epoch 91/200, Cost: 0.018, Val Error: 1.58%, lr: 0.001, Time: 49s\n",
      "Epoch 92/200, Cost: 0.022, Val Error: 1.58%, lr: 0.001, Time: 50s\n",
      "Epoch 93/200, Cost: 0.017, Val Error: 1.58%, lr: 0.001, Time: 50s\n",
      "Epoch 94/200, Cost: 0.018, Val Error: 1.73%, lr: 0.001, Time: 49s\n",
      "Epoch 95/200, Cost: 0.019, Val Error: 1.58%, lr: 0.001, Time: 50s\n",
      "Epoch 96/200, Cost: 0.019, Val Error: 1.58%, lr: 0.001, Time: 50s\n",
      "Epoch 97/200, Cost: 0.020, Val Error: 1.48%, lr: 0.001, Time: 50s\n",
      "Epoch 98/200, Cost: 0.019, Val Error: 1.48%, lr: 0.001, Time: 50s\n",
      "Epoch 99/200, Cost: 0.023, Val Error: 1.68%, lr: 0.001, Time: 49s\n",
      "Epoch 100/200, Cost: 0.021, Val Error: 1.53%, lr: 0.001, Time: 50s\n",
      "Epoch 101/200, Cost: 0.021, Val Error: 1.63%, lr: 0.0001, Time: 51s\n",
      "Epoch 102/200, Cost: 0.019, Val Error: 1.58%, lr: 0.0001, Time: 50s\n",
      "Epoch 103/200, Cost: 0.018, Val Error: 1.53%, lr: 0.0001, Time: 49s\n",
      "Epoch 104/200, Cost: 0.017, Val Error: 1.58%, lr: 0.0001, Time: 49s\n",
      "Epoch 105/200, Cost: 0.019, Val Error: 1.53%, lr: 0.0001, Time: 48s\n",
      "Epoch 106/200, Cost: 0.018, Val Error: 1.63%, lr: 0.0001, Time: 50s\n",
      "Epoch 107/200, Cost: 0.017, Val Error: 1.48%, lr: 0.0001, Time: 50s\n",
      "Epoch 108/200, Cost: 0.016, Val Error: 1.48%, lr: 0.0001, Time: 49s\n",
      "Epoch 109/200, Cost: 0.016, Val Error: 1.53%, lr: 0.0001, Time: 50s\n",
      "Epoch 110/200, Cost: 0.016, Val Error: 1.58%, lr: 0.0001, Time: 50s\n",
      "Epoch 111/200, Cost: 0.015, Val Error: 1.58%, lr: 0.0001, Time: 50s\n",
      "Epoch 112/200, Cost: 0.015, Val Error: 1.53%, lr: 0.0001, Time: 51s\n",
      "Epoch 113/200, Cost: 0.016, Val Error: 1.58%, lr: 0.0001, Time: 49s\n",
      "Epoch 114/200, Cost: 0.021, Val Error: 1.53%, lr: 0.0001, Time: 49s\n",
      "Epoch 115/200, Cost: 0.014, Val Error: 1.53%, lr: 0.0001, Time: 50s\n",
      "Epoch 116/200, Cost: 0.017, Val Error: 1.53%, lr: 0.0001, Time: 47s\n",
      "Epoch 117/200, Cost: 0.016, Val Error: 1.53%, lr: 0.0001, Time: 49s\n",
      "Epoch 118/200, Cost: 0.018, Val Error: 1.53%, lr: 0.0001, Time: 49s\n",
      "Epoch 119/200, Cost: 0.019, Val Error: 1.53%, lr: 0.0001, Time: 49s\n",
      "Epoch 120/200, Cost: 0.018, Val Error: 1.48%, lr: 0.0001, Time: 49s\n",
      "Epoch 121/200, Cost: 0.018, Val Error: 1.48%, lr: 0.0001, Time: 49s\n",
      "Epoch 122/200, Cost: 0.017, Val Error: 1.53%, lr: 1e-05, Time: 48s\n",
      "Epoch 123/200, Cost: 0.019, Val Error: 1.53%, lr: 1e-05, Time: 48s\n",
      "Epoch 124/200, Cost: 0.017, Val Error: 1.53%, lr: 1e-05, Time: 48s\n",
      "Epoch 125/200, Cost: 0.017, Val Error: 1.58%, lr: 1e-05, Time: 48s\n",
      "Epoch 126/200, Cost: 0.019, Val Error: 1.48%, lr: 1e-05, Time: 48s\n",
      "Epoch 127/200, Cost: 0.014, Val Error: 1.48%, lr: 1e-05, Time: 49s\n",
      "Epoch 128/200, Cost: 0.019, Val Error: 1.58%, lr: 1e-05, Time: 49s\n",
      "Epoch 129/200, Cost: 0.016, Val Error: 1.53%, lr: 1e-05, Time: 49s\n",
      "Epoch 130/200, Cost: 0.018, Val Error: 1.58%, lr: 1e-05, Time: 49s\n",
      "Epoch 131/200, Cost: 0.015, Val Error: 1.53%, lr: 1e-05, Time: 48s\n",
      "Epoch 132/200, Cost: 0.019, Val Error: 1.48%, lr: 1e-05, Time: 47s\n",
      "Epoch 133/200, Cost: 0.018, Val Error: 1.48%, lr: 1e-05, Time: 46s\n",
      "Epoch 134/200, Cost: 0.019, Val Error: 1.48%, lr: 1e-05, Time: 48s\n",
      "Epoch 135/200, Cost: 0.020, Val Error: 1.58%, lr: 1e-05, Time: 48s\n",
      "Epoch 136/200, Cost: 0.017, Val Error: 1.53%, lr: 1e-05, Time: 48s\n",
      "Epoch 137/200, Cost: 0.021, Val Error: 1.58%, lr: 1e-05, Time: 49s\n",
      "Epoch 138/200, Cost: 0.015, Val Error: 1.43%, lr: 1e-05, Time: 50s\n",
      "Epoch 139/200, Cost: 0.014, Val Error: 1.58%, lr: 1e-05, Time: 49s\n",
      "Epoch 140/200, Cost: 0.017, Val Error: 1.58%, lr: 1e-05, Time: 50s\n",
      "Epoch 141/200, Cost: 0.017, Val Error: 1.53%, lr: 1e-05, Time: 50s\n",
      "Epoch 142/200, Cost: 0.018, Val Error: 1.53%, lr: 1e-05, Time: 49s\n",
      "Epoch 143/200, Cost: 0.016, Val Error: 1.53%, lr: 1e-05, Time: 48s\n",
      "Epoch 144/200, Cost: 0.016, Val Error: 1.48%, lr: 1e-05, Time: 50s\n",
      "Epoch 145/200, Cost: 0.017, Val Error: 1.43%, lr: 1e-05, Time: 48s\n",
      "Epoch 146/200, Cost: 0.017, Val Error: 1.53%, lr: 1e-05, Time: 49s\n",
      "Epoch 147/200, Cost: 0.018, Val Error: 1.58%, lr: 1e-05, Time: 50s\n",
      "Epoch 148/200, Cost: 0.017, Val Error: 1.53%, lr: 1e-05, Time: 50s\n",
      "Epoch 149/200, Cost: 0.018, Val Error: 1.53%, lr: 1e-05, Time: 50s\n",
      "Epoch 150/200, Cost: 0.016, Val Error: 1.48%, lr: 1e-05, Time: 49s\n",
      "Epoch 151/200, Cost: 0.017, Val Error: 1.48%, lr: 1e-05, Time: 47s\n",
      "Epoch 152/200, Cost: 0.019, Val Error: 1.58%, lr: 1e-05, Time: 48s\n",
      "Epoch 153/200, Cost: 0.015, Val Error: 1.58%, lr: 1e-05, Time: 48s\n",
      "Epoch 154/200, Cost: 0.018, Val Error: 1.43%, lr: 1e-05, Time: 49s\n",
      "Epoch 155/200, Cost: 0.016, Val Error: 1.58%, lr: 1e-05, Time: 50s\n",
      "Epoch 156/200, Cost: 0.017, Val Error: 1.58%, lr: 1e-05, Time: 48s\n",
      "Epoch 157/200, Cost: 0.019, Val Error: 1.53%, lr: 1e-05, Time: 51s\n",
      "Epoch 158/200, Cost: 0.019, Val Error: 1.43%, lr: 1e-05, Time: 50s\n",
      "Epoch 159/200, Cost: 0.019, Val Error: 1.58%, lr: 1.0000000000000002e-06, Time: 50s\n",
      "Epoch 160/200, Cost: 0.019, Val Error: 1.53%, lr: 1.0000000000000002e-06, Time: 49s\n",
      "Epoch 161/200, Cost: 0.018, Val Error: 1.53%, lr: 1.0000000000000002e-06, Time: 50s\n",
      "Epoch 162/200, Cost: 0.016, Val Error: 1.48%, lr: 1.0000000000000002e-06, Time: 50s\n",
      "Epoch 163/200, Cost: 0.015, Val Error: 1.53%, lr: 1.0000000000000002e-06, Time: 49s\n",
      "Epoch 164/200, Cost: 0.015, Val Error: 1.48%, lr: 1.0000000000000002e-06, Time: 51s\n",
      "Epoch 165/200, Cost: 0.020, Val Error: 1.58%, lr: 1.0000000000000002e-06, Time: 50s\n",
      "Epoch 166/200, Cost: 0.017, Val Error: 1.53%, lr: 1.0000000000000002e-06, Time: 50s\n",
      "Epoch 167/200, Cost: 0.016, Val Error: 1.53%, lr: 1.0000000000000002e-06, Time: 51s\n",
      "Epoch 168/200, Cost: 0.017, Val Error: 1.53%, lr: 1.0000000000000002e-06, Time: 50s\n",
      "Epoch 169/200, Cost: 0.017, Val Error: 1.58%, lr: 1.0000000000000002e-06, Time: 50s\n",
      "Epoch 170/200, Cost: 0.016, Val Error: 1.53%, lr: 1.0000000000000002e-06, Time: 49s\n",
      "Epoch 171/200, Cost: 0.019, Val Error: 1.58%, lr: 1.0000000000000002e-06, Time: 49s\n",
      "Epoch 172/200, Cost: 0.016, Val Error: 1.53%, lr: 1.0000000000000002e-06, Time: 48s\n",
      "Epoch 173/200, Cost: 0.018, Val Error: 1.53%, lr: 1.0000000000000002e-06, Time: 48s\n",
      "Epoch 174/200, Cost: 0.017, Val Error: 1.48%, lr: 1.0000000000000002e-06, Time: 50s\n",
      "Epoch 175/200, Cost: 0.014, Val Error: 1.53%, lr: 1.0000000000000002e-06, Time: 50s\n",
      "Epoch 176/200, Cost: 0.017, Val Error: 1.58%, lr: 1.0000000000000002e-06, Time: 48s\n",
      "Epoch 177/200, Cost: 0.019, Val Error: 1.58%, lr: 1.0000000000000002e-06, Time: 49s\n",
      "Epoch 178/200, Cost: 0.017, Val Error: 1.53%, lr: 1.0000000000000002e-06, Time: 49s\n",
      "Epoch 179/200, Cost: 0.016, Val Error: 1.53%, lr: 1.0000000000000002e-06, Time: 50s\n",
      "Epoch 180/200, Cost: 0.017, Val Error: 1.53%, lr: 1.0000000000000002e-07, Time: 50s\n",
      "Epoch 181/200, Cost: 0.019, Val Error: 1.53%, lr: 1.0000000000000002e-07, Time: 50s\n",
      "Epoch 182/200, Cost: 0.015, Val Error: 1.53%, lr: 1.0000000000000002e-07, Time: 49s\n",
      "Epoch 183/200, Cost: 0.017, Val Error: 1.53%, lr: 1.0000000000000002e-07, Time: 51s\n",
      "Epoch 184/200, Cost: 0.018, Val Error: 1.48%, lr: 1.0000000000000002e-07, Time: 51s\n",
      "Epoch 185/200, Cost: 0.016, Val Error: 1.58%, lr: 1.0000000000000002e-07, Time: 51s\n",
      "Epoch 186/200, Cost: 0.017, Val Error: 1.48%, lr: 1.0000000000000002e-07, Time: 50s\n",
      "Epoch 187/200, Cost: 0.015, Val Error: 1.48%, lr: 1.0000000000000002e-07, Time: 51s\n",
      "Epoch 188/200, Cost: 0.018, Val Error: 1.53%, lr: 1.0000000000000002e-07, Time: 50s\n",
      "Epoch 189/200, Cost: 0.016, Val Error: 1.58%, lr: 1.0000000000000002e-07, Time: 52s\n",
      "Epoch 190/200, Cost: 0.015, Val Error: 1.48%, lr: 1.0000000000000002e-07, Time: 50s\n",
      "Epoch 191/200, Cost: 0.016, Val Error: 1.53%, lr: 1.0000000000000002e-07, Time: 50s\n",
      "Epoch 192/200, Cost: 0.017, Val Error: 1.53%, lr: 1.0000000000000002e-07, Time: 50s\n",
      "Epoch 193/200, Cost: 0.014, Val Error: 1.58%, lr: 1.0000000000000002e-07, Time: 50s\n",
      "Epoch 194/200, Cost: 0.017, Val Error: 1.58%, lr: 1.0000000000000002e-07, Time: 51s\n",
      "Epoch 195/200, Cost: 0.017, Val Error: 1.48%, lr: 1.0000000000000002e-07, Time: 50s\n",
      "Epoch 196/200, Cost: 0.017, Val Error: 1.48%, lr: 1.0000000000000002e-07, Time: 49s\n",
      "Epoch 197/200, Cost: 0.016, Val Error: 1.58%, lr: 1.0000000000000002e-07, Time: 48s\n",
      "Epoch 198/200, Cost: 0.018, Val Error: 1.53%, lr: 1.0000000000000002e-07, Time: 49s\n",
      "Epoch 199/200, Cost: 0.020, Val Error: 1.48%, lr: 1.0000000000000002e-07, Time: 50s\n",
      "Epoch 200/200, Cost: 0.014, Val Error: 1.58%, lr: 1.0000000000000002e-07, Time: 51s\n",
      "Training time: 165m\n"
     ]
    }
   ],
   "source": [
    "costs, val_error_rates, learning_rates = train(\n",
    "    compiled_model,\n",
    "    train_dataset=train_dataset,\n",
    "    cv_dataset=val_dataset,\n",
    "    batch_size=128,\n",
    "    num_epochs=200,\n",
    "    initial_lr=0.01,\n",
    "    num_workers=3,\n",
    "    patience=20,\n",
    ")"
   ]
  },
  {
   "cell_type": "code",
   "execution_count": 6,
   "id": "10328635",
   "metadata": {
    "execution": {
     "iopub.execute_input": "2024-12-14T04:52:47.417694Z",
     "iopub.status.busy": "2024-12-14T04:52:47.416760Z",
     "iopub.status.idle": "2024-12-14T04:52:47.421371Z",
     "shell.execute_reply": "2024-12-14T04:52:47.420626Z"
    },
    "papermill": {
     "duration": 0.022297,
     "end_time": "2024-12-14T04:52:47.423116",
     "exception": false,
     "start_time": "2024-12-14T04:52:47.400819",
     "status": "completed"
    },
    "tags": []
   },
   "outputs": [],
   "source": [
    "# torch.save(model.state_dict(), 'improved_imagenette.model.pt')\n",
    "# torch.save(preprocess, 'improved_imagenette.preprocess.pt')\n",
    "# torch.save(train_augment, 'improved_imagenette.train_augment.pt')"
   ]
  },
  {
   "cell_type": "code",
   "execution_count": 7,
   "id": "bd6d74f3",
   "metadata": {
    "execution": {
     "iopub.execute_input": "2024-12-14T04:52:47.454142Z",
     "iopub.status.busy": "2024-12-14T04:52:47.453416Z",
     "iopub.status.idle": "2024-12-14T04:54:22.389609Z",
     "shell.execute_reply": "2024-12-14T04:54:22.388241Z"
    },
    "papermill": {
     "duration": 94.969193,
     "end_time": "2024-12-14T04:54:22.406898",
     "exception": false,
     "start_time": "2024-12-14T04:52:47.437705",
     "status": "completed"
    },
    "tags": []
   },
   "outputs": [
    {
     "name": "stdout",
     "output_type": "stream",
     "text": [
      "Test Top 1: 0.9836901121304791\n",
      "Test Top 5: 0.9989806320081549\n",
      "Val Top 1: 0.9842078451349975\n",
      "Val Top 5: 0.9989811512990321\n",
      "Train Top 1: 1.0\n",
      "Train Top 5: 1.0\n"
     ]
    }
   ],
   "source": [
    "test_top1, test_top5 = top1_k(compiled_model, test_dataset, k=5)\n",
    "print(f'Test Top 1: {test_top1}')\n",
    "print(f'Test Top 5: {test_top5}')\n",
    "\n",
    "val_top1, val_top5 = top1_k(compiled_model, val_dataset, k=5)\n",
    "print(f'Val Top 1: {val_top1}')\n",
    "print(f'Val Top 5: {val_top5}')\n",
    "\n",
    "train_eval_dataset = datasets.Imagenette(\n",
    "    'datasets/imagenette', split='train', size='320px', transform=preprocess)\n",
    "train_top1, train_top5 = top1_k(compiled_model, train_eval_dataset, k=5)\n",
    "print(f'Train Top 1: {train_top1}')\n",
    "print(f'Train Top 5: {train_top5}')"
   ]
  },
  {
   "cell_type": "code",
   "execution_count": 8,
   "id": "a891ba8b",
   "metadata": {
    "execution": {
     "iopub.execute_input": "2024-12-14T04:54:22.437571Z",
     "iopub.status.busy": "2024-12-14T04:54:22.437198Z",
     "iopub.status.idle": "2024-12-14T04:54:22.737403Z",
     "shell.execute_reply": "2024-12-14T04:54:22.736530Z"
    },
    "papermill": {
     "duration": 0.318031,
     "end_time": "2024-12-14T04:54:22.739308",
     "exception": false,
     "start_time": "2024-12-14T04:54:22.421277",
     "status": "completed"
    },
    "tags": []
   },
   "outputs": [
    {
     "data": {
      "text/plain": [
       "Text(0.5, 1.0, 'Costs')"
      ]
     },
     "execution_count": 8,
     "metadata": {},
     "output_type": "execute_result"
    },
    {
     "data": {
      "image/png": "[encoded data removed]",
      "text/plain": [
       "<Figure size 640x480 with 1 Axes>"
      ]
     },
     "metadata": {},
     "output_type": "display_data"
    }
   ],
   "source": [
    "plt.plot(costs)\n",
    "plt.xlabel(\"Epoch\")\n",
    "plt.title('Costs')"
   ]
  },
  {
   "cell_type": "code",
   "execution_count": 9,
   "id": "9407b386",
   "metadata": {
    "execution": {
     "iopub.execute_input": "2024-12-14T04:54:22.770558Z",
     "iopub.status.busy": "2024-12-14T04:54:22.770196Z",
     "iopub.status.idle": "2024-12-14T04:54:22.981958Z",
     "shell.execute_reply": "2024-12-14T04:54:22.981046Z"
    },
    "papermill": {
     "duration": 0.229769,
     "end_time": "2024-12-14T04:54:22.983979",
     "exception": false,
     "start_time": "2024-12-14T04:54:22.754210",
     "status": "completed"
    },
    "tags": []
   },
   "outputs": [
    {
     "data": {
      "text/plain": [
       "Text(0.5, 1.0, 'Validation Error Rates')"
      ]
     },
     "execution_count": 9,
     "metadata": {},
     "output_type": "execute_result"
    },
    {
     "data": {
      "image/png": "[encoded data removed]",
      "text/plain": [
       "<Figure size 640x480 with 1 Axes>"
      ]
     },
     "metadata": {},
     "output_type": "display_data"
    }
   ],
   "source": [
    "plt.plot(val_error_rates)\n",
    "plt.xlabel(\"Epoch\")\n",
    "plt.title('Validation Error Rates')"
   ]
  },
  {
   "cell_type": "code",
   "execution_count": 10,
   "id": "2dc4c4f4",
   "metadata": {
    "execution": {
     "iopub.execute_input": "2024-12-14T04:54:23.016962Z",
     "iopub.status.busy": "2024-12-14T04:54:23.016576Z",
     "iopub.status.idle": "2024-12-14T04:54:23.221203Z",
     "shell.execute_reply": "2024-12-14T04:54:23.220264Z"
    },
    "papermill": {
     "duration": 0.223535,
     "end_time": "2024-12-14T04:54:23.223219",
     "exception": false,
     "start_time": "2024-12-14T04:54:22.999684",
     "status": "completed"
    },
    "tags": []
   },
   "outputs": [
    {
     "data": {
      "text/plain": [
       "Text(0.5, 1.0, 'Learning Rates')"
      ]
     },
     "execution_count": 10,
     "metadata": {},
     "output_type": "execute_result"
    },
    {
     "data": {
      "image/png": "[encoded data removed]",
      "text/plain": [
       "<Figure size 640x480 with 1 Axes>"
      ]
     },
     "metadata": {},
     "output_type": "display_data"
    }
   ],
   "source": [
    "import math\n",
    "\n",
    "plt.plot([math.log10(lr) for lr in learning_rates])\n",
    "plt.ylabel(\"Log10(lr)\")\n",
    "plt.xlabel(\"Epoch\")\n",
    "plt.title('Learning Rates')"
   ]
  }
 ],
 "metadata": {
  "kaggle": {
   "accelerator": "gpu",
   "dataSources": [
    {
     "isSourceIdPinned": true,
     "modelId": 181947,
     "modelInstanceId": 159601,
     "sourceId": 187191,
     "sourceType": "modelInstanceVersion"
    }
   ],
   "isGpuEnabled": true,
   "isInternetEnabled": true,
   "language": "python",
   "sourceType": "notebook"
  },
  "kernelspec": {
   "display_name": "torch",
   "language": "python",
   "name": "python3"
  },
  "language_info": {
   "codemirror_mode": {
    "name": "ipython",
    "version": 3
   },
   "file_extension": ".py",
   "mimetype": "text/x-python",
   "name": "python",
   "nbconvert_exporter": "python",
   "pygments_lexer": "ipython3",
   "version": "3.10.14"
  },
  "papermill": {
   "default_parameters": {},
   "duration": 10096.402151,
   "end_time": "2024-12-14T04:54:25.598814",
   "environment_variables": {},
   "exception": null,
   "input_path": "__notebook__.ipynb",
   "output_path": "__notebook__.ipynb",
   "parameters": {},
   "start_time": "2024-12-14T02:06:09.196663",
   "version": "2.6.0"
  }
 },
 "nbformat": 4,
 "nbformat_minor": 5
}
