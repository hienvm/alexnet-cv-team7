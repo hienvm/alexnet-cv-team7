{
 "cells": [
  {
   "cell_type": "code",
   "execution_count": 1,
   "id": "ecdb6b0f",
   "metadata": {
    "execution": {
     "iopub.execute_input": "2024-11-24T02:19:36.019294Z",
     "iopub.status.busy": "2024-11-24T02:19:36.018931Z",
     "iopub.status.idle": "2024-11-24T02:19:40.733940Z",
     "shell.execute_reply": "2024-11-24T02:19:40.733076Z"
    },
    "papermill": {
     "duration": 4.721023,
     "end_time": "2024-11-24T02:19:40.736022",
     "exception": false,
     "start_time": "2024-11-24T02:19:36.014999",
     "status": "completed"
    },
    "tags": []
   },
   "outputs": [],
   "source": [
    "import sys\n",
    "sys.path.append('/kaggle/input/alexnet/pytorch/baseline/1')\n",
    "import torch\n",
    "import torch.nn as nn\n",
    "from torchvision import datasets\n",
    "from baseline.model import AlexNetBaseline, init_params\n",
    "from baseline.dataset_preparation import indices_split\n",
    "from baseline.data_transforms import prepreprocess, get_preprocess, get_train_augment\n",
    "from baseline.train import train\n",
    "import matplotlib.pyplot as plt\n",
    "from baseline.eval import accuracy, topk "
   ]
  },
  {
   "cell_type": "code",
   "execution_count": 2,
   "id": "fe6a64e6",
   "metadata": {
    "execution": {
     "iopub.execute_input": "2024-11-24T02:19:40.741896Z",
     "iopub.status.busy": "2024-11-24T02:19:40.741452Z",
     "iopub.status.idle": "2024-11-24T02:19:40.752276Z",
     "shell.execute_reply": "2024-11-24T02:19:40.751545Z"
    },
    "papermill": {
     "duration": 0.015932,
     "end_time": "2024-11-24T02:19:40.754486",
     "exception": false,
     "start_time": "2024-11-24T02:19:40.738554",
     "status": "completed"
    },
    "tags": []
   },
   "outputs": [
    {
     "name": "stdout",
     "output_type": "stream",
     "text": [
      "cuda\n"
     ]
    }
   ],
   "source": [
    "torch.manual_seed(0)\n",
    "device = torch.device(\"cuda\" if torch.cuda.is_available() else \"cpu\")\n",
    "print(device)"
   ]
  },
  {
   "cell_type": "code",
   "execution_count": 3,
   "id": "f1c3c53a",
   "metadata": {
    "execution": {
     "iopub.execute_input": "2024-11-24T02:19:40.762627Z",
     "iopub.status.busy": "2024-11-24T02:19:40.762345Z",
     "iopub.status.idle": "2024-11-24T02:22:03.931947Z",
     "shell.execute_reply": "2024-11-24T02:22:03.930781Z"
    },
    "papermill": {
     "duration": 143.175679,
     "end_time": "2024-11-24T02:22:03.933807",
     "exception": false,
     "start_time": "2024-11-24T02:19:40.758128",
     "status": "completed"
    },
    "tags": []
   },
   "outputs": [
    {
     "name": "stdout",
     "output_type": "stream",
     "text": [
      "Downloading https://www.cs.toronto.edu/~kriz/cifar-10-python.tar.gz to datasets/cifar10/cifar-10-python.tar.gz\n"
     ]
    },
    {
     "name": "stderr",
     "output_type": "stream",
     "text": [
      "100%|██████████| 170498071/170498071 [00:08<00:00, 20622726.60it/s]\n"
     ]
    },
    {
     "name": "stdout",
     "output_type": "stream",
     "text": [
      "Extracting datasets/cifar10/cifar-10-python.tar.gz to datasets/cifar10\n",
      "Mean: [125.35567474365234, 122.99826049804688, 113.91352844238281]\n",
      "Covar: tensor([[3779.5000, 3389.7288, 3134.5535],\n",
      "        [3389.7288, 3672.3616, 3586.9302],\n",
      "        [3134.5535, 3586.9302, 4270.4468]], device='cuda:0')\n",
      "Eigen values (sqrt): tensor([[ 13.5105],\n",
      "        [ 29.7229],\n",
      "        [103.2295]])\n",
      "Eigen vectors: tensor([[-0.4367, -0.7066,  0.5568],\n",
      "        [ 0.8152, -0.0491,  0.5771],\n",
      "        [-0.3804,  0.7059,  0.5975]])\n",
      "Train: 40000\n",
      "Cross Validation: 10000\n",
      "Test: 10000\n"
     ]
    }
   ],
   "source": [
    "preprocess = get_preprocess(datasets.CIFAR10(\n",
    "    'datasets/cifar10', train=True, download=True, transform=prepreprocess))\n",
    "cv_dataset = datasets.CIFAR10(\n",
    "    'datasets/cifar10', train=True, transform=preprocess)\n",
    "train_augment = get_train_augment(cv_dataset)\n",
    "train_dataset = datasets.CIFAR10(\n",
    "    'datasets/cifar10', train=True, transform=train_augment)\n",
    "test_dataset = datasets.CIFAR10(\n",
    "    'datasets/cifar10', train=False,transform=preprocess)\n",
    "\n",
    "cv_indices, train_indices = indices_split(len(train_dataset), ratio=0.2)\n",
    "train_dataset = torch.utils.data.Subset(train_dataset, train_indices)\n",
    "cv_dataset = torch.utils.data.Subset(cv_dataset, cv_indices)\n",
    "\n",
    "print(f'Train: {len(train_dataset)}')\n",
    "print(f'Cross Validation: {len(cv_dataset)}')\n",
    "print(f'Test: {len(test_dataset)}')"
   ]
  },
  {
   "cell_type": "code",
   "execution_count": 4,
   "id": "4499a512",
   "metadata": {
    "execution": {
     "iopub.execute_input": "2024-11-24T02:22:03.948683Z",
     "iopub.status.busy": "2024-11-24T02:22:03.947937Z",
     "iopub.status.idle": "2024-11-24T02:22:03.964150Z",
     "shell.execute_reply": "2024-11-24T02:22:03.963541Z"
    },
    "papermill": {
     "duration": 0.024864,
     "end_time": "2024-11-24T02:22:03.965793",
     "exception": false,
     "start_time": "2024-11-24T02:22:03.940929",
     "status": "completed"
    },
    "tags": []
   },
   "outputs": [],
   "source": [
    "model = AlexNetBaseline(len(test_dataset.classes))\n",
    "if torch.cuda.device_count() > 1:\n",
    "    print(f'Using {torch.cuda.device_count()} GPUs.')\n",
    "    model = nn.DataParallel(model)\n",
    "model.to(device)\n",
    "init_params(model)\n",
    "compiled_model = model\n",
    "# if torch.cuda.is_available():\n",
    "#     compiled_model = torch.compile(model)"
   ]
  },
  {
   "cell_type": "code",
   "execution_count": 5,
   "id": "684c2339",
   "metadata": {
    "execution": {
     "iopub.execute_input": "2024-11-24T02:22:03.978671Z",
     "iopub.status.busy": "2024-11-24T02:22:03.978121Z",
     "iopub.status.idle": "2024-11-24T04:40:46.392272Z",
     "shell.execute_reply": "2024-11-24T04:40:46.391143Z"
    },
    "papermill": {
     "duration": 8322.43229,
     "end_time": "2024-11-24T04:40:46.403980",
     "exception": false,
     "start_time": "2024-11-24T02:22:03.971690",
     "status": "completed"
    },
    "tags": []
   },
   "outputs": [
    {
     "name": "stdout",
     "output_type": "stream",
     "text": [
      "Epoch 1/90, Cost: 2.262, CV_Error: 81.78%, lr: 0.01, Time: 91.48774480819702\n",
      "Epoch 2/90, Cost: 2.204, CV_Error: 89.33%, lr: 0.01, Time: 92.74024510383606\n",
      "Epoch 3/90, Cost: 2.179, CV_Error: 85.41%, lr: 0.01, Time: 92.62007641792297\n",
      "Epoch 4/90, Cost: 2.148, CV_Error: 78.72%, lr: 0.01, Time: 92.71078848838806\n",
      "Epoch 5/90, Cost: 2.121, CV_Error: 81.66%, lr: 0.01, Time: 93.0796217918396\n",
      "Epoch 6/90, Cost: 2.110, CV_Error: 79.53%, lr: 0.01, Time: 92.30827212333679\n",
      "Epoch 7/90, Cost: 2.097, CV_Error: 80.70%, lr: 0.01, Time: 92.47756743431091\n",
      "Epoch 8/90, Cost: 2.066, CV_Error: 83.38%, lr: 0.01, Time: 92.45395731925964\n",
      "Epoch 9/90, Cost: 2.088, CV_Error: 83.27%, lr: 0.01, Time: 92.26965761184692\n",
      "Epoch 10/90, Cost: 2.074, CV_Error: 79.38%, lr: 0.01, Time: 92.39546489715576\n",
      "Epoch 11/90, Cost: 2.088, CV_Error: 79.75%, lr: 0.01, Time: 91.84894871711731\n",
      "Epoch 12/90, Cost: 2.334, CV_Error: 89.84%, lr: 0.01, Time: 92.19320344924927\n",
      "Epoch 13/90, Cost: 2.362, CV_Error: 89.84%, lr: 0.01, Time: 91.16723537445068\n",
      "Epoch 14/90, Cost: 2.362, CV_Error: 89.84%, lr: 0.001, Time: 92.11014699935913\n",
      "Epoch 15/90, Cost: 2.362, CV_Error: 89.84%, lr: 0.001, Time: 92.59559917449951\n",
      "Epoch 16/90, Cost: 2.362, CV_Error: 89.84%, lr: 0.001, Time: 91.28256869316101\n",
      "Epoch 17/90, Cost: 2.362, CV_Error: 89.84%, lr: 0.001, Time: 92.02873849868774\n",
      "Epoch 18/90, Cost: 2.362, CV_Error: 89.84%, lr: 0.001, Time: 91.69138264656067\n",
      "Epoch 19/90, Cost: 2.362, CV_Error: 89.84%, lr: 0.001, Time: 91.70143222808838\n",
      "Epoch 20/90, Cost: 2.362, CV_Error: 89.84%, lr: 0.001, Time: 91.50541973114014\n",
      "Epoch 21/90, Cost: 2.362, CV_Error: 89.84%, lr: 0.001, Time: 92.60562109947205\n",
      "Epoch 22/90, Cost: 2.362, CV_Error: 89.84%, lr: 0.001, Time: 92.75160193443298\n",
      "Epoch 23/90, Cost: 2.362, CV_Error: 89.84%, lr: 0.001, Time: 92.27807831764221\n",
      "Epoch 24/90, Cost: 2.362, CV_Error: 89.84%, lr: 0.0001, Time: 92.7248260974884\n",
      "Epoch 25/90, Cost: 2.362, CV_Error: 89.84%, lr: 0.0001, Time: 92.75183987617493\n",
      "Epoch 26/90, Cost: 2.362, CV_Error: 89.84%, lr: 0.0001, Time: 91.0420892238617\n",
      "Epoch 27/90, Cost: 2.362, CV_Error: 89.84%, lr: 0.0001, Time: 92.73809242248535\n",
      "Epoch 28/90, Cost: 2.362, CV_Error: 89.84%, lr: 0.0001, Time: 92.316730260849\n",
      "Epoch 29/90, Cost: 2.361, CV_Error: 89.84%, lr: 0.0001, Time: 92.6970784664154\n",
      "Epoch 30/90, Cost: 2.362, CV_Error: 89.84%, lr: 0.0001, Time: 91.4451334476471\n",
      "Epoch 31/90, Cost: 2.361, CV_Error: 89.84%, lr: 0.0001, Time: 93.27040576934814\n",
      "Epoch 32/90, Cost: 2.362, CV_Error: 89.84%, lr: 0.0001, Time: 92.4811840057373\n",
      "Epoch 33/90, Cost: 2.362, CV_Error: 89.84%, lr: 0.0001, Time: 92.87737154960632\n",
      "Epoch 34/90, Cost: 2.362, CV_Error: 89.84%, lr: 1e-05, Time: 92.49670028686523\n",
      "Epoch 35/90, Cost: 2.362, CV_Error: 89.84%, lr: 1e-05, Time: 92.64665412902832\n",
      "Epoch 36/90, Cost: 2.362, CV_Error: 89.84%, lr: 1e-05, Time: 91.83094573020935\n",
      "Epoch 37/90, Cost: 2.362, CV_Error: 89.84%, lr: 1e-05, Time: 92.69848990440369\n",
      "Epoch 38/90, Cost: 2.362, CV_Error: 89.84%, lr: 1e-05, Time: 92.45227241516113\n",
      "Epoch 39/90, Cost: 2.361, CV_Error: 89.84%, lr: 1e-05, Time: 92.15713667869568\n",
      "Epoch 40/90, Cost: 2.362, CV_Error: 89.84%, lr: 1e-05, Time: 92.2817029953003\n",
      "Epoch 41/90, Cost: 2.362, CV_Error: 89.84%, lr: 1e-05, Time: 91.8059630393982\n",
      "Epoch 42/90, Cost: 2.362, CV_Error: 89.84%, lr: 1e-05, Time: 92.8173086643219\n",
      "Epoch 43/90, Cost: 2.362, CV_Error: 89.84%, lr: 1e-05, Time: 91.79719424247742\n",
      "Epoch 44/90, Cost: 2.362, CV_Error: 89.84%, lr: 1.0000000000000002e-06, Time: 93.52787709236145\n",
      "Epoch 45/90, Cost: 2.362, CV_Error: 89.84%, lr: 1.0000000000000002e-06, Time: 92.61572194099426\n",
      "Epoch 46/90, Cost: 2.362, CV_Error: 89.84%, lr: 1.0000000000000002e-06, Time: 91.84278750419617\n",
      "Epoch 47/90, Cost: 2.362, CV_Error: 89.84%, lr: 1.0000000000000002e-06, Time: 91.4791407585144\n",
      "Epoch 48/90, Cost: 2.362, CV_Error: 89.84%, lr: 1.0000000000000002e-06, Time: 92.68319916725159\n",
      "Epoch 49/90, Cost: 2.362, CV_Error: 89.84%, lr: 1.0000000000000002e-06, Time: 93.2786431312561\n",
      "Epoch 50/90, Cost: 2.362, CV_Error: 89.84%, lr: 1.0000000000000002e-06, Time: 91.82661747932434\n",
      "Epoch 51/90, Cost: 2.362, CV_Error: 89.84%, lr: 1.0000000000000002e-06, Time: 93.37036752700806\n",
      "Epoch 52/90, Cost: 2.362, CV_Error: 89.84%, lr: 1.0000000000000002e-06, Time: 91.96901679039001\n",
      "Epoch 53/90, Cost: 2.362, CV_Error: 89.84%, lr: 1.0000000000000002e-06, Time: 92.78182554244995\n",
      "Epoch 54/90, Cost: 2.362, CV_Error: 89.84%, lr: 1.0000000000000002e-06, Time: 93.74215507507324\n",
      "Epoch 55/90, Cost: 2.362, CV_Error: 89.84%, lr: 1.0000000000000002e-06, Time: 93.30224680900574\n",
      "Epoch 56/90, Cost: 2.362, CV_Error: 89.84%, lr: 1.0000000000000002e-06, Time: 91.73362684249878\n",
      "Epoch 57/90, Cost: 2.362, CV_Error: 89.84%, lr: 1.0000000000000002e-06, Time: 93.61037731170654\n",
      "Epoch 58/90, Cost: 2.362, CV_Error: 89.84%, lr: 1.0000000000000002e-06, Time: 93.37667512893677\n",
      "Epoch 59/90, Cost: 2.362, CV_Error: 89.84%, lr: 1.0000000000000002e-06, Time: 93.25819110870361\n",
      "Epoch 60/90, Cost: 2.362, CV_Error: 89.84%, lr: 1.0000000000000002e-06, Time: 92.50500440597534\n",
      "Epoch 61/90, Cost: 2.362, CV_Error: 89.84%, lr: 1.0000000000000002e-06, Time: 92.99731230735779\n",
      "Epoch 62/90, Cost: 2.362, CV_Error: 89.84%, lr: 1.0000000000000002e-06, Time: 94.25636148452759\n",
      "Epoch 63/90, Cost: 2.361, CV_Error: 89.84%, lr: 1.0000000000000002e-06, Time: 93.21950244903564\n",
      "Epoch 64/90, Cost: 2.361, CV_Error: 89.84%, lr: 1.0000000000000002e-06, Time: 91.69418978691101\n",
      "Epoch 65/90, Cost: 2.362, CV_Error: 89.84%, lr: 1.0000000000000002e-06, Time: 93.02162146568298\n",
      "Epoch 66/90, Cost: 2.362, CV_Error: 89.84%, lr: 1.0000000000000002e-06, Time: 92.50728487968445\n",
      "Epoch 67/90, Cost: 2.362, CV_Error: 89.84%, lr: 1.0000000000000002e-06, Time: 91.532146692276\n",
      "Epoch 68/90, Cost: 2.362, CV_Error: 89.84%, lr: 1.0000000000000002e-06, Time: 93.24076294898987\n",
      "Epoch 69/90, Cost: 2.362, CV_Error: 89.84%, lr: 1.0000000000000002e-06, Time: 92.45692133903503\n",
      "Epoch 70/90, Cost: 2.362, CV_Error: 89.84%, lr: 1.0000000000000002e-06, Time: 91.98599338531494\n",
      "Epoch 71/90, Cost: 2.362, CV_Error: 89.84%, lr: 1.0000000000000002e-06, Time: 92.7124752998352\n",
      "Epoch 72/90, Cost: 2.362, CV_Error: 89.84%, lr: 1.0000000000000002e-06, Time: 92.81372904777527\n",
      "Epoch 73/90, Cost: 2.362, CV_Error: 89.84%, lr: 1.0000000000000002e-06, Time: 92.45843839645386\n",
      "Epoch 74/90, Cost: 2.361, CV_Error: 89.84%, lr: 1.0000000000000002e-06, Time: 93.25630903244019\n",
      "Epoch 75/90, Cost: 2.362, CV_Error: 89.84%, lr: 1.0000000000000002e-06, Time: 93.7857015132904\n",
      "Epoch 76/90, Cost: 2.362, CV_Error: 89.84%, lr: 1.0000000000000002e-06, Time: 92.94840669631958\n",
      "Epoch 77/90, Cost: 2.362, CV_Error: 89.84%, lr: 1.0000000000000002e-06, Time: 92.82629346847534\n",
      "Epoch 78/90, Cost: 2.362, CV_Error: 89.84%, lr: 1.0000000000000002e-06, Time: 92.605229139328\n",
      "Epoch 79/90, Cost: 2.362, CV_Error: 89.84%, lr: 1.0000000000000002e-06, Time: 92.8391387462616\n",
      "Epoch 80/90, Cost: 2.362, CV_Error: 89.84%, lr: 1.0000000000000002e-06, Time: 93.03932929039001\n",
      "Epoch 81/90, Cost: 2.362, CV_Error: 89.84%, lr: 1.0000000000000002e-06, Time: 92.69298648834229\n",
      "Epoch 82/90, Cost: 2.362, CV_Error: 89.84%, lr: 1.0000000000000002e-06, Time: 91.44402551651001\n",
      "Epoch 83/90, Cost: 2.362, CV_Error: 89.84%, lr: 1.0000000000000002e-06, Time: 92.27399682998657\n",
      "Epoch 84/90, Cost: 2.362, CV_Error: 89.84%, lr: 1.0000000000000002e-06, Time: 92.25803351402283\n",
      "Epoch 85/90, Cost: 2.362, CV_Error: 89.84%, lr: 1.0000000000000002e-06, Time: 92.85982489585876\n",
      "Epoch 86/90, Cost: 2.361, CV_Error: 89.84%, lr: 1.0000000000000002e-06, Time: 91.23412489891052\n",
      "Epoch 87/90, Cost: 2.362, CV_Error: 89.84%, lr: 1.0000000000000002e-06, Time: 91.50268411636353\n",
      "Epoch 88/90, Cost: 2.362, CV_Error: 89.84%, lr: 1.0000000000000002e-06, Time: 92.92756986618042\n",
      "Epoch 89/90, Cost: 2.362, CV_Error: 89.84%, lr: 1.0000000000000002e-06, Time: 92.48715949058533\n",
      "Epoch 90/90, Cost: 2.362, CV_Error: 89.84%, lr: 1.0000000000000002e-06, Time: 91.97646021842957\n",
      "Training time: 8322.4078707695\n"
     ]
    }
   ],
   "source": [
    "costs, cv_error_rates, learning_rates = train(\n",
    "    compiled_model,\n",
    "    train_dataset=train_dataset,\n",
    "    cv_dataset=cv_dataset,\n",
    "    batch_size=128,\n",
    "    num_epochs=90,\n",
    "    initial_lr=0.01,\n",
    "    num_workers=3\n",
    ")"
   ]
  },
  {
   "cell_type": "code",
   "execution_count": 6,
   "id": "78ddc771",
   "metadata": {
    "execution": {
     "iopub.execute_input": "2024-11-24T04:40:46.424664Z",
     "iopub.status.busy": "2024-11-24T04:40:46.424298Z",
     "iopub.status.idle": "2024-11-24T04:40:46.907665Z",
     "shell.execute_reply": "2024-11-24T04:40:46.906901Z"
    },
    "papermill": {
     "duration": 0.496451,
     "end_time": "2024-11-24T04:40:46.909787",
     "exception": false,
     "start_time": "2024-11-24T04:40:46.413336",
     "status": "completed"
    },
    "tags": []
   },
   "outputs": [],
   "source": [
    "torch.save(model.state_dict(), 'baseline_cifar10.model.pt')\n",
    "torch.save(preprocess.state_dict(), 'baseline_cifar10.preprocess.pt')\n",
    "torch.save(train_augment.state_dict(), 'baseline_cifar10.train_augment.pt')"
   ]
  },
  {
   "cell_type": "code",
   "execution_count": 7,
   "id": "82e5072c",
   "metadata": {
    "execution": {
     "iopub.execute_input": "2024-11-24T04:40:46.930138Z",
     "iopub.status.busy": "2024-11-24T04:40:46.929845Z",
     "iopub.status.idle": "2024-11-24T04:42:01.832128Z",
     "shell.execute_reply": "2024-11-24T04:42:01.830986Z"
    },
    "papermill": {
     "duration": 74.924107,
     "end_time": "2024-11-24T04:42:01.843548",
     "exception": false,
     "start_time": "2024-11-24T04:40:46.919441",
     "status": "completed"
    },
    "tags": []
   },
   "outputs": [
    {
     "name": "stdout",
     "output_type": "stream",
     "text": [
      "Top 1: {top1}\n",
      "Top 3: {top3}\n"
     ]
    }
   ],
   "source": [
    "top1 = accuracy(compiled_model, test_dataset)\n",
    "top3 = topk(compiled_model, test_dataset, k=3)\n",
    "print('Top 1: {top1}')\n",
    "print('Top 3: {top3}')"
   ]
  },
  {
   "cell_type": "code",
   "execution_count": 8,
   "id": "b3b62e1a",
   "metadata": {
    "execution": {
     "iopub.execute_input": "2024-11-24T04:42:01.864553Z",
     "iopub.status.busy": "2024-11-24T04:42:01.863659Z",
     "iopub.status.idle": "2024-11-24T04:42:02.144599Z",
     "shell.execute_reply": "2024-11-24T04:42:02.143806Z"
    },
    "papermill": {
     "duration": 0.29346,
     "end_time": "2024-11-24T04:42:02.146370",
     "exception": false,
     "start_time": "2024-11-24T04:42:01.852910",
     "status": "completed"
    },
    "tags": []
   },
   "outputs": [
    {
     "data": {
      "text/plain": [
       "Text(0.5, 1.0, 'Costs')"
      ]
     },
     "execution_count": 8,
     "metadata": {},
     "output_type": "execute_result"
    },
    {
     "data": {
      "image/png": "[encoded data removed]",
      "text/plain": [
       "<Figure size 640x480 with 1 Axes>"
      ]
     },
     "metadata": {},
     "output_type": "display_data"
    }
   ],
   "source": [
    "plt.plot(costs)\n",
    "plt.xlabel(\"Epoch\")\n",
    "plt.title('Costs')"
   ]
  },
  {
   "cell_type": "code",
   "execution_count": 9,
   "id": "d88427dc",
   "metadata": {
    "execution": {
     "iopub.execute_input": "2024-11-24T04:42:02.168297Z",
     "iopub.status.busy": "2024-11-24T04:42:02.167986Z",
     "iopub.status.idle": "2024-11-24T04:42:02.355936Z",
     "shell.execute_reply": "2024-11-24T04:42:02.355125Z"
    },
    "papermill": {
     "duration": 0.201265,
     "end_time": "2024-11-24T04:42:02.357901",
     "exception": false,
     "start_time": "2024-11-24T04:42:02.156636",
     "status": "completed"
    },
    "tags": []
   },
   "outputs": [
    {
     "data": {
      "text/plain": [
       "Text(0.5, 1.0, 'Cross Validation Error Rates')"
      ]
     },
     "execution_count": 9,
     "metadata": {},
     "output_type": "execute_result"
    },
    {
     "data": {
      "image/png": "[encoded data removed]",
      "text/plain": [
       "<Figure size 640x480 with 1 Axes>"
      ]
     },
     "metadata": {},
     "output_type": "display_data"
    }
   ],
   "source": [
    "plt.plot(cv_error_rates)\n",
    "plt.xlabel(\"Epoch\")\n",
    "plt.title('Cross Validation Error Rates')"
   ]
  },
  {
   "cell_type": "code",
   "execution_count": 10,
   "id": "4bf82f69",
   "metadata": {
    "execution": {
     "iopub.execute_input": "2024-11-24T04:42:02.381024Z",
     "iopub.status.busy": "2024-11-24T04:42:02.380702Z",
     "iopub.status.idle": "2024-11-24T04:42:02.623065Z",
     "shell.execute_reply": "2024-11-24T04:42:02.622165Z"
    },
    "papermill": {
     "duration": 0.255703,
     "end_time": "2024-11-24T04:42:02.624768",
     "exception": false,
     "start_time": "2024-11-24T04:42:02.369065",
     "status": "completed"
    },
    "tags": []
   },
   "outputs": [
    {
     "data": {
      "text/plain": [
       "Text(0.5, 1.0, 'Learning Rates')"
      ]
     },
     "execution_count": 10,
     "metadata": {},
     "output_type": "execute_result"
    },
    {
     "data": {
      "image/png": "[encoded data removed]",
      "text/plain": [
       "<Figure size 640x480 with 1 Axes>"
      ]
     },
     "metadata": {},
     "output_type": "display_data"
    }
   ],
   "source": [
    "plt.plot(learning_rates)\n",
    "plt.xlabel(\"Epoch\")\n",
    "plt.title('Learning Rates')"
   ]
  }
 ],
 "metadata": {
  "kaggle": {
   "accelerator": "none",
   "dataSources": [
    {
     "isSourceIdPinned": true,
     "modelId": 172896,
     "modelInstanceId": 150414,
     "sourceId": 176628,
     "sourceType": "modelInstanceVersion"
    }
   ],
   "isGpuEnabled": false,
   "isInternetEnabled": true,
   "language": "python",
   "sourceType": "notebook"
  },
  "kernelspec": {
   "display_name": "Python 3",
   "language": "python",
   "name": "python3"
  },
  "language_info": {
   "codemirror_mode": {
    "name": "ipython",
    "version": 3
   },
   "file_extension": ".py",
   "mimetype": "text/x-python",
   "name": "python",
   "nbconvert_exporter": "python",
   "pygments_lexer": "ipython3",
   "version": "3.10.14"
  },
  "papermill": {
   "default_parameters": {},
   "duration": 8550.688411,
   "end_time": "2024-11-24T04:42:04.258748",
   "environment_variables": {},
   "exception": null,
   "input_path": "__notebook__.ipynb",
   "output_path": "__notebook__.ipynb",
   "parameters": {},
   "start_time": "2024-11-24T02:19:33.570337",
   "version": "2.6.0"
  }
 },
 "nbformat": 4,
 "nbformat_minor": 5
}
