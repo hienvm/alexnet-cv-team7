{
 "cells": [
  {
   "cell_type": "code",
   "execution_count": null,
   "id": "84c6954a",
   "metadata": {
    "_cell_guid": "e01b8400-4527-41b8-bd0a-1cf52577e5b4",
    "_uuid": "60e99f23-fb3c-4292-b48b-9c624c77601b",
    "collapsed": false,
    "execution": {
     "iopub.execute_input": "2024-11-26T12:05:54.817066Z",
     "iopub.status.busy": "2024-11-26T12:05:54.816728Z",
     "iopub.status.idle": "2024-11-26T12:05:59.552229Z",
     "shell.execute_reply": "2024-11-26T12:05:59.551494Z"
    },
    "jupyter": {
     "outputs_hidden": false
    },
    "papermill": {
     "duration": 4.741452,
     "end_time": "2024-11-26T12:05:59.554211",
     "exception": false,
     "start_time": "2024-11-26T12:05:54.812759",
     "status": "completed"
    },
    "tags": []
   },
   "outputs": [],
   "source": [
    "import sys\n",
    "sys.path.append('/kaggle/input/alexnet/pytorch/improved/1')\n",
    "import torch\n",
    "import torch.nn as nn\n",
    "import torchvision\n",
    "from torchvision import datasets\n",
    "from improved.model import AlexNetImproved, init_params\n",
    "from improved.data_transforms import prepreprocess, get_preprocess, get_train_augment, calc_mean_std\n",
    "from improved.pca import pca\n",
    "from improved.train import train\n",
    "import matplotlib.pyplot as plt\n",
    "from improved.eval import top1_k"
   ]
  },
  {
   "cell_type": "code",
   "execution_count": null,
   "id": "5edd6022",
   "metadata": {
    "execution": {
     "iopub.execute_input": "2024-11-26T12:05:59.560408Z",
     "iopub.status.busy": "2024-11-26T12:05:59.559657Z",
     "iopub.status.idle": "2024-11-26T12:05:59.572323Z",
     "shell.execute_reply": "2024-11-26T12:05:59.571485Z"
    },
    "papermill": {
     "duration": 0.017148,
     "end_time": "2024-11-26T12:05:59.573935",
     "exception": false,
     "start_time": "2024-11-26T12:05:59.556787",
     "status": "completed"
    },
    "tags": []
   },
   "outputs": [],
   "source": [
    "torch.manual_seed(0)\n",
    "device = torch.device(\"cuda\" if torch.cuda.is_available() else \"cpu\")\n",
    "print(device)"
   ]
  },
  {
   "cell_type": "code",
   "execution_count": null,
   "id": "afdb6f8f",
   "metadata": {
    "execution": {
     "iopub.execute_input": "2024-11-26T12:05:59.579392Z",
     "iopub.status.busy": "2024-11-26T12:05:59.579060Z",
     "iopub.status.idle": "2024-11-26T12:09:29.528685Z",
     "shell.execute_reply": "2024-11-26T12:09:29.527351Z"
    },
    "papermill": {
     "duration": 209.954543,
     "end_time": "2024-11-26T12:09:29.530672",
     "exception": false,
     "start_time": "2024-11-26T12:05:59.576129",
     "status": "completed"
    },
    "tags": []
   },
   "outputs": [],
   "source": [
    "train_dataset = datasets.CIFAR100(\n",
    "    'datasets/cifar100', train=True, download=True, transform=prepreprocess)\n",
    "mean, std = calc_mean_std(train_dataset)\n",
    "print(f'Mean:\\n{mean}')\n",
    "print(f'Standard Deviation:\\n{std}')\n",
    "preprocess = get_preprocess(mean, std)\n",
    "\n",
    "train_dataset = datasets.CIFAR100(\n",
    "    'datasets/cifar100', train=True, transform=preprocess)\n",
    "eigvals, eigvecs = pca(train_dataset)\n",
    "train_augment = get_train_augment(eigvals, eigvecs, mean, std)\n",
    "\n",
    "train_dataset = datasets.CIFAR100(\n",
    "    'datasets/cifar100', train=True, transform=train_augment)\n",
    "\n",
    "val_dataset = datasets.CIFAR100(\n",
    "    'datasets/cifar100', train=False, transform=preprocess)\n",
    "val_dataset, test_dataset = torch.utils.data.random_split(val_dataset, [0.5, 0.5])\n",
    "\n",
    "print(f'Number of classes: {len(train_dataset.classes)}')\n",
    "print(f'Train samples: {len(train_dataset)}')\n",
    "print(f'Validation samples: {len(val_dataset)}')\n",
    "print(f'Test samples: {len(test_dataset)}')"
   ]
  },
  {
   "cell_type": "code",
   "execution_count": null,
   "id": "3c647d2d",
   "metadata": {
    "execution": {
     "iopub.execute_input": "2024-11-26T12:09:29.544930Z",
     "iopub.status.busy": "2024-11-26T12:09:29.544546Z",
     "iopub.status.idle": "2024-11-26T12:09:29.564813Z",
     "shell.execute_reply": "2024-11-26T12:09:29.564093Z"
    },
    "papermill": {
     "duration": 0.030357,
     "end_time": "2024-11-26T12:09:29.566976",
     "exception": false,
     "start_time": "2024-11-26T12:09:29.536619",
     "status": "completed"
    },
    "tags": []
   },
   "outputs": [],
   "source": [
    "model = torchvision.models.googlenet(len(train_dataset.classes))\n",
    "if torch.cuda.device_count() > 1:\n",
    "    print(f'Using {torch.cuda.device_count()} GPUs.')\n",
    "    model = nn.DataParallel(model)\n",
    "model.to(device)\n",
    "# initialize parameters\n",
    "init_params(model)\n",
    "compiled_model = model\n",
    "# if torch.cuda.is_available():\n",
    "#     compiled_model = torch.compile(model)"
   ]
  },
  {
   "cell_type": "code",
   "execution_count": null,
   "id": "e1053efb",
   "metadata": {
    "execution": {
     "iopub.execute_input": "2024-11-26T12:09:29.579227Z",
     "iopub.status.busy": "2024-11-26T12:09:29.578846Z",
     "iopub.status.idle": "2024-11-26T15:12:52.220327Z",
     "shell.execute_reply": "2024-11-26T15:12:52.219124Z"
    },
    "papermill": {
     "duration": 11002.658569,
     "end_time": "2024-11-26T15:12:52.231021",
     "exception": false,
     "start_time": "2024-11-26T12:09:29.572452",
     "status": "completed"
    },
    "tags": []
   },
   "outputs": [],
   "source": [
    "costs, val_error_rates, learning_rates = train(\n",
    "    compiled_model,\n",
    "    train_dataset=train_dataset,\n",
    "    cv_dataset=val_dataset,\n",
    "    batch_size=128,\n",
    "    num_epochs=100,\n",
    "    initial_lr=0.01,\n",
    "    num_workers=3,\n",
    "    patience=10\n",
    ")"
   ]
  },
  {
   "cell_type": "code",
   "execution_count": null,
   "id": "06779c5c",
   "metadata": {
    "execution": {
     "iopub.execute_input": "2024-11-26T15:12:52.250858Z",
     "iopub.status.busy": "2024-11-26T15:12:52.250503Z",
     "iopub.status.idle": "2024-11-26T15:12:52.742007Z",
     "shell.execute_reply": "2024-11-26T15:12:52.741328Z"
    },
    "papermill": {
     "duration": 0.504013,
     "end_time": "2024-11-26T15:12:52.744037",
     "exception": false,
     "start_time": "2024-11-26T15:12:52.240024",
     "status": "completed"
    },
    "tags": []
   },
   "outputs": [],
   "source": [
    "# torch.save(model.state_dict(), 'improved_cifar100.model.pt')\n",
    "# torch.save(preprocess, 'improved_cifar100.preprocess.pt')\n",
    "# torch.save(train_augment, 'improved_cifar100.train_augment.pt')"
   ]
  },
  {
   "cell_type": "code",
   "execution_count": null,
   "id": "fa19ea75",
   "metadata": {
    "execution": {
     "iopub.execute_input": "2024-11-26T15:12:52.764412Z",
     "iopub.status.busy": "2024-11-26T15:12:52.763753Z",
     "iopub.status.idle": "2024-11-26T15:15:13.451038Z",
     "shell.execute_reply": "2024-11-26T15:15:13.449942Z"
    },
    "papermill": {
     "duration": 140.70804,
     "end_time": "2024-11-26T15:15:13.461570",
     "exception": false,
     "start_time": "2024-11-26T15:12:52.753530",
     "status": "completed"
    },
    "tags": []
   },
   "outputs": [],
   "source": [
    "test_top1, test_top5 = top1_k(compiled_model, test_dataset, k=5)\n",
    "print(f'Test Top 1: {test_top1}')\n",
    "print(f'Test Top 5: {test_top5}')\n",
    "\n",
    "val_top1, val_top5 = top1_k(compiled_model, val_dataset, k=5)\n",
    "print(f'Val Top 1: {val_top1}')\n",
    "print(f'Val Top 5: {val_top5}')\n",
    "\n",
    "train_eval_dataset = datasets.CIFAR100(\n",
    "    'datasets/cifar100', train=True, transform=preprocess)\n",
    "train_top1, train_top5 = top1_k(compiled_model, train_eval_dataset, k=5)\n",
    "print(f'Train Top 1: {train_top1}')\n",
    "print(f'Train Top 5: {train_top5}')"
   ]
  },
  {
   "cell_type": "code",
   "execution_count": null,
   "id": "5231ae99",
   "metadata": {
    "execution": {
     "iopub.execute_input": "2024-11-26T15:15:13.482047Z",
     "iopub.status.busy": "2024-11-26T15:15:13.481682Z",
     "iopub.status.idle": "2024-11-26T15:15:13.770903Z",
     "shell.execute_reply": "2024-11-26T15:15:13.769991Z"
    },
    "papermill": {
     "duration": 0.30152,
     "end_time": "2024-11-26T15:15:13.772612",
     "exception": false,
     "start_time": "2024-11-26T15:15:13.471092",
     "status": "completed"
    },
    "tags": []
   },
   "outputs": [],
   "source": [
    "plt.plot(costs)\n",
    "plt.xlabel(\"Epoch\")\n",
    "plt.title('Costs')"
   ]
  },
  {
   "cell_type": "code",
   "execution_count": null,
   "id": "268482be",
   "metadata": {
    "execution": {
     "iopub.execute_input": "2024-11-26T15:15:13.793509Z",
     "iopub.status.busy": "2024-11-26T15:15:13.793172Z",
     "iopub.status.idle": "2024-11-26T15:15:13.968285Z",
     "shell.execute_reply": "2024-11-26T15:15:13.967403Z"
    },
    "papermill": {
     "duration": 0.187423,
     "end_time": "2024-11-26T15:15:13.970092",
     "exception": false,
     "start_time": "2024-11-26T15:15:13.782669",
     "status": "completed"
    },
    "tags": []
   },
   "outputs": [],
   "source": [
    "plt.plot(val_error_rates)\n",
    "plt.xlabel(\"Epoch\")\n",
    "plt.title('Validation Error Rates')"
   ]
  },
  {
   "cell_type": "code",
   "execution_count": null,
   "id": "51182cac",
   "metadata": {
    "execution": {
     "iopub.execute_input": "2024-11-26T15:15:13.992217Z",
     "iopub.status.busy": "2024-11-26T15:15:13.991902Z",
     "iopub.status.idle": "2024-11-26T15:15:14.191401Z",
     "shell.execute_reply": "2024-11-26T15:15:14.190549Z"
    },
    "papermill": {
     "duration": 0.21243,
     "end_time": "2024-11-26T15:15:14.193178",
     "exception": false,
     "start_time": "2024-11-26T15:15:13.980748",
     "status": "completed"
    },
    "tags": []
   },
   "outputs": [],
   "source": [
    "import math\n",
    "\n",
    "plt.plot([math.log10(lr) for lr in learning_rates])\n",
    "plt.ylabel(\"Log10(lr)\")\n",
    "plt.xlabel(\"Epoch\")\n",
    "plt.title('Learning Rates')"
   ]
  }
 ],
 "metadata": {
  "kaggle": {
   "accelerator": "none",
   "dataSources": [
    {
     "isSourceIdPinned": true,
     "modelId": 174961,
     "modelInstanceId": 152720,
     "sourceId": 179256,
     "sourceType": "modelInstanceVersion"
    }
   ],
   "isGpuEnabled": false,
   "isInternetEnabled": true,
   "language": "python",
   "sourceType": "notebook"
  },
  "kernelspec": {
   "display_name": "torch",
   "language": "python",
   "name": "python3"
  },
  "language_info": {
   "codemirror_mode": {
    "name": "ipython",
    "version": 3
   },
   "file_extension": ".py",
   "mimetype": "text/x-python",
   "name": "python",
   "nbconvert_exporter": "python",
   "pygments_lexer": "ipython3",
   "version": "3.12.3"
  },
  "papermill": {
   "default_parameters": {},
   "duration": 11363.583321,
   "end_time": "2024-11-26T15:15:15.826993",
   "environment_variables": {},
   "exception": null,
   "input_path": "__notebook__.ipynb",
   "output_path": "__notebook__.ipynb",
   "parameters": {},
   "start_time": "2024-11-26T12:05:52.243672",
   "version": "2.6.0"
  }
 },
 "nbformat": 4,
 "nbformat_minor": 5
}
