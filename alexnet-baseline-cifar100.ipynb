{
 "cells": [
  {
   "cell_type": "code",
   "execution_count": 1,
   "id": "be5f60e3",
   "metadata": {
    "execution": {
     "iopub.execute_input": "2024-11-26T08:26:57.200206Z",
     "iopub.status.busy": "2024-11-26T08:26:57.199466Z",
     "iopub.status.idle": "2024-11-26T08:27:01.817994Z",
     "shell.execute_reply": "2024-11-26T08:27:01.817271Z"
    },
    "papermill": {
     "duration": 4.62495,
     "end_time": "2024-11-26T08:27:01.820006",
     "exception": false,
     "start_time": "2024-11-26T08:26:57.195056",
     "status": "completed"
    },
    "tags": []
   },
   "outputs": [],
   "source": [
    "import sys\n",
    "sys.path.append('/kaggle/input/alexnet/pytorch/baseline/1')\n",
    "import torch\n",
    "import torch.nn as nn\n",
    "from torchvision import datasets\n",
    "from baseline.model import AlexNetBaseline, init_params\n",
    "from baseline.data_transforms import prepreprocess, get_preprocess, get_train_augment\n",
    "from baseline.train import train\n",
    "import matplotlib.pyplot as plt\n",
    "from baseline.eval import top1_k "
   ]
  },
  {
   "cell_type": "code",
   "execution_count": 2,
   "id": "2c72c869",
   "metadata": {
    "execution": {
     "iopub.execute_input": "2024-11-26T08:27:01.826106Z",
     "iopub.status.busy": "2024-11-26T08:27:01.825764Z",
     "iopub.status.idle": "2024-11-26T08:27:01.835993Z",
     "shell.execute_reply": "2024-11-26T08:27:01.835162Z"
    },
    "papermill": {
     "duration": 0.014933,
     "end_time": "2024-11-26T08:27:01.837623",
     "exception": false,
     "start_time": "2024-11-26T08:27:01.822690",
     "status": "completed"
    },
    "tags": []
   },
   "outputs": [
    {
     "name": "stdout",
     "output_type": "stream",
     "text": [
      "cuda\n"
     ]
    }
   ],
   "source": [
    "torch.manual_seed(0)\n",
    "device = torch.device(\"cuda\" if torch.cuda.is_available() else \"cpu\")\n",
    "print(device)"
   ]
  },
  {
   "cell_type": "code",
   "execution_count": 3,
   "id": "c8822ea0",
   "metadata": {
    "execution": {
     "iopub.execute_input": "2024-11-26T08:27:01.842963Z",
     "iopub.status.busy": "2024-11-26T08:27:01.842713Z",
     "iopub.status.idle": "2024-11-26T08:29:21.224964Z",
     "shell.execute_reply": "2024-11-26T08:29:21.223707Z"
    },
    "papermill": {
     "duration": 139.387139,
     "end_time": "2024-11-26T08:29:21.227005",
     "exception": false,
     "start_time": "2024-11-26T08:27:01.839866",
     "status": "completed"
    },
    "tags": []
   },
   "outputs": [
    {
     "name": "stdout",
     "output_type": "stream",
     "text": [
      "Downloading https://www.cs.toronto.edu/~kriz/cifar-100-python.tar.gz to datasets/cifar100/cifar-100-python.tar.gz\n"
     ]
    },
    {
     "name": "stderr",
     "output_type": "stream",
     "text": [
      "100%|██████████| 169001437/169001437 [00:03<00:00, 45117549.75it/s]\n"
     ]
    },
    {
     "name": "stdout",
     "output_type": "stream",
     "text": [
      "Extracting datasets/cifar100/cifar-100-python.tar.gz to datasets/cifar100\n",
      "Mean:\n",
      "[129.3524932861328, 124.11785888671875, 112.48182678222656]\n",
      "Covar:\n",
      "tensor([[4466.8828, 3691.4419, 3255.9656],\n",
      "        [3691.4419, 4100.6714, 3917.4558],\n",
      "        [3255.9656, 3917.4558, 4785.5786]], device='cuda:0')\n",
      "Eigen values (sqrt):\n",
      "tensor([[ 16.9473],\n",
      "        [ 36.9707],\n",
      "        [108.1623]])\n",
      "Eigen vectors:\n",
      "tensor([[ 0.3831,  0.7334,  0.5616],\n",
      "        [-0.8158, -0.0165,  0.5780],\n",
      "        [ 0.4332, -0.6796,  0.5920]])\n",
      "Number of classes: 100\n",
      "Train samples: 50000\n",
      "Validation samples: 5000\n",
      "Test samples: 5000\n"
     ]
    }
   ],
   "source": [
    "train_dataset = datasets.CIFAR100(\n",
    "    'datasets/cifar100', train=True, download=True, transform=prepreprocess)\n",
    "preprocess = get_preprocess(train_dataset)\n",
    "\n",
    "train_dataset = datasets.CIFAR100(\n",
    "    'datasets/cifar100', train=True, transform=preprocess)\n",
    "train_augment = get_train_augment(train_dataset, preprocess)\n",
    "\n",
    "train_dataset = datasets.CIFAR100(\n",
    "    'datasets/cifar100', train=True, transform=train_augment)\n",
    "\n",
    "val_dataset = datasets.CIFAR100(\n",
    "    'datasets/cifar100', train=False, transform=preprocess)\n",
    "val_dataset, test_dataset = torch.utils.data.random_split(val_dataset, [0.5, 0.5])\n",
    "\n",
    "print(f'Number of classes: {len(train_dataset.classes)}')\n",
    "print(f'Train samples: {len(train_dataset)}')\n",
    "print(f'Validation samples: {len(val_dataset)}')\n",
    "print(f'Test samples: {len(test_dataset)}')"
   ]
  },
  {
   "cell_type": "code",
   "execution_count": 4,
   "id": "96064d3b",
   "metadata": {
    "execution": {
     "iopub.execute_input": "2024-11-26T08:29:21.237230Z",
     "iopub.status.busy": "2024-11-26T08:29:21.236896Z",
     "iopub.status.idle": "2024-11-26T08:29:21.253852Z",
     "shell.execute_reply": "2024-11-26T08:29:21.253003Z"
    },
    "papermill": {
     "duration": 0.024028,
     "end_time": "2024-11-26T08:29:21.255441",
     "exception": false,
     "start_time": "2024-11-26T08:29:21.231413",
     "status": "completed"
    },
    "tags": []
   },
   "outputs": [],
   "source": [
    "model = AlexNetBaseline(len(train_dataset.classes))\n",
    "if torch.cuda.device_count() > 1:\n",
    "    print(f'Using {torch.cuda.device_count()} GPUs.')\n",
    "    model = nn.DataParallel(model)\n",
    "model.to(device)\n",
    "# initialize parameters\n",
    "init_params(model)\n",
    "compiled_model = model\n",
    "# if torch.cuda.is_available():\n",
    "#     compiled_model = torch.compile(model)"
   ]
  },
  {
   "cell_type": "code",
   "execution_count": 5,
   "id": "321ce8c3",
   "metadata": {
    "execution": {
     "iopub.execute_input": "2024-11-26T08:29:21.266198Z",
     "iopub.status.busy": "2024-11-26T08:29:21.265937Z",
     "iopub.status.idle": "2024-11-26T11:32:17.766731Z",
     "shell.execute_reply": "2024-11-26T11:32:17.765594Z"
    },
    "papermill": {
     "duration": 10976.516085,
     "end_time": "2024-11-26T11:32:17.777243",
     "exception": false,
     "start_time": "2024-11-26T08:29:21.261158",
     "status": "completed"
    },
    "tags": []
   },
   "outputs": [
    {
     "name": "stdout",
     "output_type": "stream",
     "text": [
      "Epoch 1/100, Cost: 4.2368735, Val Error: 89.42%, lr: 0.01, Time: 111s\n",
      "Epoch 2/100, Cost: 3.5958828, Val Error: 78.94%, lr: 0.01, Time: 111s\n",
      "Epoch 3/100, Cost: 3.1503169, Val Error: 69.42%, lr: 0.01, Time: 116s\n",
      "Epoch 4/100, Cost: 2.8221710, Val Error: 68.36%, lr: 0.01, Time: 110s\n",
      "Epoch 5/100, Cost: 2.5625068, Val Error: 60.58%, lr: 0.01, Time: 107s\n",
      "Epoch 6/100, Cost: 2.3634549, Val Error: 55.96%, lr: 0.01, Time: 111s\n",
      "Epoch 7/100, Cost: 2.2010790, Val Error: 52.16%, lr: 0.01, Time: 110s\n",
      "Epoch 8/100, Cost: 2.0723920, Val Error: 50.78%, lr: 0.01, Time: 111s\n",
      "Epoch 9/100, Cost: 1.9592036, Val Error: 48.76%, lr: 0.01, Time: 111s\n",
      "Epoch 10/100, Cost: 1.8804885, Val Error: 48.54%, lr: 0.01, Time: 112s\n",
      "Epoch 11/100, Cost: 1.7902044, Val Error: 45.14%, lr: 0.01, Time: 111s\n",
      "Epoch 12/100, Cost: 1.7066609, Val Error: 44.90%, lr: 0.01, Time: 109s\n",
      "Epoch 13/100, Cost: 1.6547812, Val Error: 45.86%, lr: 0.01, Time: 112s\n",
      "Epoch 14/100, Cost: 1.5998650, Val Error: 44.16%, lr: 0.01, Time: 108s\n",
      "Epoch 15/100, Cost: 1.5321273, Val Error: 43.34%, lr: 0.01, Time: 109s\n",
      "Epoch 16/100, Cost: 1.4802287, Val Error: 44.04%, lr: 0.01, Time: 110s\n",
      "Epoch 17/100, Cost: 1.4324265, Val Error: 41.84%, lr: 0.01, Time: 111s\n",
      "Epoch 18/100, Cost: 1.4059715, Val Error: 42.20%, lr: 0.01, Time: 108s\n",
      "Epoch 19/100, Cost: 1.3538911, Val Error: 40.12%, lr: 0.01, Time: 115s\n",
      "Epoch 20/100, Cost: 1.3183051, Val Error: 41.66%, lr: 0.01, Time: 108s\n",
      "Epoch 21/100, Cost: 1.2934552, Val Error: 41.26%, lr: 0.01, Time: 110s\n",
      "Epoch 22/100, Cost: 1.2610279, Val Error: 40.78%, lr: 0.01, Time: 115s\n",
      "Epoch 23/100, Cost: 1.2471205, Val Error: 40.60%, lr: 0.01, Time: 107s\n",
      "Epoch 24/100, Cost: 1.2125986, Val Error: 40.62%, lr: 0.01, Time: 111s\n",
      "Epoch 25/100, Cost: 1.1948509, Val Error: 40.42%, lr: 0.01, Time: 108s\n",
      "Epoch 26/100, Cost: 1.1726055, Val Error: 39.38%, lr: 0.01, Time: 110s\n",
      "Epoch 27/100, Cost: 1.1621324, Val Error: 39.82%, lr: 0.01, Time: 111s\n",
      "Epoch 28/100, Cost: 1.1359085, Val Error: 39.64%, lr: 0.01, Time: 109s\n",
      "Epoch 29/100, Cost: 1.1182672, Val Error: 38.20%, lr: 0.01, Time: 106s\n",
      "Epoch 30/100, Cost: 1.1060095, Val Error: 38.92%, lr: 0.01, Time: 111s\n",
      "Epoch 31/100, Cost: 1.0936137, Val Error: 39.14%, lr: 0.01, Time: 106s\n",
      "Epoch 32/100, Cost: 1.0747210, Val Error: 38.76%, lr: 0.01, Time: 111s\n",
      "Epoch 33/100, Cost: 1.0658254, Val Error: 37.90%, lr: 0.01, Time: 111s\n",
      "Epoch 34/100, Cost: 1.0528385, Val Error: 39.28%, lr: 0.01, Time: 109s\n",
      "Epoch 35/100, Cost: 1.0330504, Val Error: 38.60%, lr: 0.01, Time: 111s\n",
      "Epoch 36/100, Cost: 1.0153571, Val Error: 38.78%, lr: 0.01, Time: 114s\n",
      "Epoch 37/100, Cost: 1.0279478, Val Error: 39.10%, lr: 0.01, Time: 111s\n",
      "Epoch 38/100, Cost: 1.0117548, Val Error: 38.06%, lr: 0.01, Time: 112s\n",
      "Epoch 39/100, Cost: 1.0083745, Val Error: 38.74%, lr: 0.01, Time: 105s\n",
      "Epoch 40/100, Cost: 1.0025400, Val Error: 37.58%, lr: 0.01, Time: 106s\n",
      "Epoch 41/100, Cost: 0.9783011, Val Error: 38.54%, lr: 0.01, Time: 108s\n",
      "Epoch 42/100, Cost: 0.9744476, Val Error: 39.94%, lr: 0.01, Time: 105s\n",
      "Epoch 43/100, Cost: 0.9648383, Val Error: 36.88%, lr: 0.01, Time: 108s\n",
      "Epoch 44/100, Cost: 0.9607450, Val Error: 37.84%, lr: 0.01, Time: 110s\n",
      "Epoch 45/100, Cost: 0.9388941, Val Error: 37.82%, lr: 0.01, Time: 106s\n",
      "Epoch 46/100, Cost: 0.9419751, Val Error: 37.46%, lr: 0.01, Time: 108s\n",
      "Epoch 47/100, Cost: 0.9480589, Val Error: 37.40%, lr: 0.01, Time: 106s\n",
      "Epoch 48/100, Cost: 0.9427787, Val Error: 38.80%, lr: 0.01, Time: 109s\n",
      "Epoch 49/100, Cost: 0.9403513, Val Error: 37.60%, lr: 0.01, Time: 107s\n",
      "Epoch 50/100, Cost: 0.9411176, Val Error: 38.28%, lr: 0.01, Time: 107s\n",
      "Epoch 51/100, Cost: 0.9338111, Val Error: 37.70%, lr: 0.01, Time: 110s\n",
      "Epoch 52/100, Cost: 0.9253928, Val Error: 38.12%, lr: 0.01, Time: 107s\n",
      "Epoch 53/100, Cost: 0.9171965, Val Error: 38.34%, lr: 0.01, Time: 109s\n",
      "Epoch 54/100, Cost: 0.9276942, Val Error: 38.42%, lr: 0.001, Time: 111s\n",
      "Epoch 55/100, Cost: 0.5832526, Val Error: 33.98%, lr: 0.001, Time: 106s\n",
      "Epoch 56/100, Cost: 0.4643087, Val Error: 33.10%, lr: 0.001, Time: 108s\n",
      "Epoch 57/100, Cost: 0.4172720, Val Error: 33.24%, lr: 0.001, Time: 107s\n",
      "Epoch 58/100, Cost: 0.3863165, Val Error: 32.64%, lr: 0.001, Time: 106s\n",
      "Epoch 59/100, Cost: 0.3528186, Val Error: 32.76%, lr: 0.001, Time: 110s\n",
      "Epoch 60/100, Cost: 0.3353906, Val Error: 32.46%, lr: 0.001, Time: 106s\n",
      "Epoch 61/100, Cost: 0.3112449, Val Error: 32.44%, lr: 0.001, Time: 109s\n",
      "Epoch 62/100, Cost: 0.3030184, Val Error: 32.22%, lr: 0.001, Time: 110s\n",
      "Epoch 63/100, Cost: 0.2914287, Val Error: 32.42%, lr: 0.001, Time: 110s\n",
      "Epoch 64/100, Cost: 0.2782311, Val Error: 32.30%, lr: 0.001, Time: 110s\n",
      "Epoch 65/100, Cost: 0.2604225, Val Error: 32.02%, lr: 0.001, Time: 110s\n",
      "Epoch 66/100, Cost: 0.2590035, Val Error: 31.94%, lr: 0.001, Time: 110s\n",
      "Epoch 67/100, Cost: 0.2444578, Val Error: 31.66%, lr: 0.001, Time: 111s\n",
      "Epoch 68/100, Cost: 0.2409237, Val Error: 31.72%, lr: 0.001, Time: 113s\n",
      "Epoch 69/100, Cost: 0.2303865, Val Error: 31.56%, lr: 0.001, Time: 108s\n",
      "Epoch 70/100, Cost: 0.2175365, Val Error: 31.28%, lr: 0.001, Time: 107s\n",
      "Epoch 71/100, Cost: 0.2147244, Val Error: 31.50%, lr: 0.001, Time: 113s\n",
      "Epoch 72/100, Cost: 0.2042491, Val Error: 31.94%, lr: 0.001, Time: 111s\n",
      "Epoch 73/100, Cost: 0.2057074, Val Error: 31.64%, lr: 0.001, Time: 110s\n",
      "Epoch 74/100, Cost: 0.1930181, Val Error: 31.54%, lr: 0.001, Time: 114s\n",
      "Epoch 75/100, Cost: 0.1947747, Val Error: 31.16%, lr: 0.001, Time: 111s\n",
      "Epoch 76/100, Cost: 0.1846358, Val Error: 31.48%, lr: 0.001, Time: 107s\n",
      "Epoch 77/100, Cost: 0.1841886, Val Error: 31.82%, lr: 0.001, Time: 111s\n",
      "Epoch 78/100, Cost: 0.1742712, Val Error: 31.68%, lr: 0.001, Time: 109s\n",
      "Epoch 79/100, Cost: 0.1684748, Val Error: 31.50%, lr: 0.001, Time: 111s\n",
      "Epoch 80/100, Cost: 0.1706404, Val Error: 31.64%, lr: 0.001, Time: 107s\n",
      "Epoch 81/100, Cost: 0.1600831, Val Error: 31.88%, lr: 0.001, Time: 109s\n",
      "Epoch 82/100, Cost: 0.1599966, Val Error: 31.64%, lr: 0.001, Time: 107s\n",
      "Epoch 83/100, Cost: 0.1568479, Val Error: 31.64%, lr: 0.001, Time: 110s\n",
      "Epoch 84/100, Cost: 0.1530880, Val Error: 31.44%, lr: 0.001, Time: 109s\n",
      "Epoch 85/100, Cost: 0.1474907, Val Error: 31.20%, lr: 0.001, Time: 112s\n",
      "Epoch 86/100, Cost: 0.1481515, Val Error: 31.24%, lr: 0.0001, Time: 110s\n",
      "Epoch 87/100, Cost: 0.1336549, Val Error: 30.98%, lr: 0.0001, Time: 109s\n",
      "Epoch 88/100, Cost: 0.1363997, Val Error: 30.94%, lr: 0.0001, Time: 110s\n",
      "Epoch 89/100, Cost: 0.1328673, Val Error: 31.00%, lr: 0.0001, Time: 114s\n",
      "Epoch 90/100, Cost: 0.1300209, Val Error: 30.96%, lr: 0.0001, Time: 114s\n",
      "Epoch 91/100, Cost: 0.1289290, Val Error: 31.16%, lr: 0.0001, Time: 112s\n",
      "Epoch 92/100, Cost: 0.1311345, Val Error: 30.90%, lr: 0.0001, Time: 113s\n",
      "Epoch 93/100, Cost: 0.1335197, Val Error: 30.84%, lr: 0.0001, Time: 111s\n",
      "Epoch 94/100, Cost: 0.1297964, Val Error: 30.98%, lr: 0.0001, Time: 113s\n",
      "Epoch 95/100, Cost: 0.1240221, Val Error: 30.88%, lr: 0.0001, Time: 111s\n",
      "Epoch 96/100, Cost: 0.1278908, Val Error: 30.74%, lr: 0.0001, Time: 109s\n",
      "Epoch 97/100, Cost: 0.1281203, Val Error: 30.86%, lr: 0.0001, Time: 110s\n",
      "Epoch 98/100, Cost: 0.1245508, Val Error: 30.64%, lr: 0.0001, Time: 109s\n",
      "Epoch 99/100, Cost: 0.1280838, Val Error: 30.96%, lr: 0.0001, Time: 111s\n",
      "Epoch 100/100, Cost: 0.1248599, Val Error: 31.02%, lr: 0.0001, Time: 111s\n",
      "Training time: 183m\n"
     ]
    }
   ],
   "source": [
    "costs, val_error_rates, learning_rates = train(\n",
    "    compiled_model,\n",
    "    train_dataset=train_dataset,\n",
    "    cv_dataset=val_dataset,\n",
    "    batch_size=128,\n",
    "    num_epochs=100,\n",
    "    initial_lr=0.01,\n",
    "    num_workers=3,\n",
    "    patience=10\n",
    ")"
   ]
  },
  {
   "cell_type": "code",
   "execution_count": 6,
   "id": "ff202d73",
   "metadata": {
    "execution": {
     "iopub.execute_input": "2024-11-26T11:32:17.795099Z",
     "iopub.status.busy": "2024-11-26T11:32:17.794804Z",
     "iopub.status.idle": "2024-11-26T11:32:18.277168Z",
     "shell.execute_reply": "2024-11-26T11:32:18.276476Z"
    },
    "papermill": {
     "duration": 0.4935,
     "end_time": "2024-11-26T11:32:18.279138",
     "exception": false,
     "start_time": "2024-11-26T11:32:17.785638",
     "status": "completed"
    },
    "tags": []
   },
   "outputs": [],
   "source": [
    "torch.save(model.state_dict(), 'baseline_cifar100.model.pt')\n",
    "torch.save(preprocess, 'baseline_cifar100.preprocess.pt')\n",
    "torch.save(train_augment, 'baseline_cifar100.train_augment.pt')"
   ]
  },
  {
   "cell_type": "code",
   "execution_count": 7,
   "id": "0f4ac9ad",
   "metadata": {
    "execution": {
     "iopub.execute_input": "2024-11-26T11:32:18.296912Z",
     "iopub.status.busy": "2024-11-26T11:32:18.296670Z",
     "iopub.status.idle": "2024-11-26T11:35:51.702493Z",
     "shell.execute_reply": "2024-11-26T11:35:51.701545Z"
    },
    "papermill": {
     "duration": 213.424703,
     "end_time": "2024-11-26T11:35:51.712444",
     "exception": false,
     "start_time": "2024-11-26T11:32:18.287741",
     "status": "completed"
    },
    "tags": []
   },
   "outputs": [
    {
     "name": "stdout",
     "output_type": "stream",
     "text": [
      "Test Top 1: 0.6862\n",
      "Test Top 5: 0.8914\n",
      "Val Top 1: 0.6898\n",
      "Val Top 5: 0.8944\n",
      "Train Top 1: 0.99902\n",
      "Train Top 5: 1.0\n"
     ]
    }
   ],
   "source": [
    "test_top1, test_top5 = top1_k(compiled_model, test_dataset, k=5)\n",
    "print(f'Test Top 1: {test_top1}')\n",
    "print(f'Test Top 5: {test_top5}')\n",
    "\n",
    "val_top1, val_top5 = top1_k(compiled_model, val_dataset, k=5)\n",
    "print(f'Val Top 1: {val_top1}')\n",
    "print(f'Val Top 5: {val_top5}')\n",
    "\n",
    "train_eval_dataset = datasets.CIFAR100(\n",
    "    'datasets/cifar100', train=True, transform=preprocess)\n",
    "train_top1, train_top5 = top1_k(compiled_model, train_eval_dataset, k=5)\n",
    "print(f'Train Top 1: {train_top1}')\n",
    "print(f'Train Top 5: {train_top5}')"
   ]
  },
  {
   "cell_type": "code",
   "execution_count": 8,
   "id": "89b99cb4",
   "metadata": {
    "execution": {
     "iopub.execute_input": "2024-11-26T11:35:51.731077Z",
     "iopub.status.busy": "2024-11-26T11:35:51.730280Z",
     "iopub.status.idle": "2024-11-26T11:35:51.991783Z",
     "shell.execute_reply": "2024-11-26T11:35:51.991022Z"
    },
    "papermill": {
     "duration": 0.272534,
     "end_time": "2024-11-26T11:35:51.993545",
     "exception": false,
     "start_time": "2024-11-26T11:35:51.721011",
     "status": "completed"
    },
    "tags": []
   },
   "outputs": [
    {
     "data": {
      "text/plain": [
       "Text(0.5, 1.0, 'Costs')"
      ]
     },
     "execution_count": 8,
     "metadata": {},
     "output_type": "execute_result"
    },
    {
     "data": {
      "image/png": "[encoded data removed]",
      "text/plain": [
       "<Figure size 640x480 with 1 Axes>"
      ]
     },
     "metadata": {},
     "output_type": "display_data"
    }
   ],
   "source": [
    "plt.plot(costs)\n",
    "plt.xlabel(\"Epoch\")\n",
    "plt.title('Costs')"
   ]
  },
  {
   "cell_type": "code",
   "execution_count": 9,
   "id": "eda694ad",
   "metadata": {
    "execution": {
     "iopub.execute_input": "2024-11-26T11:35:52.011914Z",
     "iopub.status.busy": "2024-11-26T11:35:52.011667Z",
     "iopub.status.idle": "2024-11-26T11:35:52.248781Z",
     "shell.execute_reply": "2024-11-26T11:35:52.247873Z"
    },
    "papermill": {
     "duration": 0.248583,
     "end_time": "2024-11-26T11:35:52.250892",
     "exception": false,
     "start_time": "2024-11-26T11:35:52.002309",
     "status": "completed"
    },
    "tags": []
   },
   "outputs": [
    {
     "data": {
      "text/plain": [
       "Text(0.5, 1.0, 'Validation Error Rates')"
      ]
     },
     "execution_count": 9,
     "metadata": {},
     "output_type": "execute_result"
    },
    {
     "data": {
      "image/png": "[encoded data removed]",
      "text/plain": [
       "<Figure size 640x480 with 1 Axes>"
      ]
     },
     "metadata": {},
     "output_type": "display_data"
    }
   ],
   "source": [
    "plt.plot(val_error_rates)\n",
    "plt.xlabel(\"Epoch\")\n",
    "plt.title('Validation Error Rates')"
   ]
  },
  {
   "cell_type": "code",
   "execution_count": 10,
   "id": "de173fce",
   "metadata": {
    "execution": {
     "iopub.execute_input": "2024-11-26T11:35:52.276880Z",
     "iopub.status.busy": "2024-11-26T11:35:52.276175Z",
     "iopub.status.idle": "2024-11-26T11:35:52.475089Z",
     "shell.execute_reply": "2024-11-26T11:35:52.474240Z"
    },
    "papermill": {
     "duration": 0.213601,
     "end_time": "2024-11-26T11:35:52.476950",
     "exception": false,
     "start_time": "2024-11-26T11:35:52.263349",
     "status": "completed"
    },
    "tags": []
   },
   "outputs": [
    {
     "data": {
      "text/plain": [
       "Text(0.5, 1.0, 'Learning Rates')"
      ]
     },
     "execution_count": 10,
     "metadata": {},
     "output_type": "execute_result"
    },
    {
     "data": {
      "image/png": "[encoded data removed]",
      "text/plain": [
       "<Figure size 640x480 with 1 Axes>"
      ]
     },
     "metadata": {},
     "output_type": "display_data"
    }
   ],
   "source": [
    "import math\n",
    "\n",
    "plt.plot([math.log10(lr) for lr in learning_rates])\n",
    "plt.ylabel(\"Log10(lr)\")\n",
    "plt.xlabel(\"Epoch\")\n",
    "plt.title('Learning Rates')"
   ]
  }
 ],
 "metadata": {
  "kaggle": {
   "accelerator": "none",
   "dataSources": [
    {
     "isSourceIdPinned": true,
     "modelId": 174961,
     "modelInstanceId": 152507,
     "sourceId": 179024,
     "sourceType": "modelInstanceVersion"
    }
   ],
   "isGpuEnabled": false,
   "isInternetEnabled": true,
   "language": "python",
   "sourceType": "notebook"
  },
  "kernelspec": {
   "display_name": "torch",
   "language": "python",
   "name": "python3"
  },
  "language_info": {
   "codemirror_mode": {
    "name": "ipython",
    "version": 3
   },
   "file_extension": ".py",
   "mimetype": "text/x-python",
   "name": "python",
   "nbconvert_exporter": "python",
   "pygments_lexer": "ipython3",
   "version": "3.10.14"
  },
  "papermill": {
   "default_parameters": {},
   "duration": 11339.144517,
   "end_time": "2024-11-26T11:35:53.908705",
   "environment_variables": {},
   "exception": null,
   "input_path": "__notebook__.ipynb",
   "output_path": "__notebook__.ipynb",
   "parameters": {},
   "start_time": "2024-11-26T08:26:54.764188",
   "version": "2.6.0"
  }
 },
 "nbformat": 4,
 "nbformat_minor": 5
}
