{
 "cells": [
  {
   "cell_type": "code",
   "execution_count": 1,
   "id": "49cb09c4",
   "metadata": {
    "execution": {
     "iopub.execute_input": "2024-12-04T17:19:58.953746Z",
     "iopub.status.busy": "2024-12-04T17:19:58.953459Z",
     "iopub.status.idle": "2024-12-04T17:20:03.395223Z",
     "shell.execute_reply": "2024-12-04T17:20:03.394515Z"
    },
    "papermill": {
     "duration": 4.447292,
     "end_time": "2024-12-04T17:20:03.397273",
     "exception": false,
     "start_time": "2024-12-04T17:19:58.949981",
     "status": "completed"
    },
    "tags": []
   },
   "outputs": [],
   "source": [
    "import sys\n",
    "sys.path.append('/kaggle/input/alexnet/pytorch/improved/1')\n",
    "import torch\n",
    "import torch.nn as nn\n",
    "from torchvision import datasets\n",
    "from improved.model import AlexNetImproved, init_params\n",
    "from improved.pca import pca\n",
    "from improved.data_transforms import calc_mean_std, prepreprocess, get_preprocess, get_train_augment\n",
    "from improved.train import train\n",
    "import matplotlib.pyplot as plt\n",
    "from improved.eval import top1_k "
   ]
  },
  {
   "cell_type": "code",
   "execution_count": 2,
   "id": "5d7d9497",
   "metadata": {
    "execution": {
     "iopub.execute_input": "2024-12-04T17:20:03.403939Z",
     "iopub.status.busy": "2024-12-04T17:20:03.403528Z",
     "iopub.status.idle": "2024-12-04T17:20:03.416969Z",
     "shell.execute_reply": "2024-12-04T17:20:03.416158Z"
    },
    "papermill": {
     "duration": 0.018511,
     "end_time": "2024-12-04T17:20:03.419010",
     "exception": false,
     "start_time": "2024-12-04T17:20:03.400499",
     "status": "completed"
    },
    "tags": []
   },
   "outputs": [
    {
     "name": "stdout",
     "output_type": "stream",
     "text": [
      "cuda\n"
     ]
    }
   ],
   "source": [
    "torch.manual_seed(0)\n",
    "device = torch.device(\"cuda\" if torch.cuda.is_available() else \"cpu\")\n",
    "print(device)"
   ]
  },
  {
   "cell_type": "code",
   "execution_count": 3,
   "id": "49f8e19e",
   "metadata": {
    "execution": {
     "iopub.execute_input": "2024-12-04T17:20:03.426446Z",
     "iopub.status.busy": "2024-12-04T17:20:03.425673Z",
     "iopub.status.idle": "2024-12-04T17:21:25.648418Z",
     "shell.execute_reply": "2024-12-04T17:21:25.647363Z"
    },
    "papermill": {
     "duration": 82.228624,
     "end_time": "2024-12-04T17:21:25.650404",
     "exception": false,
     "start_time": "2024-12-04T17:20:03.421780",
     "status": "completed"
    },
    "tags": []
   },
   "outputs": [
    {
     "name": "stdout",
     "output_type": "stream",
     "text": [
      "Downloading https://s3.amazonaws.com/fast-ai-imageclas/imagenette2-320.tgz to datasets/imagenette/imagenette2-320.tgz\n"
     ]
    },
    {
     "name": "stderr",
     "output_type": "stream",
     "text": [
      "100%|██████████| 341663724/341663724 [00:06<00:00, 50324657.48it/s]\n"
     ]
    },
    {
     "name": "stdout",
     "output_type": "stream",
     "text": [
      "Extracting datasets/imagenette/imagenette2-320.tgz to datasets/imagenette\n",
      "Mean:\n",
      "[0.4666706919670105, 0.45878785848617554, 0.43017029762268066]\n",
      "Standard Deviation:\n",
      "[0.28003814816474915, 0.27618539333343506, 0.2980325520038605]\n",
      "Covar:\n",
      "tensor([[0.9999, 0.9060, 0.7768],\n",
      "        [0.9060, 0.9999, 0.9098],\n",
      "        [0.7768, 0.9098, 1.0001]], device='cuda:0')\n",
      "Eigen values (sqrt):\n",
      "tensor([[0.2165],\n",
      "        [0.4725],\n",
      "        [1.6522]])\n",
      "Eigen vectors:\n",
      "tensor([[ 0.4129,  0.7125,  0.5673],\n",
      "        [-0.8029, -0.0092,  0.5960],\n",
      "        [ 0.4299, -0.7016,  0.5683]])\n",
      "Number of classes: 10\n",
      "Train: 9469\n",
      "Validation: 1963\n",
      "Test: 1962\n"
     ]
    }
   ],
   "source": [
    "train_dataset = datasets.Imagenette(\n",
    "    'datasets/imagenette', split='train', size='320px', download=True, transform=prepreprocess)\n",
    "mean, std = calc_mean_std(train_dataset)\n",
    "print(f'Mean:\\n{mean}')\n",
    "print(f'Standard Deviation:\\n{std}')\n",
    "preprocess = get_preprocess(mean, std)\n",
    "\n",
    "train_dataset = datasets.Imagenette(\n",
    "    'datasets/imagenette', split='train', size='320px', transform=preprocess)\n",
    "eigvals, eigvecs = pca(train_dataset)\n",
    "train_augment = get_train_augment(eigvals, eigvecs, mean, std)\n",
    "\n",
    "train_dataset = datasets.Imagenette(\n",
    "    'datasets/imagenette', split='train', size='320px', transform=train_augment)\n",
    "\n",
    "val_dataset = datasets.Imagenette(\n",
    "    'datasets/imagenette', split='val', size='320px',transform=preprocess)\n",
    "val_dataset, test_dataset = torch.utils.data.random_split(val_dataset, [0.5, 0.5])\n",
    "\n",
    "print(f'Number of classes: {len(train_dataset.classes)}')\n",
    "print(f'Train: {len(train_dataset)}')\n",
    "print(f'Validation: {len(val_dataset)}')\n",
    "print(f'Test: {len(test_dataset)}')"
   ]
  },
  {
   "cell_type": "code",
   "execution_count": 4,
   "id": "e9a21231",
   "metadata": {
    "execution": {
     "iopub.execute_input": "2024-12-04T17:21:25.661765Z",
     "iopub.status.busy": "2024-12-04T17:21:25.661413Z",
     "iopub.status.idle": "2024-12-04T17:21:25.680812Z",
     "shell.execute_reply": "2024-12-04T17:21:25.680196Z"
    },
    "papermill": {
     "duration": 0.02691,
     "end_time": "2024-12-04T17:21:25.682370",
     "exception": false,
     "start_time": "2024-12-04T17:21:25.655460",
     "status": "completed"
    },
    "tags": []
   },
   "outputs": [],
   "source": [
    "model = AlexNetImproved(len(train_dataset.classes))\n",
    "if torch.cuda.device_count() > 1:\n",
    "    print(f'Using {torch.cuda.device_count()} GPUs.')\n",
    "    model = nn.DataParallel(model)\n",
    "model.to(device)\n",
    "# initialize parameters\n",
    "init_params(model)\n",
    "compiled_model = model\n",
    "# if torch.cuda.is_available():\n",
    "#     compiled_model = torch.compile(model)"
   ]
  },
  {
   "cell_type": "code",
   "execution_count": 5,
   "id": "661fa558",
   "metadata": {
    "execution": {
     "iopub.execute_input": "2024-12-04T17:21:25.693718Z",
     "iopub.status.busy": "2024-12-04T17:21:25.693442Z",
     "iopub.status.idle": "2024-12-04T19:21:02.372542Z",
     "shell.execute_reply": "2024-12-04T19:21:02.371411Z"
    },
    "papermill": {
     "duration": 7176.699337,
     "end_time": "2024-12-04T19:21:02.387492",
     "exception": false,
     "start_time": "2024-12-04T17:21:25.688155",
     "status": "completed"
    },
    "tags": []
   },
   "outputs": [
    {
     "name": "stdout",
     "output_type": "stream",
     "text": [
      "Epoch 1/200, Cost: 2.345, Val Error: 65.97%, lr: 0.001, Time: 36s\n",
      "Epoch 2/200, Cost: 1.882, Val Error: 50.74%, lr: 0.001, Time: 35s\n",
      "Epoch 3/200, Cost: 1.622, Val Error: 49.26%, lr: 0.001, Time: 36s\n",
      "Epoch 4/200, Cost: 1.483, Val Error: 52.62%, lr: 0.001, Time: 35s\n",
      "Epoch 5/200, Cost: 1.411, Val Error: 36.53%, lr: 0.001, Time: 34s\n",
      "Epoch 6/200, Cost: 1.314, Val Error: 33.62%, lr: 0.001, Time: 35s\n",
      "Epoch 7/200, Cost: 1.249, Val Error: 36.07%, lr: 0.001, Time: 35s\n",
      "Epoch 8/200, Cost: 1.206, Val Error: 36.58%, lr: 0.001, Time: 35s\n",
      "Epoch 9/200, Cost: 1.176, Val Error: 35.20%, lr: 0.001, Time: 35s\n",
      "Epoch 10/200, Cost: 1.136, Val Error: 36.53%, lr: 0.001, Time: 35s\n",
      "Epoch 11/200, Cost: 1.110, Val Error: 33.32%, lr: 0.001, Time: 35s\n",
      "Epoch 12/200, Cost: 1.031, Val Error: 28.32%, lr: 0.001, Time: 35s\n",
      "Epoch 13/200, Cost: 1.010, Val Error: 34.64%, lr: 0.001, Time: 35s\n",
      "Epoch 14/200, Cost: 0.976, Val Error: 31.02%, lr: 0.001, Time: 36s\n",
      "Epoch 15/200, Cost: 0.962, Val Error: 28.32%, lr: 0.001, Time: 35s\n",
      "Epoch 16/200, Cost: 0.923, Val Error: 31.23%, lr: 0.001, Time: 36s\n",
      "Epoch 17/200, Cost: 0.907, Val Error: 33.42%, lr: 0.001, Time: 36s\n",
      "Epoch 18/200, Cost: 0.871, Val Error: 32.76%, lr: 0.001, Time: 36s\n",
      "Epoch 19/200, Cost: 0.882, Val Error: 34.23%, lr: 0.001, Time: 36s\n",
      "Epoch 20/200, Cost: 0.855, Val Error: 29.55%, lr: 0.001, Time: 36s\n",
      "Epoch 21/200, Cost: 0.850, Val Error: 29.90%, lr: 0.001, Time: 36s\n",
      "Epoch 22/200, Cost: 0.818, Val Error: 29.85%, lr: 0.001, Time: 36s\n",
      "Epoch 23/200, Cost: 0.812, Val Error: 29.34%, lr: 0.001, Time: 36s\n",
      "Epoch 24/200, Cost: 0.790, Val Error: 33.67%, lr: 0.001, Time: 36s\n",
      "Epoch 25/200, Cost: 0.763, Val Error: 23.38%, lr: 0.001, Time: 35s\n",
      "Epoch 26/200, Cost: 0.755, Val Error: 34.23%, lr: 0.001, Time: 35s\n",
      "Epoch 27/200, Cost: 0.761, Val Error: 24.61%, lr: 0.001, Time: 36s\n",
      "Epoch 28/200, Cost: 0.745, Val Error: 19.56%, lr: 0.001, Time: 37s\n",
      "Epoch 29/200, Cost: 0.728, Val Error: 35.30%, lr: 0.001, Time: 35s\n",
      "Epoch 30/200, Cost: 0.727, Val Error: 31.38%, lr: 0.001, Time: 36s\n",
      "Epoch 31/200, Cost: 0.726, Val Error: 29.09%, lr: 0.001, Time: 35s\n",
      "Epoch 32/200, Cost: 0.708, Val Error: 40.65%, lr: 0.001, Time: 36s\n",
      "Epoch 33/200, Cost: 0.691, Val Error: 35.20%, lr: 0.001, Time: 35s\n",
      "Epoch 34/200, Cost: 0.676, Val Error: 32.96%, lr: 0.001, Time: 35s\n",
      "Epoch 35/200, Cost: 0.681, Val Error: 23.38%, lr: 0.001, Time: 35s\n",
      "Epoch 36/200, Cost: 0.661, Val Error: 18.90%, lr: 0.001, Time: 36s\n",
      "Epoch 37/200, Cost: 0.656, Val Error: 24.35%, lr: 0.001, Time: 36s\n",
      "Epoch 38/200, Cost: 0.662, Val Error: 25.11%, lr: 0.001, Time: 36s\n",
      "Epoch 39/200, Cost: 0.665, Val Error: 37.75%, lr: 0.001, Time: 35s\n",
      "Epoch 40/200, Cost: 0.649, Val Error: 30.77%, lr: 0.001, Time: 36s\n",
      "Epoch 41/200, Cost: 0.623, Val Error: 27.97%, lr: 0.001, Time: 35s\n",
      "Epoch 42/200, Cost: 0.648, Val Error: 19.56%, lr: 0.001, Time: 36s\n",
      "Epoch 43/200, Cost: 0.638, Val Error: 28.12%, lr: 0.001, Time: 35s\n",
      "Epoch 44/200, Cost: 0.633, Val Error: 25.67%, lr: 0.001, Time: 36s\n",
      "Epoch 45/200, Cost: 0.612, Val Error: 38.26%, lr: 0.001, Time: 37s\n",
      "Epoch 46/200, Cost: 0.613, Val Error: 25.37%, lr: 0.001, Time: 37s\n",
      "Epoch 47/200, Cost: 0.589, Val Error: 24.45%, lr: 0.001, Time: 36s\n",
      "Epoch 48/200, Cost: 0.604, Val Error: 23.48%, lr: 0.001, Time: 37s\n",
      "Epoch 49/200, Cost: 0.567, Val Error: 28.43%, lr: 0.001, Time: 37s\n",
      "Epoch 50/200, Cost: 0.615, Val Error: 38.51%, lr: 0.001, Time: 36s\n",
      "Epoch 51/200, Cost: 0.592, Val Error: 23.64%, lr: 0.001, Time: 36s\n",
      "Epoch 52/200, Cost: 0.558, Val Error: 21.75%, lr: 0.001, Time: 35s\n",
      "Epoch 53/200, Cost: 0.572, Val Error: 33.72%, lr: 0.001, Time: 35s\n",
      "Epoch 54/200, Cost: 0.583, Val Error: 22.36%, lr: 0.001, Time: 37s\n",
      "Epoch 55/200, Cost: 0.561, Val Error: 27.51%, lr: 0.001, Time: 36s\n",
      "Epoch 56/200, Cost: 0.549, Val Error: 38.10%, lr: 0.001, Time: 37s\n",
      "Epoch 57/200, Cost: 0.539, Val Error: 22.98%, lr: 0.0001, Time: 35s\n",
      "Epoch 58/200, Cost: 0.424, Val Error: 10.85%, lr: 0.0001, Time: 37s\n",
      "Epoch 59/200, Cost: 0.368, Val Error: 10.34%, lr: 0.0001, Time: 35s\n",
      "Epoch 60/200, Cost: 0.341, Val Error: 11.05%, lr: 0.0001, Time: 35s\n",
      "Epoch 61/200, Cost: 0.335, Val Error: 10.80%, lr: 0.0001, Time: 36s\n",
      "Epoch 62/200, Cost: 0.316, Val Error: 10.29%, lr: 0.0001, Time: 35s\n",
      "Epoch 63/200, Cost: 0.299, Val Error: 10.65%, lr: 0.0001, Time: 36s\n",
      "Epoch 64/200, Cost: 0.296, Val Error: 10.95%, lr: 0.0001, Time: 34s\n",
      "Epoch 65/200, Cost: 0.294, Val Error: 10.95%, lr: 0.0001, Time: 35s\n",
      "Epoch 66/200, Cost: 0.285, Val Error: 10.44%, lr: 0.0001, Time: 35s\n",
      "Epoch 67/200, Cost: 0.294, Val Error: 10.19%, lr: 0.0001, Time: 35s\n",
      "Epoch 68/200, Cost: 0.263, Val Error: 10.44%, lr: 0.0001, Time: 35s\n",
      "Epoch 69/200, Cost: 0.274, Val Error: 10.49%, lr: 0.0001, Time: 35s\n",
      "Epoch 70/200, Cost: 0.267, Val Error: 10.34%, lr: 0.0001, Time: 36s\n",
      "Epoch 71/200, Cost: 0.272, Val Error: 10.04%, lr: 0.0001, Time: 35s\n",
      "Epoch 72/200, Cost: 0.272, Val Error: 10.09%, lr: 0.0001, Time: 36s\n",
      "Epoch 73/200, Cost: 0.244, Val Error: 10.04%, lr: 0.0001, Time: 36s\n",
      "Epoch 74/200, Cost: 0.269, Val Error: 9.58%, lr: 0.0001, Time: 36s\n",
      "Epoch 75/200, Cost: 0.257, Val Error: 10.49%, lr: 0.0001, Time: 35s\n",
      "Epoch 76/200, Cost: 0.263, Val Error: 10.49%, lr: 0.0001, Time: 35s\n",
      "Epoch 77/200, Cost: 0.253, Val Error: 10.65%, lr: 0.0001, Time: 36s\n",
      "Epoch 78/200, Cost: 0.243, Val Error: 11.41%, lr: 0.0001, Time: 36s\n",
      "Epoch 79/200, Cost: 0.253, Val Error: 10.75%, lr: 0.0001, Time: 37s\n",
      "Epoch 80/200, Cost: 0.257, Val Error: 11.16%, lr: 0.0001, Time: 37s\n",
      "Epoch 81/200, Cost: 0.240, Val Error: 10.04%, lr: 0.0001, Time: 36s\n",
      "Epoch 82/200, Cost: 0.244, Val Error: 9.63%, lr: 0.0001, Time: 36s\n",
      "Epoch 83/200, Cost: 0.254, Val Error: 10.60%, lr: 0.0001, Time: 36s\n",
      "Epoch 84/200, Cost: 0.230, Val Error: 10.04%, lr: 0.0001, Time: 36s\n",
      "Epoch 85/200, Cost: 0.241, Val Error: 10.09%, lr: 0.0001, Time: 36s\n",
      "Epoch 86/200, Cost: 0.228, Val Error: 11.00%, lr: 0.0001, Time: 37s\n",
      "Epoch 87/200, Cost: 0.232, Val Error: 9.58%, lr: 0.0001, Time: 36s\n",
      "Epoch 88/200, Cost: 0.215, Val Error: 10.39%, lr: 0.0001, Time: 36s\n",
      "Epoch 89/200, Cost: 0.229, Val Error: 9.98%, lr: 0.0001, Time: 36s\n",
      "Epoch 90/200, Cost: 0.222, Val Error: 10.80%, lr: 0.0001, Time: 36s\n",
      "Epoch 91/200, Cost: 0.227, Val Error: 11.41%, lr: 0.0001, Time: 35s\n",
      "Epoch 92/200, Cost: 0.235, Val Error: 10.04%, lr: 0.0001, Time: 35s\n",
      "Epoch 93/200, Cost: 0.219, Val Error: 10.24%, lr: 0.0001, Time: 35s\n",
      "Epoch 94/200, Cost: 0.218, Val Error: 10.24%, lr: 0.0001, Time: 36s\n",
      "Epoch 95/200, Cost: 0.225, Val Error: 9.93%, lr: 1e-05, Time: 36s\n",
      "Epoch 96/200, Cost: 0.195, Val Error: 9.68%, lr: 1e-05, Time: 35s\n",
      "Epoch 97/200, Cost: 0.200, Val Error: 9.53%, lr: 1e-05, Time: 35s\n",
      "Epoch 98/200, Cost: 0.201, Val Error: 9.17%, lr: 1e-05, Time: 35s\n",
      "Epoch 99/200, Cost: 0.190, Val Error: 9.02%, lr: 1e-05, Time: 36s\n",
      "Epoch 100/200, Cost: 0.187, Val Error: 9.27%, lr: 1e-05, Time: 35s\n",
      "Epoch 101/200, Cost: 0.192, Val Error: 9.07%, lr: 1e-05, Time: 35s\n",
      "Epoch 102/200, Cost: 0.194, Val Error: 8.86%, lr: 1e-05, Time: 35s\n",
      "Epoch 103/200, Cost: 0.187, Val Error: 8.66%, lr: 1e-05, Time: 36s\n",
      "Epoch 104/200, Cost: 0.188, Val Error: 9.12%, lr: 1e-05, Time: 34s\n",
      "Epoch 105/200, Cost: 0.177, Val Error: 9.12%, lr: 1e-05, Time: 35s\n",
      "Epoch 106/200, Cost: 0.185, Val Error: 8.91%, lr: 1e-05, Time: 36s\n",
      "Epoch 107/200, Cost: 0.184, Val Error: 9.17%, lr: 1e-05, Time: 36s\n",
      "Epoch 108/200, Cost: 0.172, Val Error: 9.02%, lr: 1e-05, Time: 36s\n",
      "Epoch 109/200, Cost: 0.182, Val Error: 8.91%, lr: 1e-05, Time: 36s\n",
      "Epoch 110/200, Cost: 0.188, Val Error: 8.81%, lr: 1e-05, Time: 36s\n",
      "Epoch 111/200, Cost: 0.176, Val Error: 8.81%, lr: 1e-05, Time: 36s\n",
      "Epoch 112/200, Cost: 0.176, Val Error: 9.42%, lr: 1e-05, Time: 36s\n",
      "Epoch 113/200, Cost: 0.174, Val Error: 9.12%, lr: 1e-05, Time: 36s\n",
      "Epoch 114/200, Cost: 0.186, Val Error: 9.27%, lr: 1e-05, Time: 37s\n",
      "Epoch 115/200, Cost: 0.180, Val Error: 8.86%, lr: 1e-05, Time: 37s\n",
      "Epoch 116/200, Cost: 0.184, Val Error: 8.91%, lr: 1e-05, Time: 37s\n",
      "Epoch 117/200, Cost: 0.173, Val Error: 9.07%, lr: 1e-05, Time: 36s\n",
      "Epoch 118/200, Cost: 0.176, Val Error: 9.12%, lr: 1e-05, Time: 36s\n",
      "Epoch 119/200, Cost: 0.177, Val Error: 9.17%, lr: 1e-05, Time: 36s\n",
      "Epoch 120/200, Cost: 0.167, Val Error: 9.07%, lr: 1e-05, Time: 36s\n",
      "Epoch 121/200, Cost: 0.176, Val Error: 9.32%, lr: 1e-05, Time: 36s\n",
      "Epoch 122/200, Cost: 0.176, Val Error: 9.32%, lr: 1e-05, Time: 36s\n",
      "Epoch 123/200, Cost: 0.174, Val Error: 9.37%, lr: 1e-05, Time: 36s\n",
      "Epoch 124/200, Cost: 0.178, Val Error: 9.32%, lr: 1.0000000000000002e-06, Time: 36s\n",
      "Epoch 125/200, Cost: 0.174, Val Error: 9.42%, lr: 1.0000000000000002e-06, Time: 36s\n",
      "Epoch 126/200, Cost: 0.177, Val Error: 9.37%, lr: 1.0000000000000002e-06, Time: 36s\n",
      "Epoch 127/200, Cost: 0.175, Val Error: 9.42%, lr: 1.0000000000000002e-06, Time: 36s\n",
      "Epoch 128/200, Cost: 0.179, Val Error: 9.02%, lr: 1.0000000000000002e-06, Time: 36s\n",
      "Epoch 129/200, Cost: 0.183, Val Error: 9.42%, lr: 1.0000000000000002e-06, Time: 36s\n",
      "Epoch 130/200, Cost: 0.177, Val Error: 9.12%, lr: 1.0000000000000002e-06, Time: 36s\n",
      "Epoch 131/200, Cost: 0.172, Val Error: 9.22%, lr: 1.0000000000000002e-06, Time: 35s\n",
      "Epoch 132/200, Cost: 0.170, Val Error: 9.17%, lr: 1.0000000000000002e-06, Time: 36s\n",
      "Epoch 133/200, Cost: 0.153, Val Error: 9.32%, lr: 1.0000000000000002e-06, Time: 36s\n",
      "Epoch 134/200, Cost: 0.172, Val Error: 9.17%, lr: 1.0000000000000002e-06, Time: 36s\n",
      "Epoch 135/200, Cost: 0.176, Val Error: 9.07%, lr: 1.0000000000000002e-06, Time: 36s\n",
      "Epoch 136/200, Cost: 0.179, Val Error: 9.17%, lr: 1.0000000000000002e-06, Time: 36s\n",
      "Epoch 137/200, Cost: 0.170, Val Error: 9.17%, lr: 1.0000000000000002e-06, Time: 36s\n",
      "Epoch 138/200, Cost: 0.175, Val Error: 9.12%, lr: 1.0000000000000002e-06, Time: 36s\n",
      "Epoch 139/200, Cost: 0.174, Val Error: 9.42%, lr: 1.0000000000000002e-06, Time: 36s\n",
      "Epoch 140/200, Cost: 0.165, Val Error: 9.27%, lr: 1.0000000000000002e-06, Time: 35s\n",
      "Epoch 141/200, Cost: 0.177, Val Error: 9.17%, lr: 1.0000000000000002e-06, Time: 36s\n",
      "Epoch 142/200, Cost: 0.170, Val Error: 9.17%, lr: 1.0000000000000002e-06, Time: 36s\n",
      "Epoch 143/200, Cost: 0.172, Val Error: 9.22%, lr: 1.0000000000000002e-06, Time: 37s\n",
      "Epoch 144/200, Cost: 0.184, Val Error: 9.12%, lr: 1.0000000000000002e-06, Time: 36s\n",
      "Epoch 145/200, Cost: 0.174, Val Error: 9.17%, lr: 1.0000000000000002e-07, Time: 37s\n",
      "Epoch 146/200, Cost: 0.177, Val Error: 9.12%, lr: 1.0000000000000002e-07, Time: 36s\n",
      "Epoch 147/200, Cost: 0.168, Val Error: 9.17%, lr: 1.0000000000000002e-07, Time: 36s\n",
      "Epoch 148/200, Cost: 0.184, Val Error: 9.42%, lr: 1.0000000000000002e-07, Time: 36s\n",
      "Epoch 149/200, Cost: 0.175, Val Error: 9.17%, lr: 1.0000000000000002e-07, Time: 36s\n",
      "Epoch 150/200, Cost: 0.171, Val Error: 9.22%, lr: 1.0000000000000002e-07, Time: 37s\n",
      "Epoch 151/200, Cost: 0.168, Val Error: 9.22%, lr: 1.0000000000000002e-07, Time: 36s\n",
      "Epoch 152/200, Cost: 0.182, Val Error: 9.22%, lr: 1.0000000000000002e-07, Time: 36s\n",
      "Epoch 153/200, Cost: 0.181, Val Error: 9.48%, lr: 1.0000000000000002e-07, Time: 36s\n",
      "Epoch 154/200, Cost: 0.181, Val Error: 8.97%, lr: 1.0000000000000002e-07, Time: 36s\n",
      "Epoch 155/200, Cost: 0.176, Val Error: 9.07%, lr: 1.0000000000000002e-07, Time: 36s\n",
      "Epoch 156/200, Cost: 0.179, Val Error: 9.17%, lr: 1.0000000000000002e-07, Time: 36s\n",
      "Epoch 157/200, Cost: 0.179, Val Error: 9.37%, lr: 1.0000000000000002e-07, Time: 36s\n",
      "Epoch 158/200, Cost: 0.168, Val Error: 9.48%, lr: 1.0000000000000002e-07, Time: 35s\n",
      "Epoch 159/200, Cost: 0.173, Val Error: 9.22%, lr: 1.0000000000000002e-07, Time: 36s\n",
      "Epoch 160/200, Cost: 0.167, Val Error: 8.97%, lr: 1.0000000000000002e-07, Time: 37s\n",
      "Epoch 161/200, Cost: 0.178, Val Error: 9.22%, lr: 1.0000000000000002e-07, Time: 36s\n",
      "Epoch 162/200, Cost: 0.173, Val Error: 9.12%, lr: 1.0000000000000002e-07, Time: 36s\n",
      "Epoch 163/200, Cost: 0.166, Val Error: 9.17%, lr: 1.0000000000000002e-07, Time: 37s\n",
      "Epoch 164/200, Cost: 0.176, Val Error: 9.02%, lr: 1.0000000000000002e-07, Time: 36s\n",
      "Epoch 165/200, Cost: 0.165, Val Error: 9.17%, lr: 1.0000000000000002e-07, Time: 36s\n",
      "Epoch 166/200, Cost: 0.178, Val Error: 8.97%, lr: 1.0000000000000004e-08, Time: 36s\n",
      "Epoch 167/200, Cost: 0.178, Val Error: 9.02%, lr: 1.0000000000000004e-08, Time: 37s\n",
      "Epoch 168/200, Cost: 0.166, Val Error: 9.02%, lr: 1.0000000000000004e-08, Time: 36s\n",
      "Epoch 169/200, Cost: 0.179, Val Error: 9.12%, lr: 1.0000000000000004e-08, Time: 36s\n",
      "Epoch 170/200, Cost: 0.179, Val Error: 9.27%, lr: 1.0000000000000004e-08, Time: 36s\n",
      "Epoch 171/200, Cost: 0.185, Val Error: 9.12%, lr: 1.0000000000000004e-08, Time: 36s\n",
      "Epoch 172/200, Cost: 0.176, Val Error: 9.02%, lr: 1.0000000000000004e-08, Time: 37s\n",
      "Epoch 173/200, Cost: 0.179, Val Error: 9.17%, lr: 1.0000000000000004e-08, Time: 36s\n",
      "Epoch 174/200, Cost: 0.182, Val Error: 9.12%, lr: 1.0000000000000004e-08, Time: 36s\n",
      "Epoch 175/200, Cost: 0.179, Val Error: 9.12%, lr: 1.0000000000000004e-08, Time: 36s\n",
      "Epoch 176/200, Cost: 0.178, Val Error: 8.91%, lr: 1.0000000000000004e-08, Time: 36s\n",
      "Epoch 177/200, Cost: 0.178, Val Error: 9.32%, lr: 1.0000000000000004e-08, Time: 36s\n",
      "Epoch 178/200, Cost: 0.177, Val Error: 9.07%, lr: 1.0000000000000004e-08, Time: 36s\n",
      "Epoch 179/200, Cost: 0.180, Val Error: 9.07%, lr: 1.0000000000000004e-08, Time: 36s\n",
      "Epoch 180/200, Cost: 0.168, Val Error: 9.22%, lr: 1.0000000000000004e-08, Time: 36s\n",
      "Epoch 181/200, Cost: 0.178, Val Error: 8.97%, lr: 1.0000000000000004e-08, Time: 36s\n",
      "Epoch 182/200, Cost: 0.179, Val Error: 9.22%, lr: 1.0000000000000004e-08, Time: 36s\n",
      "Epoch 183/200, Cost: 0.180, Val Error: 9.02%, lr: 1.0000000000000004e-08, Time: 36s\n",
      "Epoch 184/200, Cost: 0.170, Val Error: 9.22%, lr: 1.0000000000000004e-08, Time: 36s\n",
      "Epoch 185/200, Cost: 0.177, Val Error: 8.91%, lr: 1.0000000000000004e-08, Time: 36s\n",
      "Epoch 186/200, Cost: 0.178, Val Error: 9.27%, lr: 1.0000000000000004e-08, Time: 36s\n",
      "Epoch 187/200, Cost: 0.176, Val Error: 9.02%, lr: 1.0000000000000004e-08, Time: 36s\n",
      "Epoch 188/200, Cost: 0.179, Val Error: 9.12%, lr: 1.0000000000000004e-08, Time: 36s\n",
      "Epoch 189/200, Cost: 0.169, Val Error: 9.27%, lr: 1.0000000000000004e-08, Time: 36s\n",
      "Epoch 190/200, Cost: 0.173, Val Error: 9.37%, lr: 1.0000000000000004e-08, Time: 36s\n",
      "Epoch 191/200, Cost: 0.172, Val Error: 8.97%, lr: 1.0000000000000004e-08, Time: 36s\n",
      "Epoch 192/200, Cost: 0.177, Val Error: 9.22%, lr: 1.0000000000000004e-08, Time: 36s\n",
      "Epoch 193/200, Cost: 0.174, Val Error: 9.27%, lr: 1.0000000000000004e-08, Time: 36s\n",
      "Epoch 194/200, Cost: 0.165, Val Error: 9.02%, lr: 1.0000000000000004e-08, Time: 36s\n",
      "Epoch 195/200, Cost: 0.181, Val Error: 9.42%, lr: 1.0000000000000004e-08, Time: 36s\n",
      "Epoch 196/200, Cost: 0.161, Val Error: 9.27%, lr: 1.0000000000000004e-08, Time: 36s\n",
      "Epoch 197/200, Cost: 0.181, Val Error: 9.02%, lr: 1.0000000000000004e-08, Time: 36s\n",
      "Epoch 198/200, Cost: 0.173, Val Error: 8.86%, lr: 1.0000000000000004e-08, Time: 36s\n",
      "Epoch 199/200, Cost: 0.170, Val Error: 9.12%, lr: 1.0000000000000004e-08, Time: 37s\n",
      "Epoch 200/200, Cost: 0.177, Val Error: 9.02%, lr: 1.0000000000000004e-08, Time: 37s\n",
      "Training time: 120m\n"
     ]
    }
   ],
   "source": [
    "costs, val_error_rates, learning_rates = train(\n",
    "    compiled_model,\n",
    "    train_dataset=train_dataset,\n",
    "    cv_dataset=val_dataset,\n",
    "    batch_size=128,\n",
    "    num_epochs=200,\n",
    "    initial_lr=0.001,\n",
    "    num_workers=3,\n",
    "    patience=20,\n",
    "    optimizer='adam'\n",
    ")"
   ]
  },
  {
   "cell_type": "code",
   "execution_count": 6,
   "id": "dbec69c0",
   "metadata": {
    "execution": {
     "iopub.execute_input": "2024-12-04T19:21:02.415121Z",
     "iopub.status.busy": "2024-12-04T19:21:02.414405Z",
     "iopub.status.idle": "2024-12-04T19:21:02.907395Z",
     "shell.execute_reply": "2024-12-04T19:21:02.906437Z"
    },
    "papermill": {
     "duration": 0.509204,
     "end_time": "2024-12-04T19:21:02.909490",
     "exception": false,
     "start_time": "2024-12-04T19:21:02.400286",
     "status": "completed"
    },
    "tags": []
   },
   "outputs": [],
   "source": [
    "torch.save(model.state_dict(), 'improved_imagenette.model.pt')\n",
    "torch.save(preprocess, 'improved_imagenette.preprocess.pt')\n",
    "torch.save(train_augment, 'improved_imagenette.train_augment.pt')"
   ]
  },
  {
   "cell_type": "code",
   "execution_count": 7,
   "id": "eaf76a5f",
   "metadata": {
    "execution": {
     "iopub.execute_input": "2024-12-04T19:21:02.938649Z",
     "iopub.status.busy": "2024-12-04T19:21:02.938344Z",
     "iopub.status.idle": "2024-12-04T19:21:48.978779Z",
     "shell.execute_reply": "2024-12-04T19:21:48.977665Z"
    },
    "papermill": {
     "duration": 46.069808,
     "end_time": "2024-12-04T19:21:48.993846",
     "exception": false,
     "start_time": "2024-12-04T19:21:02.924038",
     "status": "completed"
    },
    "tags": []
   },
   "outputs": [
    {
     "name": "stdout",
     "output_type": "stream",
     "text": [
      "Test Top 1: 0.8960244648318043\n",
      "Test Top 5: 0.9908256880733946\n",
      "Val Top 1: 0.9098318899643403\n",
      "Val Top 5: 0.9908303616912888\n",
      "Train Top 1: 0.999894392227268\n",
      "Train Top 5: 1.0\n"
     ]
    }
   ],
   "source": [
    "test_top1, test_top5 = top1_k(compiled_model, test_dataset, k=5)\n",
    "print(f'Test Top 1: {test_top1}')\n",
    "print(f'Test Top 5: {test_top5}')\n",
    "\n",
    "val_top1, val_top5 = top1_k(compiled_model, val_dataset, k=5)\n",
    "print(f'Val Top 1: {val_top1}')\n",
    "print(f'Val Top 5: {val_top5}')\n",
    "\n",
    "train_eval_dataset = datasets.Imagenette(\n",
    "    'datasets/imagenette', split='train', size='320px', transform=preprocess)\n",
    "train_top1, train_top5 = top1_k(compiled_model, train_eval_dataset, k=5)\n",
    "print(f'Train Top 1: {train_top1}')\n",
    "print(f'Train Top 5: {train_top5}')"
   ]
  },
  {
   "cell_type": "code",
   "execution_count": 8,
   "id": "b3029b61",
   "metadata": {
    "execution": {
     "iopub.execute_input": "2024-12-04T19:21:49.021054Z",
     "iopub.status.busy": "2024-12-04T19:21:49.020738Z",
     "iopub.status.idle": "2024-12-04T19:21:49.288843Z",
     "shell.execute_reply": "2024-12-04T19:21:49.287895Z"
    },
    "papermill": {
     "duration": 0.283632,
     "end_time": "2024-12-04T19:21:49.290430",
     "exception": false,
     "start_time": "2024-12-04T19:21:49.006798",
     "status": "completed"
    },
    "tags": []
   },
   "outputs": [
    {
     "data": {
      "text/plain": [
       "Text(0.5, 1.0, 'Costs')"
      ]
     },
     "execution_count": 8,
     "metadata": {},
     "output_type": "execute_result"
    },
    {
     "data": {
      "image/png": "[encoded data removed]",
      "text/plain": [
       "<Figure size 640x480 with 1 Axes>"
      ]
     },
     "metadata": {},
     "output_type": "display_data"
    }
   ],
   "source": [
    "plt.plot(costs)\n",
    "plt.xlabel(\"Epoch\")\n",
    "plt.title('Costs')"
   ]
  },
  {
   "cell_type": "code",
   "execution_count": 9,
   "id": "8d2850d8",
   "metadata": {
    "execution": {
     "iopub.execute_input": "2024-12-04T19:21:49.318985Z",
     "iopub.status.busy": "2024-12-04T19:21:49.318738Z",
     "iopub.status.idle": "2024-12-04T19:21:49.682747Z",
     "shell.execute_reply": "2024-12-04T19:21:49.681846Z"
    },
    "papermill": {
     "duration": 0.380248,
     "end_time": "2024-12-04T19:21:49.684379",
     "exception": false,
     "start_time": "2024-12-04T19:21:49.304131",
     "status": "completed"
    },
    "tags": []
   },
   "outputs": [
    {
     "data": {
      "text/plain": [
       "Text(0.5, 1.0, 'Cross Validation Error Rates')"
      ]
     },
     "execution_count": 9,
     "metadata": {},
     "output_type": "execute_result"
    },
    {
     "data": {
      "image/png": "[encoded data removed]",
      "text/plain": [
       "<Figure size 640x480 with 1 Axes>"
      ]
     },
     "metadata": {},
     "output_type": "display_data"
    }
   ],
   "source": [
    "plt.plot(val_error_rates)\n",
    "plt.xlabel(\"Epoch\")\n",
    "plt.title('Cross Validation Error Rates')"
   ]
  },
  {
   "cell_type": "code",
   "execution_count": 10,
   "id": "d0b9dfc7",
   "metadata": {
    "execution": {
     "iopub.execute_input": "2024-12-04T19:21:49.714542Z",
     "iopub.status.busy": "2024-12-04T19:21:49.713762Z",
     "iopub.status.idle": "2024-12-04T19:21:49.969622Z",
     "shell.execute_reply": "2024-12-04T19:21:49.968754Z"
    },
    "papermill": {
     "duration": 0.27248,
     "end_time": "2024-12-04T19:21:49.971245",
     "exception": false,
     "start_time": "2024-12-04T19:21:49.698765",
     "status": "completed"
    },
    "tags": []
   },
   "outputs": [
    {
     "data": {
      "text/plain": [
       "Text(0.5, 1.0, 'Learning Rates')"
      ]
     },
     "execution_count": 10,
     "metadata": {},
     "output_type": "execute_result"
    },
    {
     "data": {
      "image/png": "[encoded data removed]",
      "text/plain": [
       "<Figure size 640x480 with 1 Axes>"
      ]
     },
     "metadata": {},
     "output_type": "display_data"
    }
   ],
   "source": [
    "import math\n",
    "\n",
    "plt.plot([math.log10(lr) for lr in learning_rates])\n",
    "plt.ylabel(\"Log10(lr)\")\n",
    "plt.xlabel(\"Epoch\")\n",
    "plt.title('Learning Rates')"
   ]
  }
 ],
 "metadata": {
  "kaggle": {
   "accelerator": "none",
   "dataSources": [
    {
     "isSourceIdPinned": true,
     "modelId": 181947,
     "modelInstanceId": 159601,
     "sourceId": 187191,
     "sourceType": "modelInstanceVersion"
    }
   ],
   "dockerImageVersionId": 30787,
   "isGpuEnabled": false,
   "isInternetEnabled": true,
   "language": "python",
   "sourceType": "notebook"
  },
  "kernelspec": {
   "display_name": "Python 3",
   "language": "python",
   "name": "python3"
  },
  "language_info": {
   "codemirror_mode": {
    "name": "ipython",
    "version": 3
   },
   "file_extension": ".py",
   "mimetype": "text/x-python",
   "name": "python",
   "nbconvert_exporter": "python",
   "pygments_lexer": "ipython3",
   "version": "3.10.14"
  },
  "papermill": {
   "default_parameters": {},
   "duration": 7314.854844,
   "end_time": "2024-12-04T19:21:51.407472",
   "environment_variables": {},
   "exception": null,
   "input_path": "__notebook__.ipynb",
   "output_path": "__notebook__.ipynb",
   "parameters": {},
   "start_time": "2024-12-04T17:19:56.552628",
   "version": "2.6.0"
  }
 },
 "nbformat": 4,
 "nbformat_minor": 5
}
