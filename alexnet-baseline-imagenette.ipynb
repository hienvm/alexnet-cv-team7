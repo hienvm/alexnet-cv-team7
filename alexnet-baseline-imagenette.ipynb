{
 "cells": [
  {
   "cell_type": "code",
   "execution_count": null,
   "id": "8432401a",
   "metadata": {
    "execution": {
     "iopub.execute_input": "2024-11-25T08:58:31.750832Z",
     "iopub.status.busy": "2024-11-25T08:58:31.750501Z",
     "iopub.status.idle": "2024-11-25T08:58:36.261641Z",
     "shell.execute_reply": "2024-11-25T08:58:36.260703Z"
    },
    "papermill": {
     "duration": 4.517253,
     "end_time": "2024-11-25T08:58:36.263737",
     "exception": false,
     "start_time": "2024-11-25T08:58:31.746484",
     "status": "completed"
    },
    "tags": []
   },
   "outputs": [],
   "source": [
    "import sys\n",
    "sys.path.append('/kaggle/input/alexnet/pytorch/baseline/1')\n",
    "import torch\n",
    "import torch.nn as nn\n",
    "from torchvision import datasets\n",
    "from baseline.model import AlexNetBaseline, init_params\n",
    "from baseline.data_transforms import prepreprocess, get_preprocess, get_train_augment\n",
    "from baseline.train import train\n",
    "import matplotlib.pyplot as plt\n",
    "from baseline.eval import top1_k "
   ]
  },
  {
   "cell_type": "code",
   "execution_count": null,
   "id": "032c844d",
   "metadata": {
    "execution": {
     "iopub.execute_input": "2024-11-25T08:58:36.269899Z",
     "iopub.status.busy": "2024-11-25T08:58:36.269547Z",
     "iopub.status.idle": "2024-11-25T08:58:36.279850Z",
     "shell.execute_reply": "2024-11-25T08:58:36.278988Z"
    },
    "papermill": {
     "duration": 0.015032,
     "end_time": "2024-11-25T08:58:36.281477",
     "exception": false,
     "start_time": "2024-11-25T08:58:36.266445",
     "status": "completed"
    },
    "tags": []
   },
   "outputs": [],
   "source": [
    "torch.manual_seed(0)\n",
    "device = torch.device(\"cuda\" if torch.cuda.is_available() else \"cpu\")\n",
    "print(device)"
   ]
  },
  {
   "cell_type": "code",
   "execution_count": null,
   "id": "38441630",
   "metadata": {
    "execution": {
     "iopub.execute_input": "2024-11-25T08:58:36.287362Z",
     "iopub.status.busy": "2024-11-25T08:58:36.286736Z",
     "iopub.status.idle": "2024-11-25T08:59:35.700665Z",
     "shell.execute_reply": "2024-11-25T08:59:35.699599Z"
    },
    "papermill": {
     "duration": 59.419023,
     "end_time": "2024-11-25T08:59:35.702780",
     "exception": false,
     "start_time": "2024-11-25T08:58:36.283757",
     "status": "completed"
    },
    "tags": []
   },
   "outputs": [],
   "source": [
    "train_dataset = datasets.Imagenette(\n",
    "    'datasets/imagenette', split='train', size='320px', download=True, transform=prepreprocess)\n",
    "preprocess = get_preprocess(train_dataset)\n",
    "train_augment = get_train_augment(train_dataset)\n",
    "train_dataset = datasets.Imagenette(\n",
    "    'datasets/imagenette', split='train', size='320px', transform=train_augment)\n",
    "\n",
    "val_dataset = datasets.Imagenette(\n",
    "    'datasets/imagenette', split='val', size='320px',transform=preprocess)\n",
    "val_dataset, test_dataset = torch.utils.data.random_split(val_dataset, [0.5, 0.5])\n",
    "\n",
    "print(f'Train: {len(train_dataset)}')\n",
    "print(f'Validation: {len(val_dataset)}')\n",
    "print(f'Test: {len(test_dataset)}')"
   ]
  },
  {
   "cell_type": "code",
   "execution_count": null,
   "id": "9182e039",
   "metadata": {
    "execution": {
     "iopub.execute_input": "2024-11-25T08:59:35.717579Z",
     "iopub.status.busy": "2024-11-25T08:59:35.717266Z",
     "iopub.status.idle": "2024-11-25T08:59:35.732223Z",
     "shell.execute_reply": "2024-11-25T08:59:35.731384Z"
    },
    "papermill": {
     "duration": 0.023591,
     "end_time": "2024-11-25T08:59:35.733833",
     "exception": false,
     "start_time": "2024-11-25T08:59:35.710242",
     "status": "completed"
    },
    "tags": []
   },
   "outputs": [],
   "source": [
    "model = AlexNetBaseline(len(train_dataset.classes))\n",
    "if torch.cuda.device_count() > 1:\n",
    "    print(f'Using {torch.cuda.device_count()} GPUs.')\n",
    "    model = nn.DataParallel(model)\n",
    "model.to(device)\n",
    "# initialize parameters\n",
    "init_params(model)\n",
    "compiled_model = model\n",
    "# if torch.cuda.is_available():\n",
    "#     compiled_model = torch.compile(model)"
   ]
  },
  {
   "cell_type": "code",
   "execution_count": null,
   "id": "cd07bd77",
   "metadata": {
    "execution": {
     "iopub.execute_input": "2024-11-25T08:59:35.746653Z",
     "iopub.status.busy": "2024-11-25T08:59:35.746383Z",
     "iopub.status.idle": "2024-11-25T10:48:11.475438Z",
     "shell.execute_reply": "2024-11-25T10:48:11.474297Z"
    },
    "papermill": {
     "duration": 6515.751479,
     "end_time": "2024-11-25T10:48:11.491321",
     "exception": false,
     "start_time": "2024-11-25T08:59:35.739842",
     "status": "completed"
    },
    "tags": []
   },
   "outputs": [],
   "source": [
    "costs, val_error_rates, learning_rates = train(\n",
    "    compiled_model,\n",
    "    train_dataset=train_dataset,\n",
    "    cv_dataset=val_dataset,\n",
    "    batch_size=128,\n",
    "    num_epochs=200,\n",
    "    initial_lr=0.01,\n",
    "    num_workers=3\n",
    ")"
   ]
  },
  {
   "cell_type": "code",
   "execution_count": null,
   "id": "4e351b14",
   "metadata": {
    "execution": {
     "iopub.execute_input": "2024-11-25T10:48:11.521476Z",
     "iopub.status.busy": "2024-11-25T10:48:11.521113Z",
     "iopub.status.idle": "2024-11-25T10:48:12.009425Z",
     "shell.execute_reply": "2024-11-25T10:48:12.008469Z"
    },
    "papermill": {
     "duration": 0.505776,
     "end_time": "2024-11-25T10:48:12.011377",
     "exception": false,
     "start_time": "2024-11-25T10:48:11.505601",
     "status": "completed"
    },
    "tags": []
   },
   "outputs": [],
   "source": [
    "torch.save(model.state_dict(), 'baseline_imagenette.model.pt')\n",
    "torch.save(preprocess, 'baseline_imagenette.preprocess.pt')\n",
    "torch.save(train_augment, 'baseline_imagenette.train_augment.pt')"
   ]
  },
  {
   "cell_type": "code",
   "execution_count": null,
   "id": "c3d27f64",
   "metadata": {
    "execution": {
     "iopub.execute_input": "2024-11-25T10:48:12.042910Z",
     "iopub.status.busy": "2024-11-25T10:48:12.042079Z",
     "iopub.status.idle": "2024-11-25T10:48:23.084616Z",
     "shell.execute_reply": "2024-11-25T10:48:23.083316Z"
    },
    "papermill": {
     "duration": 11.060347,
     "end_time": "2024-11-25T10:48:23.086130",
     "exception": true,
     "start_time": "2024-11-25T10:48:12.025783",
     "status": "failed"
    },
    "tags": []
   },
   "outputs": [],
   "source": [
    "test_top1, test_top5 = top1_k(compiled_model, test_dataset, k=5)\n",
    "print(f'Test Top 1: {test_top1}')\n",
    "print(f'Test Top 5: {test_top5}')\n",
    "\n",
    "val_top1, val_top5 = top1_k(compiled_model, val_dataset, k=5)\n",
    "print(f'Val Top 1: {val_top1}')\n",
    "print(f'Val Top 5: {val_top5}')\n",
    "\n",
    "train_eval_dataset = datasets.Imagenette(\n",
    "    'datasets/imagenette', split='train', size='320px', transform=preprocess)\n",
    "train_top1, train_top5 = top1_k(compiled_model, train_eval_dataset, k=5)\n",
    "print(f'Val Top 1: {train_top1}')\n",
    "print(f'Val Top 5: {train_top5}')"
   ]
  },
  {
   "cell_type": "code",
   "execution_count": null,
   "id": "701c4a6c",
   "metadata": {
    "execution": {
     "iopub.status.busy": "2024-11-25T08:32:29.369185Z",
     "iopub.status.idle": "2024-11-25T08:32:29.369634Z",
     "shell.execute_reply": "2024-11-25T08:32:29.369470Z",
     "shell.execute_reply.started": "2024-11-25T08:32:29.369452Z"
    },
    "papermill": {
     "duration": null,
     "end_time": null,
     "exception": null,
     "start_time": null,
     "status": "pending"
    },
    "tags": []
   },
   "outputs": [],
   "source": [
    "plt.plot(costs)\n",
    "plt.xlabel(\"Epoch\")\n",
    "plt.title('Costs')"
   ]
  },
  {
   "cell_type": "code",
   "execution_count": null,
   "id": "3cb629cf",
   "metadata": {
    "execution": {
     "iopub.status.busy": "2024-11-25T08:32:29.370878Z",
     "iopub.status.idle": "2024-11-25T08:32:29.371216Z",
     "shell.execute_reply": "2024-11-25T08:32:29.371028Z",
     "shell.execute_reply.started": "2024-11-25T08:32:29.371015Z"
    },
    "papermill": {
     "duration": null,
     "end_time": null,
     "exception": null,
     "start_time": null,
     "status": "pending"
    },
    "tags": []
   },
   "outputs": [],
   "source": [
    "plt.plot(val_error_rates)\n",
    "plt.xlabel(\"Epoch\")\n",
    "plt.title('Cross Validation Error Rates')"
   ]
  },
  {
   "cell_type": "code",
   "execution_count": null,
   "id": "eeba2247",
   "metadata": {
    "execution": {
     "iopub.status.busy": "2024-11-25T08:32:29.372491Z",
     "iopub.status.idle": "2024-11-25T08:32:29.372830Z",
     "shell.execute_reply": "2024-11-25T08:32:29.372703Z",
     "shell.execute_reply.started": "2024-11-25T08:32:29.372688Z"
    },
    "papermill": {
     "duration": null,
     "end_time": null,
     "exception": null,
     "start_time": null,
     "status": "pending"
    },
    "tags": []
   },
   "outputs": [],
   "source": [
    "plt.plot(learning_rates)\n",
    "plt.xlabel(\"Epoch\")\n",
    "plt.title('Learning Rates')"
   ]
  }
 ],
 "metadata": {
  "kaggle": {
   "accelerator": "gpu",
   "dataSources": [
    {
     "isSourceIdPinned": true,
     "modelId": 173987,
     "modelInstanceId": 151535,
     "sourceId": 177880,
     "sourceType": "modelInstanceVersion"
    }
   ],
   "dockerImageVersionId": 30786,
   "isGpuEnabled": true,
   "isInternetEnabled": true,
   "language": "python",
   "sourceType": "notebook"
  },
  "kernelspec": {
   "display_name": "torch",
   "language": "python",
   "name": "python3"
  },
  "language_info": {
   "codemirror_mode": {
    "name": "ipython",
    "version": 3
   },
   "file_extension": ".py",
   "mimetype": "text/x-python",
   "name": "python",
   "nbconvert_exporter": "python",
   "pygments_lexer": "ipython3",
   "version": "3.12.3"
  },
  "papermill": {
   "default_parameters": {},
   "duration": 6595.208725,
   "end_time": "2024-11-25T10:48:24.522209",
   "environment_variables": {},
   "exception": true,
   "input_path": "__notebook__.ipynb",
   "output_path": "__notebook__.ipynb",
   "parameters": {},
   "start_time": "2024-11-25T08:58:29.313484",
   "version": "2.6.0"
  }
 },
 "nbformat": 4,
 "nbformat_minor": 5
}
