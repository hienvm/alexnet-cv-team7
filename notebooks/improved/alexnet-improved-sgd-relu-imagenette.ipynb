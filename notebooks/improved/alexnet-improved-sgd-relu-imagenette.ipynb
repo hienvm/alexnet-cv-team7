{
 "cells": [
  {
   "cell_type": "code",
   "execution_count": 1,
   "id": "774119b6",
   "metadata": {
    "_cell_guid": "b45f5db7-6a30-4500-9d18-22af2f604f47",
    "_uuid": "543e58a8-8250-4de0-8382-cedffe00d0f7",
    "collapsed": false,
    "execution": {
     "iopub.execute_input": "2024-12-03T17:49:16.903693Z",
     "iopub.status.busy": "2024-12-03T17:49:16.903410Z",
     "iopub.status.idle": "2024-12-03T17:49:21.277320Z",
     "shell.execute_reply": "2024-12-03T17:49:21.276474Z"
    },
    "jupyter": {
     "outputs_hidden": false
    },
    "papermill": {
     "duration": 4.379599,
     "end_time": "2024-12-03T17:49:21.279267",
     "exception": false,
     "start_time": "2024-12-03T17:49:16.899668",
     "status": "completed"
    },
    "tags": []
   },
   "outputs": [],
   "source": [
    "import sys\n",
    "sys.path.append('/kaggle/input/alexnet/pytorch/improved-relu/1')\n",
    "import torch\n",
    "import torch.nn as nn\n",
    "from torchvision import datasets\n",
    "from improved.model import AlexNetImproved, init_params\n",
    "from improved.pca import pca\n",
    "from improved.data_transforms import calc_mean_std, prepreprocess, get_preprocess, get_train_augment\n",
    "from improved.train import train\n",
    "import matplotlib.pyplot as plt\n",
    "from improved.eval import top1_k "
   ]
  },
  {
   "cell_type": "code",
   "execution_count": 2,
   "id": "6108b579",
   "metadata": {
    "execution": {
     "iopub.execute_input": "2024-12-03T17:49:21.284765Z",
     "iopub.status.busy": "2024-12-03T17:49:21.284391Z",
     "iopub.status.idle": "2024-12-03T17:49:21.294870Z",
     "shell.execute_reply": "2024-12-03T17:49:21.294049Z"
    },
    "papermill": {
     "duration": 0.014743,
     "end_time": "2024-12-03T17:49:21.296389",
     "exception": false,
     "start_time": "2024-12-03T17:49:21.281646",
     "status": "completed"
    },
    "tags": []
   },
   "outputs": [
    {
     "name": "stdout",
     "output_type": "stream",
     "text": [
      "cuda\n"
     ]
    }
   ],
   "source": [
    "torch.manual_seed(0)\n",
    "device = torch.device(\"cuda\" if torch.cuda.is_available() else \"cpu\")\n",
    "print(device)"
   ]
  },
  {
   "cell_type": "code",
   "execution_count": 3,
   "id": "51ba93ea",
   "metadata": {
    "execution": {
     "iopub.execute_input": "2024-12-03T17:49:21.301262Z",
     "iopub.status.busy": "2024-12-03T17:49:21.301004Z",
     "iopub.status.idle": "2024-12-03T17:51:01.577336Z",
     "shell.execute_reply": "2024-12-03T17:51:01.576192Z"
    },
    "papermill": {
     "duration": 100.280947,
     "end_time": "2024-12-03T17:51:01.579343",
     "exception": false,
     "start_time": "2024-12-03T17:49:21.298396",
     "status": "completed"
    },
    "tags": []
   },
   "outputs": [
    {
     "name": "stdout",
     "output_type": "stream",
     "text": [
      "Downloading https://s3.amazonaws.com/fast-ai-imageclas/imagenette2-320.tgz to datasets/imagenette/imagenette2-320.tgz\n"
     ]
    },
    {
     "name": "stderr",
     "output_type": "stream",
     "text": [
      "100%|██████████| 341663724/341663724 [00:24<00:00, 13934590.38it/s]\n"
     ]
    },
    {
     "name": "stdout",
     "output_type": "stream",
     "text": [
      "Extracting datasets/imagenette/imagenette2-320.tgz to datasets/imagenette\n",
      "Mean:\n",
      "[0.4666706919670105, 0.45878785848617554, 0.43017029762268066]\n",
      "Standard Deviation:\n",
      "[0.28003814816474915, 0.27618539333343506, 0.2980325520038605]\n",
      "Covar:\n",
      "tensor([[0.9999, 0.9060, 0.7768],\n",
      "        [0.9060, 0.9999, 0.9098],\n",
      "        [0.7768, 0.9098, 1.0001]], device='cuda:0')\n",
      "Eigen values (sqrt):\n",
      "tensor([[0.2165],\n",
      "        [0.4725],\n",
      "        [1.6522]])\n",
      "Eigen vectors:\n",
      "tensor([[ 0.4129,  0.7125,  0.5673],\n",
      "        [-0.8029, -0.0092,  0.5960],\n",
      "        [ 0.4299, -0.7016,  0.5683]])\n",
      "Train: 9469\n",
      "Validation: 1963\n",
      "Test: 1962\n"
     ]
    }
   ],
   "source": [
    "train_dataset = datasets.Imagenette(\n",
    "    'datasets/imagenette', split='train', size='320px', download=True, transform=prepreprocess)\n",
    "mean, std = calc_mean_std(train_dataset)\n",
    "print(f'Mean:\\n{mean}')\n",
    "print(f'Standard Deviation:\\n{std}')\n",
    "preprocess = get_preprocess(mean, std)\n",
    "\n",
    "train_dataset = datasets.Imagenette(\n",
    "    'datasets/imagenette', split='train', size='320px', transform=preprocess)\n",
    "eigvals, eigvecs = pca(train_dataset)\n",
    "train_augment = get_train_augment(eigvals, eigvecs, mean, std)\n",
    "\n",
    "train_dataset = datasets.Imagenette(\n",
    "    'datasets/imagenette', split='train', size='320px', transform=train_augment)\n",
    "\n",
    "val_dataset = datasets.Imagenette(\n",
    "    'datasets/imagenette', split='val', size='320px',transform=preprocess)\n",
    "val_dataset, test_dataset = torch.utils.data.random_split(val_dataset, [0.5, 0.5])\n",
    "\n",
    "print(f'Train: {len(train_dataset)}')\n",
    "print(f'Validation: {len(val_dataset)}')\n",
    "print(f'Test: {len(test_dataset)}')"
   ]
  },
  {
   "cell_type": "code",
   "execution_count": 4,
   "id": "bc3d8f8e",
   "metadata": {
    "execution": {
     "iopub.execute_input": "2024-12-03T17:51:01.596372Z",
     "iopub.status.busy": "2024-12-03T17:51:01.596071Z",
     "iopub.status.idle": "2024-12-03T17:51:01.614458Z",
     "shell.execute_reply": "2024-12-03T17:51:01.613877Z"
    },
    "papermill": {
     "duration": 0.028702,
     "end_time": "2024-12-03T17:51:01.616118",
     "exception": false,
     "start_time": "2024-12-03T17:51:01.587416",
     "status": "completed"
    },
    "tags": []
   },
   "outputs": [],
   "source": [
    "model = AlexNetImproved(len(train_dataset.classes))\n",
    "if torch.cuda.device_count() > 1:\n",
    "    print(f'Using {torch.cuda.device_count()} GPUs.')\n",
    "    model = nn.DataParallel(model)\n",
    "model.to(device)\n",
    "# initialize parameters\n",
    "init_params(model)\n",
    "compiled_model = model\n",
    "# if torch.cuda.is_available():\n",
    "#     compiled_model = torch.compile(model)"
   ]
  },
  {
   "cell_type": "code",
   "execution_count": 5,
   "id": "f86dd3e9",
   "metadata": {
    "execution": {
     "iopub.execute_input": "2024-12-03T17:51:01.633016Z",
     "iopub.status.busy": "2024-12-03T17:51:01.632449Z",
     "iopub.status.idle": "2024-12-03T19:51:21.011709Z",
     "shell.execute_reply": "2024-12-03T19:51:21.010543Z"
    },
    "papermill": {
     "duration": 7219.405271,
     "end_time": "2024-12-03T19:51:21.029358",
     "exception": false,
     "start_time": "2024-12-03T17:51:01.624087",
     "status": "completed"
    },
    "tags": []
   },
   "outputs": [
    {
     "name": "stdout",
     "output_type": "stream",
     "text": [
      "Epoch 1/200, Cost: 2.163, Val Error: 70.56%, lr: 0.01, Time: 36s\n",
      "Epoch 2/200, Cost: 1.864, Val Error: 51.35%, lr: 0.01, Time: 36s\n",
      "Epoch 3/200, Cost: 1.618, Val Error: 46.61%, lr: 0.01, Time: 37s\n",
      "Epoch 4/200, Cost: 1.477, Val Error: 40.75%, lr: 0.01, Time: 36s\n",
      "Epoch 5/200, Cost: 1.368, Val Error: 31.64%, lr: 0.01, Time: 36s\n",
      "Epoch 6/200, Cost: 1.372, Val Error: 37.04%, lr: 0.01, Time: 37s\n",
      "Epoch 7/200, Cost: 1.242, Val Error: 31.94%, lr: 0.01, Time: 36s\n",
      "Epoch 8/200, Cost: 1.152, Val Error: 30.11%, lr: 0.01, Time: 36s\n",
      "Epoch 9/200, Cost: 1.139, Val Error: 27.61%, lr: 0.01, Time: 38s\n",
      "Epoch 10/200, Cost: 1.115, Val Error: 27.36%, lr: 0.01, Time: 37s\n",
      "Epoch 11/200, Cost: 1.064, Val Error: 28.58%, lr: 0.01, Time: 37s\n",
      "Epoch 12/200, Cost: 1.027, Val Error: 24.50%, lr: 0.01, Time: 37s\n",
      "Epoch 13/200, Cost: 0.996, Val Error: 25.83%, lr: 0.01, Time: 37s\n",
      "Epoch 14/200, Cost: 0.975, Val Error: 25.06%, lr: 0.01, Time: 37s\n",
      "Epoch 15/200, Cost: 0.939, Val Error: 25.22%, lr: 0.01, Time: 37s\n",
      "Epoch 16/200, Cost: 0.925, Val Error: 23.08%, lr: 0.01, Time: 36s\n",
      "Epoch 17/200, Cost: 0.882, Val Error: 26.49%, lr: 0.01, Time: 36s\n",
      "Epoch 18/200, Cost: 0.858, Val Error: 22.57%, lr: 0.01, Time: 36s\n",
      "Epoch 19/200, Cost: 0.874, Val Error: 20.78%, lr: 0.01, Time: 36s\n",
      "Epoch 20/200, Cost: 0.839, Val Error: 21.75%, lr: 0.01, Time: 36s\n",
      "Epoch 21/200, Cost: 0.832, Val Error: 21.60%, lr: 0.01, Time: 37s\n",
      "Epoch 22/200, Cost: 0.798, Val Error: 22.52%, lr: 0.01, Time: 36s\n",
      "Epoch 23/200, Cost: 0.767, Val Error: 21.70%, lr: 0.01, Time: 36s\n",
      "Epoch 24/200, Cost: 0.741, Val Error: 23.94%, lr: 0.01, Time: 36s\n",
      "Epoch 25/200, Cost: 0.747, Val Error: 21.40%, lr: 0.01, Time: 36s\n",
      "Epoch 26/200, Cost: 0.737, Val Error: 17.98%, lr: 0.01, Time: 36s\n",
      "Epoch 27/200, Cost: 0.711, Val Error: 19.61%, lr: 0.01, Time: 36s\n",
      "Epoch 28/200, Cost: 0.705, Val Error: 18.49%, lr: 0.01, Time: 37s\n",
      "Epoch 29/200, Cost: 0.677, Val Error: 21.04%, lr: 0.01, Time: 36s\n",
      "Epoch 30/200, Cost: 0.704, Val Error: 25.42%, lr: 0.01, Time: 36s\n",
      "Epoch 31/200, Cost: 0.686, Val Error: 26.08%, lr: 0.01, Time: 37s\n",
      "Epoch 32/200, Cost: 0.664, Val Error: 18.03%, lr: 0.01, Time: 36s\n",
      "Epoch 33/200, Cost: 0.647, Val Error: 21.34%, lr: 0.01, Time: 36s\n",
      "Epoch 34/200, Cost: 0.632, Val Error: 18.85%, lr: 0.01, Time: 35s\n",
      "Epoch 35/200, Cost: 0.641, Val Error: 17.12%, lr: 0.01, Time: 36s\n",
      "Epoch 36/200, Cost: 0.655, Val Error: 17.52%, lr: 0.01, Time: 36s\n",
      "Epoch 37/200, Cost: 0.638, Val Error: 17.01%, lr: 0.01, Time: 36s\n",
      "Epoch 38/200, Cost: 0.603, Val Error: 18.54%, lr: 0.01, Time: 36s\n",
      "Epoch 39/200, Cost: 0.591, Val Error: 22.11%, lr: 0.01, Time: 37s\n",
      "Epoch 40/200, Cost: 0.580, Val Error: 15.33%, lr: 0.01, Time: 36s\n",
      "Epoch 41/200, Cost: 0.552, Val Error: 17.83%, lr: 0.01, Time: 36s\n",
      "Epoch 42/200, Cost: 0.575, Val Error: 22.67%, lr: 0.01, Time: 36s\n",
      "Epoch 43/200, Cost: 0.576, Val Error: 17.78%, lr: 0.01, Time: 36s\n",
      "Epoch 44/200, Cost: 0.554, Val Error: 14.88%, lr: 0.01, Time: 36s\n",
      "Epoch 45/200, Cost: 0.538, Val Error: 14.98%, lr: 0.01, Time: 36s\n",
      "Epoch 46/200, Cost: 0.534, Val Error: 16.61%, lr: 0.01, Time: 36s\n",
      "Epoch 47/200, Cost: 0.540, Val Error: 21.09%, lr: 0.01, Time: 37s\n",
      "Epoch 48/200, Cost: 0.525, Val Error: 16.45%, lr: 0.01, Time: 36s\n",
      "Epoch 49/200, Cost: 0.514, Val Error: 17.27%, lr: 0.01, Time: 36s\n",
      "Epoch 50/200, Cost: 0.540, Val Error: 18.64%, lr: 0.01, Time: 36s\n",
      "Epoch 51/200, Cost: 0.511, Val Error: 17.52%, lr: 0.01, Time: 36s\n",
      "Epoch 52/200, Cost: 0.484, Val Error: 16.86%, lr: 0.01, Time: 36s\n",
      "Epoch 53/200, Cost: 0.495, Val Error: 14.98%, lr: 0.01, Time: 36s\n",
      "Epoch 54/200, Cost: 0.492, Val Error: 15.79%, lr: 0.01, Time: 36s\n",
      "Epoch 55/200, Cost: 0.493, Val Error: 20.02%, lr: 0.01, Time: 36s\n",
      "Epoch 56/200, Cost: 0.472, Val Error: 15.49%, lr: 0.01, Time: 36s\n",
      "Epoch 57/200, Cost: 0.447, Val Error: 15.18%, lr: 0.01, Time: 36s\n",
      "Epoch 58/200, Cost: 0.463, Val Error: 17.12%, lr: 0.01, Time: 36s\n",
      "Epoch 59/200, Cost: 0.489, Val Error: 14.82%, lr: 0.01, Time: 36s\n",
      "Epoch 60/200, Cost: 0.461, Val Error: 18.14%, lr: 0.01, Time: 36s\n",
      "Epoch 61/200, Cost: 0.463, Val Error: 16.66%, lr: 0.01, Time: 36s\n",
      "Epoch 62/200, Cost: 0.455, Val Error: 14.21%, lr: 0.01, Time: 36s\n",
      "Epoch 63/200, Cost: 0.435, Val Error: 17.07%, lr: 0.01, Time: 36s\n",
      "Epoch 64/200, Cost: 0.429, Val Error: 15.74%, lr: 0.01, Time: 36s\n",
      "Epoch 65/200, Cost: 0.427, Val Error: 18.08%, lr: 0.01, Time: 37s\n",
      "Epoch 66/200, Cost: 0.431, Val Error: 15.54%, lr: 0.01, Time: 36s\n",
      "Epoch 67/200, Cost: 0.432, Val Error: 13.81%, lr: 0.01, Time: 36s\n",
      "Epoch 68/200, Cost: 0.403, Val Error: 12.89%, lr: 0.01, Time: 36s\n",
      "Epoch 69/200, Cost: 0.418, Val Error: 13.50%, lr: 0.01, Time: 37s\n",
      "Epoch 70/200, Cost: 0.416, Val Error: 14.52%, lr: 0.01, Time: 36s\n",
      "Epoch 71/200, Cost: 0.427, Val Error: 15.44%, lr: 0.01, Time: 36s\n",
      "Epoch 72/200, Cost: 0.398, Val Error: 14.47%, lr: 0.01, Time: 36s\n",
      "Epoch 73/200, Cost: 0.392, Val Error: 16.20%, lr: 0.01, Time: 36s\n",
      "Epoch 74/200, Cost: 0.407, Val Error: 13.86%, lr: 0.01, Time: 36s\n",
      "Epoch 75/200, Cost: 0.384, Val Error: 14.26%, lr: 0.01, Time: 37s\n",
      "Epoch 76/200, Cost: 0.386, Val Error: 14.11%, lr: 0.01, Time: 36s\n",
      "Epoch 77/200, Cost: 0.381, Val Error: 14.26%, lr: 0.01, Time: 36s\n",
      "Epoch 78/200, Cost: 0.392, Val Error: 13.14%, lr: 0.01, Time: 36s\n",
      "Epoch 79/200, Cost: 0.382, Val Error: 13.55%, lr: 0.01, Time: 36s\n",
      "Epoch 80/200, Cost: 0.375, Val Error: 16.66%, lr: 0.01, Time: 36s\n",
      "Epoch 81/200, Cost: 0.396, Val Error: 14.47%, lr: 0.01, Time: 36s\n",
      "Epoch 82/200, Cost: 0.377, Val Error: 14.98%, lr: 0.01, Time: 36s\n",
      "Epoch 83/200, Cost: 0.376, Val Error: 13.86%, lr: 0.01, Time: 36s\n",
      "Epoch 84/200, Cost: 0.377, Val Error: 12.18%, lr: 0.01, Time: 36s\n",
      "Epoch 85/200, Cost: 0.366, Val Error: 12.99%, lr: 0.01, Time: 36s\n",
      "Epoch 86/200, Cost: 0.334, Val Error: 13.86%, lr: 0.01, Time: 36s\n",
      "Epoch 87/200, Cost: 0.360, Val Error: 13.70%, lr: 0.01, Time: 35s\n",
      "Epoch 88/200, Cost: 0.329, Val Error: 11.36%, lr: 0.01, Time: 36s\n",
      "Epoch 89/200, Cost: 0.351, Val Error: 15.03%, lr: 0.01, Time: 36s\n",
      "Epoch 90/200, Cost: 0.337, Val Error: 12.63%, lr: 0.01, Time: 36s\n",
      "Epoch 91/200, Cost: 0.353, Val Error: 14.77%, lr: 0.01, Time: 36s\n",
      "Epoch 92/200, Cost: 0.338, Val Error: 12.58%, lr: 0.01, Time: 35s\n",
      "Epoch 93/200, Cost: 0.364, Val Error: 12.38%, lr: 0.01, Time: 36s\n",
      "Epoch 94/200, Cost: 0.328, Val Error: 15.54%, lr: 0.01, Time: 36s\n",
      "Epoch 95/200, Cost: 0.350, Val Error: 12.74%, lr: 0.01, Time: 36s\n",
      "Epoch 96/200, Cost: 0.311, Val Error: 11.92%, lr: 0.01, Time: 36s\n",
      "Epoch 97/200, Cost: 0.330, Val Error: 12.07%, lr: 0.01, Time: 36s\n",
      "Epoch 98/200, Cost: 0.323, Val Error: 12.94%, lr: 0.01, Time: 36s\n",
      "Epoch 99/200, Cost: 0.321, Val Error: 12.99%, lr: 0.01, Time: 36s\n",
      "Epoch 100/200, Cost: 0.319, Val Error: 12.79%, lr: 0.01, Time: 36s\n",
      "Epoch 101/200, Cost: 0.319, Val Error: 12.53%, lr: 0.01, Time: 36s\n",
      "Epoch 102/200, Cost: 0.333, Val Error: 12.94%, lr: 0.01, Time: 35s\n",
      "Epoch 103/200, Cost: 0.317, Val Error: 13.19%, lr: 0.01, Time: 36s\n",
      "Epoch 104/200, Cost: 0.318, Val Error: 11.41%, lr: 0.01, Time: 36s\n",
      "Epoch 105/200, Cost: 0.304, Val Error: 15.23%, lr: 0.01, Time: 36s\n",
      "Epoch 106/200, Cost: 0.307, Val Error: 12.94%, lr: 0.01, Time: 35s\n",
      "Epoch 107/200, Cost: 0.297, Val Error: 12.94%, lr: 0.01, Time: 35s\n",
      "Epoch 108/200, Cost: 0.292, Val Error: 14.88%, lr: 0.01, Time: 35s\n",
      "Epoch 109/200, Cost: 0.307, Val Error: 12.68%, lr: 0.001, Time: 36s\n",
      "Epoch 110/200, Cost: 0.260, Val Error: 9.88%, lr: 0.001, Time: 36s\n",
      "Epoch 111/200, Cost: 0.225, Val Error: 9.63%, lr: 0.001, Time: 36s\n",
      "Epoch 112/200, Cost: 0.203, Val Error: 9.58%, lr: 0.001, Time: 36s\n",
      "Epoch 113/200, Cost: 0.206, Val Error: 8.86%, lr: 0.001, Time: 36s\n",
      "Epoch 114/200, Cost: 0.209, Val Error: 9.07%, lr: 0.001, Time: 36s\n",
      "Epoch 115/200, Cost: 0.201, Val Error: 9.32%, lr: 0.001, Time: 35s\n",
      "Epoch 116/200, Cost: 0.207, Val Error: 9.37%, lr: 0.001, Time: 37s\n",
      "Epoch 117/200, Cost: 0.200, Val Error: 9.68%, lr: 0.001, Time: 36s\n",
      "Epoch 118/200, Cost: 0.193, Val Error: 9.27%, lr: 0.001, Time: 36s\n",
      "Epoch 119/200, Cost: 0.191, Val Error: 9.48%, lr: 0.001, Time: 36s\n",
      "Epoch 120/200, Cost: 0.183, Val Error: 9.42%, lr: 0.001, Time: 36s\n",
      "Epoch 121/200, Cost: 0.199, Val Error: 9.07%, lr: 0.001, Time: 36s\n",
      "Epoch 122/200, Cost: 0.183, Val Error: 9.48%, lr: 0.001, Time: 36s\n",
      "Epoch 123/200, Cost: 0.180, Val Error: 9.42%, lr: 0.001, Time: 35s\n",
      "Epoch 124/200, Cost: 0.186, Val Error: 9.22%, lr: 0.001, Time: 36s\n",
      "Epoch 125/200, Cost: 0.182, Val Error: 9.12%, lr: 0.001, Time: 37s\n",
      "Epoch 126/200, Cost: 0.191, Val Error: 9.17%, lr: 0.001, Time: 36s\n",
      "Epoch 127/200, Cost: 0.183, Val Error: 9.02%, lr: 0.001, Time: 36s\n",
      "Epoch 128/200, Cost: 0.183, Val Error: 9.07%, lr: 0.001, Time: 36s\n",
      "Epoch 129/200, Cost: 0.198, Val Error: 9.27%, lr: 0.001, Time: 36s\n",
      "Epoch 130/200, Cost: 0.178, Val Error: 9.37%, lr: 0.001, Time: 35s\n",
      "Epoch 131/200, Cost: 0.181, Val Error: 8.91%, lr: 0.001, Time: 36s\n",
      "Epoch 132/200, Cost: 0.171, Val Error: 9.27%, lr: 0.001, Time: 36s\n",
      "Epoch 133/200, Cost: 0.164, Val Error: 8.91%, lr: 0.001, Time: 36s\n",
      "Epoch 134/200, Cost: 0.178, Val Error: 9.17%, lr: 0.0001, Time: 36s\n",
      "Epoch 135/200, Cost: 0.178, Val Error: 8.91%, lr: 0.0001, Time: 35s\n",
      "Epoch 136/200, Cost: 0.181, Val Error: 8.91%, lr: 0.0001, Time: 36s\n",
      "Epoch 137/200, Cost: 0.161, Val Error: 8.91%, lr: 0.0001, Time: 37s\n",
      "Epoch 138/200, Cost: 0.179, Val Error: 9.22%, lr: 0.0001, Time: 37s\n",
      "Epoch 139/200, Cost: 0.168, Val Error: 8.91%, lr: 0.0001, Time: 35s\n",
      "Epoch 140/200, Cost: 0.164, Val Error: 8.81%, lr: 0.0001, Time: 36s\n",
      "Epoch 141/200, Cost: 0.168, Val Error: 8.91%, lr: 0.0001, Time: 36s\n",
      "Epoch 142/200, Cost: 0.166, Val Error: 8.97%, lr: 0.0001, Time: 37s\n",
      "Epoch 143/200, Cost: 0.170, Val Error: 8.71%, lr: 0.0001, Time: 36s\n",
      "Epoch 144/200, Cost: 0.177, Val Error: 8.97%, lr: 0.0001, Time: 36s\n",
      "Epoch 145/200, Cost: 0.176, Val Error: 8.81%, lr: 0.0001, Time: 36s\n",
      "Epoch 146/200, Cost: 0.171, Val Error: 9.07%, lr: 0.0001, Time: 36s\n",
      "Epoch 147/200, Cost: 0.163, Val Error: 9.17%, lr: 0.0001, Time: 36s\n",
      "Epoch 148/200, Cost: 0.179, Val Error: 8.81%, lr: 0.0001, Time: 36s\n",
      "Epoch 149/200, Cost: 0.165, Val Error: 8.86%, lr: 0.0001, Time: 36s\n",
      "Epoch 150/200, Cost: 0.166, Val Error: 8.76%, lr: 0.0001, Time: 36s\n",
      "Epoch 151/200, Cost: 0.162, Val Error: 8.86%, lr: 0.0001, Time: 36s\n",
      "Epoch 152/200, Cost: 0.171, Val Error: 9.22%, lr: 0.0001, Time: 36s\n",
      "Epoch 153/200, Cost: 0.167, Val Error: 8.91%, lr: 0.0001, Time: 37s\n",
      "Epoch 154/200, Cost: 0.177, Val Error: 8.97%, lr: 0.0001, Time: 36s\n",
      "Epoch 155/200, Cost: 0.171, Val Error: 9.12%, lr: 0.0001, Time: 36s\n",
      "Epoch 156/200, Cost: 0.169, Val Error: 8.86%, lr: 0.0001, Time: 37s\n",
      "Epoch 157/200, Cost: 0.169, Val Error: 9.02%, lr: 0.0001, Time: 36s\n",
      "Epoch 158/200, Cost: 0.165, Val Error: 8.97%, lr: 0.0001, Time: 36s\n",
      "Epoch 159/200, Cost: 0.170, Val Error: 9.22%, lr: 0.0001, Time: 36s\n",
      "Epoch 160/200, Cost: 0.165, Val Error: 8.97%, lr: 0.0001, Time: 36s\n",
      "Epoch 161/200, Cost: 0.175, Val Error: 9.17%, lr: 0.0001, Time: 36s\n",
      "Epoch 162/200, Cost: 0.164, Val Error: 9.17%, lr: 0.0001, Time: 36s\n",
      "Epoch 163/200, Cost: 0.162, Val Error: 8.91%, lr: 0.0001, Time: 36s\n",
      "Epoch 164/200, Cost: 0.167, Val Error: 9.12%, lr: 1e-05, Time: 36s\n",
      "Epoch 165/200, Cost: 0.163, Val Error: 8.81%, lr: 1e-05, Time: 36s\n",
      "Epoch 166/200, Cost: 0.166, Val Error: 8.86%, lr: 1e-05, Time: 35s\n",
      "Epoch 167/200, Cost: 0.170, Val Error: 9.02%, lr: 1e-05, Time: 36s\n",
      "Epoch 168/200, Cost: 0.164, Val Error: 8.81%, lr: 1e-05, Time: 36s\n",
      "Epoch 169/200, Cost: 0.163, Val Error: 8.91%, lr: 1e-05, Time: 36s\n",
      "Epoch 170/200, Cost: 0.166, Val Error: 8.81%, lr: 1e-05, Time: 36s\n",
      "Epoch 171/200, Cost: 0.178, Val Error: 8.97%, lr: 1e-05, Time: 36s\n",
      "Epoch 172/200, Cost: 0.166, Val Error: 8.97%, lr: 1e-05, Time: 36s\n",
      "Epoch 173/200, Cost: 0.174, Val Error: 8.97%, lr: 1e-05, Time: 36s\n",
      "Epoch 174/200, Cost: 0.171, Val Error: 8.97%, lr: 1e-05, Time: 36s\n",
      "Epoch 175/200, Cost: 0.159, Val Error: 8.91%, lr: 1e-05, Time: 36s\n",
      "Epoch 176/200, Cost: 0.166, Val Error: 8.81%, lr: 1e-05, Time: 36s\n",
      "Epoch 177/200, Cost: 0.166, Val Error: 9.02%, lr: 1e-05, Time: 36s\n",
      "Epoch 178/200, Cost: 0.164, Val Error: 8.86%, lr: 1e-05, Time: 35s\n",
      "Epoch 179/200, Cost: 0.166, Val Error: 8.86%, lr: 1e-05, Time: 36s\n",
      "Epoch 180/200, Cost: 0.160, Val Error: 8.86%, lr: 1e-05, Time: 37s\n",
      "Epoch 181/200, Cost: 0.164, Val Error: 9.02%, lr: 1e-05, Time: 36s\n",
      "Epoch 182/200, Cost: 0.163, Val Error: 8.97%, lr: 1e-05, Time: 37s\n",
      "Epoch 183/200, Cost: 0.159, Val Error: 8.91%, lr: 1e-05, Time: 36s\n",
      "Epoch 184/200, Cost: 0.168, Val Error: 8.91%, lr: 1e-05, Time: 36s\n",
      "Epoch 185/200, Cost: 0.171, Val Error: 8.86%, lr: 1.0000000000000002e-06, Time: 36s\n",
      "Epoch 186/200, Cost: 0.167, Val Error: 9.07%, lr: 1.0000000000000002e-06, Time: 37s\n",
      "Epoch 187/200, Cost: 0.167, Val Error: 8.97%, lr: 1.0000000000000002e-06, Time: 36s\n",
      "Epoch 188/200, Cost: 0.180, Val Error: 9.02%, lr: 1.0000000000000002e-06, Time: 36s\n",
      "Epoch 189/200, Cost: 0.164, Val Error: 9.12%, lr: 1.0000000000000002e-06, Time: 37s\n",
      "Epoch 190/200, Cost: 0.167, Val Error: 8.81%, lr: 1.0000000000000002e-06, Time: 36s\n",
      "Epoch 191/200, Cost: 0.168, Val Error: 9.07%, lr: 1.0000000000000002e-06, Time: 36s\n",
      "Epoch 192/200, Cost: 0.174, Val Error: 8.97%, lr: 1.0000000000000002e-06, Time: 37s\n",
      "Epoch 193/200, Cost: 0.163, Val Error: 8.97%, lr: 1.0000000000000002e-06, Time: 36s\n",
      "Epoch 194/200, Cost: 0.147, Val Error: 9.07%, lr: 1.0000000000000002e-06, Time: 36s\n",
      "Epoch 195/200, Cost: 0.167, Val Error: 9.07%, lr: 1.0000000000000002e-06, Time: 36s\n",
      "Epoch 196/200, Cost: 0.158, Val Error: 8.76%, lr: 1.0000000000000002e-06, Time: 36s\n",
      "Epoch 197/200, Cost: 0.170, Val Error: 8.86%, lr: 1.0000000000000002e-06, Time: 36s\n",
      "Epoch 198/200, Cost: 0.165, Val Error: 8.91%, lr: 1.0000000000000002e-06, Time: 36s\n",
      "Epoch 199/200, Cost: 0.160, Val Error: 8.81%, lr: 1.0000000000000002e-06, Time: 36s\n",
      "Epoch 200/200, Cost: 0.171, Val Error: 8.91%, lr: 1.0000000000000002e-06, Time: 36s\n",
      "Training time: 120m\n"
     ]
    }
   ],
   "source": [
    "costs, val_error_rates, learning_rates = train(\n",
    "    compiled_model,\n",
    "    train_dataset=train_dataset,\n",
    "    cv_dataset=val_dataset,\n",
    "    batch_size=128,\n",
    "    num_epochs=200,\n",
    "    initial_lr=0.01,\n",
    "    num_workers=3,\n",
    "    patience=20,\n",
    ")"
   ]
  },
  {
   "cell_type": "code",
   "execution_count": 6,
   "id": "8b6ed741",
   "metadata": {
    "execution": {
     "iopub.execute_input": "2024-12-03T19:51:21.062045Z",
     "iopub.status.busy": "2024-12-03T19:51:21.061745Z",
     "iopub.status.idle": "2024-12-03T19:51:21.549801Z",
     "shell.execute_reply": "2024-12-03T19:51:21.549064Z"
    },
    "papermill": {
     "duration": 0.506826,
     "end_time": "2024-12-03T19:51:21.551803",
     "exception": false,
     "start_time": "2024-12-03T19:51:21.044977",
     "status": "completed"
    },
    "tags": []
   },
   "outputs": [],
   "source": [
    "torch.save(model.state_dict(), 'improved_imagenette.model.pt')\n",
    "torch.save(preprocess, 'improved_imagenette.preprocess.pt')\n",
    "torch.save(train_augment, 'improved_imagenette.train_augment.pt')"
   ]
  },
  {
   "cell_type": "code",
   "execution_count": 7,
   "id": "f49f6d61",
   "metadata": {
    "execution": {
     "iopub.execute_input": "2024-12-03T19:51:21.585188Z",
     "iopub.status.busy": "2024-12-03T19:51:21.584620Z",
     "iopub.status.idle": "2024-12-03T19:52:05.551968Z",
     "shell.execute_reply": "2024-12-03T19:52:05.550795Z"
    },
    "papermill": {
     "duration": 44.00138,
     "end_time": "2024-12-03T19:52:05.569459",
     "exception": false,
     "start_time": "2024-12-03T19:51:21.568079",
     "status": "completed"
    },
    "tags": []
   },
   "outputs": [
    {
     "name": "stdout",
     "output_type": "stream",
     "text": [
      "Test Top 1: 0.9046890927624872\n",
      "Test Top 5: 0.9908256880733946\n",
      "Val Top 1: 0.9108507386653082\n",
      "Val Top 5: 0.9913397860417728\n",
      "Train Top 1: 0.9997887844545359\n",
      "Train Top 5: 1.0\n"
     ]
    }
   ],
   "source": [
    "test_top1, test_top5 = top1_k(compiled_model, test_dataset, k=5)\n",
    "print(f'Test Top 1: {test_top1}')\n",
    "print(f'Test Top 5: {test_top5}')\n",
    "\n",
    "val_top1, val_top5 = top1_k(compiled_model, val_dataset, k=5)\n",
    "print(f'Val Top 1: {val_top1}')\n",
    "print(f'Val Top 5: {val_top5}')\n",
    "\n",
    "train_eval_dataset = datasets.Imagenette(\n",
    "    'datasets/imagenette', split='train', size='320px', transform=preprocess)\n",
    "train_top1, train_top5 = top1_k(compiled_model, train_eval_dataset, k=5)\n",
    "print(f'Train Top 1: {train_top1}')\n",
    "print(f'Train Top 5: {train_top5}')"
   ]
  },
  {
   "cell_type": "code",
   "execution_count": 8,
   "id": "b92080e5",
   "metadata": {
    "execution": {
     "iopub.execute_input": "2024-12-03T19:52:05.602920Z",
     "iopub.status.busy": "2024-12-03T19:52:05.602537Z",
     "iopub.status.idle": "2024-12-03T19:52:05.895102Z",
     "shell.execute_reply": "2024-12-03T19:52:05.894209Z"
    },
    "papermill": {
     "duration": 0.311576,
     "end_time": "2024-12-03T19:52:05.896990",
     "exception": false,
     "start_time": "2024-12-03T19:52:05.585414",
     "status": "completed"
    },
    "tags": []
   },
   "outputs": [
    {
     "data": {
      "text/plain": [
       "Text(0.5, 1.0, 'Costs')"
      ]
     },
     "execution_count": 8,
     "metadata": {},
     "output_type": "execute_result"
    },
    {
     "data": {
      "image/png": "[encoded data removed]",
      "text/plain": [
       "<Figure size 640x480 with 1 Axes>"
      ]
     },
     "metadata": {},
     "output_type": "display_data"
    }
   ],
   "source": [
    "plt.plot(costs)\n",
    "plt.xlabel(\"Epoch\")\n",
    "plt.title('Costs')"
   ]
  },
  {
   "cell_type": "code",
   "execution_count": 9,
   "id": "70898dc2",
   "metadata": {
    "execution": {
     "iopub.execute_input": "2024-12-03T19:52:05.931787Z",
     "iopub.status.busy": "2024-12-03T19:52:05.931472Z",
     "iopub.status.idle": "2024-12-03T19:52:06.303292Z",
     "shell.execute_reply": "2024-12-03T19:52:06.302491Z"
    },
    "papermill": {
     "duration": 0.391383,
     "end_time": "2024-12-03T19:52:06.305207",
     "exception": false,
     "start_time": "2024-12-03T19:52:05.913824",
     "status": "completed"
    },
    "tags": []
   },
   "outputs": [
    {
     "data": {
      "text/plain": [
       "Text(0.5, 1.0, 'Validation Error Rates')"
      ]
     },
     "execution_count": 9,
     "metadata": {},
     "output_type": "execute_result"
    },
    {
     "data": {
      "image/png": "[encoded data removed]",
      "text/plain": [
       "<Figure size 640x480 with 1 Axes>"
      ]
     },
     "metadata": {},
     "output_type": "display_data"
    }
   ],
   "source": [
    "plt.plot(val_error_rates)\n",
    "plt.xlabel(\"Epoch\")\n",
    "plt.title('Validation Error Rates')"
   ]
  },
  {
   "cell_type": "code",
   "execution_count": 10,
   "id": "aa335c85",
   "metadata": {
    "execution": {
     "iopub.execute_input": "2024-12-03T19:52:06.341112Z",
     "iopub.status.busy": "2024-12-03T19:52:06.340526Z",
     "iopub.status.idle": "2024-12-03T19:52:06.520233Z",
     "shell.execute_reply": "2024-12-03T19:52:06.519418Z"
    },
    "papermill": {
     "duration": 0.19923,
     "end_time": "2024-12-03T19:52:06.521886",
     "exception": false,
     "start_time": "2024-12-03T19:52:06.322656",
     "status": "completed"
    },
    "tags": []
   },
   "outputs": [
    {
     "data": {
      "text/plain": [
       "Text(0.5, 1.0, 'Learning Rates')"
      ]
     },
     "execution_count": 10,
     "metadata": {},
     "output_type": "execute_result"
    },
    {
     "data": {
      "image/png": "[encoded data removed]",
      "text/plain": [
       "<Figure size 640x480 with 1 Axes>"
      ]
     },
     "metadata": {},
     "output_type": "display_data"
    }
   ],
   "source": [
    "plt.plot(learning_rates)\n",
    "plt.xlabel(\"Epoch\")\n",
    "plt.title('Learning Rates')"
   ]
  }
 ],
 "metadata": {
  "kaggle": {
   "accelerator": "gpu",
   "dataSources": [
    {
     "modelId": 181947,
     "modelInstanceId": 159585,
     "sourceId": 187174,
     "sourceType": "modelInstanceVersion"
    }
   ],
   "dockerImageVersionId": 30804,
   "isGpuEnabled": true,
   "isInternetEnabled": true,
   "language": "python",
   "sourceType": "notebook"
  },
  "kernelspec": {
   "display_name": "Python 3",
   "language": "python",
   "name": "python3"
  },
  "language_info": {
   "codemirror_mode": {
    "name": "ipython",
    "version": 3
   },
   "file_extension": ".py",
   "mimetype": "text/x-python",
   "name": "python",
   "nbconvert_exporter": "python",
   "pygments_lexer": "ipython3",
   "version": "3.10.14"
  },
  "papermill": {
   "default_parameters": {},
   "duration": 7373.435128,
   "end_time": "2024-12-03T19:52:07.961636",
   "environment_variables": {},
   "exception": null,
   "input_path": "__notebook__.ipynb",
   "output_path": "__notebook__.ipynb",
   "parameters": {},
   "start_time": "2024-12-03T17:49:14.526508",
   "version": "2.6.0"
  }
 },
 "nbformat": 4,
 "nbformat_minor": 5
}
