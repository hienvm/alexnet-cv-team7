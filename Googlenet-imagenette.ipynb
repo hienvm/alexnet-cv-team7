{
 "cells": [
  {
   "cell_type": "code",
   "execution_count": 1,
   "id": "26e8166e",
   "metadata": {
    "execution": {
     "iopub.execute_input": "2024-12-04T16:46:13.953816Z",
     "iopub.status.busy": "2024-12-04T16:46:13.953435Z",
     "iopub.status.idle": "2024-12-04T16:46:19.008815Z",
     "shell.execute_reply": "2024-12-04T16:46:19.007524Z"
    },
    "papermill": {
     "duration": 5.062323,
     "end_time": "2024-12-04T16:46:19.011357",
     "exception": false,
     "start_time": "2024-12-04T16:46:13.949034",
     "status": "completed"
    },
    "tags": []
   },
   "outputs": [],
   "source": [
    "import sys\n",
    "sys.path.append('/kaggle/input/alexnet/pytorch/improved/1')\n",
    "import torch\n",
    "import torch.nn as nn\n",
    "from torchvision import datasets\n",
    "from improved.model import AlexNetImproved, init_params\n",
    "from improved.pca import pca\n",
    "from improved.data_transforms import calc_mean_std, prepreprocess, get_preprocess, get_train_augment\n",
    "from improved.train import train\n",
    "import matplotlib.pyplot as plt\n",
    "from improved.eval import top1_k "
   ]
  },
  {
   "cell_type": "code",
   "execution_count": 2,
   "id": "f2fa67ca",
   "metadata": {
    "execution": {
     "iopub.execute_input": "2024-12-04T16:46:19.021876Z",
     "iopub.status.busy": "2024-12-04T16:46:19.021423Z",
     "iopub.status.idle": "2024-12-04T16:46:19.036339Z",
     "shell.execute_reply": "2024-12-04T16:46:19.034836Z"
    },
    "papermill": {
     "duration": 0.023292,
     "end_time": "2024-12-04T16:46:19.039783",
     "exception": false,
     "start_time": "2024-12-04T16:46:19.016491",
     "status": "completed"
    },
    "tags": []
   },
   "outputs": [
    {
     "name": "stdout",
     "output_type": "stream",
     "text": [
      "cuda\n"
     ]
    }
   ],
   "source": [
    "torch.manual_seed(0)\n",
    "device = torch.device(\"cuda\" if torch.cuda.is_available() else \"cpu\")\n",
    "print(device)"
   ]
  },
  {
   "cell_type": "code",
   "execution_count": 3,
   "id": "779bf114",
   "metadata": {
    "execution": {
     "iopub.execute_input": "2024-12-04T16:46:19.046968Z",
     "iopub.status.busy": "2024-12-04T16:46:19.046369Z",
     "iopub.status.idle": "2024-12-04T16:47:54.325605Z",
     "shell.execute_reply": "2024-12-04T16:47:54.324359Z"
    },
    "papermill": {
     "duration": 95.290703,
     "end_time": "2024-12-04T16:47:54.333374",
     "exception": false,
     "start_time": "2024-12-04T16:46:19.042671",
     "status": "completed"
    },
    "tags": []
   },
   "outputs": [
    {
     "name": "stdout",
     "output_type": "stream",
     "text": [
      "Downloading https://s3.amazonaws.com/fast-ai-imageclas/imagenette2-320.tgz to datasets/imagenette/imagenette2-320.tgz\n"
     ]
    },
    {
     "name": "stderr",
     "output_type": "stream",
     "text": [
      "100%|██████████| 341663724/341663724 [00:06<00:00, 52154032.86it/s]\n"
     ]
    },
    {
     "name": "stdout",
     "output_type": "stream",
     "text": [
      "Extracting datasets/imagenette/imagenette2-320.tgz to datasets/imagenette\n",
      "Covar:\n",
      "tensor([[0.9999, 0.9060, 0.7768],\n",
      "        [0.9060, 0.9999, 0.9098],\n",
      "        [0.7768, 0.9098, 1.0001]], device='cuda:0')\n",
      "Eigen values (sqrt):\n",
      "tensor([[0.2165],\n",
      "        [0.4725],\n",
      "        [1.6522]])\n",
      "Eigen vectors:\n",
      "tensor([[ 0.4129,  0.7125,  0.5673],\n",
      "        [-0.8029, -0.0092,  0.5960],\n",
      "        [ 0.4299, -0.7016,  0.5683]])\n",
      "Train: 9469\n",
      "Validation: 1963\n",
      "Test: 1962\n"
     ]
    }
   ],
   "source": [
    "train_dataset = datasets.Imagenette(\n",
    "    'datasets/imagenette', split='train', size='320px', download=True, transform=prepreprocess)\n",
    "mean, std = calc_mean_std(train_dataset)\n",
    "preprocess = get_preprocess(mean, std)\n",
    "\n",
    "train_dataset = datasets.Imagenette(\n",
    "    'datasets/imagenette', split='train', size='320px', transform=preprocess)\n",
    "eigvals, eigvecs = pca(train_dataset)\n",
    "train_augment = get_train_augment(eigvals, eigvecs, mean, std)\n",
    "\n",
    "train_dataset = datasets.Imagenette(\n",
    "    'datasets/imagenette', split='train', size='320px', transform=train_augment)\n",
    "\n",
    "val_dataset = datasets.Imagenette(\n",
    "    'datasets/imagenette', split='val', size='320px',transform=preprocess)\n",
    "val_dataset, test_dataset = torch.utils.data.random_split(val_dataset, [0.5, 0.5])\n",
    "\n",
    "print(f'Train: {len(train_dataset)}')\n",
    "print(f'Validation: {len(val_dataset)}')\n",
    "print(f'Test: {len(test_dataset)}')"
   ]
  },
  {
   "cell_type": "code",
   "execution_count": 4,
   "id": "f5f0a476",
   "metadata": {
    "execution": {
     "iopub.execute_input": "2024-12-04T16:47:54.345800Z",
     "iopub.status.busy": "2024-12-04T16:47:54.345425Z",
     "iopub.status.idle": "2024-12-04T16:47:54.368139Z",
     "shell.execute_reply": "2024-12-04T16:47:54.367247Z"
    },
    "papermill": {
     "duration": 0.031691,
     "end_time": "2024-12-04T16:47:54.370429",
     "exception": false,
     "start_time": "2024-12-04T16:47:54.338738",
     "status": "completed"
    },
    "tags": []
   },
   "outputs": [],
   "source": [
    "model = AlexNetImproved(len(train_dataset.classes))\n",
    "if torch.cuda.device_count() > 1:\n",
    "    print(f'Using {torch.cuda.device_count()} GPUs.')\n",
    "    model = nn.DataParallel(model)\n",
    "model.to(device)\n",
    "# initialize parameters\n",
    "init_params(model)\n",
    "compiled_model = model\n",
    "# if torch.cuda.is_available():\n",
    "#     compiled_model = torch.compile(model)"
   ]
  },
  {
   "cell_type": "code",
   "execution_count": 5,
   "id": "55ea62c1",
   "metadata": {
    "execution": {
     "iopub.execute_input": "2024-12-04T16:47:54.383573Z",
     "iopub.status.busy": "2024-12-04T16:47:54.383196Z",
     "iopub.status.idle": "2024-12-04T19:09:53.238960Z",
     "shell.execute_reply": "2024-12-04T19:09:53.237618Z"
    },
    "papermill": {
     "duration": 8518.879197,
     "end_time": "2024-12-04T19:09:53.254824",
     "exception": false,
     "start_time": "2024-12-04T16:47:54.375627",
     "status": "completed"
    },
    "tags": []
   },
   "outputs": [
    {
     "name": "stdout",
     "output_type": "stream",
     "text": [
      "Epoch 1/200, Cost: 2.051, Val Error: 59.14%, lr: 0.01, Time: 44s\n",
      "Epoch 2/200, Cost: 1.713, Val Error: 54.25%, lr: 0.01, Time: 44s\n",
      "Epoch 3/200, Cost: 1.569, Val Error: 37.60%, lr: 0.01, Time: 44s\n",
      "Epoch 4/200, Cost: 1.397, Val Error: 54.30%, lr: 0.01, Time: 44s\n",
      "Epoch 5/200, Cost: 1.313, Val Error: 43.50%, lr: 0.01, Time: 43s\n",
      "Epoch 6/200, Cost: 1.251, Val Error: 35.05%, lr: 0.01, Time: 44s\n",
      "Epoch 7/200, Cost: 1.170, Val Error: 26.29%, lr: 0.01, Time: 44s\n",
      "Epoch 8/200, Cost: 1.115, Val Error: 27.41%, lr: 0.01, Time: 43s\n",
      "Epoch 9/200, Cost: 1.075, Val Error: 33.88%, lr: 0.01, Time: 43s\n",
      "Epoch 10/200, Cost: 1.019, Val Error: 24.04%, lr: 0.01, Time: 44s\n",
      "Epoch 11/200, Cost: 0.986, Val Error: 25.47%, lr: 0.01, Time: 43s\n",
      "Epoch 12/200, Cost: 0.932, Val Error: 24.50%, lr: 0.01, Time: 43s\n",
      "Epoch 13/200, Cost: 0.916, Val Error: 25.83%, lr: 0.01, Time: 43s\n",
      "Epoch 14/200, Cost: 0.837, Val Error: 22.77%, lr: 0.01, Time: 43s\n",
      "Epoch 15/200, Cost: 0.844, Val Error: 24.96%, lr: 0.01, Time: 43s\n",
      "Epoch 16/200, Cost: 0.790, Val Error: 23.28%, lr: 0.01, Time: 43s\n",
      "Epoch 17/200, Cost: 0.766, Val Error: 22.47%, lr: 0.01, Time: 43s\n",
      "Epoch 18/200, Cost: 0.730, Val Error: 26.24%, lr: 0.01, Time: 44s\n",
      "Epoch 19/200, Cost: 0.735, Val Error: 22.92%, lr: 0.01, Time: 44s\n",
      "Epoch 20/200, Cost: 0.673, Val Error: 19.71%, lr: 0.01, Time: 43s\n",
      "Epoch 21/200, Cost: 0.681, Val Error: 26.54%, lr: 0.01, Time: 43s\n",
      "Epoch 22/200, Cost: 0.668, Val Error: 19.71%, lr: 0.01, Time: 43s\n",
      "Epoch 23/200, Cost: 0.613, Val Error: 20.53%, lr: 0.01, Time: 44s\n",
      "Epoch 24/200, Cost: 0.610, Val Error: 18.90%, lr: 0.01, Time: 44s\n",
      "Epoch 25/200, Cost: 0.603, Val Error: 23.23%, lr: 0.01, Time: 43s\n",
      "Epoch 26/200, Cost: 0.573, Val Error: 17.42%, lr: 0.01, Time: 43s\n",
      "Epoch 27/200, Cost: 0.567, Val Error: 16.76%, lr: 0.01, Time: 43s\n",
      "Epoch 28/200, Cost: 0.543, Val Error: 21.14%, lr: 0.01, Time: 43s\n",
      "Epoch 29/200, Cost: 0.554, Val Error: 21.70%, lr: 0.01, Time: 42s\n",
      "Epoch 30/200, Cost: 0.569, Val Error: 26.54%, lr: 0.01, Time: 43s\n",
      "Epoch 31/200, Cost: 0.585, Val Error: 15.38%, lr: 0.01, Time: 42s\n",
      "Epoch 32/200, Cost: 0.504, Val Error: 17.93%, lr: 0.01, Time: 42s\n",
      "Epoch 33/200, Cost: 0.488, Val Error: 20.84%, lr: 0.01, Time: 42s\n",
      "Epoch 34/200, Cost: 0.485, Val Error: 17.27%, lr: 0.01, Time: 41s\n",
      "Epoch 35/200, Cost: 0.476, Val Error: 16.35%, lr: 0.01, Time: 42s\n",
      "Epoch 36/200, Cost: 0.467, Val Error: 19.56%, lr: 0.01, Time: 44s\n",
      "Epoch 37/200, Cost: 0.430, Val Error: 16.66%, lr: 0.01, Time: 43s\n",
      "Epoch 38/200, Cost: 0.449, Val Error: 17.73%, lr: 0.01, Time: 43s\n",
      "Epoch 39/200, Cost: 0.432, Val Error: 19.66%, lr: 0.01, Time: 42s\n",
      "Epoch 40/200, Cost: 0.437, Val Error: 14.37%, lr: 0.01, Time: 43s\n",
      "Epoch 41/200, Cost: 0.403, Val Error: 16.10%, lr: 0.01, Time: 43s\n",
      "Epoch 42/200, Cost: 0.412, Val Error: 21.24%, lr: 0.01, Time: 42s\n",
      "Epoch 43/200, Cost: 0.393, Val Error: 16.40%, lr: 0.01, Time: 43s\n",
      "Epoch 44/200, Cost: 0.396, Val Error: 17.98%, lr: 0.01, Time: 43s\n",
      "Epoch 45/200, Cost: 0.381, Val Error: 17.01%, lr: 0.01, Time: 42s\n",
      "Epoch 46/200, Cost: 0.385, Val Error: 19.10%, lr: 0.01, Time: 42s\n",
      "Epoch 47/200, Cost: 0.382, Val Error: 15.94%, lr: 0.01, Time: 43s\n",
      "Epoch 48/200, Cost: 0.380, Val Error: 18.34%, lr: 0.01, Time: 44s\n",
      "Epoch 49/200, Cost: 0.346, Val Error: 18.24%, lr: 0.01, Time: 43s\n",
      "Epoch 50/200, Cost: 0.375, Val Error: 19.46%, lr: 0.01, Time: 42s\n",
      "Epoch 51/200, Cost: 0.367, Val Error: 21.45%, lr: 0.01, Time: 41s\n",
      "Epoch 52/200, Cost: 0.346, Val Error: 16.10%, lr: 0.01, Time: 42s\n",
      "Epoch 53/200, Cost: 0.341, Val Error: 17.22%, lr: 0.01, Time: 41s\n",
      "Epoch 54/200, Cost: 0.343, Val Error: 15.64%, lr: 0.01, Time: 41s\n",
      "Epoch 55/200, Cost: 0.335, Val Error: 21.29%, lr: 0.01, Time: 42s\n",
      "Epoch 56/200, Cost: 0.340, Val Error: 15.89%, lr: 0.01, Time: 43s\n",
      "Epoch 57/200, Cost: 0.315, Val Error: 17.32%, lr: 0.01, Time: 43s\n",
      "Epoch 58/200, Cost: 0.334, Val Error: 16.76%, lr: 0.01, Time: 43s\n",
      "Epoch 59/200, Cost: 0.318, Val Error: 17.58%, lr: 0.01, Time: 44s\n",
      "Epoch 60/200, Cost: 0.314, Val Error: 22.47%, lr: 0.01, Time: 43s\n",
      "Epoch 61/200, Cost: 0.337, Val Error: 15.54%, lr: 0.001, Time: 42s\n",
      "Epoch 62/200, Cost: 0.278, Val Error: 12.53%, lr: 0.001, Time: 43s\n",
      "Epoch 63/200, Cost: 0.243, Val Error: 12.48%, lr: 0.001, Time: 43s\n",
      "Epoch 64/200, Cost: 0.234, Val Error: 12.38%, lr: 0.001, Time: 42s\n",
      "Epoch 65/200, Cost: 0.223, Val Error: 11.87%, lr: 0.001, Time: 44s\n",
      "Epoch 66/200, Cost: 0.217, Val Error: 11.97%, lr: 0.001, Time: 43s\n",
      "Epoch 67/200, Cost: 0.223, Val Error: 11.61%, lr: 0.001, Time: 42s\n",
      "Epoch 68/200, Cost: 0.209, Val Error: 11.56%, lr: 0.001, Time: 43s\n",
      "Epoch 69/200, Cost: 0.215, Val Error: 11.92%, lr: 0.001, Time: 43s\n",
      "Epoch 70/200, Cost: 0.203, Val Error: 11.36%, lr: 0.001, Time: 44s\n",
      "Epoch 71/200, Cost: 0.213, Val Error: 11.61%, lr: 0.001, Time: 42s\n",
      "Epoch 72/200, Cost: 0.216, Val Error: 11.67%, lr: 0.001, Time: 43s\n",
      "Epoch 73/200, Cost: 0.191, Val Error: 11.82%, lr: 0.001, Time: 42s\n",
      "Epoch 74/200, Cost: 0.200, Val Error: 11.67%, lr: 0.001, Time: 44s\n",
      "Epoch 75/200, Cost: 0.200, Val Error: 11.56%, lr: 0.001, Time: 43s\n",
      "Epoch 76/200, Cost: 0.198, Val Error: 11.72%, lr: 0.001, Time: 42s\n",
      "Epoch 77/200, Cost: 0.200, Val Error: 11.46%, lr: 0.001, Time: 44s\n",
      "Epoch 78/200, Cost: 0.196, Val Error: 11.87%, lr: 0.001, Time: 44s\n",
      "Epoch 79/200, Cost: 0.197, Val Error: 11.51%, lr: 0.001, Time: 44s\n",
      "Epoch 80/200, Cost: 0.198, Val Error: 11.82%, lr: 0.001, Time: 44s\n",
      "Epoch 81/200, Cost: 0.201, Val Error: 12.33%, lr: 0.001, Time: 43s\n",
      "Epoch 82/200, Cost: 0.186, Val Error: 11.56%, lr: 0.001, Time: 44s\n",
      "Epoch 83/200, Cost: 0.200, Val Error: 12.07%, lr: 0.001, Time: 44s\n",
      "Epoch 84/200, Cost: 0.191, Val Error: 11.46%, lr: 0.001, Time: 44s\n",
      "Epoch 85/200, Cost: 0.185, Val Error: 11.36%, lr: 0.001, Time: 43s\n",
      "Epoch 86/200, Cost: 0.176, Val Error: 11.56%, lr: 0.001, Time: 44s\n",
      "Epoch 87/200, Cost: 0.195, Val Error: 11.72%, lr: 0.001, Time: 43s\n",
      "Epoch 88/200, Cost: 0.176, Val Error: 11.00%, lr: 0.001, Time: 43s\n",
      "Epoch 89/200, Cost: 0.185, Val Error: 11.41%, lr: 0.001, Time: 43s\n",
      "Epoch 90/200, Cost: 0.184, Val Error: 11.31%, lr: 0.001, Time: 43s\n",
      "Epoch 91/200, Cost: 0.186, Val Error: 12.43%, lr: 0.001, Time: 43s\n",
      "Epoch 92/200, Cost: 0.185, Val Error: 11.51%, lr: 0.001, Time: 43s\n",
      "Epoch 93/200, Cost: 0.180, Val Error: 11.67%, lr: 0.001, Time: 42s\n",
      "Epoch 94/200, Cost: 0.178, Val Error: 11.31%, lr: 0.001, Time: 43s\n",
      "Epoch 95/200, Cost: 0.189, Val Error: 11.46%, lr: 0.001, Time: 42s\n",
      "Epoch 96/200, Cost: 0.172, Val Error: 11.26%, lr: 0.001, Time: 42s\n",
      "Epoch 97/200, Cost: 0.179, Val Error: 11.46%, lr: 0.001, Time: 42s\n",
      "Epoch 98/200, Cost: 0.171, Val Error: 11.21%, lr: 0.001, Time: 43s\n",
      "Epoch 99/200, Cost: 0.174, Val Error: 11.00%, lr: 0.001, Time: 42s\n",
      "Epoch 100/200, Cost: 0.172, Val Error: 11.46%, lr: 0.001, Time: 43s\n",
      "Epoch 101/200, Cost: 0.178, Val Error: 11.46%, lr: 0.001, Time: 43s\n",
      "Epoch 102/200, Cost: 0.175, Val Error: 11.21%, lr: 0.001, Time: 41s\n",
      "Epoch 103/200, Cost: 0.173, Val Error: 11.56%, lr: 0.001, Time: 42s\n",
      "Epoch 104/200, Cost: 0.167, Val Error: 11.00%, lr: 0.001, Time: 41s\n",
      "Epoch 105/200, Cost: 0.168, Val Error: 11.16%, lr: 0.001, Time: 42s\n",
      "Epoch 106/200, Cost: 0.176, Val Error: 10.90%, lr: 0.001, Time: 42s\n",
      "Epoch 107/200, Cost: 0.167, Val Error: 11.21%, lr: 0.001, Time: 43s\n",
      "Epoch 108/200, Cost: 0.164, Val Error: 11.21%, lr: 0.001, Time: 43s\n",
      "Epoch 109/200, Cost: 0.163, Val Error: 11.51%, lr: 0.001, Time: 42s\n",
      "Epoch 110/200, Cost: 0.173, Val Error: 11.56%, lr: 0.001, Time: 43s\n",
      "Epoch 111/200, Cost: 0.158, Val Error: 11.11%, lr: 0.001, Time: 43s\n",
      "Epoch 112/200, Cost: 0.155, Val Error: 11.31%, lr: 0.001, Time: 44s\n",
      "Epoch 113/200, Cost: 0.164, Val Error: 11.56%, lr: 0.001, Time: 42s\n",
      "Epoch 114/200, Cost: 0.168, Val Error: 11.61%, lr: 0.001, Time: 42s\n",
      "Epoch 115/200, Cost: 0.170, Val Error: 11.31%, lr: 0.001, Time: 43s\n",
      "Epoch 116/200, Cost: 0.169, Val Error: 11.05%, lr: 0.001, Time: 42s\n",
      "Epoch 117/200, Cost: 0.162, Val Error: 11.16%, lr: 0.001, Time: 43s\n",
      "Epoch 118/200, Cost: 0.159, Val Error: 11.26%, lr: 0.001, Time: 42s\n",
      "Epoch 119/200, Cost: 0.160, Val Error: 10.95%, lr: 0.001, Time: 43s\n",
      "Epoch 120/200, Cost: 0.156, Val Error: 11.31%, lr: 0.001, Time: 42s\n",
      "Epoch 121/200, Cost: 0.163, Val Error: 11.16%, lr: 0.001, Time: 42s\n",
      "Epoch 122/200, Cost: 0.161, Val Error: 11.41%, lr: 0.001, Time: 42s\n",
      "Epoch 123/200, Cost: 0.156, Val Error: 11.31%, lr: 0.001, Time: 43s\n",
      "Epoch 124/200, Cost: 0.163, Val Error: 11.00%, lr: 0.001, Time: 43s\n",
      "Epoch 125/200, Cost: 0.152, Val Error: 11.05%, lr: 0.001, Time: 43s\n",
      "Epoch 126/200, Cost: 0.165, Val Error: 11.31%, lr: 0.001, Time: 42s\n",
      "Epoch 127/200, Cost: 0.160, Val Error: 11.46%, lr: 0.0001, Time: 42s\n",
      "Epoch 128/200, Cost: 0.162, Val Error: 11.51%, lr: 0.0001, Time: 43s\n",
      "Epoch 129/200, Cost: 0.166, Val Error: 11.26%, lr: 0.0001, Time: 42s\n",
      "Epoch 130/200, Cost: 0.156, Val Error: 11.36%, lr: 0.0001, Time: 43s\n",
      "Epoch 131/200, Cost: 0.157, Val Error: 11.41%, lr: 0.0001, Time: 42s\n",
      "Epoch 132/200, Cost: 0.148, Val Error: 11.41%, lr: 0.0001, Time: 42s\n",
      "Epoch 133/200, Cost: 0.140, Val Error: 11.21%, lr: 0.0001, Time: 42s\n",
      "Epoch 134/200, Cost: 0.152, Val Error: 11.21%, lr: 0.0001, Time: 43s\n",
      "Epoch 135/200, Cost: 0.151, Val Error: 11.21%, lr: 0.0001, Time: 42s\n",
      "Epoch 136/200, Cost: 0.162, Val Error: 11.16%, lr: 0.0001, Time: 42s\n",
      "Epoch 137/200, Cost: 0.154, Val Error: 11.46%, lr: 0.0001, Time: 43s\n",
      "Epoch 138/200, Cost: 0.161, Val Error: 11.31%, lr: 0.0001, Time: 42s\n",
      "Epoch 139/200, Cost: 0.146, Val Error: 11.26%, lr: 0.0001, Time: 42s\n",
      "Epoch 140/200, Cost: 0.154, Val Error: 11.36%, lr: 0.0001, Time: 43s\n",
      "Epoch 141/200, Cost: 0.148, Val Error: 11.26%, lr: 0.0001, Time: 43s\n",
      "Epoch 142/200, Cost: 0.147, Val Error: 11.05%, lr: 0.0001, Time: 41s\n",
      "Epoch 143/200, Cost: 0.150, Val Error: 11.26%, lr: 0.0001, Time: 42s\n",
      "Epoch 144/200, Cost: 0.157, Val Error: 11.31%, lr: 0.0001, Time: 42s\n",
      "Epoch 145/200, Cost: 0.152, Val Error: 11.41%, lr: 0.0001, Time: 41s\n",
      "Epoch 146/200, Cost: 0.154, Val Error: 11.05%, lr: 0.0001, Time: 41s\n",
      "Epoch 147/200, Cost: 0.146, Val Error: 11.16%, lr: 0.0001, Time: 42s\n",
      "Epoch 148/200, Cost: 0.160, Val Error: 11.11%, lr: 1e-05, Time: 41s\n",
      "Epoch 149/200, Cost: 0.143, Val Error: 11.21%, lr: 1e-05, Time: 41s\n",
      "Epoch 150/200, Cost: 0.143, Val Error: 11.11%, lr: 1e-05, Time: 41s\n",
      "Epoch 151/200, Cost: 0.145, Val Error: 10.95%, lr: 1e-05, Time: 41s\n",
      "Epoch 152/200, Cost: 0.154, Val Error: 11.16%, lr: 1e-05, Time: 42s\n",
      "Epoch 153/200, Cost: 0.148, Val Error: 11.05%, lr: 1e-05, Time: 42s\n",
      "Epoch 154/200, Cost: 0.161, Val Error: 11.00%, lr: 1e-05, Time: 42s\n",
      "Epoch 155/200, Cost: 0.156, Val Error: 11.00%, lr: 1e-05, Time: 42s\n",
      "Epoch 156/200, Cost: 0.155, Val Error: 11.26%, lr: 1e-05, Time: 42s\n",
      "Epoch 157/200, Cost: 0.157, Val Error: 11.00%, lr: 1e-05, Time: 42s\n",
      "Epoch 158/200, Cost: 0.145, Val Error: 11.05%, lr: 1e-05, Time: 41s\n",
      "Epoch 159/200, Cost: 0.146, Val Error: 11.05%, lr: 1e-05, Time: 42s\n",
      "Epoch 160/200, Cost: 0.150, Val Error: 11.00%, lr: 1e-05, Time: 43s\n",
      "Epoch 161/200, Cost: 0.159, Val Error: 10.85%, lr: 1e-05, Time: 43s\n",
      "Epoch 162/200, Cost: 0.149, Val Error: 11.16%, lr: 1e-05, Time: 42s\n",
      "Epoch 163/200, Cost: 0.154, Val Error: 11.00%, lr: 1e-05, Time: 43s\n",
      "Epoch 164/200, Cost: 0.151, Val Error: 10.90%, lr: 1e-05, Time: 41s\n",
      "Epoch 165/200, Cost: 0.138, Val Error: 10.90%, lr: 1e-05, Time: 42s\n",
      "Epoch 166/200, Cost: 0.150, Val Error: 11.26%, lr: 1e-05, Time: 43s\n",
      "Epoch 167/200, Cost: 0.150, Val Error: 11.11%, lr: 1e-05, Time: 44s\n",
      "Epoch 168/200, Cost: 0.150, Val Error: 11.26%, lr: 1e-05, Time: 43s\n",
      "Epoch 169/200, Cost: 0.150, Val Error: 11.11%, lr: 1e-05, Time: 43s\n",
      "Epoch 170/200, Cost: 0.154, Val Error: 10.75%, lr: 1e-05, Time: 43s\n",
      "Epoch 171/200, Cost: 0.161, Val Error: 10.95%, lr: 1e-05, Time: 42s\n",
      "Epoch 172/200, Cost: 0.152, Val Error: 10.95%, lr: 1e-05, Time: 42s\n",
      "Epoch 173/200, Cost: 0.162, Val Error: 11.05%, lr: 1e-05, Time: 42s\n",
      "Epoch 174/200, Cost: 0.157, Val Error: 11.21%, lr: 1e-05, Time: 41s\n",
      "Epoch 175/200, Cost: 0.148, Val Error: 11.21%, lr: 1e-05, Time: 43s\n",
      "Epoch 176/200, Cost: 0.150, Val Error: 11.00%, lr: 1e-05, Time: 43s\n",
      "Epoch 177/200, Cost: 0.146, Val Error: 11.16%, lr: 1e-05, Time: 43s\n",
      "Epoch 178/200, Cost: 0.147, Val Error: 10.90%, lr: 1e-05, Time: 43s\n",
      "Epoch 179/200, Cost: 0.156, Val Error: 11.00%, lr: 1e-05, Time: 42s\n",
      "Epoch 180/200, Cost: 0.149, Val Error: 10.95%, lr: 1e-05, Time: 43s\n",
      "Epoch 181/200, Cost: 0.147, Val Error: 11.05%, lr: 1e-05, Time: 43s\n",
      "Epoch 182/200, Cost: 0.154, Val Error: 11.00%, lr: 1e-05, Time: 42s\n",
      "Epoch 183/200, Cost: 0.151, Val Error: 11.00%, lr: 1e-05, Time: 41s\n",
      "Epoch 184/200, Cost: 0.149, Val Error: 11.21%, lr: 1e-05, Time: 41s\n",
      "Epoch 185/200, Cost: 0.154, Val Error: 10.80%, lr: 1e-05, Time: 41s\n",
      "Epoch 186/200, Cost: 0.149, Val Error: 11.11%, lr: 1e-05, Time: 42s\n",
      "Epoch 187/200, Cost: 0.149, Val Error: 11.00%, lr: 1e-05, Time: 42s\n",
      "Epoch 188/200, Cost: 0.156, Val Error: 10.90%, lr: 1e-05, Time: 41s\n",
      "Epoch 189/200, Cost: 0.144, Val Error: 11.11%, lr: 1e-05, Time: 42s\n",
      "Epoch 190/200, Cost: 0.143, Val Error: 11.11%, lr: 1e-05, Time: 43s\n",
      "Epoch 191/200, Cost: 0.152, Val Error: 10.95%, lr: 1.0000000000000002e-06, Time: 42s\n",
      "Epoch 192/200, Cost: 0.151, Val Error: 11.00%, lr: 1.0000000000000002e-06, Time: 44s\n",
      "Epoch 193/200, Cost: 0.146, Val Error: 10.80%, lr: 1.0000000000000002e-06, Time: 42s\n",
      "Epoch 194/200, Cost: 0.135, Val Error: 10.95%, lr: 1.0000000000000002e-06, Time: 43s\n",
      "Epoch 195/200, Cost: 0.148, Val Error: 11.11%, lr: 1.0000000000000002e-06, Time: 43s\n",
      "Epoch 196/200, Cost: 0.139, Val Error: 10.85%, lr: 1.0000000000000002e-06, Time: 42s\n",
      "Epoch 197/200, Cost: 0.158, Val Error: 11.00%, lr: 1.0000000000000002e-06, Time: 43s\n",
      "Epoch 198/200, Cost: 0.149, Val Error: 11.21%, lr: 1.0000000000000002e-06, Time: 43s\n",
      "Epoch 199/200, Cost: 0.139, Val Error: 10.95%, lr: 1.0000000000000002e-06, Time: 42s\n",
      "Epoch 200/200, Cost: 0.156, Val Error: 10.90%, lr: 1.0000000000000002e-06, Time: 41s\n",
      "Training time: 142m\n"
     ]
    }
   ],
   "source": [
    "costs, val_error_rates, learning_rates = train(\n",
    "    compiled_model,\n",
    "    train_dataset=train_dataset,\n",
    "    cv_dataset=val_dataset,\n",
    "    batch_size=128,\n",
    "    num_epochs=200,\n",
    "    initial_lr=0.01,\n",
    "    num_workers=3,\n",
    "    patience=20,\n",
    ")"
   ]
  },
  {
   "cell_type": "code",
   "execution_count": 6,
   "id": "95d5b154",
   "metadata": {
    "execution": {
     "iopub.execute_input": "2024-12-04T19:09:53.284851Z",
     "iopub.status.busy": "2024-12-04T19:09:53.284449Z",
     "iopub.status.idle": "2024-12-04T19:09:53.837640Z",
     "shell.execute_reply": "2024-12-04T19:09:53.836648Z"
    },
    "papermill": {
     "duration": 0.571091,
     "end_time": "2024-12-04T19:09:53.839794",
     "exception": false,
     "start_time": "2024-12-04T19:09:53.268703",
     "status": "completed"
    },
    "tags": []
   },
   "outputs": [],
   "source": [
    "torch.save(model.state_dict(), 'baseline_imagenette.model.pt')\n",
    "torch.save(preprocess, 'baseline_imagenette.preprocess.pt')\n",
    "torch.save(train_augment, 'baseline_imagenette.train_augment.pt')"
   ]
  },
  {
   "cell_type": "code",
   "execution_count": 7,
   "id": "5ac4b712",
   "metadata": {
    "execution": {
     "iopub.execute_input": "2024-12-04T19:09:53.870783Z",
     "iopub.status.busy": "2024-12-04T19:09:53.870403Z",
     "iopub.status.idle": "2024-12-04T19:10:44.952993Z",
     "shell.execute_reply": "2024-12-04T19:10:44.951695Z"
    },
    "papermill": {
     "duration": 51.115584,
     "end_time": "2024-12-04T19:10:44.970181",
     "exception": false,
     "start_time": "2024-12-04T19:09:53.854597",
     "status": "completed"
    },
    "tags": []
   },
   "outputs": [
    {
     "name": "stdout",
     "output_type": "stream",
     "text": [
      "Test Top 1: 0.8944954128440367\n",
      "Test Top 5: 0.9887869520897044\n",
      "Val Top 1: 0.890983188996434\n",
      "Val Top 5: 0.9893020886398369\n",
      "Train Top 1: 1.0\n",
      "Train Top 5: 1.0\n"
     ]
    }
   ],
   "source": [
    "test_top1, test_top5 = top1_k(compiled_model, test_dataset, k=5)\n",
    "print(f'Test Top 1: {test_top1}')\n",
    "print(f'Test Top 5: {test_top5}')\n",
    "\n",
    "val_top1, val_top5 = top1_k(compiled_model, val_dataset, k=5)\n",
    "print(f'Val Top 1: {val_top1}')\n",
    "print(f'Val Top 5: {val_top5}')\n",
    "\n",
    "train_eval_dataset = datasets.Imagenette(\n",
    "    'datasets/imagenette', split='train', size='320px', transform=preprocess)\n",
    "train_top1, train_top5 = top1_k(compiled_model, train_eval_dataset, k=5)\n",
    "print(f'Train Top 1: {train_top1}')\n",
    "print(f'Train Top 5: {train_top5}')"
   ]
  },
  {
   "cell_type": "code",
   "execution_count": 8,
   "id": "d6312b1a",
   "metadata": {
    "execution": {
     "iopub.execute_input": "2024-12-04T19:10:45.000399Z",
     "iopub.status.busy": "2024-12-04T19:10:44.999985Z",
     "iopub.status.idle": "2024-12-04T19:10:45.331778Z",
     "shell.execute_reply": "2024-12-04T19:10:45.330704Z"
    },
    "papermill": {
     "duration": 0.349715,
     "end_time": "2024-12-04T19:10:45.333871",
     "exception": false,
     "start_time": "2024-12-04T19:10:44.984156",
     "status": "completed"
    },
    "tags": []
   },
   "outputs": [
    {
     "data": {
      "text/plain": [
       "Text(0.5, 1.0, 'Costs')"
      ]
     },
     "execution_count": 8,
     "metadata": {},
     "output_type": "execute_result"
    },
    {
     "data": {
      "image/png": "[encoded data removed]",
      "text/plain": [
       "<Figure size 640x480 with 1 Axes>"
      ]
     },
     "metadata": {},
     "output_type": "display_data"
    }
   ],
   "source": [
    "plt.plot(costs)\n",
    "plt.xlabel(\"Epoch\")\n",
    "plt.title('Costs')"
   ]
  },
  {
   "cell_type": "code",
   "execution_count": 9,
   "id": "5f072d17",
   "metadata": {
    "execution": {
     "iopub.execute_input": "2024-12-04T19:10:45.364224Z",
     "iopub.status.busy": "2024-12-04T19:10:45.363908Z",
     "iopub.status.idle": "2024-12-04T19:10:45.818336Z",
     "shell.execute_reply": "2024-12-04T19:10:45.817299Z"
    },
    "papermill": {
     "duration": 0.471567,
     "end_time": "2024-12-04T19:10:45.820142",
     "exception": false,
     "start_time": "2024-12-04T19:10:45.348575",
     "status": "completed"
    },
    "tags": []
   },
   "outputs": [
    {
     "data": {
      "text/plain": [
       "Text(0.5, 1.0, 'Cross Validation Error Rates')"
      ]
     },
     "execution_count": 9,
     "metadata": {},
     "output_type": "execute_result"
    },
    {
     "data": {
      "image/png": "[encoded data removed]",
      "text/plain": [
       "<Figure size 640x480 with 1 Axes>"
      ]
     },
     "metadata": {},
     "output_type": "display_data"
    }
   ],
   "source": [
    "plt.plot(val_error_rates)\n",
    "plt.xlabel(\"Epoch\")\n",
    "plt.title('Cross Validation Error Rates')"
   ]
  },
  {
   "cell_type": "code",
   "execution_count": 10,
   "id": "5b0521da",
   "metadata": {
    "execution": {
     "iopub.execute_input": "2024-12-04T19:10:45.852574Z",
     "iopub.status.busy": "2024-12-04T19:10:45.852171Z",
     "iopub.status.idle": "2024-12-04T19:10:46.080372Z",
     "shell.execute_reply": "2024-12-04T19:10:46.079306Z"
    },
    "papermill": {
     "duration": 0.246513,
     "end_time": "2024-12-04T19:10:46.082448",
     "exception": false,
     "start_time": "2024-12-04T19:10:45.835935",
     "status": "completed"
    },
    "tags": []
   },
   "outputs": [
    {
     "data": {
      "text/plain": [
       "Text(0.5, 1.0, 'Learning Rates')"
      ]
     },
     "execution_count": 10,
     "metadata": {},
     "output_type": "execute_result"
    },
    {
     "data": {
      "image/png": "[encoded data removed]",
      "text/plain": [
       "<Figure size 640x480 with 1 Axes>"
      ]
     },
     "metadata": {},
     "output_type": "display_data"
    }
   ],
   "source": [
    "plt.plot(learning_rates)\n",
    "plt.xlabel(\"Epoch\")\n",
    "plt.title('Learning Rates')"
   ]
  }
 ],
 "metadata": {
  "kaggle": {
   "accelerator": "gpu",
   "dataSources": [
    {
     "modelId": 182937,
     "modelInstanceId": 160562,
     "sourceId": 188325,
     "sourceType": "modelInstanceVersion"
    }
   ],
   "dockerImageVersionId": 30787,
   "isGpuEnabled": true,
   "isInternetEnabled": true,
   "language": "python",
   "sourceType": "notebook"
  },
  "kernelspec": {
   "display_name": "Python 3",
   "language": "python",
   "name": "python3"
  },
  "language_info": {
   "codemirror_mode": {
    "name": "ipython",
    "version": 3
   },
   "file_extension": ".py",
   "mimetype": "text/x-python",
   "name": "python",
   "nbconvert_exporter": "python",
   "pygments_lexer": "ipython3",
   "version": "3.10.14"
  },
  "papermill": {
   "default_parameters": {},
   "duration": 8676.564658,
   "end_time": "2024-12-04T19:10:47.723642",
   "environment_variables": {},
   "exception": null,
   "input_path": "__notebook__.ipynb",
   "output_path": "__notebook__.ipynb",
   "parameters": {},
   "start_time": "2024-12-04T16:46:11.158984",
   "version": "2.6.0"
  }
 },
 "nbformat": 4,
 "nbformat_minor": 5
}
