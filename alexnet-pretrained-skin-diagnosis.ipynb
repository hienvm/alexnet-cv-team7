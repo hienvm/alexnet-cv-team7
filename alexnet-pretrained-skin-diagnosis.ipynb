{
 "cells": [
  {
   "cell_type": "code",
   "execution_count": null,
   "metadata": {
    "execution": {
     "iopub.execute_input": "2024-11-27T19:48:10.709996Z",
     "iopub.status.busy": "2024-11-27T19:48:10.709750Z",
     "iopub.status.idle": "2024-11-27T19:48:15.268478Z",
     "shell.execute_reply": "2024-11-27T19:48:15.267782Z",
     "shell.execute_reply.started": "2024-11-27T19:48:10.709969Z"
    },
    "papermill": {
     "duration": 4.62495,
     "end_time": "2024-11-26T08:27:01.820006",
     "exception": false,
     "start_time": "2024-11-26T08:26:57.195056",
     "status": "completed"
    },
    "tags": [],
    "trusted": true
   },
   "outputs": [],
   "source": [
    "import sys\n",
    "sys.path.append('/kaggle/input/alexnet-new/pytorch/improved/1')\n",
    "import torch\n",
    "import torch.nn as nn\n",
    "from torchvision import datasets\n",
    "from improved.model import AlexNetImproved, init_params\n",
    "from improved.data_transforms import prepreprocess, get_preprocess, get_train_augment, calc_mean_std\n",
    "from improved.pca import pca\n",
    "from improved.train import train\n",
    "import matplotlib.pyplot as plt\n",
    "from improved.eval import top1_k"
   ]
  },
  {
   "cell_type": "code",
   "execution_count": null,
   "metadata": {
    "execution": {
     "iopub.execute_input": "2024-11-27T19:48:15.270051Z",
     "iopub.status.busy": "2024-11-27T19:48:15.269705Z",
     "iopub.status.idle": "2024-11-27T19:48:15.280758Z",
     "shell.execute_reply": "2024-11-27T19:48:15.280095Z",
     "shell.execute_reply.started": "2024-11-27T19:48:15.270023Z"
    },
    "papermill": {
     "duration": 0.014933,
     "end_time": "2024-11-26T08:27:01.837623",
     "exception": false,
     "start_time": "2024-11-26T08:27:01.822690",
     "status": "completed"
    },
    "tags": [],
    "trusted": true
   },
   "outputs": [],
   "source": [
    "torch.manual_seed(0)\n",
    "device = torch.device(\"cuda\" if torch.cuda.is_available() else \"cpu\")\n",
    "print(device)"
   ]
  },
  {
   "cell_type": "code",
   "execution_count": null,
   "metadata": {
    "execution": {
     "iopub.execute_input": "2024-11-27T19:48:49.117676Z",
     "iopub.status.busy": "2024-11-27T19:48:49.116833Z",
     "iopub.status.idle": "2024-11-27T19:48:53.094148Z",
     "shell.execute_reply": "2024-11-27T19:48:53.093328Z",
     "shell.execute_reply.started": "2024-11-27T19:48:49.117638Z"
    },
    "papermill": {
     "duration": 139.387139,
     "end_time": "2024-11-26T08:29:21.227005",
     "exception": false,
     "start_time": "2024-11-26T08:27:01.839866",
     "status": "completed"
    },
    "tags": [],
    "trusted": true
   },
   "outputs": [],
   "source": [
    "# train_dataset = datasets.ImageFolder('/kaggle/input/skin-diagnosis/Train', transform=prepreprocess)\n",
    "# mean, std = calc_mean_std(train_dataset)\n",
    "# print(f'Mean:\\n{mean}')\n",
    "# print(f'Standard Deviation:\\n{std}')\n",
    "# preprocess = get_preprocess(mean, std)\n",
    "\n",
    "# train_dataset = datasets.ImageFolder('/kaggle/input/skin-diagnosis/Train', transform=preprocess)\n",
    "# eigvals, eigvecs = pca(train_dataset)\n",
    "# train_augment = get_train_augment(eigvals, eigvecs, mean, std)\n",
    "\n",
    "preprocess = torch.load('/kaggle/input/alexnet-pretrain/pytorch/improved-imagenette/1/improved_imagenette.preprocess.pt')\n",
    "train_augment = torch.load('/kaggle/input/alexnet-pretrain/pytorch/improved-imagenette/1/improved_imagenette.train_augment.pt')\n",
    "\n",
    "train_dataset = datasets.ImageFolder('/kaggle/input/skin-diagnosis/Train', transform=train_augment)\n",
    "\n",
    "val_dataset =datasets.ImageFolder('/kaggle/input/skin-diagnosis/Test', transform=preprocess)\n",
    "# val_dataset, test_dataset = torch.utils.data.random_split(val_dataset, [0.5, 0.5])\n",
    "test_dataset = val_dataset\n",
    "\n",
    "print(f'Train samples: {len(train_dataset)}')\n",
    "print(f'Validation samples: {len(val_dataset)}')\n",
    "print(f'Test samples: {len(test_dataset)}')\n",
    "print(f'Number of classes: {len(train_dataset.classes)}')\n",
    "print(train_dataset.class_to_idx)"
   ]
  },
  {
   "cell_type": "code",
   "execution_count": null,
   "metadata": {
    "execution": {
     "iopub.execute_input": "2024-11-27T19:48:53.096508Z",
     "iopub.status.busy": "2024-11-27T19:48:53.096011Z",
     "iopub.status.idle": "2024-11-27T19:48:55.799892Z",
     "shell.execute_reply": "2024-11-27T19:48:55.799049Z",
     "shell.execute_reply.started": "2024-11-27T19:48:53.096453Z"
    },
    "papermill": {
     "duration": 0.024028,
     "end_time": "2024-11-26T08:29:21.255441",
     "exception": false,
     "start_time": "2024-11-26T08:29:21.231413",
     "status": "completed"
    },
    "tags": [],
    "trusted": true
   },
   "outputs": [],
   "source": [
    "model = AlexNetImproved(len(train_dataset.classes))\n",
    "model.load_state_dict(torch.load('/kaggle/input/alexnet-pretrain/pytorch/improved-imagenette/1/improved_imagenette.model.pt'))\n",
    "if torch.cuda.device_count() > 1:\n",
    "    print(f'Using {torch.cuda.device_count()} GPUs.')\n",
    "    model = nn.DataParallel(model)\n",
    "model.to(device)\n",
    "# initialize parameters\n",
    "init_params(model)\n",
    "compiled_model = model\n",
    "# if torch.cuda.is_available():\n",
    "#     compiled_model = torch.compile(model)"
   ]
  },
  {
   "cell_type": "code",
   "execution_count": null,
   "metadata": {
    "execution": {
     "iopub.execute_input": "2024-11-27T19:48:55.801352Z",
     "iopub.status.busy": "2024-11-27T19:48:55.800976Z"
    },
    "papermill": {
     "duration": 10976.516085,
     "end_time": "2024-11-26T11:32:17.777243",
     "exception": false,
     "start_time": "2024-11-26T08:29:21.261158",
     "status": "completed"
    },
    "tags": [],
    "trusted": true
   },
   "outputs": [],
   "source": [
    "costs, val_error_rates, learning_rates = train(\n",
    "    compiled_model,\n",
    "    train_dataset=train_dataset,\n",
    "    cv_dataset=val_dataset,\n",
    "    batch_size=128,\n",
    "    num_epochs=200,\n",
    "    initial_lr=0.01,\n",
    "    num_workers=3,\n",
    "    patience=20,\n",
    "    optimizer='sgd'\n",
    ")"
   ]
  },
  {
   "cell_type": "code",
   "execution_count": null,
   "metadata": {
    "papermill": {
     "duration": 0.4935,
     "end_time": "2024-11-26T11:32:18.279138",
     "exception": false,
     "start_time": "2024-11-26T11:32:17.785638",
     "status": "completed"
    },
    "tags": [],
    "trusted": true
   },
   "outputs": [],
   "source": [
    "torch.save(model.state_dict(), 'skin.model.pt')\n",
    "torch.save(preprocess, 'skin.preprocess.pt')\n",
    "torch.save(train_augment, 'skin.train_augment.pt')"
   ]
  },
  {
   "cell_type": "code",
   "execution_count": null,
   "metadata": {
    "papermill": {
     "duration": 213.424703,
     "end_time": "2024-11-26T11:35:51.712444",
     "exception": false,
     "start_time": "2024-11-26T11:32:18.287741",
     "status": "completed"
    },
    "tags": [],
    "trusted": true
   },
   "outputs": [],
   "source": [
    "test_top1, test_top5 = top1_k(compiled_model, test_dataset, k=5)\n",
    "print(f'Test Top 1: {test_top1}')\n",
    "print(f'Test Top 5: {test_top5}')\n",
    "\n",
    "val_top1, val_top5 = top1_k(compiled_model, val_dataset, k=5)\n",
    "print(f'Val Top 1: {val_top1}')\n",
    "print(f'Val Top 5: {val_top5}')\n",
    "\n",
    "train_eval_dataset = datasets.ImageFolder('/kaggle/input/skin-diagnosis/Train', transform=preprocess)\n",
    "train_top1, train_top5 = top1_k(compiled_model, train_eval_dataset, k=5)\n",
    "print(f'Train Top 1: {train_top1}')\n",
    "print(f'Train Top 5: {train_top5}')"
   ]
  },
  {
   "cell_type": "code",
   "execution_count": null,
   "metadata": {
    "papermill": {
     "duration": 0.272534,
     "end_time": "2024-11-26T11:35:51.993545",
     "exception": false,
     "start_time": "2024-11-26T11:35:51.721011",
     "status": "completed"
    },
    "tags": [],
    "trusted": true
   },
   "outputs": [],
   "source": [
    "plt.plot(costs)\n",
    "plt.xlabel(\"Epoch\")\n",
    "plt.title('Costs')"
   ]
  },
  {
   "cell_type": "code",
   "execution_count": null,
   "metadata": {
    "papermill": {
     "duration": 0.248583,
     "end_time": "2024-11-26T11:35:52.250892",
     "exception": false,
     "start_time": "2024-11-26T11:35:52.002309",
     "status": "completed"
    },
    "tags": [],
    "trusted": true
   },
   "outputs": [],
   "source": [
    "plt.plot(val_error_rates)\n",
    "plt.xlabel(\"Epoch\")\n",
    "plt.title('Validation Error Rates')"
   ]
  },
  {
   "cell_type": "code",
   "execution_count": null,
   "metadata": {
    "papermill": {
     "duration": 0.213601,
     "end_time": "2024-11-26T11:35:52.476950",
     "exception": false,
     "start_time": "2024-11-26T11:35:52.263349",
     "status": "completed"
    },
    "tags": [],
    "trusted": true
   },
   "outputs": [],
   "source": [
    "import math\n",
    "\n",
    "plt.plot([math.log10(lr) for lr in learning_rates])\n",
    "plt.ylabel(\"Log10(lr)\")\n",
    "plt.xlabel(\"Epoch\")\n",
    "plt.title('Learning Rates')"
   ]
  }
 ],
 "metadata": {
  "kaggle": {
   "accelerator": "gpu",
   "dataSources": [
    {
     "datasetId": 6170732,
     "sourceId": 10021190,
     "sourceType": "datasetVersion"
    },
    {
     "isSourceIdPinned": true,
     "modelId": 176586,
     "modelInstanceId": 154109,
     "sourceId": 180842,
     "sourceType": "modelInstanceVersion"
    },
    {
     "isSourceIdPinned": true,
     "modelId": 176593,
     "modelInstanceId": 154116,
     "sourceId": 180850,
     "sourceType": "modelInstanceVersion"
    }
   ],
   "dockerImageVersionId": 30787,
   "isGpuEnabled": true,
   "isInternetEnabled": true,
   "language": "python",
   "sourceType": "notebook"
  },
  "kernelspec": {
   "display_name": "torch",
   "language": "python",
   "name": "python3"
  },
  "language_info": {
   "codemirror_mode": {
    "name": "ipython",
    "version": 3
   },
   "file_extension": ".py",
   "mimetype": "text/x-python",
   "name": "python",
   "nbconvert_exporter": "python",
   "pygments_lexer": "ipython3",
   "version": "3.12.3"
  },
  "papermill": {
   "default_parameters": {},
   "duration": 11339.144517,
   "end_time": "2024-11-26T11:35:53.908705",
   "environment_variables": {},
   "exception": null,
   "input_path": "__notebook__.ipynb",
   "output_path": "__notebook__.ipynb",
   "parameters": {},
   "start_time": "2024-11-26T08:26:54.764188",
   "version": "2.6.0"
  }
 },
 "nbformat": 4,
 "nbformat_minor": 4
}
